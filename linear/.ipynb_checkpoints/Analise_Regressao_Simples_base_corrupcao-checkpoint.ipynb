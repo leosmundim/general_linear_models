{
 "cells": [
  {
   "cell_type": "code",
   "execution_count": 1,
   "id": "99818cf4",
   "metadata": {},
   "outputs": [],
   "source": [
    "import pandas as pd\n",
    "import numpy as np\n",
    "import pyreadr\n",
    "import seaborn as sns\n",
    "import matplotlib.pyplot as plt\n",
    "import warnings\n",
    "warnings.filterwarnings('ignore')"
   ]
  },
  {
   "cell_type": "markdown",
   "id": "9b062081",
   "metadata": {},
   "source": [
    "# Modelo de Regressão Linear Simples com Variável Qualitativa\n",
    "\n",
    "Exmplo da aula do MBA DSA USP/ESALQ com Prof. Fávero e Belfiore\n",
    "\n",
    "## Contexto\n",
    "\n",
    " - CPI: corruption perception index\n",
    " - Região\n",
    " \n",
    " > CPI em função da Região"
   ]
  },
  {
   "cell_type": "code",
   "execution_count": 40,
   "id": "244e79a4",
   "metadata": {},
   "outputs": [
    {
     "name": "stdout",
     "output_type": "stream",
     "text": [
      "odict_keys(['corrupcao'])\n"
     ]
    }
   ],
   "source": [
    "#Importa base e transforma em objeto\n",
    "rData = pyreadr.read_r(r'bases\\corrupcao.RData')\n",
    "\n",
    "#Verifica o nomne do objeto\n",
    "print(rData.keys())"
   ]
  },
  {
   "cell_type": "code",
   "execution_count": 41,
   "id": "fdadb4b7",
   "metadata": {},
   "outputs": [
    {
     "data": {
      "text/html": [
       "<div>\n",
       "<style scoped>\n",
       "    .dataframe tbody tr th:only-of-type {\n",
       "        vertical-align: middle;\n",
       "    }\n",
       "\n",
       "    .dataframe tbody tr th {\n",
       "        vertical-align: top;\n",
       "    }\n",
       "\n",
       "    .dataframe thead th {\n",
       "        text-align: right;\n",
       "    }\n",
       "</style>\n",
       "<table border=\"1\" class=\"dataframe\">\n",
       "  <thead>\n",
       "    <tr style=\"text-align: right;\">\n",
       "      <th></th>\n",
       "      <th>pais</th>\n",
       "      <th>cpi</th>\n",
       "      <th>regiao</th>\n",
       "    </tr>\n",
       "  </thead>\n",
       "  <tbody>\n",
       "    <tr>\n",
       "      <th>0</th>\n",
       "      <td>Argentina</td>\n",
       "      <td>3.9</td>\n",
       "      <td>América do Sul</td>\n",
       "    </tr>\n",
       "    <tr>\n",
       "      <th>1</th>\n",
       "      <td>Australia</td>\n",
       "      <td>8.7</td>\n",
       "      <td>Oceania</td>\n",
       "    </tr>\n",
       "    <tr>\n",
       "      <th>2</th>\n",
       "      <td>Austria</td>\n",
       "      <td>7.9</td>\n",
       "      <td>Europa</td>\n",
       "    </tr>\n",
       "    <tr>\n",
       "      <th>3</th>\n",
       "      <td>Belgium</td>\n",
       "      <td>7.1</td>\n",
       "      <td>Europa</td>\n",
       "    </tr>\n",
       "    <tr>\n",
       "      <th>4</th>\n",
       "      <td>Brazil</td>\n",
       "      <td>4.0</td>\n",
       "      <td>América do Sul</td>\n",
       "    </tr>\n",
       "  </tbody>\n",
       "</table>\n",
       "</div>"
      ],
      "text/plain": [
       "        pais  cpi          regiao\n",
       "0  Argentina  3.9  América do Sul\n",
       "1  Australia  8.7         Oceania\n",
       "2    Austria  7.9          Europa\n",
       "3    Belgium  7.1          Europa\n",
       "4     Brazil  4.0  América do Sul"
      ]
     },
     "execution_count": 41,
     "metadata": {},
     "output_type": "execute_result"
    }
   ],
   "source": [
    "#Transforma o objeto em um pandas DataFrame\n",
    "corrupcao = rData['corrupcao']\n",
    "corrupcao.head()"
   ]
  },
  {
   "cell_type": "code",
   "execution_count": 42,
   "id": "8887f656",
   "metadata": {},
   "outputs": [
    {
     "name": "stdout",
     "output_type": "stream",
     "text": [
      "<class 'pandas.core.frame.DataFrame'>\n",
      "RangeIndex: 50 entries, 0 to 49\n",
      "Data columns (total 3 columns):\n",
      " #   Column  Non-Null Count  Dtype   \n",
      "---  ------  --------------  -----   \n",
      " 0   pais    50 non-null     object  \n",
      " 1   cpi     50 non-null     float64 \n",
      " 2   regiao  50 non-null     category\n",
      "dtypes: category(1), float64(1), object(1)\n",
      "memory usage: 1.2+ KB\n"
     ]
    }
   ],
   "source": [
    "corrupcao.info()"
   ]
  },
  {
   "cell_type": "code",
   "execution_count": 43,
   "id": "74f7c2be",
   "metadata": {},
   "outputs": [
    {
     "data": {
      "text/plain": [
       "Europa            24\n",
       "Ásia              17\n",
       "América do Sul     5\n",
       "EUA e Canadá       2\n",
       "Oceania            2\n",
       "Name: regiao, dtype: int64"
      ]
     },
     "execution_count": 43,
     "metadata": {},
     "output_type": "execute_result"
    }
   ],
   "source": [
    "corrupcao['regiao'].value_counts()"
   ]
  },
  {
   "cell_type": "code",
   "execution_count": 44,
   "id": "949fc641",
   "metadata": {},
   "outputs": [
    {
     "data": {
      "text/html": [
       "<div>\n",
       "<style scoped>\n",
       "    .dataframe tbody tr th:only-of-type {\n",
       "        vertical-align: middle;\n",
       "    }\n",
       "\n",
       "    .dataframe tbody tr th {\n",
       "        vertical-align: top;\n",
       "    }\n",
       "\n",
       "    .dataframe thead th {\n",
       "        text-align: right;\n",
       "    }\n",
       "</style>\n",
       "<table border=\"1\" class=\"dataframe\">\n",
       "  <thead>\n",
       "    <tr style=\"text-align: right;\">\n",
       "      <th></th>\n",
       "      <th>cpi</th>\n",
       "    </tr>\n",
       "  </thead>\n",
       "  <tbody>\n",
       "    <tr>\n",
       "      <th>count</th>\n",
       "      <td>50.000000</td>\n",
       "    </tr>\n",
       "    <tr>\n",
       "      <th>mean</th>\n",
       "      <td>4.894000</td>\n",
       "    </tr>\n",
       "    <tr>\n",
       "      <th>std</th>\n",
       "      <td>2.678974</td>\n",
       "    </tr>\n",
       "    <tr>\n",
       "      <th>min</th>\n",
       "      <td>0.800000</td>\n",
       "    </tr>\n",
       "    <tr>\n",
       "      <th>25%</th>\n",
       "      <td>2.575000</td>\n",
       "    </tr>\n",
       "    <tr>\n",
       "      <th>50%</th>\n",
       "      <td>3.950000</td>\n",
       "    </tr>\n",
       "    <tr>\n",
       "      <th>75%</th>\n",
       "      <td>7.475000</td>\n",
       "    </tr>\n",
       "    <tr>\n",
       "      <th>max</th>\n",
       "      <td>9.300000</td>\n",
       "    </tr>\n",
       "  </tbody>\n",
       "</table>\n",
       "</div>"
      ],
      "text/plain": [
       "             cpi\n",
       "count  50.000000\n",
       "mean    4.894000\n",
       "std     2.678974\n",
       "min     0.800000\n",
       "25%     2.575000\n",
       "50%     3.950000\n",
       "75%     7.475000\n",
       "max     9.300000"
      ]
     },
     "execution_count": 44,
     "metadata": {},
     "output_type": "execute_result"
    }
   ],
   "source": [
    "corrupcao.describe()"
   ]
  },
  {
   "cell_type": "markdown",
   "id": "06d14b54",
   "metadata": {},
   "source": [
    "### Gráfico"
   ]
  },
  {
   "cell_type": "code",
   "execution_count": 45,
   "id": "a73c05ab",
   "metadata": {},
   "outputs": [
    {
     "data": {
      "text/plain": [
       "regiao\n",
       "América do Sul    4.180000\n",
       "EUA e Canadá      8.000000\n",
       "Europa            6.258333\n",
       "Oceania           9.000000\n",
       "Ásia              2.329412\n",
       "Name: cpi, dtype: float64"
      ]
     },
     "execution_count": 45,
     "metadata": {},
     "output_type": "execute_result"
    }
   ],
   "source": [
    "regiao = pd.DataFrame(corrupcao.groupby('regiao')['cpi'].mean())\n",
    "corrupcao.groupby('regiao')['cpi'].mean()"
   ]
  },
  {
   "cell_type": "code",
   "execution_count": 46,
   "id": "a01848f9",
   "metadata": {},
   "outputs": [
    {
     "data": {
      "text/html": [
       "<div>\n",
       "<style scoped>\n",
       "    .dataframe tbody tr th:only-of-type {\n",
       "        vertical-align: middle;\n",
       "    }\n",
       "\n",
       "    .dataframe tbody tr th {\n",
       "        vertical-align: top;\n",
       "    }\n",
       "\n",
       "    .dataframe thead th {\n",
       "        text-align: right;\n",
       "    }\n",
       "</style>\n",
       "<table border=\"1\" class=\"dataframe\">\n",
       "  <thead>\n",
       "    <tr style=\"text-align: right;\">\n",
       "      <th></th>\n",
       "      <th>pais</th>\n",
       "      <th>cpi</th>\n",
       "      <th>regiao</th>\n",
       "      <th>cpi_mean</th>\n",
       "    </tr>\n",
       "  </thead>\n",
       "  <tbody>\n",
       "    <tr>\n",
       "      <th>0</th>\n",
       "      <td>Argentina</td>\n",
       "      <td>3.9</td>\n",
       "      <td>América do Sul</td>\n",
       "      <td>4.18</td>\n",
       "    </tr>\n",
       "    <tr>\n",
       "      <th>1</th>\n",
       "      <td>Brazil</td>\n",
       "      <td>4.0</td>\n",
       "      <td>América do Sul</td>\n",
       "      <td>4.18</td>\n",
       "    </tr>\n",
       "    <tr>\n",
       "      <th>2</th>\n",
       "      <td>Chile</td>\n",
       "      <td>6.2</td>\n",
       "      <td>América do Sul</td>\n",
       "      <td>4.18</td>\n",
       "    </tr>\n",
       "    <tr>\n",
       "      <th>3</th>\n",
       "      <td>Colombia</td>\n",
       "      <td>4.0</td>\n",
       "      <td>América do Sul</td>\n",
       "      <td>4.18</td>\n",
       "    </tr>\n",
       "    <tr>\n",
       "      <th>4</th>\n",
       "      <td>Venezuela</td>\n",
       "      <td>2.8</td>\n",
       "      <td>América do Sul</td>\n",
       "      <td>4.18</td>\n",
       "    </tr>\n",
       "  </tbody>\n",
       "</table>\n",
       "</div>"
      ],
      "text/plain": [
       "        pais  cpi          regiao  cpi_mean\n",
       "0  Argentina  3.9  América do Sul      4.18\n",
       "1     Brazil  4.0  América do Sul      4.18\n",
       "2      Chile  6.2  América do Sul      4.18\n",
       "3   Colombia  4.0  América do Sul      4.18\n",
       "4  Venezuela  2.8  América do Sul      4.18"
      ]
     },
     "execution_count": 46,
     "metadata": {},
     "output_type": "execute_result"
    }
   ],
   "source": [
    "corrupcao = corrupcao.merge(regiao, right_on='regiao', left_on='regiao')\n",
    "corrupcao.columns = ['pais', 'cpi', 'regiao', 'cpi_mean']\n",
    "corrupcao.head()"
   ]
  },
  {
   "cell_type": "code",
   "execution_count": 48,
   "id": "246215a6",
   "metadata": {},
   "outputs": [
    {
     "data": {
      "application/vnd.plotly.v1+json": {
       "config": {
        "plotlyServerURL": "https://plot.ly"
       },
       "data": [
        {
         "hovertemplate": "regiao=%{x}<br>cpi=%{y}<br>pais=%{text}<extra></extra>",
         "legendgroup": "",
         "marker": {
          "color": "#636efa",
          "symbol": "circle"
         },
         "mode": "markers+text",
         "name": "",
         "orientation": "v",
         "showlegend": false,
         "text": [
          "Argentina",
          "Brazil",
          "Chile",
          "Colombia",
          "Venezuela",
          "Australia",
          "New Zealand",
          "Austria",
          "Belgium",
          "Cyprus",
          "Czech Rep.",
          "Denmark",
          "France",
          "Germany",
          "Greece",
          "Iceland",
          "Ireland",
          "Italy",
          "Netherlands",
          "Norway",
          "Poland",
          "Portugal",
          "Romania",
          "Russia",
          "Serbia",
          "Spain",
          "Sweden",
          "Switzerland",
          "Turkey",
          "Ukraine",
          "United Kingdom",
          "Canada",
          "United States",
          "China",
          "Egypt",
          "India",
          "Indonesia",
          "Kazakhstan",
          "Kuwait",
          "Lebanon",
          "Malaysia",
          "Oman",
          "Philippines",
          "Saudi Arabia",
          "South Africa",
          "Taiwan",
          "Thailand",
          "Jordan",
          "Syria",
          "Iraq"
         ],
         "type": "scatter",
         "x": [
          "América do Sul",
          "América do Sul",
          "América do Sul",
          "América do Sul",
          "América do Sul",
          "Oceania",
          "Oceania",
          "Europa",
          "Europa",
          "Europa",
          "Europa",
          "Europa",
          "Europa",
          "Europa",
          "Europa",
          "Europa",
          "Europa",
          "Europa",
          "Europa",
          "Europa",
          "Europa",
          "Europa",
          "Europa",
          "Europa",
          "Europa",
          "Europa",
          "Europa",
          "Europa",
          "Europa",
          "Europa",
          "Europa",
          "EUA e Canadá",
          "EUA e Canadá",
          "Ásia",
          "Ásia",
          "Ásia",
          "Ásia",
          "Ásia",
          "Ásia",
          "Ásia",
          "Ásia",
          "Ásia",
          "Ásia",
          "Ásia",
          "Ásia",
          "Ásia",
          "Ásia",
          "Ásia",
          "Ásia",
          "Ásia"
         ],
         "xaxis": "x",
         "y": [
          3.9,
          4,
          6.2,
          4,
          2.8,
          8.7,
          9.3,
          7.9,
          7.1,
          6.3,
          4.6,
          9.3,
          6.8,
          7.9,
          3.5,
          8.5,
          8,
          3.9,
          8.8,
          8.6,
          5.3,
          6,
          3.7,
          2.1,
          3.5,
          6.1,
          9.2,
          8.7,
          4.4,
          2.4,
          7.6,
          8.9,
          7.1,
          2.5,
          2.1,
          2.3,
          1.8,
          1.9,
          2.8,
          1.5,
          3.4,
          3.3,
          1.4,
          3.7,
          2.8,
          3.8,
          2.5,
          2,
          1,
          0.8
         ],
         "yaxis": "y"
        }
       ],
       "layout": {
        "legend": {
         "tracegroupgap": 0
        },
        "margin": {
         "t": 60
        },
        "template": {
         "data": {
          "bar": [
           {
            "error_x": {
             "color": "#2a3f5f"
            },
            "error_y": {
             "color": "#2a3f5f"
            },
            "marker": {
             "line": {
              "color": "#E5ECF6",
              "width": 0.5
             },
             "pattern": {
              "fillmode": "overlay",
              "size": 10,
              "solidity": 0.2
             }
            },
            "type": "bar"
           }
          ],
          "barpolar": [
           {
            "marker": {
             "line": {
              "color": "#E5ECF6",
              "width": 0.5
             },
             "pattern": {
              "fillmode": "overlay",
              "size": 10,
              "solidity": 0.2
             }
            },
            "type": "barpolar"
           }
          ],
          "carpet": [
           {
            "aaxis": {
             "endlinecolor": "#2a3f5f",
             "gridcolor": "white",
             "linecolor": "white",
             "minorgridcolor": "white",
             "startlinecolor": "#2a3f5f"
            },
            "baxis": {
             "endlinecolor": "#2a3f5f",
             "gridcolor": "white",
             "linecolor": "white",
             "minorgridcolor": "white",
             "startlinecolor": "#2a3f5f"
            },
            "type": "carpet"
           }
          ],
          "choropleth": [
           {
            "colorbar": {
             "outlinewidth": 0,
             "ticks": ""
            },
            "type": "choropleth"
           }
          ],
          "contour": [
           {
            "colorbar": {
             "outlinewidth": 0,
             "ticks": ""
            },
            "colorscale": [
             [
              0,
              "#0d0887"
             ],
             [
              0.1111111111111111,
              "#46039f"
             ],
             [
              0.2222222222222222,
              "#7201a8"
             ],
             [
              0.3333333333333333,
              "#9c179e"
             ],
             [
              0.4444444444444444,
              "#bd3786"
             ],
             [
              0.5555555555555556,
              "#d8576b"
             ],
             [
              0.6666666666666666,
              "#ed7953"
             ],
             [
              0.7777777777777778,
              "#fb9f3a"
             ],
             [
              0.8888888888888888,
              "#fdca26"
             ],
             [
              1,
              "#f0f921"
             ]
            ],
            "type": "contour"
           }
          ],
          "contourcarpet": [
           {
            "colorbar": {
             "outlinewidth": 0,
             "ticks": ""
            },
            "type": "contourcarpet"
           }
          ],
          "heatmap": [
           {
            "colorbar": {
             "outlinewidth": 0,
             "ticks": ""
            },
            "colorscale": [
             [
              0,
              "#0d0887"
             ],
             [
              0.1111111111111111,
              "#46039f"
             ],
             [
              0.2222222222222222,
              "#7201a8"
             ],
             [
              0.3333333333333333,
              "#9c179e"
             ],
             [
              0.4444444444444444,
              "#bd3786"
             ],
             [
              0.5555555555555556,
              "#d8576b"
             ],
             [
              0.6666666666666666,
              "#ed7953"
             ],
             [
              0.7777777777777778,
              "#fb9f3a"
             ],
             [
              0.8888888888888888,
              "#fdca26"
             ],
             [
              1,
              "#f0f921"
             ]
            ],
            "type": "heatmap"
           }
          ],
          "heatmapgl": [
           {
            "colorbar": {
             "outlinewidth": 0,
             "ticks": ""
            },
            "colorscale": [
             [
              0,
              "#0d0887"
             ],
             [
              0.1111111111111111,
              "#46039f"
             ],
             [
              0.2222222222222222,
              "#7201a8"
             ],
             [
              0.3333333333333333,
              "#9c179e"
             ],
             [
              0.4444444444444444,
              "#bd3786"
             ],
             [
              0.5555555555555556,
              "#d8576b"
             ],
             [
              0.6666666666666666,
              "#ed7953"
             ],
             [
              0.7777777777777778,
              "#fb9f3a"
             ],
             [
              0.8888888888888888,
              "#fdca26"
             ],
             [
              1,
              "#f0f921"
             ]
            ],
            "type": "heatmapgl"
           }
          ],
          "histogram": [
           {
            "marker": {
             "pattern": {
              "fillmode": "overlay",
              "size": 10,
              "solidity": 0.2
             }
            },
            "type": "histogram"
           }
          ],
          "histogram2d": [
           {
            "colorbar": {
             "outlinewidth": 0,
             "ticks": ""
            },
            "colorscale": [
             [
              0,
              "#0d0887"
             ],
             [
              0.1111111111111111,
              "#46039f"
             ],
             [
              0.2222222222222222,
              "#7201a8"
             ],
             [
              0.3333333333333333,
              "#9c179e"
             ],
             [
              0.4444444444444444,
              "#bd3786"
             ],
             [
              0.5555555555555556,
              "#d8576b"
             ],
             [
              0.6666666666666666,
              "#ed7953"
             ],
             [
              0.7777777777777778,
              "#fb9f3a"
             ],
             [
              0.8888888888888888,
              "#fdca26"
             ],
             [
              1,
              "#f0f921"
             ]
            ],
            "type": "histogram2d"
           }
          ],
          "histogram2dcontour": [
           {
            "colorbar": {
             "outlinewidth": 0,
             "ticks": ""
            },
            "colorscale": [
             [
              0,
              "#0d0887"
             ],
             [
              0.1111111111111111,
              "#46039f"
             ],
             [
              0.2222222222222222,
              "#7201a8"
             ],
             [
              0.3333333333333333,
              "#9c179e"
             ],
             [
              0.4444444444444444,
              "#bd3786"
             ],
             [
              0.5555555555555556,
              "#d8576b"
             ],
             [
              0.6666666666666666,
              "#ed7953"
             ],
             [
              0.7777777777777778,
              "#fb9f3a"
             ],
             [
              0.8888888888888888,
              "#fdca26"
             ],
             [
              1,
              "#f0f921"
             ]
            ],
            "type": "histogram2dcontour"
           }
          ],
          "mesh3d": [
           {
            "colorbar": {
             "outlinewidth": 0,
             "ticks": ""
            },
            "type": "mesh3d"
           }
          ],
          "parcoords": [
           {
            "line": {
             "colorbar": {
              "outlinewidth": 0,
              "ticks": ""
             }
            },
            "type": "parcoords"
           }
          ],
          "pie": [
           {
            "automargin": true,
            "type": "pie"
           }
          ],
          "scatter": [
           {
            "fillpattern": {
             "fillmode": "overlay",
             "size": 10,
             "solidity": 0.2
            },
            "type": "scatter"
           }
          ],
          "scatter3d": [
           {
            "line": {
             "colorbar": {
              "outlinewidth": 0,
              "ticks": ""
             }
            },
            "marker": {
             "colorbar": {
              "outlinewidth": 0,
              "ticks": ""
             }
            },
            "type": "scatter3d"
           }
          ],
          "scattercarpet": [
           {
            "marker": {
             "colorbar": {
              "outlinewidth": 0,
              "ticks": ""
             }
            },
            "type": "scattercarpet"
           }
          ],
          "scattergeo": [
           {
            "marker": {
             "colorbar": {
              "outlinewidth": 0,
              "ticks": ""
             }
            },
            "type": "scattergeo"
           }
          ],
          "scattergl": [
           {
            "marker": {
             "colorbar": {
              "outlinewidth": 0,
              "ticks": ""
             }
            },
            "type": "scattergl"
           }
          ],
          "scattermapbox": [
           {
            "marker": {
             "colorbar": {
              "outlinewidth": 0,
              "ticks": ""
             }
            },
            "type": "scattermapbox"
           }
          ],
          "scatterpolar": [
           {
            "marker": {
             "colorbar": {
              "outlinewidth": 0,
              "ticks": ""
             }
            },
            "type": "scatterpolar"
           }
          ],
          "scatterpolargl": [
           {
            "marker": {
             "colorbar": {
              "outlinewidth": 0,
              "ticks": ""
             }
            },
            "type": "scatterpolargl"
           }
          ],
          "scatterternary": [
           {
            "marker": {
             "colorbar": {
              "outlinewidth": 0,
              "ticks": ""
             }
            },
            "type": "scatterternary"
           }
          ],
          "surface": [
           {
            "colorbar": {
             "outlinewidth": 0,
             "ticks": ""
            },
            "colorscale": [
             [
              0,
              "#0d0887"
             ],
             [
              0.1111111111111111,
              "#46039f"
             ],
             [
              0.2222222222222222,
              "#7201a8"
             ],
             [
              0.3333333333333333,
              "#9c179e"
             ],
             [
              0.4444444444444444,
              "#bd3786"
             ],
             [
              0.5555555555555556,
              "#d8576b"
             ],
             [
              0.6666666666666666,
              "#ed7953"
             ],
             [
              0.7777777777777778,
              "#fb9f3a"
             ],
             [
              0.8888888888888888,
              "#fdca26"
             ],
             [
              1,
              "#f0f921"
             ]
            ],
            "type": "surface"
           }
          ],
          "table": [
           {
            "cells": {
             "fill": {
              "color": "#EBF0F8"
             },
             "line": {
              "color": "white"
             }
            },
            "header": {
             "fill": {
              "color": "#C8D4E3"
             },
             "line": {
              "color": "white"
             }
            },
            "type": "table"
           }
          ]
         },
         "layout": {
          "annotationdefaults": {
           "arrowcolor": "#2a3f5f",
           "arrowhead": 0,
           "arrowwidth": 1
          },
          "autotypenumbers": "strict",
          "coloraxis": {
           "colorbar": {
            "outlinewidth": 0,
            "ticks": ""
           }
          },
          "colorscale": {
           "diverging": [
            [
             0,
             "#8e0152"
            ],
            [
             0.1,
             "#c51b7d"
            ],
            [
             0.2,
             "#de77ae"
            ],
            [
             0.3,
             "#f1b6da"
            ],
            [
             0.4,
             "#fde0ef"
            ],
            [
             0.5,
             "#f7f7f7"
            ],
            [
             0.6,
             "#e6f5d0"
            ],
            [
             0.7,
             "#b8e186"
            ],
            [
             0.8,
             "#7fbc41"
            ],
            [
             0.9,
             "#4d9221"
            ],
            [
             1,
             "#276419"
            ]
           ],
           "sequential": [
            [
             0,
             "#0d0887"
            ],
            [
             0.1111111111111111,
             "#46039f"
            ],
            [
             0.2222222222222222,
             "#7201a8"
            ],
            [
             0.3333333333333333,
             "#9c179e"
            ],
            [
             0.4444444444444444,
             "#bd3786"
            ],
            [
             0.5555555555555556,
             "#d8576b"
            ],
            [
             0.6666666666666666,
             "#ed7953"
            ],
            [
             0.7777777777777778,
             "#fb9f3a"
            ],
            [
             0.8888888888888888,
             "#fdca26"
            ],
            [
             1,
             "#f0f921"
            ]
           ],
           "sequentialminus": [
            [
             0,
             "#0d0887"
            ],
            [
             0.1111111111111111,
             "#46039f"
            ],
            [
             0.2222222222222222,
             "#7201a8"
            ],
            [
             0.3333333333333333,
             "#9c179e"
            ],
            [
             0.4444444444444444,
             "#bd3786"
            ],
            [
             0.5555555555555556,
             "#d8576b"
            ],
            [
             0.6666666666666666,
             "#ed7953"
            ],
            [
             0.7777777777777778,
             "#fb9f3a"
            ],
            [
             0.8888888888888888,
             "#fdca26"
            ],
            [
             1,
             "#f0f921"
            ]
           ]
          },
          "colorway": [
           "#636efa",
           "#EF553B",
           "#00cc96",
           "#ab63fa",
           "#FFA15A",
           "#19d3f3",
           "#FF6692",
           "#B6E880",
           "#FF97FF",
           "#FECB52"
          ],
          "font": {
           "color": "#2a3f5f"
          },
          "geo": {
           "bgcolor": "white",
           "lakecolor": "white",
           "landcolor": "#E5ECF6",
           "showlakes": true,
           "showland": true,
           "subunitcolor": "white"
          },
          "hoverlabel": {
           "align": "left"
          },
          "hovermode": "closest",
          "mapbox": {
           "style": "light"
          },
          "paper_bgcolor": "white",
          "plot_bgcolor": "#E5ECF6",
          "polar": {
           "angularaxis": {
            "gridcolor": "white",
            "linecolor": "white",
            "ticks": ""
           },
           "bgcolor": "#E5ECF6",
           "radialaxis": {
            "gridcolor": "white",
            "linecolor": "white",
            "ticks": ""
           }
          },
          "scene": {
           "xaxis": {
            "backgroundcolor": "#E5ECF6",
            "gridcolor": "white",
            "gridwidth": 2,
            "linecolor": "white",
            "showbackground": true,
            "ticks": "",
            "zerolinecolor": "white"
           },
           "yaxis": {
            "backgroundcolor": "#E5ECF6",
            "gridcolor": "white",
            "gridwidth": 2,
            "linecolor": "white",
            "showbackground": true,
            "ticks": "",
            "zerolinecolor": "white"
           },
           "zaxis": {
            "backgroundcolor": "#E5ECF6",
            "gridcolor": "white",
            "gridwidth": 2,
            "linecolor": "white",
            "showbackground": true,
            "ticks": "",
            "zerolinecolor": "white"
           }
          },
          "shapedefaults": {
           "line": {
            "color": "#2a3f5f"
           }
          },
          "ternary": {
           "aaxis": {
            "gridcolor": "white",
            "linecolor": "white",
            "ticks": ""
           },
           "baxis": {
            "gridcolor": "white",
            "linecolor": "white",
            "ticks": ""
           },
           "bgcolor": "#E5ECF6",
           "caxis": {
            "gridcolor": "white",
            "linecolor": "white",
            "ticks": ""
           }
          },
          "title": {
           "x": 0.05
          },
          "xaxis": {
           "automargin": true,
           "gridcolor": "white",
           "linecolor": "white",
           "ticks": "",
           "title": {
            "standoff": 15
           },
           "zerolinecolor": "white",
           "zerolinewidth": 2
          },
          "yaxis": {
           "automargin": true,
           "gridcolor": "white",
           "linecolor": "white",
           "ticks": "",
           "title": {
            "standoff": 15
           },
           "zerolinecolor": "white",
           "zerolinewidth": 2
          }
         }
        },
        "xaxis": {
         "anchor": "y",
         "domain": [
          0,
          1
         ],
         "title": {
          "text": "regiao"
         }
        },
        "yaxis": {
         "anchor": "x",
         "domain": [
          0,
          1
         ],
         "title": {
          "text": "cpi"
         }
        }
       }
      },
      "text/html": [
       "<div>                            <div id=\"b850cbbf-efa1-4663-9cb4-2de4e57e524d\" class=\"plotly-graph-div\" style=\"height:525px; width:100%;\"></div>            <script type=\"text/javascript\">                require([\"plotly\"], function(Plotly) {                    window.PLOTLYENV=window.PLOTLYENV || {};                                    if (document.getElementById(\"b850cbbf-efa1-4663-9cb4-2de4e57e524d\")) {                    Plotly.newPlot(                        \"b850cbbf-efa1-4663-9cb4-2de4e57e524d\",                        [{\"hovertemplate\":\"regiao=%{x}<br>cpi=%{y}<br>pais=%{text}<extra></extra>\",\"legendgroup\":\"\",\"marker\":{\"color\":\"#636efa\",\"symbol\":\"circle\"},\"mode\":\"markers+text\",\"name\":\"\",\"orientation\":\"v\",\"showlegend\":false,\"text\":[\"Argentina\",\"Brazil\",\"Chile\",\"Colombia\",\"Venezuela\",\"Australia\",\"New Zealand\",\"Austria\",\"Belgium\",\"Cyprus\",\"Czech Rep.\",\"Denmark\",\"France\",\"Germany\",\"Greece\",\"Iceland\",\"Ireland\",\"Italy\",\"Netherlands\",\"Norway\",\"Poland\",\"Portugal\",\"Romania\",\"Russia\",\"Serbia\",\"Spain\",\"Sweden\",\"Switzerland\",\"Turkey\",\"Ukraine\",\"United Kingdom\",\"Canada\",\"United States\",\"China\",\"Egypt\",\"India\",\"Indonesia\",\"Kazakhstan\",\"Kuwait\",\"Lebanon\",\"Malaysia\",\"Oman\",\"Philippines\",\"Saudi Arabia\",\"South Africa\",\"Taiwan\",\"Thailand\",\"Jordan\",\"Syria\",\"Iraq\"],\"x\":[\"Am\\u00e9rica do Sul\",\"Am\\u00e9rica do Sul\",\"Am\\u00e9rica do Sul\",\"Am\\u00e9rica do Sul\",\"Am\\u00e9rica do Sul\",\"Oceania\",\"Oceania\",\"Europa\",\"Europa\",\"Europa\",\"Europa\",\"Europa\",\"Europa\",\"Europa\",\"Europa\",\"Europa\",\"Europa\",\"Europa\",\"Europa\",\"Europa\",\"Europa\",\"Europa\",\"Europa\",\"Europa\",\"Europa\",\"Europa\",\"Europa\",\"Europa\",\"Europa\",\"Europa\",\"Europa\",\"EUA e Canad\\u00e1\",\"EUA e Canad\\u00e1\",\"\\u00c1sia\",\"\\u00c1sia\",\"\\u00c1sia\",\"\\u00c1sia\",\"\\u00c1sia\",\"\\u00c1sia\",\"\\u00c1sia\",\"\\u00c1sia\",\"\\u00c1sia\",\"\\u00c1sia\",\"\\u00c1sia\",\"\\u00c1sia\",\"\\u00c1sia\",\"\\u00c1sia\",\"\\u00c1sia\",\"\\u00c1sia\",\"\\u00c1sia\"],\"xaxis\":\"x\",\"y\":[3.9,4.0,6.2,4.0,2.8,8.7,9.3,7.9,7.1,6.3,4.6,9.3,6.8,7.9,3.5,8.5,8.0,3.9,8.8,8.6,5.3,6.0,3.7,2.1,3.5,6.1,9.2,8.7,4.4,2.4,7.6,8.9,7.1,2.5,2.1,2.3,1.8,1.9,2.8,1.5,3.4,3.3,1.4,3.7,2.8,3.8,2.5,2.0,1.0,0.8],\"yaxis\":\"y\",\"type\":\"scatter\"}],                        {\"template\":{\"data\":{\"histogram2dcontour\":[{\"type\":\"histogram2dcontour\",\"colorbar\":{\"outlinewidth\":0,\"ticks\":\"\"},\"colorscale\":[[0.0,\"#0d0887\"],[0.1111111111111111,\"#46039f\"],[0.2222222222222222,\"#7201a8\"],[0.3333333333333333,\"#9c179e\"],[0.4444444444444444,\"#bd3786\"],[0.5555555555555556,\"#d8576b\"],[0.6666666666666666,\"#ed7953\"],[0.7777777777777778,\"#fb9f3a\"],[0.8888888888888888,\"#fdca26\"],[1.0,\"#f0f921\"]]}],\"choropleth\":[{\"type\":\"choropleth\",\"colorbar\":{\"outlinewidth\":0,\"ticks\":\"\"}}],\"histogram2d\":[{\"type\":\"histogram2d\",\"colorbar\":{\"outlinewidth\":0,\"ticks\":\"\"},\"colorscale\":[[0.0,\"#0d0887\"],[0.1111111111111111,\"#46039f\"],[0.2222222222222222,\"#7201a8\"],[0.3333333333333333,\"#9c179e\"],[0.4444444444444444,\"#bd3786\"],[0.5555555555555556,\"#d8576b\"],[0.6666666666666666,\"#ed7953\"],[0.7777777777777778,\"#fb9f3a\"],[0.8888888888888888,\"#fdca26\"],[1.0,\"#f0f921\"]]}],\"heatmap\":[{\"type\":\"heatmap\",\"colorbar\":{\"outlinewidth\":0,\"ticks\":\"\"},\"colorscale\":[[0.0,\"#0d0887\"],[0.1111111111111111,\"#46039f\"],[0.2222222222222222,\"#7201a8\"],[0.3333333333333333,\"#9c179e\"],[0.4444444444444444,\"#bd3786\"],[0.5555555555555556,\"#d8576b\"],[0.6666666666666666,\"#ed7953\"],[0.7777777777777778,\"#fb9f3a\"],[0.8888888888888888,\"#fdca26\"],[1.0,\"#f0f921\"]]}],\"heatmapgl\":[{\"type\":\"heatmapgl\",\"colorbar\":{\"outlinewidth\":0,\"ticks\":\"\"},\"colorscale\":[[0.0,\"#0d0887\"],[0.1111111111111111,\"#46039f\"],[0.2222222222222222,\"#7201a8\"],[0.3333333333333333,\"#9c179e\"],[0.4444444444444444,\"#bd3786\"],[0.5555555555555556,\"#d8576b\"],[0.6666666666666666,\"#ed7953\"],[0.7777777777777778,\"#fb9f3a\"],[0.8888888888888888,\"#fdca26\"],[1.0,\"#f0f921\"]]}],\"contourcarpet\":[{\"type\":\"contourcarpet\",\"colorbar\":{\"outlinewidth\":0,\"ticks\":\"\"}}],\"contour\":[{\"type\":\"contour\",\"colorbar\":{\"outlinewidth\":0,\"ticks\":\"\"},\"colorscale\":[[0.0,\"#0d0887\"],[0.1111111111111111,\"#46039f\"],[0.2222222222222222,\"#7201a8\"],[0.3333333333333333,\"#9c179e\"],[0.4444444444444444,\"#bd3786\"],[0.5555555555555556,\"#d8576b\"],[0.6666666666666666,\"#ed7953\"],[0.7777777777777778,\"#fb9f3a\"],[0.8888888888888888,\"#fdca26\"],[1.0,\"#f0f921\"]]}],\"surface\":[{\"type\":\"surface\",\"colorbar\":{\"outlinewidth\":0,\"ticks\":\"\"},\"colorscale\":[[0.0,\"#0d0887\"],[0.1111111111111111,\"#46039f\"],[0.2222222222222222,\"#7201a8\"],[0.3333333333333333,\"#9c179e\"],[0.4444444444444444,\"#bd3786\"],[0.5555555555555556,\"#d8576b\"],[0.6666666666666666,\"#ed7953\"],[0.7777777777777778,\"#fb9f3a\"],[0.8888888888888888,\"#fdca26\"],[1.0,\"#f0f921\"]]}],\"mesh3d\":[{\"type\":\"mesh3d\",\"colorbar\":{\"outlinewidth\":0,\"ticks\":\"\"}}],\"scatter\":[{\"fillpattern\":{\"fillmode\":\"overlay\",\"size\":10,\"solidity\":0.2},\"type\":\"scatter\"}],\"parcoords\":[{\"type\":\"parcoords\",\"line\":{\"colorbar\":{\"outlinewidth\":0,\"ticks\":\"\"}}}],\"scatterpolargl\":[{\"type\":\"scatterpolargl\",\"marker\":{\"colorbar\":{\"outlinewidth\":0,\"ticks\":\"\"}}}],\"bar\":[{\"error_x\":{\"color\":\"#2a3f5f\"},\"error_y\":{\"color\":\"#2a3f5f\"},\"marker\":{\"line\":{\"color\":\"#E5ECF6\",\"width\":0.5},\"pattern\":{\"fillmode\":\"overlay\",\"size\":10,\"solidity\":0.2}},\"type\":\"bar\"}],\"scattergeo\":[{\"type\":\"scattergeo\",\"marker\":{\"colorbar\":{\"outlinewidth\":0,\"ticks\":\"\"}}}],\"scatterpolar\":[{\"type\":\"scatterpolar\",\"marker\":{\"colorbar\":{\"outlinewidth\":0,\"ticks\":\"\"}}}],\"histogram\":[{\"marker\":{\"pattern\":{\"fillmode\":\"overlay\",\"size\":10,\"solidity\":0.2}},\"type\":\"histogram\"}],\"scattergl\":[{\"type\":\"scattergl\",\"marker\":{\"colorbar\":{\"outlinewidth\":0,\"ticks\":\"\"}}}],\"scatter3d\":[{\"type\":\"scatter3d\",\"line\":{\"colorbar\":{\"outlinewidth\":0,\"ticks\":\"\"}},\"marker\":{\"colorbar\":{\"outlinewidth\":0,\"ticks\":\"\"}}}],\"scattermapbox\":[{\"type\":\"scattermapbox\",\"marker\":{\"colorbar\":{\"outlinewidth\":0,\"ticks\":\"\"}}}],\"scatterternary\":[{\"type\":\"scatterternary\",\"marker\":{\"colorbar\":{\"outlinewidth\":0,\"ticks\":\"\"}}}],\"scattercarpet\":[{\"type\":\"scattercarpet\",\"marker\":{\"colorbar\":{\"outlinewidth\":0,\"ticks\":\"\"}}}],\"carpet\":[{\"aaxis\":{\"endlinecolor\":\"#2a3f5f\",\"gridcolor\":\"white\",\"linecolor\":\"white\",\"minorgridcolor\":\"white\",\"startlinecolor\":\"#2a3f5f\"},\"baxis\":{\"endlinecolor\":\"#2a3f5f\",\"gridcolor\":\"white\",\"linecolor\":\"white\",\"minorgridcolor\":\"white\",\"startlinecolor\":\"#2a3f5f\"},\"type\":\"carpet\"}],\"table\":[{\"cells\":{\"fill\":{\"color\":\"#EBF0F8\"},\"line\":{\"color\":\"white\"}},\"header\":{\"fill\":{\"color\":\"#C8D4E3\"},\"line\":{\"color\":\"white\"}},\"type\":\"table\"}],\"barpolar\":[{\"marker\":{\"line\":{\"color\":\"#E5ECF6\",\"width\":0.5},\"pattern\":{\"fillmode\":\"overlay\",\"size\":10,\"solidity\":0.2}},\"type\":\"barpolar\"}],\"pie\":[{\"automargin\":true,\"type\":\"pie\"}]},\"layout\":{\"autotypenumbers\":\"strict\",\"colorway\":[\"#636efa\",\"#EF553B\",\"#00cc96\",\"#ab63fa\",\"#FFA15A\",\"#19d3f3\",\"#FF6692\",\"#B6E880\",\"#FF97FF\",\"#FECB52\"],\"font\":{\"color\":\"#2a3f5f\"},\"hovermode\":\"closest\",\"hoverlabel\":{\"align\":\"left\"},\"paper_bgcolor\":\"white\",\"plot_bgcolor\":\"#E5ECF6\",\"polar\":{\"bgcolor\":\"#E5ECF6\",\"angularaxis\":{\"gridcolor\":\"white\",\"linecolor\":\"white\",\"ticks\":\"\"},\"radialaxis\":{\"gridcolor\":\"white\",\"linecolor\":\"white\",\"ticks\":\"\"}},\"ternary\":{\"bgcolor\":\"#E5ECF6\",\"aaxis\":{\"gridcolor\":\"white\",\"linecolor\":\"white\",\"ticks\":\"\"},\"baxis\":{\"gridcolor\":\"white\",\"linecolor\":\"white\",\"ticks\":\"\"},\"caxis\":{\"gridcolor\":\"white\",\"linecolor\":\"white\",\"ticks\":\"\"}},\"coloraxis\":{\"colorbar\":{\"outlinewidth\":0,\"ticks\":\"\"}},\"colorscale\":{\"sequential\":[[0.0,\"#0d0887\"],[0.1111111111111111,\"#46039f\"],[0.2222222222222222,\"#7201a8\"],[0.3333333333333333,\"#9c179e\"],[0.4444444444444444,\"#bd3786\"],[0.5555555555555556,\"#d8576b\"],[0.6666666666666666,\"#ed7953\"],[0.7777777777777778,\"#fb9f3a\"],[0.8888888888888888,\"#fdca26\"],[1.0,\"#f0f921\"]],\"sequentialminus\":[[0.0,\"#0d0887\"],[0.1111111111111111,\"#46039f\"],[0.2222222222222222,\"#7201a8\"],[0.3333333333333333,\"#9c179e\"],[0.4444444444444444,\"#bd3786\"],[0.5555555555555556,\"#d8576b\"],[0.6666666666666666,\"#ed7953\"],[0.7777777777777778,\"#fb9f3a\"],[0.8888888888888888,\"#fdca26\"],[1.0,\"#f0f921\"]],\"diverging\":[[0,\"#8e0152\"],[0.1,\"#c51b7d\"],[0.2,\"#de77ae\"],[0.3,\"#f1b6da\"],[0.4,\"#fde0ef\"],[0.5,\"#f7f7f7\"],[0.6,\"#e6f5d0\"],[0.7,\"#b8e186\"],[0.8,\"#7fbc41\"],[0.9,\"#4d9221\"],[1,\"#276419\"]]},\"xaxis\":{\"gridcolor\":\"white\",\"linecolor\":\"white\",\"ticks\":\"\",\"title\":{\"standoff\":15},\"zerolinecolor\":\"white\",\"automargin\":true,\"zerolinewidth\":2},\"yaxis\":{\"gridcolor\":\"white\",\"linecolor\":\"white\",\"ticks\":\"\",\"title\":{\"standoff\":15},\"zerolinecolor\":\"white\",\"automargin\":true,\"zerolinewidth\":2},\"scene\":{\"xaxis\":{\"backgroundcolor\":\"#E5ECF6\",\"gridcolor\":\"white\",\"linecolor\":\"white\",\"showbackground\":true,\"ticks\":\"\",\"zerolinecolor\":\"white\",\"gridwidth\":2},\"yaxis\":{\"backgroundcolor\":\"#E5ECF6\",\"gridcolor\":\"white\",\"linecolor\":\"white\",\"showbackground\":true,\"ticks\":\"\",\"zerolinecolor\":\"white\",\"gridwidth\":2},\"zaxis\":{\"backgroundcolor\":\"#E5ECF6\",\"gridcolor\":\"white\",\"linecolor\":\"white\",\"showbackground\":true,\"ticks\":\"\",\"zerolinecolor\":\"white\",\"gridwidth\":2}},\"shapedefaults\":{\"line\":{\"color\":\"#2a3f5f\"}},\"annotationdefaults\":{\"arrowcolor\":\"#2a3f5f\",\"arrowhead\":0,\"arrowwidth\":1},\"geo\":{\"bgcolor\":\"white\",\"landcolor\":\"#E5ECF6\",\"subunitcolor\":\"white\",\"showland\":true,\"showlakes\":true,\"lakecolor\":\"white\"},\"title\":{\"x\":0.05},\"mapbox\":{\"style\":\"light\"}}},\"xaxis\":{\"anchor\":\"y\",\"domain\":[0.0,1.0],\"title\":{\"text\":\"regiao\"}},\"yaxis\":{\"anchor\":\"x\",\"domain\":[0.0,1.0],\"title\":{\"text\":\"cpi\"}},\"legend\":{\"tracegroupgap\":0},\"margin\":{\"t\":60}},                        {\"responsive\": true}                    ).then(function(){\n",
       "                            \n",
       "var gd = document.getElementById('b850cbbf-efa1-4663-9cb4-2de4e57e524d');\n",
       "var x = new MutationObserver(function (mutations, observer) {{\n",
       "        var display = window.getComputedStyle(gd).display;\n",
       "        if (!display || display === 'none') {{\n",
       "            console.log([gd, 'removed!']);\n",
       "            Plotly.purge(gd);\n",
       "            observer.disconnect();\n",
       "        }}\n",
       "}});\n",
       "\n",
       "// Listen for the removal of the full notebook cells\n",
       "var notebookContainer = gd.closest('#notebook-container');\n",
       "if (notebookContainer) {{\n",
       "    x.observe(notebookContainer, {childList: true});\n",
       "}}\n",
       "\n",
       "// Listen for the clearing of the current output cell\n",
       "var outputEl = gd.closest('.output');\n",
       "if (outputEl) {{\n",
       "    x.observe(outputEl, {childList: true});\n",
       "}}\n",
       "\n",
       "                        })                };                });            </script>        </div>"
      ]
     },
     "metadata": {},
     "output_type": "display_data"
    }
   ],
   "source": [
    "import plotly.express as px\n",
    "\n",
    "fig = px.scatter(corrupcao, x='regiao', y='cpi', text='pais')\n",
    "#fig.add_trace(go.Scatter(y='cpi_y', mode='lines'))\n",
    "\n",
    "fig.show()\n"
   ]
  },
  {
   "cell_type": "markdown",
   "id": "f8b15f08",
   "metadata": {},
   "source": [
    "### Transformando em Variável Dummy\n",
    "\n",
    "A categoria de referência terá marcação dummy zerada, ou seja, retirar a coluna da variável de referência."
   ]
  },
  {
   "cell_type": "code",
   "execution_count": 53,
   "id": "e71f5706",
   "metadata": {},
   "outputs": [
    {
     "data": {
      "text/html": [
       "<div>\n",
       "<style scoped>\n",
       "    .dataframe tbody tr th:only-of-type {\n",
       "        vertical-align: middle;\n",
       "    }\n",
       "\n",
       "    .dataframe tbody tr th {\n",
       "        vertical-align: top;\n",
       "    }\n",
       "\n",
       "    .dataframe thead th {\n",
       "        text-align: right;\n",
       "    }\n",
       "</style>\n",
       "<table border=\"1\" class=\"dataframe\">\n",
       "  <thead>\n",
       "    <tr style=\"text-align: right;\">\n",
       "      <th></th>\n",
       "      <th>pais</th>\n",
       "      <th>cpi</th>\n",
       "      <th>regiao</th>\n",
       "      <th>cpi_mean</th>\n",
       "      <th>América do Sul</th>\n",
       "      <th>EUA e Canadá</th>\n",
       "      <th>Europa</th>\n",
       "      <th>Oceania</th>\n",
       "      <th>Ásia</th>\n",
       "    </tr>\n",
       "  </thead>\n",
       "  <tbody>\n",
       "    <tr>\n",
       "      <th>0</th>\n",
       "      <td>Argentina</td>\n",
       "      <td>3.9</td>\n",
       "      <td>América do Sul</td>\n",
       "      <td>4.18</td>\n",
       "      <td>1</td>\n",
       "      <td>0</td>\n",
       "      <td>0</td>\n",
       "      <td>0</td>\n",
       "      <td>0</td>\n",
       "    </tr>\n",
       "    <tr>\n",
       "      <th>1</th>\n",
       "      <td>Brazil</td>\n",
       "      <td>4.0</td>\n",
       "      <td>América do Sul</td>\n",
       "      <td>4.18</td>\n",
       "      <td>1</td>\n",
       "      <td>0</td>\n",
       "      <td>0</td>\n",
       "      <td>0</td>\n",
       "      <td>0</td>\n",
       "    </tr>\n",
       "    <tr>\n",
       "      <th>2</th>\n",
       "      <td>Chile</td>\n",
       "      <td>6.2</td>\n",
       "      <td>América do Sul</td>\n",
       "      <td>4.18</td>\n",
       "      <td>1</td>\n",
       "      <td>0</td>\n",
       "      <td>0</td>\n",
       "      <td>0</td>\n",
       "      <td>0</td>\n",
       "    </tr>\n",
       "    <tr>\n",
       "      <th>3</th>\n",
       "      <td>Colombia</td>\n",
       "      <td>4.0</td>\n",
       "      <td>América do Sul</td>\n",
       "      <td>4.18</td>\n",
       "      <td>1</td>\n",
       "      <td>0</td>\n",
       "      <td>0</td>\n",
       "      <td>0</td>\n",
       "      <td>0</td>\n",
       "    </tr>\n",
       "    <tr>\n",
       "      <th>4</th>\n",
       "      <td>Venezuela</td>\n",
       "      <td>2.8</td>\n",
       "      <td>América do Sul</td>\n",
       "      <td>4.18</td>\n",
       "      <td>1</td>\n",
       "      <td>0</td>\n",
       "      <td>0</td>\n",
       "      <td>0</td>\n",
       "      <td>0</td>\n",
       "    </tr>\n",
       "  </tbody>\n",
       "</table>\n",
       "</div>"
      ],
      "text/plain": [
       "        pais  cpi          regiao  cpi_mean  América do Sul  EUA e Canadá  \\\n",
       "0  Argentina  3.9  América do Sul      4.18               1             0   \n",
       "1     Brazil  4.0  América do Sul      4.18               1             0   \n",
       "2      Chile  6.2  América do Sul      4.18               1             0   \n",
       "3   Colombia  4.0  América do Sul      4.18               1             0   \n",
       "4  Venezuela  2.8  América do Sul      4.18               1             0   \n",
       "\n",
       "   Europa  Oceania  Ásia  \n",
       "0       0        0     0  \n",
       "1       0        0     0  \n",
       "2       0        0     0  \n",
       "3       0        0     0  \n",
       "4       0        0     0  "
      ]
     },
     "execution_count": 53,
     "metadata": {},
     "output_type": "execute_result"
    }
   ],
   "source": [
    "corrupcao_dum = corrupcao.join(pd.get_dummies(corrupcao['regiao']))\n",
    "corrupcao_dum.head()"
   ]
  },
  {
   "cell_type": "code",
   "execution_count": 71,
   "id": "7a20e942",
   "metadata": {},
   "outputs": [
    {
     "data": {
      "text/html": [
       "<div>\n",
       "<style scoped>\n",
       "    .dataframe tbody tr th:only-of-type {\n",
       "        vertical-align: middle;\n",
       "    }\n",
       "\n",
       "    .dataframe tbody tr th {\n",
       "        vertical-align: top;\n",
       "    }\n",
       "\n",
       "    .dataframe thead th {\n",
       "        text-align: right;\n",
       "    }\n",
       "</style>\n",
       "<table border=\"1\" class=\"dataframe\">\n",
       "  <thead>\n",
       "    <tr style=\"text-align: right;\">\n",
       "      <th></th>\n",
       "      <th>cpi</th>\n",
       "      <th>América_do_Sul</th>\n",
       "      <th>EUA_Canada</th>\n",
       "      <th>Oceania</th>\n",
       "      <th>Asia</th>\n",
       "    </tr>\n",
       "  </thead>\n",
       "  <tbody>\n",
       "    <tr>\n",
       "      <th>0</th>\n",
       "      <td>3.9</td>\n",
       "      <td>1</td>\n",
       "      <td>0</td>\n",
       "      <td>0</td>\n",
       "      <td>0</td>\n",
       "    </tr>\n",
       "    <tr>\n",
       "      <th>1</th>\n",
       "      <td>4.0</td>\n",
       "      <td>1</td>\n",
       "      <td>0</td>\n",
       "      <td>0</td>\n",
       "      <td>0</td>\n",
       "    </tr>\n",
       "    <tr>\n",
       "      <th>2</th>\n",
       "      <td>6.2</td>\n",
       "      <td>1</td>\n",
       "      <td>0</td>\n",
       "      <td>0</td>\n",
       "      <td>0</td>\n",
       "    </tr>\n",
       "    <tr>\n",
       "      <th>3</th>\n",
       "      <td>4.0</td>\n",
       "      <td>1</td>\n",
       "      <td>0</td>\n",
       "      <td>0</td>\n",
       "      <td>0</td>\n",
       "    </tr>\n",
       "  </tbody>\n",
       "</table>\n",
       "</div>"
      ],
      "text/plain": [
       "   cpi  América_do_Sul  EUA_Canada  Oceania  Asia\n",
       "0  3.9               1           0        0     0\n",
       "1  4.0               1           0        0     0\n",
       "2  6.2               1           0        0     0\n",
       "3  4.0               1           0        0     0"
      ]
     },
     "execution_count": 71,
     "metadata": {},
     "output_type": "execute_result"
    }
   ],
   "source": [
    "europa_ref = corrupcao_dum[['cpi', 'América do Sul', 'EUA e Canadá', 'Oceania', 'Ásia']] \n",
    "europa_ref.columns = ['cpi', 'América_do_Sul', 'EUA_Canada', 'Oceania', 'Asia']\n",
    "europa_ref.head(4)"
   ]
  },
  {
   "cell_type": "markdown",
   "id": "983c423f",
   "metadata": {},
   "source": [
    "## Aplicando Modelo OLS"
   ]
  },
  {
   "cell_type": "code",
   "execution_count": 72,
   "id": "11b7869a",
   "metadata": {},
   "outputs": [
    {
     "data": {
      "text/html": [
       "<table class=\"simpletable\">\n",
       "<caption>OLS Regression Results</caption>\n",
       "<tr>\n",
       "  <th>Dep. Variable:</th>           <td>cpi</td>       <th>  R-squared:         </th> <td>   0.603</td>\n",
       "</tr>\n",
       "<tr>\n",
       "  <th>Model:</th>                   <td>OLS</td>       <th>  Adj. R-squared:    </th> <td>   0.568</td>\n",
       "</tr>\n",
       "<tr>\n",
       "  <th>Method:</th>             <td>Least Squares</td>  <th>  F-statistic:       </th> <td>   17.09</td>\n",
       "</tr>\n",
       "<tr>\n",
       "  <th>Date:</th>             <td>Thu, 09 Feb 2023</td> <th>  Prob (F-statistic):</th> <td>1.37e-08</td>\n",
       "</tr>\n",
       "<tr>\n",
       "  <th>Time:</th>                 <td>22:05:26</td>     <th>  Log-Likelihood:    </th> <td> -96.620</td>\n",
       "</tr>\n",
       "<tr>\n",
       "  <th>No. Observations:</th>      <td>    50</td>      <th>  AIC:               </th> <td>   203.2</td>\n",
       "</tr>\n",
       "<tr>\n",
       "  <th>Df Residuals:</th>          <td>    45</td>      <th>  BIC:               </th> <td>   212.8</td>\n",
       "</tr>\n",
       "<tr>\n",
       "  <th>Df Model:</th>              <td>     4</td>      <th>                     </th>     <td> </td>   \n",
       "</tr>\n",
       "<tr>\n",
       "  <th>Covariance Type:</th>      <td>nonrobust</td>    <th>                     </th>     <td> </td>   \n",
       "</tr>\n",
       "</table>\n",
       "<table class=\"simpletable\">\n",
       "<tr>\n",
       "         <td></td>           <th>coef</th>     <th>std err</th>      <th>t</th>      <th>P>|t|</th>  <th>[0.025</th>    <th>0.975]</th>  \n",
       "</tr>\n",
       "<tr>\n",
       "  <th>Intercept</th>      <td>    6.2583</td> <td>    0.360</td> <td>   17.406</td> <td> 0.000</td> <td>    5.534</td> <td>    6.983</td>\n",
       "</tr>\n",
       "<tr>\n",
       "  <th>América_do_Sul</th> <td>   -2.0783</td> <td>    0.866</td> <td>   -2.400</td> <td> 0.021</td> <td>   -3.822</td> <td>   -0.334</td>\n",
       "</tr>\n",
       "<tr>\n",
       "  <th>EUA_Canada</th>     <td>    1.7417</td> <td>    1.296</td> <td>    1.343</td> <td> 0.186</td> <td>   -0.869</td> <td>    4.353</td>\n",
       "</tr>\n",
       "<tr>\n",
       "  <th>Oceania</th>        <td>    2.7417</td> <td>    1.296</td> <td>    2.115</td> <td> 0.040</td> <td>    0.131</td> <td>    5.353</td>\n",
       "</tr>\n",
       "<tr>\n",
       "  <th>Asia</th>           <td>   -3.9289</td> <td>    0.558</td> <td>   -7.036</td> <td> 0.000</td> <td>   -5.054</td> <td>   -2.804</td>\n",
       "</tr>\n",
       "</table>\n",
       "<table class=\"simpletable\">\n",
       "<tr>\n",
       "  <th>Omnibus:</th>       <td> 1.205</td> <th>  Durbin-Watson:     </th> <td>   1.761</td>\n",
       "</tr>\n",
       "<tr>\n",
       "  <th>Prob(Omnibus):</th> <td> 0.547</td> <th>  Jarque-Bera (JB):  </th> <td>   1.083</td>\n",
       "</tr>\n",
       "<tr>\n",
       "  <th>Skew:</th>          <td>-0.347</td> <th>  Prob(JB):          </th> <td>   0.582</td>\n",
       "</tr>\n",
       "<tr>\n",
       "  <th>Kurtosis:</th>      <td> 2.804</td> <th>  Cond. No.          </th> <td>    5.94</td>\n",
       "</tr>\n",
       "</table><br/><br/>Notes:<br/>[1] Standard Errors assume that the covariance matrix of the errors is correctly specified."
      ],
      "text/plain": [
       "<class 'statsmodels.iolib.summary.Summary'>\n",
       "\"\"\"\n",
       "                            OLS Regression Results                            \n",
       "==============================================================================\n",
       "Dep. Variable:                    cpi   R-squared:                       0.603\n",
       "Model:                            OLS   Adj. R-squared:                  0.568\n",
       "Method:                 Least Squares   F-statistic:                     17.09\n",
       "Date:                Thu, 09 Feb 2023   Prob (F-statistic):           1.37e-08\n",
       "Time:                        22:05:26   Log-Likelihood:                -96.620\n",
       "No. Observations:                  50   AIC:                             203.2\n",
       "Df Residuals:                      45   BIC:                             212.8\n",
       "Df Model:                           4                                         \n",
       "Covariance Type:            nonrobust                                         \n",
       "==================================================================================\n",
       "                     coef    std err          t      P>|t|      [0.025      0.975]\n",
       "----------------------------------------------------------------------------------\n",
       "Intercept          6.2583      0.360     17.406      0.000       5.534       6.983\n",
       "América_do_Sul    -2.0783      0.866     -2.400      0.021      -3.822      -0.334\n",
       "EUA_Canada         1.7417      1.296      1.343      0.186      -0.869       4.353\n",
       "Oceania            2.7417      1.296      2.115      0.040       0.131       5.353\n",
       "Asia              -3.9289      0.558     -7.036      0.000      -5.054      -2.804\n",
       "==============================================================================\n",
       "Omnibus:                        1.205   Durbin-Watson:                   1.761\n",
       "Prob(Omnibus):                  0.547   Jarque-Bera (JB):                1.083\n",
       "Skew:                          -0.347   Prob(JB):                        0.582\n",
       "Kurtosis:                       2.804   Cond. No.                         5.94\n",
       "==============================================================================\n",
       "\n",
       "Notes:\n",
       "[1] Standard Errors assume that the covariance matrix of the errors is correctly specified.\n",
       "\"\"\""
      ]
     },
     "execution_count": 72,
     "metadata": {},
     "output_type": "execute_result"
    }
   ],
   "source": [
    "#Estimando o modelo\n",
    "#https://www.statsmodels.org/dev/generated/statsmodels.regression.linear_model.OLS.html#statsmodels.regression.linear_model.OLS\n",
    "import statsmodels.api as sm\n",
    "\n",
    "modelo = sm.OLS.from_formula(formula=\"cpi~América_do_Sul+ EUA_Canada + Oceania + Asia\", data=europa_ref).fit()\n",
    "modelo.summary()"
   ]
  },
  {
   "cell_type": "markdown",
   "id": "b538591c",
   "metadata": {},
   "source": [
    "**OBS.** <br>\n",
    "EUA e Canadá foi a única que não foi estatisticamente significante.\n",
    "\n",
    "Isso significa que não tem diferença média entre CPI do ponto de vista amostral da Europa (alpha) e EUA e Canadá.\n",
    "\n",
    "Como EUA e Candá só tem apenas duas observações não teve capacidade estatística para ter diferença  no beta em relação a média da Europa. "
   ]
  },
  {
   "cell_type": "code",
   "execution_count": 74,
   "id": "b271c516",
   "metadata": {},
   "outputs": [
    {
     "data": {
      "text/html": [
       "<div>\n",
       "<style scoped>\n",
       "    .dataframe tbody tr th:only-of-type {\n",
       "        vertical-align: middle;\n",
       "    }\n",
       "\n",
       "    .dataframe tbody tr th {\n",
       "        vertical-align: top;\n",
       "    }\n",
       "\n",
       "    .dataframe thead th {\n",
       "        text-align: right;\n",
       "    }\n",
       "</style>\n",
       "<table border=\"1\" class=\"dataframe\">\n",
       "  <thead>\n",
       "    <tr style=\"text-align: right;\">\n",
       "      <th></th>\n",
       "      <th>pais</th>\n",
       "      <th>cpi</th>\n",
       "      <th>regiao</th>\n",
       "      <th>cpi_mean</th>\n",
       "      <th>cpi_fit</th>\n",
       "    </tr>\n",
       "  </thead>\n",
       "  <tbody>\n",
       "    <tr>\n",
       "      <th>0</th>\n",
       "      <td>Argentina</td>\n",
       "      <td>3.9</td>\n",
       "      <td>América do Sul</td>\n",
       "      <td>4.180000</td>\n",
       "      <td>4.180000</td>\n",
       "    </tr>\n",
       "    <tr>\n",
       "      <th>1</th>\n",
       "      <td>Brazil</td>\n",
       "      <td>4.0</td>\n",
       "      <td>América do Sul</td>\n",
       "      <td>4.180000</td>\n",
       "      <td>4.180000</td>\n",
       "    </tr>\n",
       "    <tr>\n",
       "      <th>2</th>\n",
       "      <td>Chile</td>\n",
       "      <td>6.2</td>\n",
       "      <td>América do Sul</td>\n",
       "      <td>4.180000</td>\n",
       "      <td>4.180000</td>\n",
       "    </tr>\n",
       "    <tr>\n",
       "      <th>3</th>\n",
       "      <td>Colombia</td>\n",
       "      <td>4.0</td>\n",
       "      <td>América do Sul</td>\n",
       "      <td>4.180000</td>\n",
       "      <td>4.180000</td>\n",
       "    </tr>\n",
       "    <tr>\n",
       "      <th>4</th>\n",
       "      <td>Venezuela</td>\n",
       "      <td>2.8</td>\n",
       "      <td>América do Sul</td>\n",
       "      <td>4.180000</td>\n",
       "      <td>4.180000</td>\n",
       "    </tr>\n",
       "    <tr>\n",
       "      <th>5</th>\n",
       "      <td>Australia</td>\n",
       "      <td>8.7</td>\n",
       "      <td>Oceania</td>\n",
       "      <td>9.000000</td>\n",
       "      <td>9.000000</td>\n",
       "    </tr>\n",
       "    <tr>\n",
       "      <th>6</th>\n",
       "      <td>New Zealand</td>\n",
       "      <td>9.3</td>\n",
       "      <td>Oceania</td>\n",
       "      <td>9.000000</td>\n",
       "      <td>9.000000</td>\n",
       "    </tr>\n",
       "    <tr>\n",
       "      <th>7</th>\n",
       "      <td>Austria</td>\n",
       "      <td>7.9</td>\n",
       "      <td>Europa</td>\n",
       "      <td>6.258333</td>\n",
       "      <td>6.258333</td>\n",
       "    </tr>\n",
       "    <tr>\n",
       "      <th>8</th>\n",
       "      <td>Belgium</td>\n",
       "      <td>7.1</td>\n",
       "      <td>Europa</td>\n",
       "      <td>6.258333</td>\n",
       "      <td>6.258333</td>\n",
       "    </tr>\n",
       "    <tr>\n",
       "      <th>9</th>\n",
       "      <td>Cyprus</td>\n",
       "      <td>6.3</td>\n",
       "      <td>Europa</td>\n",
       "      <td>6.258333</td>\n",
       "      <td>6.258333</td>\n",
       "    </tr>\n",
       "    <tr>\n",
       "      <th>10</th>\n",
       "      <td>Czech Rep.</td>\n",
       "      <td>4.6</td>\n",
       "      <td>Europa</td>\n",
       "      <td>6.258333</td>\n",
       "      <td>6.258333</td>\n",
       "    </tr>\n",
       "    <tr>\n",
       "      <th>11</th>\n",
       "      <td>Denmark</td>\n",
       "      <td>9.3</td>\n",
       "      <td>Europa</td>\n",
       "      <td>6.258333</td>\n",
       "      <td>6.258333</td>\n",
       "    </tr>\n",
       "    <tr>\n",
       "      <th>12</th>\n",
       "      <td>France</td>\n",
       "      <td>6.8</td>\n",
       "      <td>Europa</td>\n",
       "      <td>6.258333</td>\n",
       "      <td>6.258333</td>\n",
       "    </tr>\n",
       "    <tr>\n",
       "      <th>13</th>\n",
       "      <td>Germany</td>\n",
       "      <td>7.9</td>\n",
       "      <td>Europa</td>\n",
       "      <td>6.258333</td>\n",
       "      <td>6.258333</td>\n",
       "    </tr>\n",
       "    <tr>\n",
       "      <th>14</th>\n",
       "      <td>Greece</td>\n",
       "      <td>3.5</td>\n",
       "      <td>Europa</td>\n",
       "      <td>6.258333</td>\n",
       "      <td>6.258333</td>\n",
       "    </tr>\n",
       "    <tr>\n",
       "      <th>15</th>\n",
       "      <td>Iceland</td>\n",
       "      <td>8.5</td>\n",
       "      <td>Europa</td>\n",
       "      <td>6.258333</td>\n",
       "      <td>6.258333</td>\n",
       "    </tr>\n",
       "    <tr>\n",
       "      <th>16</th>\n",
       "      <td>Ireland</td>\n",
       "      <td>8.0</td>\n",
       "      <td>Europa</td>\n",
       "      <td>6.258333</td>\n",
       "      <td>6.258333</td>\n",
       "    </tr>\n",
       "    <tr>\n",
       "      <th>17</th>\n",
       "      <td>Italy</td>\n",
       "      <td>3.9</td>\n",
       "      <td>Europa</td>\n",
       "      <td>6.258333</td>\n",
       "      <td>6.258333</td>\n",
       "    </tr>\n",
       "    <tr>\n",
       "      <th>18</th>\n",
       "      <td>Netherlands</td>\n",
       "      <td>8.8</td>\n",
       "      <td>Europa</td>\n",
       "      <td>6.258333</td>\n",
       "      <td>6.258333</td>\n",
       "    </tr>\n",
       "    <tr>\n",
       "      <th>19</th>\n",
       "      <td>Norway</td>\n",
       "      <td>8.6</td>\n",
       "      <td>Europa</td>\n",
       "      <td>6.258333</td>\n",
       "      <td>6.258333</td>\n",
       "    </tr>\n",
       "    <tr>\n",
       "      <th>20</th>\n",
       "      <td>Poland</td>\n",
       "      <td>5.3</td>\n",
       "      <td>Europa</td>\n",
       "      <td>6.258333</td>\n",
       "      <td>6.258333</td>\n",
       "    </tr>\n",
       "    <tr>\n",
       "      <th>21</th>\n",
       "      <td>Portugal</td>\n",
       "      <td>6.0</td>\n",
       "      <td>Europa</td>\n",
       "      <td>6.258333</td>\n",
       "      <td>6.258333</td>\n",
       "    </tr>\n",
       "    <tr>\n",
       "      <th>22</th>\n",
       "      <td>Romania</td>\n",
       "      <td>3.7</td>\n",
       "      <td>Europa</td>\n",
       "      <td>6.258333</td>\n",
       "      <td>6.258333</td>\n",
       "    </tr>\n",
       "    <tr>\n",
       "      <th>23</th>\n",
       "      <td>Russia</td>\n",
       "      <td>2.1</td>\n",
       "      <td>Europa</td>\n",
       "      <td>6.258333</td>\n",
       "      <td>6.258333</td>\n",
       "    </tr>\n",
       "    <tr>\n",
       "      <th>24</th>\n",
       "      <td>Serbia</td>\n",
       "      <td>3.5</td>\n",
       "      <td>Europa</td>\n",
       "      <td>6.258333</td>\n",
       "      <td>6.258333</td>\n",
       "    </tr>\n",
       "    <tr>\n",
       "      <th>25</th>\n",
       "      <td>Spain</td>\n",
       "      <td>6.1</td>\n",
       "      <td>Europa</td>\n",
       "      <td>6.258333</td>\n",
       "      <td>6.258333</td>\n",
       "    </tr>\n",
       "    <tr>\n",
       "      <th>26</th>\n",
       "      <td>Sweden</td>\n",
       "      <td>9.2</td>\n",
       "      <td>Europa</td>\n",
       "      <td>6.258333</td>\n",
       "      <td>6.258333</td>\n",
       "    </tr>\n",
       "    <tr>\n",
       "      <th>27</th>\n",
       "      <td>Switzerland</td>\n",
       "      <td>8.7</td>\n",
       "      <td>Europa</td>\n",
       "      <td>6.258333</td>\n",
       "      <td>6.258333</td>\n",
       "    </tr>\n",
       "    <tr>\n",
       "      <th>28</th>\n",
       "      <td>Turkey</td>\n",
       "      <td>4.4</td>\n",
       "      <td>Europa</td>\n",
       "      <td>6.258333</td>\n",
       "      <td>6.258333</td>\n",
       "    </tr>\n",
       "    <tr>\n",
       "      <th>29</th>\n",
       "      <td>Ukraine</td>\n",
       "      <td>2.4</td>\n",
       "      <td>Europa</td>\n",
       "      <td>6.258333</td>\n",
       "      <td>6.258333</td>\n",
       "    </tr>\n",
       "    <tr>\n",
       "      <th>30</th>\n",
       "      <td>United Kingdom</td>\n",
       "      <td>7.6</td>\n",
       "      <td>Europa</td>\n",
       "      <td>6.258333</td>\n",
       "      <td>6.258333</td>\n",
       "    </tr>\n",
       "    <tr>\n",
       "      <th>31</th>\n",
       "      <td>Canada</td>\n",
       "      <td>8.9</td>\n",
       "      <td>EUA e Canadá</td>\n",
       "      <td>8.000000</td>\n",
       "      <td>8.000000</td>\n",
       "    </tr>\n",
       "    <tr>\n",
       "      <th>32</th>\n",
       "      <td>United States</td>\n",
       "      <td>7.1</td>\n",
       "      <td>EUA e Canadá</td>\n",
       "      <td>8.000000</td>\n",
       "      <td>8.000000</td>\n",
       "    </tr>\n",
       "    <tr>\n",
       "      <th>33</th>\n",
       "      <td>China</td>\n",
       "      <td>2.5</td>\n",
       "      <td>Ásia</td>\n",
       "      <td>2.329412</td>\n",
       "      <td>2.329412</td>\n",
       "    </tr>\n",
       "    <tr>\n",
       "      <th>34</th>\n",
       "      <td>Egypt</td>\n",
       "      <td>2.1</td>\n",
       "      <td>Ásia</td>\n",
       "      <td>2.329412</td>\n",
       "      <td>2.329412</td>\n",
       "    </tr>\n",
       "    <tr>\n",
       "      <th>35</th>\n",
       "      <td>India</td>\n",
       "      <td>2.3</td>\n",
       "      <td>Ásia</td>\n",
       "      <td>2.329412</td>\n",
       "      <td>2.329412</td>\n",
       "    </tr>\n",
       "    <tr>\n",
       "      <th>36</th>\n",
       "      <td>Indonesia</td>\n",
       "      <td>1.8</td>\n",
       "      <td>Ásia</td>\n",
       "      <td>2.329412</td>\n",
       "      <td>2.329412</td>\n",
       "    </tr>\n",
       "    <tr>\n",
       "      <th>37</th>\n",
       "      <td>Kazakhstan</td>\n",
       "      <td>1.9</td>\n",
       "      <td>Ásia</td>\n",
       "      <td>2.329412</td>\n",
       "      <td>2.329412</td>\n",
       "    </tr>\n",
       "    <tr>\n",
       "      <th>38</th>\n",
       "      <td>Kuwait</td>\n",
       "      <td>2.8</td>\n",
       "      <td>Ásia</td>\n",
       "      <td>2.329412</td>\n",
       "      <td>2.329412</td>\n",
       "    </tr>\n",
       "    <tr>\n",
       "      <th>39</th>\n",
       "      <td>Lebanon</td>\n",
       "      <td>1.5</td>\n",
       "      <td>Ásia</td>\n",
       "      <td>2.329412</td>\n",
       "      <td>2.329412</td>\n",
       "    </tr>\n",
       "    <tr>\n",
       "      <th>40</th>\n",
       "      <td>Malaysia</td>\n",
       "      <td>3.4</td>\n",
       "      <td>Ásia</td>\n",
       "      <td>2.329412</td>\n",
       "      <td>2.329412</td>\n",
       "    </tr>\n",
       "    <tr>\n",
       "      <th>41</th>\n",
       "      <td>Oman</td>\n",
       "      <td>3.3</td>\n",
       "      <td>Ásia</td>\n",
       "      <td>2.329412</td>\n",
       "      <td>2.329412</td>\n",
       "    </tr>\n",
       "    <tr>\n",
       "      <th>42</th>\n",
       "      <td>Philippines</td>\n",
       "      <td>1.4</td>\n",
       "      <td>Ásia</td>\n",
       "      <td>2.329412</td>\n",
       "      <td>2.329412</td>\n",
       "    </tr>\n",
       "    <tr>\n",
       "      <th>43</th>\n",
       "      <td>Saudi Arabia</td>\n",
       "      <td>3.7</td>\n",
       "      <td>Ásia</td>\n",
       "      <td>2.329412</td>\n",
       "      <td>2.329412</td>\n",
       "    </tr>\n",
       "    <tr>\n",
       "      <th>44</th>\n",
       "      <td>South Africa</td>\n",
       "      <td>2.8</td>\n",
       "      <td>Ásia</td>\n",
       "      <td>2.329412</td>\n",
       "      <td>2.329412</td>\n",
       "    </tr>\n",
       "    <tr>\n",
       "      <th>45</th>\n",
       "      <td>Taiwan</td>\n",
       "      <td>3.8</td>\n",
       "      <td>Ásia</td>\n",
       "      <td>2.329412</td>\n",
       "      <td>2.329412</td>\n",
       "    </tr>\n",
       "    <tr>\n",
       "      <th>46</th>\n",
       "      <td>Thailand</td>\n",
       "      <td>2.5</td>\n",
       "      <td>Ásia</td>\n",
       "      <td>2.329412</td>\n",
       "      <td>2.329412</td>\n",
       "    </tr>\n",
       "    <tr>\n",
       "      <th>47</th>\n",
       "      <td>Jordan</td>\n",
       "      <td>2.0</td>\n",
       "      <td>Ásia</td>\n",
       "      <td>2.329412</td>\n",
       "      <td>2.329412</td>\n",
       "    </tr>\n",
       "    <tr>\n",
       "      <th>48</th>\n",
       "      <td>Syria</td>\n",
       "      <td>1.0</td>\n",
       "      <td>Ásia</td>\n",
       "      <td>2.329412</td>\n",
       "      <td>2.329412</td>\n",
       "    </tr>\n",
       "    <tr>\n",
       "      <th>49</th>\n",
       "      <td>Iraq</td>\n",
       "      <td>0.8</td>\n",
       "      <td>Ásia</td>\n",
       "      <td>2.329412</td>\n",
       "      <td>2.329412</td>\n",
       "    </tr>\n",
       "  </tbody>\n",
       "</table>\n",
       "</div>"
      ],
      "text/plain": [
       "              pais  cpi          regiao  cpi_mean   cpi_fit\n",
       "0        Argentina  3.9  América do Sul  4.180000  4.180000\n",
       "1           Brazil  4.0  América do Sul  4.180000  4.180000\n",
       "2            Chile  6.2  América do Sul  4.180000  4.180000\n",
       "3         Colombia  4.0  América do Sul  4.180000  4.180000\n",
       "4        Venezuela  2.8  América do Sul  4.180000  4.180000\n",
       "5        Australia  8.7         Oceania  9.000000  9.000000\n",
       "6      New Zealand  9.3         Oceania  9.000000  9.000000\n",
       "7          Austria  7.9          Europa  6.258333  6.258333\n",
       "8          Belgium  7.1          Europa  6.258333  6.258333\n",
       "9           Cyprus  6.3          Europa  6.258333  6.258333\n",
       "10      Czech Rep.  4.6          Europa  6.258333  6.258333\n",
       "11         Denmark  9.3          Europa  6.258333  6.258333\n",
       "12          France  6.8          Europa  6.258333  6.258333\n",
       "13         Germany  7.9          Europa  6.258333  6.258333\n",
       "14          Greece  3.5          Europa  6.258333  6.258333\n",
       "15         Iceland  8.5          Europa  6.258333  6.258333\n",
       "16         Ireland  8.0          Europa  6.258333  6.258333\n",
       "17           Italy  3.9          Europa  6.258333  6.258333\n",
       "18     Netherlands  8.8          Europa  6.258333  6.258333\n",
       "19          Norway  8.6          Europa  6.258333  6.258333\n",
       "20          Poland  5.3          Europa  6.258333  6.258333\n",
       "21        Portugal  6.0          Europa  6.258333  6.258333\n",
       "22         Romania  3.7          Europa  6.258333  6.258333\n",
       "23          Russia  2.1          Europa  6.258333  6.258333\n",
       "24          Serbia  3.5          Europa  6.258333  6.258333\n",
       "25           Spain  6.1          Europa  6.258333  6.258333\n",
       "26          Sweden  9.2          Europa  6.258333  6.258333\n",
       "27     Switzerland  8.7          Europa  6.258333  6.258333\n",
       "28          Turkey  4.4          Europa  6.258333  6.258333\n",
       "29         Ukraine  2.4          Europa  6.258333  6.258333\n",
       "30  United Kingdom  7.6          Europa  6.258333  6.258333\n",
       "31          Canada  8.9    EUA e Canadá  8.000000  8.000000\n",
       "32   United States  7.1    EUA e Canadá  8.000000  8.000000\n",
       "33           China  2.5            Ásia  2.329412  2.329412\n",
       "34           Egypt  2.1            Ásia  2.329412  2.329412\n",
       "35           India  2.3            Ásia  2.329412  2.329412\n",
       "36       Indonesia  1.8            Ásia  2.329412  2.329412\n",
       "37      Kazakhstan  1.9            Ásia  2.329412  2.329412\n",
       "38          Kuwait  2.8            Ásia  2.329412  2.329412\n",
       "39         Lebanon  1.5            Ásia  2.329412  2.329412\n",
       "40        Malaysia  3.4            Ásia  2.329412  2.329412\n",
       "41            Oman  3.3            Ásia  2.329412  2.329412\n",
       "42     Philippines  1.4            Ásia  2.329412  2.329412\n",
       "43    Saudi Arabia  3.7            Ásia  2.329412  2.329412\n",
       "44    South Africa  2.8            Ásia  2.329412  2.329412\n",
       "45          Taiwan  3.8            Ásia  2.329412  2.329412\n",
       "46        Thailand  2.5            Ásia  2.329412  2.329412\n",
       "47          Jordan  2.0            Ásia  2.329412  2.329412\n",
       "48           Syria  1.0            Ásia  2.329412  2.329412\n",
       "49            Iraq  0.8            Ásia  2.329412  2.329412"
      ]
     },
     "execution_count": 74,
     "metadata": {},
     "output_type": "execute_result"
    }
   ],
   "source": [
    "corrupcao['cpi_fit'] = modelo.fittedvalues\n",
    "corrupcao"
   ]
  },
  {
   "cell_type": "code",
   "execution_count": null,
   "id": "f7ab332f",
   "metadata": {},
   "outputs": [],
   "source": []
  }
 ],
 "metadata": {
  "kernelspec": {
   "display_name": "Python 3 (ipykernel)",
   "language": "python",
   "name": "python3"
  },
  "language_info": {
   "codemirror_mode": {
    "name": "ipython",
    "version": 3
   },
   "file_extension": ".py",
   "mimetype": "text/x-python",
   "name": "python",
   "nbconvert_exporter": "python",
   "pygments_lexer": "ipython3",
   "version": "3.9.13"
  }
 },
 "nbformat": 4,
 "nbformat_minor": 5
}
