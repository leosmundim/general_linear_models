{
 "cells": [
  {
   "cell_type": "code",
   "execution_count": 1,
   "id": "79769d77",
   "metadata": {},
   "outputs": [],
   "source": [
    "import pandas as pd\n",
    "import numpy as np\n",
    "import seaborn as sns\n",
    "import matplotlib.pyplot as plt\n",
    "import warnings\n",
    "warnings.filterwarnings('ignore')"
   ]
  },
  {
   "cell_type": "markdown",
   "id": "16b4b79a",
   "metadata": {},
   "source": [
    "# Modelo de Regressão Linear Simples\n",
    "\n",
    "Exmplo da aula do MBA DSA USP/ESALQ com Prof. Fávero e Belfiore"
   ]
  },
  {
   "cell_type": "code",
   "execution_count": 2,
   "id": "40bb1429",
   "metadata": {},
   "outputs": [
    {
     "data": {
      "text/html": [
       "<div>\n",
       "<style scoped>\n",
       "    .dataframe tbody tr th:only-of-type {\n",
       "        vertical-align: middle;\n",
       "    }\n",
       "\n",
       "    .dataframe tbody tr th {\n",
       "        vertical-align: top;\n",
       "    }\n",
       "\n",
       "    .dataframe thead th {\n",
       "        text-align: right;\n",
       "    }\n",
       "</style>\n",
       "<table border=\"1\" class=\"dataframe\">\n",
       "  <thead>\n",
       "    <tr style=\"text-align: right;\">\n",
       "      <th></th>\n",
       "      <th>tempo</th>\n",
       "      <th>distancia</th>\n",
       "    </tr>\n",
       "  </thead>\n",
       "  <tbody>\n",
       "    <tr>\n",
       "      <th>0</th>\n",
       "      <td>15</td>\n",
       "      <td>8</td>\n",
       "    </tr>\n",
       "    <tr>\n",
       "      <th>1</th>\n",
       "      <td>20</td>\n",
       "      <td>6</td>\n",
       "    </tr>\n",
       "    <tr>\n",
       "      <th>2</th>\n",
       "      <td>20</td>\n",
       "      <td>15</td>\n",
       "    </tr>\n",
       "    <tr>\n",
       "      <th>3</th>\n",
       "      <td>40</td>\n",
       "      <td>20</td>\n",
       "    </tr>\n",
       "    <tr>\n",
       "      <th>4</th>\n",
       "      <td>50</td>\n",
       "      <td>25</td>\n",
       "    </tr>\n",
       "    <tr>\n",
       "      <th>5</th>\n",
       "      <td>25</td>\n",
       "      <td>11</td>\n",
       "    </tr>\n",
       "    <tr>\n",
       "      <th>6</th>\n",
       "      <td>10</td>\n",
       "      <td>5</td>\n",
       "    </tr>\n",
       "    <tr>\n",
       "      <th>7</th>\n",
       "      <td>55</td>\n",
       "      <td>32</td>\n",
       "    </tr>\n",
       "    <tr>\n",
       "      <th>8</th>\n",
       "      <td>35</td>\n",
       "      <td>28</td>\n",
       "    </tr>\n",
       "    <tr>\n",
       "      <th>9</th>\n",
       "      <td>30</td>\n",
       "      <td>20</td>\n",
       "    </tr>\n",
       "  </tbody>\n",
       "</table>\n",
       "</div>"
      ],
      "text/plain": [
       "   tempo  distancia\n",
       "0     15          8\n",
       "1     20          6\n",
       "2     20         15\n",
       "3     40         20\n",
       "4     50         25\n",
       "5     25         11\n",
       "6     10          5\n",
       "7     55         32\n",
       "8     35         28\n",
       "9     30         20"
      ]
     },
     "execution_count": 2,
     "metadata": {},
     "output_type": "execute_result"
    }
   ],
   "source": [
    "#Importando base em R\n",
    "tempodist = pd.read_csv(r'bases\\tempodist.csv', sep=';')\n",
    "tempodist"
   ]
  },
  {
   "cell_type": "code",
   "execution_count": 3,
   "id": "8c40e137",
   "metadata": {},
   "outputs": [
    {
     "data": {
      "text/html": [
       "<div>\n",
       "<style scoped>\n",
       "    .dataframe tbody tr th:only-of-type {\n",
       "        vertical-align: middle;\n",
       "    }\n",
       "\n",
       "    .dataframe tbody tr th {\n",
       "        vertical-align: top;\n",
       "    }\n",
       "\n",
       "    .dataframe thead th {\n",
       "        text-align: right;\n",
       "    }\n",
       "</style>\n",
       "<table border=\"1\" class=\"dataframe\">\n",
       "  <thead>\n",
       "    <tr style=\"text-align: right;\">\n",
       "      <th></th>\n",
       "      <th>tempo</th>\n",
       "      <th>distancia</th>\n",
       "    </tr>\n",
       "  </thead>\n",
       "  <tbody>\n",
       "    <tr>\n",
       "      <th>count</th>\n",
       "      <td>10.00000</td>\n",
       "      <td>10.000000</td>\n",
       "    </tr>\n",
       "    <tr>\n",
       "      <th>mean</th>\n",
       "      <td>30.00000</td>\n",
       "      <td>17.000000</td>\n",
       "    </tr>\n",
       "    <tr>\n",
       "      <th>std</th>\n",
       "      <td>14.90712</td>\n",
       "      <td>9.510228</td>\n",
       "    </tr>\n",
       "    <tr>\n",
       "      <th>min</th>\n",
       "      <td>10.00000</td>\n",
       "      <td>5.000000</td>\n",
       "    </tr>\n",
       "    <tr>\n",
       "      <th>25%</th>\n",
       "      <td>20.00000</td>\n",
       "      <td>8.750000</td>\n",
       "    </tr>\n",
       "    <tr>\n",
       "      <th>50%</th>\n",
       "      <td>27.50000</td>\n",
       "      <td>17.500000</td>\n",
       "    </tr>\n",
       "    <tr>\n",
       "      <th>75%</th>\n",
       "      <td>38.75000</td>\n",
       "      <td>23.750000</td>\n",
       "    </tr>\n",
       "    <tr>\n",
       "      <th>max</th>\n",
       "      <td>55.00000</td>\n",
       "      <td>32.000000</td>\n",
       "    </tr>\n",
       "  </tbody>\n",
       "</table>\n",
       "</div>"
      ],
      "text/plain": [
       "          tempo  distancia\n",
       "count  10.00000  10.000000\n",
       "mean   30.00000  17.000000\n",
       "std    14.90712   9.510228\n",
       "min    10.00000   5.000000\n",
       "25%    20.00000   8.750000\n",
       "50%    27.50000  17.500000\n",
       "75%    38.75000  23.750000\n",
       "max    55.00000  32.000000"
      ]
     },
     "execution_count": 3,
     "metadata": {},
     "output_type": "execute_result"
    }
   ],
   "source": [
    "#Análise descritiva\n",
    "tempodist.describe()"
   ]
  },
  {
   "cell_type": "code",
   "execution_count": 4,
   "id": "1c345acd",
   "metadata": {},
   "outputs": [
    {
     "data": {
      "image/png": "[encoded data removed]",
      "text/plain": [
       "<Figure size 640x480 with 1 Axes>"
      ]
     },
     "metadata": {},
     "output_type": "display_data"
    }
   ],
   "source": [
    "#Gráfico de dispersão\n",
    "from scipy.stats import linregress\n",
    "\n",
    "beta, intercept, r_value, p_value, std_err = linregress(tempodist['distancia'], tempodist['tempo'])\n",
    "line = beta*np.array(tempodist['distancia']) + intercept\n",
    "\n",
    "plt.scatter(tempodist['distancia'], tempodist['tempo'])\n",
    "plt.plot(tempodist['distancia'], line, 'r', label='Fitted Values')\n",
    "plt.xlabel=('Distância')\n",
    "plt.ylabel=('Tempo')\n",
    "plt.legend()\n",
    "plt.show()"
   ]
  },
  {
   "cell_type": "code",
   "execution_count": 5,
   "id": "3bc95c83",
   "metadata": {},
   "outputs": [
    {
     "data": {
      "text/plain": [
       "0.8194256756756756"
      ]
     },
     "execution_count": 5,
     "metadata": {},
     "output_type": "execute_result"
    }
   ],
   "source": [
    "r_value**2"
   ]
  },
  {
   "cell_type": "markdown",
   "id": "83eada40",
   "metadata": {},
   "source": [
    "# Modelagem de uma Regressão Linear Simples"
   ]
  },
  {
   "cell_type": "code",
   "execution_count": 26,
   "id": "f89351b6",
   "metadata": {},
   "outputs": [],
   "source": [
    "#Estimando o modelo\n",
    "#https://www.statsmodels.org/dev/generated/statsmodels.regression.linear_model.OLS.html#statsmodels.regression.linear_model.OLS\n",
    "import statsmodels.api as sm\n",
    "\n",
    "modelo = sm.OLS.from_formula(formula = 'tempo~distancia', data=tempodist).fit()"
   ]
  },
  {
   "cell_type": "code",
   "execution_count": 27,
   "id": "0ffb59d5",
   "metadata": {},
   "outputs": [
    {
     "data": {
      "text/html": [
       "<table class=\"simpletable\">\n",
       "<caption>OLS Regression Results</caption>\n",
       "<tr>\n",
       "  <th>Dep. Variable:</th>          <td>tempo</td>      <th>  R-squared:         </th> <td>   0.819</td>\n",
       "</tr>\n",
       "<tr>\n",
       "  <th>Model:</th>                   <td>OLS</td>       <th>  Adj. R-squared:    </th> <td>   0.797</td>\n",
       "</tr>\n",
       "<tr>\n",
       "  <th>Method:</th>             <td>Least Squares</td>  <th>  F-statistic:       </th> <td>   36.30</td>\n",
       "</tr>\n",
       "<tr>\n",
       "  <th>Date:</th>             <td>Thu, 09 Feb 2023</td> <th>  Prob (F-statistic):</th> <td>0.000314</td>\n",
       "</tr>\n",
       "<tr>\n",
       "  <th>Time:</th>                 <td>20:26:45</td>     <th>  Log-Likelihood:    </th> <td> -32.123</td>\n",
       "</tr>\n",
       "<tr>\n",
       "  <th>No. Observations:</th>      <td>    10</td>      <th>  AIC:               </th> <td>   68.25</td>\n",
       "</tr>\n",
       "<tr>\n",
       "  <th>Df Residuals:</th>          <td>     8</td>      <th>  BIC:               </th> <td>   68.85</td>\n",
       "</tr>\n",
       "<tr>\n",
       "  <th>Df Model:</th>              <td>     1</td>      <th>                     </th>     <td> </td>   \n",
       "</tr>\n",
       "<tr>\n",
       "  <th>Covariance Type:</th>      <td>nonrobust</td>    <th>                     </th>     <td> </td>   \n",
       "</tr>\n",
       "</table>\n",
       "<table class=\"simpletable\">\n",
       "<tr>\n",
       "      <td></td>         <th>coef</th>     <th>std err</th>      <th>t</th>      <th>P>|t|</th>  <th>[0.025</th>    <th>0.975]</th>  \n",
       "</tr>\n",
       "<tr>\n",
       "  <th>Intercept</th> <td>    5.8784</td> <td>    4.532</td> <td>    1.297</td> <td> 0.231</td> <td>   -4.573</td> <td>   16.330</td>\n",
       "</tr>\n",
       "<tr>\n",
       "  <th>distancia</th> <td>    1.4189</td> <td>    0.235</td> <td>    6.025</td> <td> 0.000</td> <td>    0.876</td> <td>    1.962</td>\n",
       "</tr>\n",
       "</table>\n",
       "<table class=\"simpletable\">\n",
       "<tr>\n",
       "  <th>Omnibus:</th>       <td> 1.016</td> <th>  Durbin-Watson:     </th> <td>   2.099</td>\n",
       "</tr>\n",
       "<tr>\n",
       "  <th>Prob(Omnibus):</th> <td> 0.602</td> <th>  Jarque-Bera (JB):  </th> <td>   0.694</td>\n",
       "</tr>\n",
       "<tr>\n",
       "  <th>Skew:</th>          <td>-0.262</td> <th>  Prob(JB):          </th> <td>   0.707</td>\n",
       "</tr>\n",
       "<tr>\n",
       "  <th>Kurtosis:</th>      <td> 1.820</td> <th>  Cond. No.          </th> <td>    41.1</td>\n",
       "</tr>\n",
       "</table><br/><br/>Notes:<br/>[1] Standard Errors assume that the covariance matrix of the errors is correctly specified."
      ],
      "text/plain": [
       "<class 'statsmodels.iolib.summary.Summary'>\n",
       "\"\"\"\n",
       "                            OLS Regression Results                            \n",
       "==============================================================================\n",
       "Dep. Variable:                  tempo   R-squared:                       0.819\n",
       "Model:                            OLS   Adj. R-squared:                  0.797\n",
       "Method:                 Least Squares   F-statistic:                     36.30\n",
       "Date:                Thu, 09 Feb 2023   Prob (F-statistic):           0.000314\n",
       "Time:                        20:26:45   Log-Likelihood:                -32.123\n",
       "No. Observations:                  10   AIC:                             68.25\n",
       "Df Residuals:                       8   BIC:                             68.85\n",
       "Df Model:                           1                                         \n",
       "Covariance Type:            nonrobust                                         \n",
       "==============================================================================\n",
       "                 coef    std err          t      P>|t|      [0.025      0.975]\n",
       "------------------------------------------------------------------------------\n",
       "Intercept      5.8784      4.532      1.297      0.231      -4.573      16.330\n",
       "distancia      1.4189      0.235      6.025      0.000       0.876       1.962\n",
       "==============================================================================\n",
       "Omnibus:                        1.016   Durbin-Watson:                   2.099\n",
       "Prob(Omnibus):                  0.602   Jarque-Bera (JB):                0.694\n",
       "Skew:                          -0.262   Prob(JB):                        0.707\n",
       "Kurtosis:                       1.820   Cond. No.                         41.1\n",
       "==============================================================================\n",
       "\n",
       "Notes:\n",
       "[1] Standard Errors assume that the covariance matrix of the errors is correctly specified.\n",
       "\"\"\""
      ]
     },
     "execution_count": 27,
     "metadata": {},
     "output_type": "execute_result"
    }
   ],
   "source": [
    "modelo.summary()"
   ]
  },
  {
   "cell_type": "code",
   "execution_count": 8,
   "id": "39ababa8",
   "metadata": {},
   "outputs": [
    {
     "data": {
      "text/html": [
       "<div>\n",
       "<style scoped>\n",
       "    .dataframe tbody tr th:only-of-type {\n",
       "        vertical-align: middle;\n",
       "    }\n",
       "\n",
       "    .dataframe tbody tr th {\n",
       "        vertical-align: top;\n",
       "    }\n",
       "\n",
       "    .dataframe thead th {\n",
       "        text-align: right;\n",
       "    }\n",
       "</style>\n",
       "<table border=\"1\" class=\"dataframe\">\n",
       "  <thead>\n",
       "    <tr style=\"text-align: right;\">\n",
       "      <th></th>\n",
       "      <th>tempo</th>\n",
       "      <th>distancia</th>\n",
       "      <th>yhat</th>\n",
       "      <th>erro</th>\n",
       "    </tr>\n",
       "  </thead>\n",
       "  <tbody>\n",
       "    <tr>\n",
       "      <th>0</th>\n",
       "      <td>15</td>\n",
       "      <td>8</td>\n",
       "      <td>17.229730</td>\n",
       "      <td>-2.229730</td>\n",
       "    </tr>\n",
       "    <tr>\n",
       "      <th>1</th>\n",
       "      <td>20</td>\n",
       "      <td>6</td>\n",
       "      <td>14.391892</td>\n",
       "      <td>5.608108</td>\n",
       "    </tr>\n",
       "    <tr>\n",
       "      <th>2</th>\n",
       "      <td>20</td>\n",
       "      <td>15</td>\n",
       "      <td>27.162162</td>\n",
       "      <td>-7.162162</td>\n",
       "    </tr>\n",
       "    <tr>\n",
       "      <th>3</th>\n",
       "      <td>40</td>\n",
       "      <td>20</td>\n",
       "      <td>34.256757</td>\n",
       "      <td>5.743243</td>\n",
       "    </tr>\n",
       "    <tr>\n",
       "      <th>4</th>\n",
       "      <td>50</td>\n",
       "      <td>25</td>\n",
       "      <td>41.351351</td>\n",
       "      <td>8.648649</td>\n",
       "    </tr>\n",
       "    <tr>\n",
       "      <th>5</th>\n",
       "      <td>25</td>\n",
       "      <td>11</td>\n",
       "      <td>21.486486</td>\n",
       "      <td>3.513514</td>\n",
       "    </tr>\n",
       "    <tr>\n",
       "      <th>6</th>\n",
       "      <td>10</td>\n",
       "      <td>5</td>\n",
       "      <td>12.972973</td>\n",
       "      <td>-2.972973</td>\n",
       "    </tr>\n",
       "    <tr>\n",
       "      <th>7</th>\n",
       "      <td>55</td>\n",
       "      <td>32</td>\n",
       "      <td>51.283784</td>\n",
       "      <td>3.716216</td>\n",
       "    </tr>\n",
       "    <tr>\n",
       "      <th>8</th>\n",
       "      <td>35</td>\n",
       "      <td>28</td>\n",
       "      <td>45.608108</td>\n",
       "      <td>-10.608108</td>\n",
       "    </tr>\n",
       "    <tr>\n",
       "      <th>9</th>\n",
       "      <td>30</td>\n",
       "      <td>20</td>\n",
       "      <td>34.256757</td>\n",
       "      <td>-4.256757</td>\n",
       "    </tr>\n",
       "  </tbody>\n",
       "</table>\n",
       "</div>"
      ],
      "text/plain": [
       "   tempo  distancia       yhat       erro\n",
       "0     15          8  17.229730  -2.229730\n",
       "1     20          6  14.391892   5.608108\n",
       "2     20         15  27.162162  -7.162162\n",
       "3     40         20  34.256757   5.743243\n",
       "4     50         25  41.351351   8.648649\n",
       "5     25         11  21.486486   3.513514\n",
       "6     10          5  12.972973  -2.972973\n",
       "7     55         32  51.283784   3.716216\n",
       "8     35         28  45.608108 -10.608108\n",
       "9     30         20  34.256757  -4.256757"
      ]
     },
     "execution_count": 8,
     "metadata": {},
     "output_type": "execute_result"
    }
   ],
   "source": [
    "# Incluindo os valores Y chapeu (yhat) e erros na base\n",
    "tempodist['yhat'] = ols.predict()\n",
    "tempodist['erro'] = ols.resid\n",
    "tempodist"
   ]
  },
  {
   "cell_type": "code",
   "execution_count": 9,
   "id": "dff08226",
   "metadata": {},
   "outputs": [
    {
     "data": {
      "text/plain": [
       "0.8194"
      ]
     },
     "execution_count": 9,
     "metadata": {},
     "output_type": "execute_result"
    }
   ],
   "source": [
    "# Cálculo do R2\n",
    "\n",
    "r2 = (sum((tempodist['yhat'] - tempodist['tempo'].mean())**2))/((sum((tempodist['yhat'] - tempodist['tempo'].mean())**2)) + (sum((tempodist['erro'])**2)))\n",
    "round(r2,4)"
   ]
  },
  {
   "cell_type": "markdown",
   "id": "f76100eb",
   "metadata": {},
   "source": [
    "## Coeficiente de Ajuste (R2)\n",
    "\n",
    "Indica o quão disperso a nuvem de pontos está da reta prevista pelo modelo, ou seja, o quanto Y está próximo do Y hat (previsto)"
   ]
  },
  {
   "cell_type": "code",
   "execution_count": 10,
   "id": "0367ad67",
   "metadata": {},
   "outputs": [
    {
     "data": {
      "text/html": [
       "<div>\n",
       "<style scoped>\n",
       "    .dataframe tbody tr th:only-of-type {\n",
       "        vertical-align: middle;\n",
       "    }\n",
       "\n",
       "    .dataframe tbody tr th {\n",
       "        vertical-align: top;\n",
       "    }\n",
       "\n",
       "    .dataframe thead th {\n",
       "        text-align: right;\n",
       "    }\n",
       "</style>\n",
       "<table border=\"1\" class=\"dataframe\">\n",
       "  <thead>\n",
       "    <tr style=\"text-align: right;\">\n",
       "      <th></th>\n",
       "      <th>tempo</th>\n",
       "      <th>distancia</th>\n",
       "    </tr>\n",
       "  </thead>\n",
       "  <tbody>\n",
       "    <tr>\n",
       "      <th>tempo</th>\n",
       "      <td>1.000000</td>\n",
       "      <td>0.905221</td>\n",
       "    </tr>\n",
       "    <tr>\n",
       "      <th>distancia</th>\n",
       "      <td>0.905221</td>\n",
       "      <td>1.000000</td>\n",
       "    </tr>\n",
       "  </tbody>\n",
       "</table>\n",
       "</div>"
      ],
      "text/plain": [
       "              tempo  distancia\n",
       "tempo      1.000000   0.905221\n",
       "distancia  0.905221   1.000000"
      ]
     },
     "execution_count": 10,
     "metadata": {},
     "output_type": "execute_result"
    }
   ],
   "source": [
    "# coeficiente de ajuste (R2) é a correlação ao quadrado\n",
    "tempodist.iloc[:,:2].corr()"
   ]
  },
  {
   "cell_type": "code",
   "execution_count": 11,
   "id": "95901b5c",
   "metadata": {},
   "outputs": [
    {
     "data": {
      "text/html": [
       "<div>\n",
       "<style scoped>\n",
       "    .dataframe tbody tr th:only-of-type {\n",
       "        vertical-align: middle;\n",
       "    }\n",
       "\n",
       "    .dataframe tbody tr th {\n",
       "        vertical-align: top;\n",
       "    }\n",
       "\n",
       "    .dataframe thead th {\n",
       "        text-align: right;\n",
       "    }\n",
       "</style>\n",
       "<table border=\"1\" class=\"dataframe\">\n",
       "  <thead>\n",
       "    <tr style=\"text-align: right;\">\n",
       "      <th></th>\n",
       "      <th>tempo</th>\n",
       "      <th>distancia</th>\n",
       "    </tr>\n",
       "  </thead>\n",
       "  <tbody>\n",
       "    <tr>\n",
       "      <th>tempo</th>\n",
       "      <td>1.000000</td>\n",
       "      <td>0.819426</td>\n",
       "    </tr>\n",
       "    <tr>\n",
       "      <th>distancia</th>\n",
       "      <td>0.819426</td>\n",
       "      <td>1.000000</td>\n",
       "    </tr>\n",
       "  </tbody>\n",
       "</table>\n",
       "</div>"
      ],
      "text/plain": [
       "              tempo  distancia\n",
       "tempo      1.000000   0.819426\n",
       "distancia  0.819426   1.000000"
      ]
     },
     "execution_count": 11,
     "metadata": {},
     "output_type": "execute_result"
    }
   ],
   "source": [
    "tempodist.iloc[:,:2].corr()**2"
   ]
  },
  {
   "cell_type": "markdown",
   "id": "67d54379",
   "metadata": {},
   "source": [
    "Exemplo para demosntrar quando R2 é 100%. <br>\n",
    "Gerar a Y chapeu em função da distância."
   ]
  },
  {
   "cell_type": "code",
   "execution_count": 12,
   "id": "26fba538",
   "metadata": {},
   "outputs": [],
   "source": [
    "modelo_auxiliar = sm.OLS.from_formula(formula='yhat~distancia', data=tempodist).fit()"
   ]
  },
  {
   "cell_type": "code",
   "execution_count": 13,
   "id": "4c7ca34e",
   "metadata": {},
   "outputs": [
    {
     "data": {
      "text/html": [
       "<table class=\"simpletable\">\n",
       "<caption>OLS Regression Results</caption>\n",
       "<tr>\n",
       "  <th>Dep. Variable:</th>          <td>yhat</td>       <th>  R-squared:         </th> <td>   1.000</td> \n",
       "</tr>\n",
       "<tr>\n",
       "  <th>Model:</th>                   <td>OLS</td>       <th>  Adj. R-squared:    </th> <td>   1.000</td> \n",
       "</tr>\n",
       "<tr>\n",
       "  <th>Method:</th>             <td>Least Squares</td>  <th>  F-statistic:       </th> <td>4.669e+31</td>\n",
       "</tr>\n",
       "<tr>\n",
       "  <th>Date:</th>             <td>Thu, 09 Feb 2023</td> <th>  Prob (F-statistic):</th> <td>2.36e-124</td>\n",
       "</tr>\n",
       "<tr>\n",
       "  <th>Time:</th>                 <td>19:37:40</td>     <th>  Log-Likelihood:    </th> <td>  314.52</td> \n",
       "</tr>\n",
       "<tr>\n",
       "  <th>No. Observations:</th>      <td>    10</td>      <th>  AIC:               </th> <td>  -625.0</td> \n",
       "</tr>\n",
       "<tr>\n",
       "  <th>Df Residuals:</th>          <td>     8</td>      <th>  BIC:               </th> <td>  -624.4</td> \n",
       "</tr>\n",
       "<tr>\n",
       "  <th>Df Model:</th>              <td>     1</td>      <th>                     </th>     <td> </td>    \n",
       "</tr>\n",
       "<tr>\n",
       "  <th>Covariance Type:</th>      <td>nonrobust</td>    <th>                     </th>     <td> </td>    \n",
       "</tr>\n",
       "</table>\n",
       "<table class=\"simpletable\">\n",
       "<tr>\n",
       "      <td></td>         <th>coef</th>     <th>std err</th>      <th>t</th>      <th>P>|t|</th>  <th>[0.025</th>    <th>0.975]</th>  \n",
       "</tr>\n",
       "<tr>\n",
       "  <th>Intercept</th> <td>    5.8784</td> <td>    4e-15</td> <td> 1.47e+15</td> <td> 0.000</td> <td>    5.878</td> <td>    5.878</td>\n",
       "</tr>\n",
       "<tr>\n",
       "  <th>distancia</th> <td>    1.4189</td> <td> 2.08e-16</td> <td> 6.83e+15</td> <td> 0.000</td> <td>    1.419</td> <td>    1.419</td>\n",
       "</tr>\n",
       "</table>\n",
       "<table class=\"simpletable\">\n",
       "<tr>\n",
       "  <th>Omnibus:</th>       <td> 9.461</td> <th>  Durbin-Watson:     </th> <td>   0.652</td>\n",
       "</tr>\n",
       "<tr>\n",
       "  <th>Prob(Omnibus):</th> <td> 0.009</td> <th>  Jarque-Bera (JB):  </th> <td>   1.523</td>\n",
       "</tr>\n",
       "<tr>\n",
       "  <th>Skew:</th>          <td> 0.058</td> <th>  Prob(JB):          </th> <td>   0.467</td>\n",
       "</tr>\n",
       "<tr>\n",
       "  <th>Kurtosis:</th>      <td> 1.092</td> <th>  Cond. No.          </th> <td>    41.1</td>\n",
       "</tr>\n",
       "</table><br/><br/>Notes:<br/>[1] Standard Errors assume that the covariance matrix of the errors is correctly specified."
      ],
      "text/plain": [
       "<class 'statsmodels.iolib.summary.Summary'>\n",
       "\"\"\"\n",
       "                            OLS Regression Results                            \n",
       "==============================================================================\n",
       "Dep. Variable:                   yhat   R-squared:                       1.000\n",
       "Model:                            OLS   Adj. R-squared:                  1.000\n",
       "Method:                 Least Squares   F-statistic:                 4.669e+31\n",
       "Date:                Thu, 09 Feb 2023   Prob (F-statistic):          2.36e-124\n",
       "Time:                        19:37:40   Log-Likelihood:                 314.52\n",
       "No. Observations:                  10   AIC:                            -625.0\n",
       "Df Residuals:                       8   BIC:                            -624.4\n",
       "Df Model:                           1                                         \n",
       "Covariance Type:            nonrobust                                         \n",
       "==============================================================================\n",
       "                 coef    std err          t      P>|t|      [0.025      0.975]\n",
       "------------------------------------------------------------------------------\n",
       "Intercept      5.8784      4e-15   1.47e+15      0.000       5.878       5.878\n",
       "distancia      1.4189   2.08e-16   6.83e+15      0.000       1.419       1.419\n",
       "==============================================================================\n",
       "Omnibus:                        9.461   Durbin-Watson:                   0.652\n",
       "Prob(Omnibus):                  0.009   Jarque-Bera (JB):                1.523\n",
       "Skew:                           0.058   Prob(JB):                        0.467\n",
       "Kurtosis:                       1.092   Cond. No.                         41.1\n",
       "==============================================================================\n",
       "\n",
       "Notes:\n",
       "[1] Standard Errors assume that the covariance matrix of the errors is correctly specified.\n",
       "\"\"\""
      ]
     },
     "execution_count": 13,
     "metadata": {},
     "output_type": "execute_result"
    }
   ],
   "source": [
    "modelo_auxiliar.summary()"
   ]
  },
  {
   "cell_type": "code",
   "execution_count": 14,
   "id": "b6bd6660",
   "metadata": {},
   "outputs": [
    {
     "data": {
      "image/png": "[encoded data removed]",
      "text/plain": [
       "<Figure size 640x480 with 1 Axes>"
      ]
     },
     "metadata": {},
     "output_type": "display_data"
    }
   ],
   "source": [
    "# Gráfico mostrando o perfect fit\n",
    "\n",
    "beta, intercept, r_value, p_value, std_err = linregress(tempodist['distancia'], tempodist['yhat'])\n",
    "line = beta*np.array(tempodist['distancia']) + intercept\n",
    "\n",
    "plt.scatter(tempodist['distancia'], tempodist['yhat'])\n",
    "plt.plot(tempodist['distancia'], line, 'r', label='Fitted Values')\n",
    "plt.xlabel=('Distância')\n",
    "plt.ylabel=('yhat')\n",
    "plt.legend()\n",
    "plt.show()"
   ]
  },
  {
   "cell_type": "markdown",
   "id": "f990d245",
   "metadata": {},
   "source": [
    "# Significância Estatística do Modelo"
   ]
  },
  {
   "cell_type": "markdown",
   "id": "387cdd93",
   "metadata": {},
   "source": [
    "O fato do R2 ser baixo, não significa que o modelo seja inviável. <br>\n",
    "Significa que a capacidade preditiva do modelo é baixa mas ainda sim tem modelo<br>\n",
    "\n",
    "<b>Teste F</b>\n",
    "\n",
    "Verifica a significância global do modelo.\n",
    "\n",
    "Caso o a prob (F-statistica) seja < 0,05 , rejeita H0.\n",
    "\n",
    "> H0: Beta1, Beta2, Beta3, BetaK = 0\n",
    "> H1: Pelo menos um Beta é diferente de 0\n",
    "\n",
    "\n",
    "<b>Test t-student</b>\n",
    "\n",
    "Analisa se cada um dos parâmetros, individualmente, é estatisticamente diferente de zero.\n",
    "\n",
    "> H0: Beta = 0\n",
    "> H1: beta diferente de 0\n",
    "\n",
    "<b>\n",
    "Nunca remover o alpha mesmo quando a P(t) for mair que 0,05. <br>\n",
    "Alpha (intercept) com P(t) > 0,05 indica baixa quantidade de amostas <br></b>\n"
   ]
  },
  {
   "cell_type": "code",
   "execution_count": 28,
   "id": "b8dff95d",
   "metadata": {},
   "outputs": [
    {
     "data": {
      "text/html": [
       "<table class=\"simpletable\">\n",
       "<caption>OLS Regression Results</caption>\n",
       "<tr>\n",
       "  <th>Dep. Variable:</th>          <td>tempo</td>      <th>  R-squared:         </th> <td>   0.819</td>\n",
       "</tr>\n",
       "<tr>\n",
       "  <th>Model:</th>                   <td>OLS</td>       <th>  Adj. R-squared:    </th> <td>   0.797</td>\n",
       "</tr>\n",
       "<tr>\n",
       "  <th>Method:</th>             <td>Least Squares</td>  <th>  F-statistic:       </th> <td>   36.30</td>\n",
       "</tr>\n",
       "<tr>\n",
       "  <th>Date:</th>             <td>Thu, 09 Feb 2023</td> <th>  Prob (F-statistic):</th> <td>0.000314</td>\n",
       "</tr>\n",
       "<tr>\n",
       "  <th>Time:</th>                 <td>20:26:59</td>     <th>  Log-Likelihood:    </th> <td> -32.123</td>\n",
       "</tr>\n",
       "<tr>\n",
       "  <th>No. Observations:</th>      <td>    10</td>      <th>  AIC:               </th> <td>   68.25</td>\n",
       "</tr>\n",
       "<tr>\n",
       "  <th>Df Residuals:</th>          <td>     8</td>      <th>  BIC:               </th> <td>   68.85</td>\n",
       "</tr>\n",
       "<tr>\n",
       "  <th>Df Model:</th>              <td>     1</td>      <th>                     </th>     <td> </td>   \n",
       "</tr>\n",
       "<tr>\n",
       "  <th>Covariance Type:</th>      <td>nonrobust</td>    <th>                     </th>     <td> </td>   \n",
       "</tr>\n",
       "</table>\n",
       "<table class=\"simpletable\">\n",
       "<tr>\n",
       "      <td></td>         <th>coef</th>     <th>std err</th>      <th>t</th>      <th>P>|t|</th>  <th>[0.025</th>    <th>0.975]</th>  \n",
       "</tr>\n",
       "<tr>\n",
       "  <th>Intercept</th> <td>    5.8784</td> <td>    4.532</td> <td>    1.297</td> <td> 0.231</td> <td>   -4.573</td> <td>   16.330</td>\n",
       "</tr>\n",
       "<tr>\n",
       "  <th>distancia</th> <td>    1.4189</td> <td>    0.235</td> <td>    6.025</td> <td> 0.000</td> <td>    0.876</td> <td>    1.962</td>\n",
       "</tr>\n",
       "</table>\n",
       "<table class=\"simpletable\">\n",
       "<tr>\n",
       "  <th>Omnibus:</th>       <td> 1.016</td> <th>  Durbin-Watson:     </th> <td>   2.099</td>\n",
       "</tr>\n",
       "<tr>\n",
       "  <th>Prob(Omnibus):</th> <td> 0.602</td> <th>  Jarque-Bera (JB):  </th> <td>   0.694</td>\n",
       "</tr>\n",
       "<tr>\n",
       "  <th>Skew:</th>          <td>-0.262</td> <th>  Prob(JB):          </th> <td>   0.707</td>\n",
       "</tr>\n",
       "<tr>\n",
       "  <th>Kurtosis:</th>      <td> 1.820</td> <th>  Cond. No.          </th> <td>    41.1</td>\n",
       "</tr>\n",
       "</table><br/><br/>Notes:<br/>[1] Standard Errors assume that the covariance matrix of the errors is correctly specified."
      ],
      "text/plain": [
       "<class 'statsmodels.iolib.summary.Summary'>\n",
       "\"\"\"\n",
       "                            OLS Regression Results                            \n",
       "==============================================================================\n",
       "Dep. Variable:                  tempo   R-squared:                       0.819\n",
       "Model:                            OLS   Adj. R-squared:                  0.797\n",
       "Method:                 Least Squares   F-statistic:                     36.30\n",
       "Date:                Thu, 09 Feb 2023   Prob (F-statistic):           0.000314\n",
       "Time:                        20:26:59   Log-Likelihood:                -32.123\n",
       "No. Observations:                  10   AIC:                             68.25\n",
       "Df Residuals:                       8   BIC:                             68.85\n",
       "Df Model:                           1                                         \n",
       "Covariance Type:            nonrobust                                         \n",
       "==============================================================================\n",
       "                 coef    std err          t      P>|t|      [0.025      0.975]\n",
       "------------------------------------------------------------------------------\n",
       "Intercept      5.8784      4.532      1.297      0.231      -4.573      16.330\n",
       "distancia      1.4189      0.235      6.025      0.000       0.876       1.962\n",
       "==============================================================================\n",
       "Omnibus:                        1.016   Durbin-Watson:                   2.099\n",
       "Prob(Omnibus):                  0.602   Jarque-Bera (JB):                0.694\n",
       "Skew:                          -0.262   Prob(JB):                        0.707\n",
       "Kurtosis:                       1.820   Cond. No.                         41.1\n",
       "==============================================================================\n",
       "\n",
       "Notes:\n",
       "[1] Standard Errors assume that the covariance matrix of the errors is correctly specified.\n",
       "\"\"\""
      ]
     },
     "execution_count": 28,
     "metadata": {},
     "output_type": "execute_result"
    }
   ],
   "source": [
    "modelo.summary()"
   ]
  },
  {
   "cell_type": "markdown",
   "id": "d58291fc",
   "metadata": {},
   "source": [
    "Analisando o ANOVA\n",
    "\n",
    "Temos 1 variável X; <br>\n",
    "Temos 2 parâmetros: alpha e beta; <br>\n",
    "Podemos incluir mais 8 variáveis X para que o modelo seja estimável do ponto de vista economêtrico. <br>\n",
    "Pois, como temos 10 observações, podemos ter no máximo 9 variáveis X."
   ]
  },
  {
   "cell_type": "code",
   "execution_count": 22,
   "id": "aa2269b2",
   "metadata": {},
   "outputs": [
    {
     "data": {
      "text/html": [
       "<div>\n",
       "<style scoped>\n",
       "    .dataframe tbody tr th:only-of-type {\n",
       "        vertical-align: middle;\n",
       "    }\n",
       "\n",
       "    .dataframe tbody tr th {\n",
       "        vertical-align: top;\n",
       "    }\n",
       "\n",
       "    .dataframe thead th {\n",
       "        text-align: right;\n",
       "    }\n",
       "</style>\n",
       "<table border=\"1\" class=\"dataframe\">\n",
       "  <thead>\n",
       "    <tr style=\"text-align: right;\">\n",
       "      <th></th>\n",
       "      <th>df</th>\n",
       "      <th>sum_sq</th>\n",
       "      <th>mean_sq</th>\n",
       "      <th>F</th>\n",
       "      <th>PR(&gt;F)</th>\n",
       "    </tr>\n",
       "  </thead>\n",
       "  <tbody>\n",
       "    <tr>\n",
       "      <th>distancia</th>\n",
       "      <td>1.0</td>\n",
       "      <td>1638.851351</td>\n",
       "      <td>1638.851351</td>\n",
       "      <td>36.303087</td>\n",
       "      <td>0.000314</td>\n",
       "    </tr>\n",
       "    <tr>\n",
       "      <th>Residual</th>\n",
       "      <td>8.0</td>\n",
       "      <td>361.148649</td>\n",
       "      <td>45.143581</td>\n",
       "      <td>NaN</td>\n",
       "      <td>NaN</td>\n",
       "    </tr>\n",
       "  </tbody>\n",
       "</table>\n",
       "</div>"
      ],
      "text/plain": [
       "            df       sum_sq      mean_sq          F    PR(>F)\n",
       "distancia  1.0  1638.851351  1638.851351  36.303087  0.000314\n",
       "Residual   8.0   361.148649    45.143581        NaN       NaN"
      ]
     },
     "execution_count": 22,
     "metadata": {},
     "output_type": "execute_result"
    }
   ],
   "source": [
    "# Referência: https://www.reneshbedre.com/blog/anova.html\n",
    "from bioinfokit.analys import stat\n",
    "\n",
    "# ANOVA da variável 'matematica'\n",
    "res = stat()\n",
    "res.anova_stat(df=tempodist, res_var='tempo', anova_model='tempo ~ distancia')\n",
    "res.anova_summary"
   ]
  },
  {
   "cell_type": "code",
   "execution_count": 25,
   "id": "04996610",
   "metadata": {},
   "outputs": [
    {
     "data": {
      "text/plain": [
       "36.303087"
      ]
     },
     "execution_count": 25,
     "metadata": {},
     "output_type": "execute_result"
    }
   ],
   "source": [
    "#Cálculo da Estatística F\n",
    "\n",
    "round((1638.851351/1)/(361.148649/8), 6)"
   ]
  },
  {
   "cell_type": "code",
   "execution_count": null,
   "id": "566b1d67",
   "metadata": {},
   "outputs": [],
   "source": []
  }
 ],
 "metadata": {
  "kernelspec": {
   "display_name": "Python 3 (ipykernel)",
   "language": "python",
   "name": "python3"
  },
  "language_info": {
   "codemirror_mode": {
    "name": "ipython",
    "version": 3
   },
   "file_extension": ".py",
   "mimetype": "text/x-python",
   "name": "python",
   "nbconvert_exporter": "python",
   "pygments_lexer": "ipython3",
   "version": "3.9.13"
  }
 },
 "nbformat": 4,
 "nbformat_minor": 5
}
