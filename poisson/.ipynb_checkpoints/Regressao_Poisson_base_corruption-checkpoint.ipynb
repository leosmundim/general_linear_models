{
 "cells": [
  {
   "cell_type": "code",
   "execution_count": 1,
   "id": "d7f44684",
   "metadata": {},
   "outputs": [],
   "source": [
    "import pandas as pd\n",
    "import numpy as np\n",
    "import matplotlib as plt\n",
    "import seaborn as sns"
   ]
  },
  {
   "cell_type": "markdown",
   "id": "68ae5c79",
   "metadata": {},
   "source": [
    "# Regressão para Dados de Contagem\n",
    "## Distribuição de Poisson e Binomial Negativa\n",
    "\n",
    "Exmplo da aula do MBA DSA USP/ESALQ com Prof. Luiz Fávero\n",
    "\n",
    "\n",
    "### Objetivo\n",
    "\n",
    "Analisar o comportamento de uma variável depedente em função de variáveis preditoras.<br>\n",
    "\n",
    "Características da variável Dependente:\n",
    "\n",
    "- **Quantitiva**\n",
    "- **Valores discretos**\n",
    "- **Não negativos**\n",
    "- **Exposição** <br>(ex.: taxa de chegada de clientes por hora / qtd de filhos por casal / qtd de apartamentos à venda por m2)\n",
    "    - A exposição dá a forma funcional da função densidade de probabilidade.\n",
    "    - Fazer estudo sobre a existência de superdispersão para optar entre a Distribuição de Poisson ou Binomial Negativa\n",
    "\n",
    "### Contexto\n",
    "\n",
    "Fisman, R.; Miguel, E. Corruption, Norms, and Legal Enforcement:<br>\n",
    "Evidence from Diplomatic Parking Tickets.<br>\n",
    "Journal of Political Economy, v. 15, n. 6, p. 1020-1048, 2007.<br>\n",
    "https://www.journals.uchicago.edu/doi/abs/10.1086/527495\n",
    "\n",
    "Base contendo evidências de corrupção em multas de estacionamento.\n",
    "\n",
    "Os membros de corpo diplomático não precisam pagar multa caso estacionem em lugar proibido.<br>\n",
    "\n",
    "\n",
    "- country\n",
    "- violations: qtde de violações de trânsito por mês\n",
    "- staff: qtde de membros do corpo diplomático\n",
    "- post: antes ou depois da obrigatotriedade de multa instituído pelo prefeitura de NY\n",
    "- corruption: indicador de corrupção do pais. Maior pior.\n",
    "\n",
    "**Constructor**\n",
    "\n",
    "violations/month ~ staff + post + corruption\n",
    "\n",
    "ln(violations) = alpha + B1staff + B2post + B3corruption"
   ]
  },
  {
   "cell_type": "code",
   "execution_count": 2,
   "id": "5ded5677",
   "metadata": {},
   "outputs": [
    {
     "data": {
      "text/html": [
       "<div>\n",
       "<style scoped>\n",
       "    .dataframe tbody tr th:only-of-type {\n",
       "        vertical-align: middle;\n",
       "    }\n",
       "\n",
       "    .dataframe tbody tr th {\n",
       "        vertical-align: top;\n",
       "    }\n",
       "\n",
       "    .dataframe thead th {\n",
       "        text-align: right;\n",
       "    }\n",
       "</style>\n",
       "<table border=\"1\" class=\"dataframe\">\n",
       "  <thead>\n",
       "    <tr style=\"text-align: right;\">\n",
       "      <th></th>\n",
       "      <th>country</th>\n",
       "      <th>code</th>\n",
       "      <th>violations</th>\n",
       "      <th>staff</th>\n",
       "      <th>post</th>\n",
       "      <th>corruption</th>\n",
       "    </tr>\n",
       "  </thead>\n",
       "  <tbody>\n",
       "    <tr>\n",
       "      <th>0</th>\n",
       "      <td>Angola</td>\n",
       "      <td>AGO</td>\n",
       "      <td>50</td>\n",
       "      <td>9</td>\n",
       "      <td>no</td>\n",
       "      <td>1.047506</td>\n",
       "    </tr>\n",
       "    <tr>\n",
       "      <th>1</th>\n",
       "      <td>Angola</td>\n",
       "      <td>AGO</td>\n",
       "      <td>1</td>\n",
       "      <td>9</td>\n",
       "      <td>yes</td>\n",
       "      <td>1.047506</td>\n",
       "    </tr>\n",
       "    <tr>\n",
       "      <th>2</th>\n",
       "      <td>Albania</td>\n",
       "      <td>ALB</td>\n",
       "      <td>17</td>\n",
       "      <td>3</td>\n",
       "      <td>no</td>\n",
       "      <td>0.921079</td>\n",
       "    </tr>\n",
       "    <tr>\n",
       "      <th>3</th>\n",
       "      <td>Albania</td>\n",
       "      <td>ALB</td>\n",
       "      <td>0</td>\n",
       "      <td>3</td>\n",
       "      <td>yes</td>\n",
       "      <td>0.921079</td>\n",
       "    </tr>\n",
       "    <tr>\n",
       "      <th>4</th>\n",
       "      <td>United Arab Emirates</td>\n",
       "      <td>ARE</td>\n",
       "      <td>0</td>\n",
       "      <td>3</td>\n",
       "      <td>no</td>\n",
       "      <td>-0.779468</td>\n",
       "    </tr>\n",
       "    <tr>\n",
       "      <th>...</th>\n",
       "      <td>...</td>\n",
       "      <td>...</td>\n",
       "      <td>...</td>\n",
       "      <td>...</td>\n",
       "      <td>...</td>\n",
       "      <td>...</td>\n",
       "    </tr>\n",
       "    <tr>\n",
       "      <th>293</th>\n",
       "      <td>Zaire</td>\n",
       "      <td>ZAR</td>\n",
       "      <td>0</td>\n",
       "      <td>6</td>\n",
       "      <td>yes</td>\n",
       "      <td>1.582807</td>\n",
       "    </tr>\n",
       "    <tr>\n",
       "      <th>294</th>\n",
       "      <td>Zambia</td>\n",
       "      <td>ZMB</td>\n",
       "      <td>37</td>\n",
       "      <td>9</td>\n",
       "      <td>no</td>\n",
       "      <td>0.562193</td>\n",
       "    </tr>\n",
       "    <tr>\n",
       "      <th>295</th>\n",
       "      <td>Zambia</td>\n",
       "      <td>ZMB</td>\n",
       "      <td>0</td>\n",
       "      <td>9</td>\n",
       "      <td>yes</td>\n",
       "      <td>0.562193</td>\n",
       "    </tr>\n",
       "    <tr>\n",
       "      <th>296</th>\n",
       "      <td>Zimbabwe</td>\n",
       "      <td>ZWE</td>\n",
       "      <td>43</td>\n",
       "      <td>14</td>\n",
       "      <td>no</td>\n",
       "      <td>0.133379</td>\n",
       "    </tr>\n",
       "    <tr>\n",
       "      <th>297</th>\n",
       "      <td>Zimbabwe</td>\n",
       "      <td>ZWE</td>\n",
       "      <td>1</td>\n",
       "      <td>14</td>\n",
       "      <td>yes</td>\n",
       "      <td>0.133379</td>\n",
       "    </tr>\n",
       "  </tbody>\n",
       "</table>\n",
       "<p>298 rows × 6 columns</p>\n",
       "</div>"
      ],
      "text/plain": [
       "                  country code  violations  staff post  corruption\n",
       "0                  Angola  AGO          50      9   no    1.047506\n",
       "1                  Angola  AGO           1      9  yes    1.047506\n",
       "2                 Albania  ALB          17      3   no    0.921079\n",
       "3                 Albania  ALB           0      3  yes    0.921079\n",
       "4    United Arab Emirates  ARE           0      3   no   -0.779468\n",
       "..                    ...  ...         ...    ...  ...         ...\n",
       "293                 Zaire  ZAR           0      6  yes    1.582807\n",
       "294                Zambia  ZMB          37      9   no    0.562193\n",
       "295                Zambia  ZMB           0      9  yes    0.562193\n",
       "296              Zimbabwe  ZWE          43     14   no    0.133379\n",
       "297              Zimbabwe  ZWE           1     14  yes    0.133379\n",
       "\n",
       "[298 rows x 6 columns]"
      ]
     },
     "execution_count": 2,
     "metadata": {},
     "output_type": "execute_result"
    }
   ],
   "source": [
    "#Importando a base\n",
    "df_corrupcao = pd.read_csv(r'bases\\corruption.csv')\n",
    "df_corrupcao"
   ]
  },
  {
   "cell_type": "code",
   "execution_count": 3,
   "id": "4a591b77",
   "metadata": {},
   "outputs": [
    {
     "data": {
      "text/plain": [
       "Angola       2\n",
       "Mauritius    2\n",
       "Malaysia     2\n",
       "Namibia      2\n",
       "Niger        2\n",
       "            ..\n",
       "Georgia      2\n",
       "Ghana        2\n",
       "Guinea       2\n",
       "Gambia       2\n",
       "Zimbabwe     2\n",
       "Name: country, Length: 149, dtype: int64"
      ]
     },
     "execution_count": 3,
     "metadata": {},
     "output_type": "execute_result"
    }
   ],
   "source": [
    "df_corrupcao.country.value_counts()"
   ]
  },
  {
   "cell_type": "code",
   "execution_count": 4,
   "id": "786409a2",
   "metadata": {},
   "outputs": [
    {
     "data": {
      "text/html": [
       "<div>\n",
       "<style scoped>\n",
       "    .dataframe tbody tr th:only-of-type {\n",
       "        vertical-align: middle;\n",
       "    }\n",
       "\n",
       "    .dataframe tbody tr th {\n",
       "        vertical-align: top;\n",
       "    }\n",
       "\n",
       "    .dataframe thead th {\n",
       "        text-align: right;\n",
       "    }\n",
       "</style>\n",
       "<table border=\"1\" class=\"dataframe\">\n",
       "  <thead>\n",
       "    <tr style=\"text-align: right;\">\n",
       "      <th></th>\n",
       "      <th>violations</th>\n",
       "      <th>staff</th>\n",
       "      <th>corruption</th>\n",
       "    </tr>\n",
       "  </thead>\n",
       "  <tbody>\n",
       "    <tr>\n",
       "      <th>count</th>\n",
       "      <td>298.000000</td>\n",
       "      <td>298.000000</td>\n",
       "      <td>298.000000</td>\n",
       "    </tr>\n",
       "    <tr>\n",
       "      <th>mean</th>\n",
       "      <td>6.496644</td>\n",
       "      <td>11.805369</td>\n",
       "      <td>0.013641</td>\n",
       "    </tr>\n",
       "    <tr>\n",
       "      <th>std</th>\n",
       "      <td>18.210377</td>\n",
       "      <td>11.079558</td>\n",
       "      <td>1.012474</td>\n",
       "    </tr>\n",
       "    <tr>\n",
       "      <th>min</th>\n",
       "      <td>0.000000</td>\n",
       "      <td>2.000000</td>\n",
       "      <td>-2.582988</td>\n",
       "    </tr>\n",
       "    <tr>\n",
       "      <th>25%</th>\n",
       "      <td>0.000000</td>\n",
       "      <td>6.000000</td>\n",
       "      <td>-0.415147</td>\n",
       "    </tr>\n",
       "    <tr>\n",
       "      <th>50%</th>\n",
       "      <td>0.000000</td>\n",
       "      <td>9.000000</td>\n",
       "      <td>0.326959</td>\n",
       "    </tr>\n",
       "    <tr>\n",
       "      <th>75%</th>\n",
       "      <td>3.000000</td>\n",
       "      <td>14.000000</td>\n",
       "      <td>0.720250</td>\n",
       "    </tr>\n",
       "    <tr>\n",
       "      <th>max</th>\n",
       "      <td>167.000000</td>\n",
       "      <td>86.000000</td>\n",
       "      <td>1.582807</td>\n",
       "    </tr>\n",
       "  </tbody>\n",
       "</table>\n",
       "</div>"
      ],
      "text/plain": [
       "       violations       staff  corruption\n",
       "count  298.000000  298.000000  298.000000\n",
       "mean     6.496644   11.805369    0.013641\n",
       "std     18.210377   11.079558    1.012474\n",
       "min      0.000000    2.000000   -2.582988\n",
       "25%      0.000000    6.000000   -0.415147\n",
       "50%      0.000000    9.000000    0.326959\n",
       "75%      3.000000   14.000000    0.720250\n",
       "max    167.000000   86.000000    1.582807"
      ]
     },
     "execution_count": 4,
     "metadata": {},
     "output_type": "execute_result"
    }
   ],
   "source": [
    "df_corrupcao.describe()"
   ]
  },
  {
   "cell_type": "code",
   "execution_count": 5,
   "id": "d70139d6",
   "metadata": {},
   "outputs": [
    {
     "data": {
      "text/plain": [
       "no     149\n",
       "yes    149\n",
       "Name: post, dtype: int64"
      ]
     },
     "execution_count": 5,
     "metadata": {},
     "output_type": "execute_result"
    }
   ],
   "source": [
    "df_corrupcao.post.value_counts()"
   ]
  },
  {
   "cell_type": "code",
   "execution_count": 6,
   "id": "58c103cf",
   "metadata": {},
   "outputs": [
    {
     "data": {
      "text/html": [
       "<div>\n",
       "<style scoped>\n",
       "    .dataframe tbody tr th:only-of-type {\n",
       "        vertical-align: middle;\n",
       "    }\n",
       "\n",
       "    .dataframe tbody tr th {\n",
       "        vertical-align: top;\n",
       "    }\n",
       "\n",
       "    .dataframe thead th {\n",
       "        text-align: right;\n",
       "    }\n",
       "</style>\n",
       "<table border=\"1\" class=\"dataframe\">\n",
       "  <thead>\n",
       "    <tr style=\"text-align: right;\">\n",
       "      <th></th>\n",
       "      <th>country</th>\n",
       "      <th>code</th>\n",
       "      <th>staff</th>\n",
       "      <th>post</th>\n",
       "      <th>corruption</th>\n",
       "    </tr>\n",
       "    <tr>\n",
       "      <th>violations</th>\n",
       "      <th></th>\n",
       "      <th></th>\n",
       "      <th></th>\n",
       "      <th></th>\n",
       "      <th></th>\n",
       "    </tr>\n",
       "  </thead>\n",
       "  <tbody>\n",
       "    <tr>\n",
       "      <th>0</th>\n",
       "      <td>156</td>\n",
       "      <td>156</td>\n",
       "      <td>156</td>\n",
       "      <td>156</td>\n",
       "      <td>156</td>\n",
       "    </tr>\n",
       "    <tr>\n",
       "      <th>1</th>\n",
       "      <td>35</td>\n",
       "      <td>35</td>\n",
       "      <td>35</td>\n",
       "      <td>35</td>\n",
       "      <td>35</td>\n",
       "    </tr>\n",
       "    <tr>\n",
       "      <th>2</th>\n",
       "      <td>16</td>\n",
       "      <td>16</td>\n",
       "      <td>16</td>\n",
       "      <td>16</td>\n",
       "      <td>16</td>\n",
       "    </tr>\n",
       "    <tr>\n",
       "      <th>3</th>\n",
       "      <td>17</td>\n",
       "      <td>17</td>\n",
       "      <td>17</td>\n",
       "      <td>17</td>\n",
       "      <td>17</td>\n",
       "    </tr>\n",
       "    <tr>\n",
       "      <th>4</th>\n",
       "      <td>5</td>\n",
       "      <td>5</td>\n",
       "      <td>5</td>\n",
       "      <td>5</td>\n",
       "      <td>5</td>\n",
       "    </tr>\n",
       "    <tr>\n",
       "      <th>5</th>\n",
       "      <td>10</td>\n",
       "      <td>10</td>\n",
       "      <td>10</td>\n",
       "      <td>10</td>\n",
       "      <td>10</td>\n",
       "    </tr>\n",
       "    <tr>\n",
       "      <th>6</th>\n",
       "      <td>3</td>\n",
       "      <td>3</td>\n",
       "      <td>3</td>\n",
       "      <td>3</td>\n",
       "      <td>3</td>\n",
       "    </tr>\n",
       "    <tr>\n",
       "      <th>7</th>\n",
       "      <td>4</td>\n",
       "      <td>4</td>\n",
       "      <td>4</td>\n",
       "      <td>4</td>\n",
       "      <td>4</td>\n",
       "    </tr>\n",
       "    <tr>\n",
       "      <th>8</th>\n",
       "      <td>3</td>\n",
       "      <td>3</td>\n",
       "      <td>3</td>\n",
       "      <td>3</td>\n",
       "      <td>3</td>\n",
       "    </tr>\n",
       "    <tr>\n",
       "      <th>9</th>\n",
       "      <td>3</td>\n",
       "      <td>3</td>\n",
       "      <td>3</td>\n",
       "      <td>3</td>\n",
       "      <td>3</td>\n",
       "    </tr>\n",
       "    <tr>\n",
       "      <th>10</th>\n",
       "      <td>3</td>\n",
       "      <td>3</td>\n",
       "      <td>3</td>\n",
       "      <td>3</td>\n",
       "      <td>3</td>\n",
       "    </tr>\n",
       "    <tr>\n",
       "      <th>12</th>\n",
       "      <td>5</td>\n",
       "      <td>5</td>\n",
       "      <td>5</td>\n",
       "      <td>5</td>\n",
       "      <td>5</td>\n",
       "    </tr>\n",
       "    <tr>\n",
       "      <th>13</th>\n",
       "      <td>4</td>\n",
       "      <td>4</td>\n",
       "      <td>4</td>\n",
       "      <td>4</td>\n",
       "      <td>4</td>\n",
       "    </tr>\n",
       "    <tr>\n",
       "      <th>14</th>\n",
       "      <td>1</td>\n",
       "      <td>1</td>\n",
       "      <td>1</td>\n",
       "      <td>1</td>\n",
       "      <td>1</td>\n",
       "    </tr>\n",
       "    <tr>\n",
       "      <th>15</th>\n",
       "      <td>1</td>\n",
       "      <td>1</td>\n",
       "      <td>1</td>\n",
       "      <td>1</td>\n",
       "      <td>1</td>\n",
       "    </tr>\n",
       "    <tr>\n",
       "      <th>16</th>\n",
       "      <td>3</td>\n",
       "      <td>3</td>\n",
       "      <td>3</td>\n",
       "      <td>3</td>\n",
       "      <td>3</td>\n",
       "    </tr>\n",
       "    <tr>\n",
       "      <th>17</th>\n",
       "      <td>2</td>\n",
       "      <td>2</td>\n",
       "      <td>2</td>\n",
       "      <td>2</td>\n",
       "      <td>2</td>\n",
       "    </tr>\n",
       "    <tr>\n",
       "      <th>18</th>\n",
       "      <td>2</td>\n",
       "      <td>2</td>\n",
       "      <td>2</td>\n",
       "      <td>2</td>\n",
       "      <td>2</td>\n",
       "    </tr>\n",
       "    <tr>\n",
       "      <th>21</th>\n",
       "      <td>2</td>\n",
       "      <td>2</td>\n",
       "      <td>2</td>\n",
       "      <td>2</td>\n",
       "      <td>2</td>\n",
       "    </tr>\n",
       "    <tr>\n",
       "      <th>22</th>\n",
       "      <td>1</td>\n",
       "      <td>1</td>\n",
       "      <td>1</td>\n",
       "      <td>1</td>\n",
       "      <td>1</td>\n",
       "    </tr>\n",
       "    <tr>\n",
       "      <th>24</th>\n",
       "      <td>1</td>\n",
       "      <td>1</td>\n",
       "      <td>1</td>\n",
       "      <td>1</td>\n",
       "      <td>1</td>\n",
       "    </tr>\n",
       "    <tr>\n",
       "      <th>27</th>\n",
       "      <td>2</td>\n",
       "      <td>2</td>\n",
       "      <td>2</td>\n",
       "      <td>2</td>\n",
       "      <td>2</td>\n",
       "    </tr>\n",
       "    <tr>\n",
       "      <th>37</th>\n",
       "      <td>2</td>\n",
       "      <td>2</td>\n",
       "      <td>2</td>\n",
       "      <td>2</td>\n",
       "      <td>2</td>\n",
       "    </tr>\n",
       "    <tr>\n",
       "      <th>40</th>\n",
       "      <td>1</td>\n",
       "      <td>1</td>\n",
       "      <td>1</td>\n",
       "      <td>1</td>\n",
       "      <td>1</td>\n",
       "    </tr>\n",
       "    <tr>\n",
       "      <th>43</th>\n",
       "      <td>2</td>\n",
       "      <td>2</td>\n",
       "      <td>2</td>\n",
       "      <td>2</td>\n",
       "      <td>2</td>\n",
       "    </tr>\n",
       "    <tr>\n",
       "      <th>44</th>\n",
       "      <td>2</td>\n",
       "      <td>2</td>\n",
       "      <td>2</td>\n",
       "      <td>2</td>\n",
       "      <td>2</td>\n",
       "    </tr>\n",
       "    <tr>\n",
       "      <th>45</th>\n",
       "      <td>1</td>\n",
       "      <td>1</td>\n",
       "      <td>1</td>\n",
       "      <td>1</td>\n",
       "      <td>1</td>\n",
       "    </tr>\n",
       "    <tr>\n",
       "      <th>48</th>\n",
       "      <td>1</td>\n",
       "      <td>1</td>\n",
       "      <td>1</td>\n",
       "      <td>1</td>\n",
       "      <td>1</td>\n",
       "    </tr>\n",
       "    <tr>\n",
       "      <th>50</th>\n",
       "      <td>1</td>\n",
       "      <td>1</td>\n",
       "      <td>1</td>\n",
       "      <td>1</td>\n",
       "      <td>1</td>\n",
       "    </tr>\n",
       "    <tr>\n",
       "      <th>56</th>\n",
       "      <td>1</td>\n",
       "      <td>1</td>\n",
       "      <td>1</td>\n",
       "      <td>1</td>\n",
       "      <td>1</td>\n",
       "    </tr>\n",
       "    <tr>\n",
       "      <th>59</th>\n",
       "      <td>1</td>\n",
       "      <td>1</td>\n",
       "      <td>1</td>\n",
       "      <td>1</td>\n",
       "      <td>1</td>\n",
       "    </tr>\n",
       "    <tr>\n",
       "      <th>61</th>\n",
       "      <td>2</td>\n",
       "      <td>2</td>\n",
       "      <td>2</td>\n",
       "      <td>2</td>\n",
       "      <td>2</td>\n",
       "    </tr>\n",
       "    <tr>\n",
       "      <th>67</th>\n",
       "      <td>1</td>\n",
       "      <td>1</td>\n",
       "      <td>1</td>\n",
       "      <td>1</td>\n",
       "      <td>1</td>\n",
       "    </tr>\n",
       "    <tr>\n",
       "      <th>69</th>\n",
       "      <td>1</td>\n",
       "      <td>1</td>\n",
       "      <td>1</td>\n",
       "      <td>1</td>\n",
       "      <td>1</td>\n",
       "    </tr>\n",
       "    <tr>\n",
       "      <th>99</th>\n",
       "      <td>1</td>\n",
       "      <td>1</td>\n",
       "      <td>1</td>\n",
       "      <td>1</td>\n",
       "      <td>1</td>\n",
       "    </tr>\n",
       "    <tr>\n",
       "      <th>150</th>\n",
       "      <td>1</td>\n",
       "      <td>1</td>\n",
       "      <td>1</td>\n",
       "      <td>1</td>\n",
       "      <td>1</td>\n",
       "    </tr>\n",
       "    <tr>\n",
       "      <th>167</th>\n",
       "      <td>1</td>\n",
       "      <td>1</td>\n",
       "      <td>1</td>\n",
       "      <td>1</td>\n",
       "      <td>1</td>\n",
       "    </tr>\n",
       "  </tbody>\n",
       "</table>\n",
       "</div>"
      ],
      "text/plain": [
       "            country  code  staff  post  corruption\n",
       "violations                                        \n",
       "0               156   156    156   156         156\n",
       "1                35    35     35    35          35\n",
       "2                16    16     16    16          16\n",
       "3                17    17     17    17          17\n",
       "4                 5     5      5     5           5\n",
       "5                10    10     10    10          10\n",
       "6                 3     3      3     3           3\n",
       "7                 4     4      4     4           4\n",
       "8                 3     3      3     3           3\n",
       "9                 3     3      3     3           3\n",
       "10                3     3      3     3           3\n",
       "12                5     5      5     5           5\n",
       "13                4     4      4     4           4\n",
       "14                1     1      1     1           1\n",
       "15                1     1      1     1           1\n",
       "16                3     3      3     3           3\n",
       "17                2     2      2     2           2\n",
       "18                2     2      2     2           2\n",
       "21                2     2      2     2           2\n",
       "22                1     1      1     1           1\n",
       "24                1     1      1     1           1\n",
       "27                2     2      2     2           2\n",
       "37                2     2      2     2           2\n",
       "40                1     1      1     1           1\n",
       "43                2     2      2     2           2\n",
       "44                2     2      2     2           2\n",
       "45                1     1      1     1           1\n",
       "48                1     1      1     1           1\n",
       "50                1     1      1     1           1\n",
       "56                1     1      1     1           1\n",
       "59                1     1      1     1           1\n",
       "61                2     2      2     2           2\n",
       "67                1     1      1     1           1\n",
       "69                1     1      1     1           1\n",
       "99                1     1      1     1           1\n",
       "150               1     1      1     1           1\n",
       "167               1     1      1     1           1"
      ]
     },
     "execution_count": 6,
     "metadata": {},
     "output_type": "execute_result"
    }
   ],
   "source": [
    "df_corrupcao.groupby('violations').count()"
   ]
  },
  {
   "cell_type": "markdown",
   "id": "4bae28eb",
   "metadata": {},
   "source": [
    "### Qual distribuição se associa ao comportamento de Y no histograma abaixo?\n",
    "\n",
    "Sempre fazer o diagnóstico sobre o comportamento da variável estudada Y para maximizar o acerto entre os valores reais e os previstos. Os parâmetros que serão estimados  vão levar em consideração um logarítmo de uma função de verossimilhança que seja oriunda daquela função densidade de probabilidade.\n",
    "\n",
    "Nenhuma distribuição da vida real será idêntica a uma distribuição teórica, temos que fazer ajustes para sobrepor e minimizar as diferenças."
   ]
  },
  {
   "cell_type": "code",
   "execution_count": 7,
   "id": "4d499bdd",
   "metadata": {},
   "outputs": [
    {
     "data": {
      "text/plain": [
       "<AxesSubplot:>"
      ]
     },
     "execution_count": 7,
     "metadata": {},
     "output_type": "execute_result"
    },
    {
     "data": {
      "image/png": "[encoded data removed]",
      "text/plain": [
       "<Figure size 640x480 with 1 Axes>"
      ]
     },
     "metadata": {},
     "output_type": "display_data"
    }
   ],
   "source": [
    "df_corrupcao.violations.hist()"
   ]
  },
  {
   "cell_type": "markdown",
   "id": "3546e810",
   "metadata": {},
   "source": [
    "## Diagnóstico Preliminar para Avaliar se a Média da Y é igual a Variância\n",
    "\n",
    "Média = Variância - Indicativo de que a Y segue uma distribuição de Poisson\n",
    "\n",
    "Variância bem maior que a média é indicativo de **superdispersão (overdispersion)**<br>\n",
    "Nesse caso a Média é muito diferente da Variância, poderíamos partir para a Binomial Negativa."
   ]
  },
  {
   "cell_type": "code",
   "execution_count": 8,
   "id": "9cf63f80",
   "metadata": {},
   "outputs": [
    {
     "name": "stdout",
     "output_type": "stream",
     "text": [
      "Média: 6.497\n",
      "Variância: 331.618\n"
     ]
    }
   ],
   "source": [
    "print(f'Média: {df_corrupcao.violations.mean():.3f}')\n",
    "print(f'Variância: {df_corrupcao.violations.var():.3f}')"
   ]
  },
  {
   "cell_type": "code",
   "execution_count": 9,
   "id": "974f2e3c",
   "metadata": {},
   "outputs": [
    {
     "data": {
      "text/plain": [
       "post\n",
       "no     11.805369\n",
       "yes    11.805369\n",
       "Name: staff, dtype: float64"
      ]
     },
     "execution_count": 9,
     "metadata": {},
     "output_type": "execute_result"
    }
   ],
   "source": [
    "#Média de staffs antes e depois da cobrança de multa\n",
    "df_corrupcao.groupby('post')['staff'].mean()"
   ]
  },
  {
   "cell_type": "code",
   "execution_count": 10,
   "id": "6faafdb6",
   "metadata": {},
   "outputs": [
    {
     "data": {
      "text/plain": [
       "post\n",
       "no     12.818792\n",
       "yes     0.174497\n",
       "Name: violations, dtype: float64"
      ]
     },
     "execution_count": 10,
     "metadata": {},
     "output_type": "execute_result"
    }
   ],
   "source": [
    "#Média de violações antes e depois da cobrança de multa\n",
    "df_corrupcao.groupby('post')['violations'].mean()"
   ]
  },
  {
   "cell_type": "markdown",
   "id": "9b60ab43",
   "metadata": {},
   "source": [
    "## Estimando modelo Poisson\n",
    "\n",
    "Log-Likelihood > melhor<br>\n",
    "Objetivo de Maximizar o LogLike\n",
    "\n",
    "Aplicar Stepwise caso o beta não seja estatisticamente significativo diferente de zero "
   ]
  },
  {
   "cell_type": "code",
   "execution_count": 11,
   "id": "f6f3681e",
   "metadata": {},
   "outputs": [],
   "source": [
    "#https://www.statsmodels.org/stable/glm.html#links\n",
    "import statsmodels.api as sm\n",
    "\n",
    "modelo_poisson = sm.GLM.from_formula(formula='violations ~ staff + post + corruption', \n",
    "                                     family=sm.families.Poisson(), data= df_corrupcao).fit()"
   ]
  },
  {
   "cell_type": "code",
   "execution_count": 12,
   "id": "168fd18f",
   "metadata": {},
   "outputs": [
    {
     "data": {
      "text/html": [
       "<table class=\"simpletable\">\n",
       "<caption>Generalized Linear Model Regression Results</caption>\n",
       "<tr>\n",
       "  <th>Dep. Variable:</th>      <td>violations</td>    <th>  No. Observations:  </th>  <td>   298</td> \n",
       "</tr>\n",
       "<tr>\n",
       "  <th>Model:</th>                  <td>GLM</td>       <th>  Df Residuals:      </th>  <td>   294</td> \n",
       "</tr>\n",
       "<tr>\n",
       "  <th>Model Family:</th>         <td>Poisson</td>     <th>  Df Model:          </th>  <td>     3</td> \n",
       "</tr>\n",
       "<tr>\n",
       "  <th>Link Function:</th>          <td>Log</td>       <th>  Scale:             </th> <td>  1.0000</td>\n",
       "</tr>\n",
       "<tr>\n",
       "  <th>Method:</th>                <td>IRLS</td>       <th>  Log-Likelihood:    </th> <td> -2071.8</td>\n",
       "</tr>\n",
       "<tr>\n",
       "  <th>Date:</th>            <td>Wed, 29 Mar 2023</td> <th>  Deviance:          </th> <td>  3644.0</td>\n",
       "</tr>\n",
       "<tr>\n",
       "  <th>Time:</th>                <td>22:08:19</td>     <th>  Pearson chi2:      </th> <td>6.77e+03</td>\n",
       "</tr>\n",
       "<tr>\n",
       "  <th>No. Iterations:</th>          <td>7</td>        <th>  Pseudo R-squ. (CS):</th>  <td>0.9999</td> \n",
       "</tr>\n",
       "<tr>\n",
       "  <th>Covariance Type:</th>     <td>nonrobust</td>    <th>                     </th>     <td> </td>   \n",
       "</tr>\n",
       "</table>\n",
       "<table class=\"simpletable\">\n",
       "<tr>\n",
       "       <td></td>          <th>coef</th>     <th>std err</th>      <th>z</th>      <th>P>|z|</th>  <th>[0.025</th>    <th>0.975]</th>  \n",
       "</tr>\n",
       "<tr>\n",
       "  <th>Intercept</th>   <td>    2.2127</td> <td>    0.031</td> <td>   71.134</td> <td> 0.000</td> <td>    2.152</td> <td>    2.274</td>\n",
       "</tr>\n",
       "<tr>\n",
       "  <th>post[T.yes]</th> <td>   -4.2968</td> <td>    0.197</td> <td>  -21.762</td> <td> 0.000</td> <td>   -4.684</td> <td>   -3.910</td>\n",
       "</tr>\n",
       "<tr>\n",
       "  <th>staff</th>       <td>    0.0219</td> <td>    0.001</td> <td>   17.807</td> <td> 0.000</td> <td>    0.019</td> <td>    0.024</td>\n",
       "</tr>\n",
       "<tr>\n",
       "  <th>corruption</th>  <td>    0.3418</td> <td>    0.027</td> <td>   12.430</td> <td> 0.000</td> <td>    0.288</td> <td>    0.396</td>\n",
       "</tr>\n",
       "</table>"
      ],
      "text/plain": [
       "<class 'statsmodels.iolib.summary.Summary'>\n",
       "\"\"\"\n",
       "                 Generalized Linear Model Regression Results                  \n",
       "==============================================================================\n",
       "Dep. Variable:             violations   No. Observations:                  298\n",
       "Model:                            GLM   Df Residuals:                      294\n",
       "Model Family:                 Poisson   Df Model:                            3\n",
       "Link Function:                    Log   Scale:                          1.0000\n",
       "Method:                          IRLS   Log-Likelihood:                -2071.8\n",
       "Date:                Wed, 29 Mar 2023   Deviance:                       3644.0\n",
       "Time:                        22:08:19   Pearson chi2:                 6.77e+03\n",
       "No. Iterations:                     7   Pseudo R-squ. (CS):             0.9999\n",
       "Covariance Type:            nonrobust                                         \n",
       "===============================================================================\n",
       "                  coef    std err          z      P>|z|      [0.025      0.975]\n",
       "-------------------------------------------------------------------------------\n",
       "Intercept       2.2127      0.031     71.134      0.000       2.152       2.274\n",
       "post[T.yes]    -4.2968      0.197    -21.762      0.000      -4.684      -3.910\n",
       "staff           0.0219      0.001     17.807      0.000       0.019       0.024\n",
       "corruption      0.3418      0.027     12.430      0.000       0.288       0.396\n",
       "===============================================================================\n",
       "\"\"\""
      ]
     },
     "execution_count": 12,
     "metadata": {},
     "output_type": "execute_result"
    }
   ],
   "source": [
    "modelo_poisson.summary()"
   ]
  },
  {
   "cell_type": "markdown",
   "id": "6ec18e34",
   "metadata": {},
   "source": [
    "### Comparando LogLike do Modelo contra o Modelo Nulo\n",
    "\n",
    "#### LRTest - Likelihood Ratio Test\n",
    "\n",
    "Verificar se o ganho de LogLike do modelo é estatisticamente significativo contra o modelo Nulo com a inclusão de variáveis preditoras X.\n",
    "\n",
    "Teste Qui-quadrado onde p-valor < 0,05 rejeita H0. Pelo menos 1 beta é estatisticamente diferente de zero."
   ]
  },
  {
   "cell_type": "code",
   "execution_count": 13,
   "id": "6c5f3acd",
   "metadata": {},
   "outputs": [
    {
     "name": "stdout",
     "output_type": "stream",
     "text": [
      "LogLike Modelo Nulo: -3448.65\n",
      "LogLike Modelo: -2071.79\n",
      "Estatistica Chi2: 2753.71\n",
      "P-value Chi2: 0.0\n"
     ]
    }
   ],
   "source": [
    "from llr_test import llr_test\n",
    "\n",
    "llr_test(modelo_poisson, modelo_poisson)"
   ]
  },
  {
   "cell_type": "code",
   "execution_count": 14,
   "id": "a3084821",
   "metadata": {},
   "outputs": [
    {
     "data": {
      "text/plain": [
       "-6.952328029412261"
      ]
     },
     "execution_count": 14,
     "metadata": {},
     "output_type": "execute_result"
    }
   ],
   "source": [
    "#Média de contribuição por linha do LogLike\n",
    "#Melhores valores mais próximos de zero (menos erros de verossimilhança)\n",
    "\n",
    "modelo_poisson.llf / 298 # <- qtde de observações"
   ]
  },
  {
   "cell_type": "markdown",
   "id": "3c57fbb8",
   "metadata": {},
   "source": [
    "## Teste de Superdispersão Cameron e Trivedi\n",
    "\n",
    "Podemos afirmar que a Distribuição Poisson é o melhor modelo?\n",
    "\n",
    "Se houver Superdispersão o melhor modelo é o Binomial Negativo para dados de contagem com distribuição com cauda Longa.\n",
    "\n",
    "CAMERON, A. C.; TRIVEDI, P. K. Regression-based tests for overdispersion in\n",
    "the Poisson model. Journal of Econometrics, v. 46, n. 3, p. 347-364, 1990.\n",
    "\n",
    "\n",
    "<center><img src='img\\cameron_trivedi.jpg'></center>\n",
    "\n",
    "\n",
    "\n",
    "- 1º Passo: estimar um modelo Poisson;\n",
    "\n",
    "- 2º Passo: criar uma nova variável (Y*) utilizando os fitted values do modelo Poisson estimado anteriormente;\n",
    "\n",
    "- 3º Passo: estimar um modelo auxiliar OLS, com a variável Y* como variável dependente, os fitted values do modelo Poisson como única variável preditora e  sem o intercepto;\n",
    "\n",
    "- 4º Passo: Observar a significância do parâmetro beta.\n",
    "\n",
    "> H0: Y segue uma distribuição de Poisson; <br>\n",
    "> H1: Y apresenta superdispersão em relação à distribuição de Poisson\n",
    "\n",
    "p-value < 0,05 rejeita H0\n"
   ]
  },
  {
   "cell_type": "code",
   "execution_count": 19,
   "id": "15de5141",
   "metadata": {},
   "outputs": [],
   "source": [
    "# Função Teste_Cameron_Trivedi\n",
    "def c_trivedi (var_y, fitted_values):\n",
    "    \n",
    "    from scipy.stats import chi2\n",
    "    \n",
    "    y_star = ((var_y - fitted_values)**2 - var_y) / fitted_values\n",
    "    df = pd.DataFrame([y_star, var_y, fitted_values]).T\n",
    "    \n",
    "    modelo_aux = sm.OLS.from_formula(formula='y_star ~ 0 + fitted_values', data=df).fit()\n",
    "    \n",
    "    return print(f\"\"\" Teste de Superdispersão - Cameron e Trivedi 1990\n",
    "    \n",
    "    t-test score: {round(modelo_aux.tvalues.item(),4)}, p-value = {modelo_aux.f_pvalue.round(4)}\n",
    "    **Se p-value < 0.05, existe superdispersão**\"\"\")"
   ]
  },
  {
   "cell_type": "code",
   "execution_count": 20,
   "id": "b3b6484e",
   "metadata": {},
   "outputs": [
    {
     "name": "stdout",
     "output_type": "stream",
     "text": [
      " Teste de Superdispersão - Cameron e Trivedi 1990\n",
      "    \n",
      "    t-test score: 2.7538, p-value = 0.0063\n",
      "    **Se p-value < 0.05, existe superdispersão**\n"
     ]
    }
   ],
   "source": [
    "#from c_trivedi import c_trivedi\n",
    "c_trivedi(df_corrupcao.violations, modelo_poisson.fittedvalues)"
   ]
  },
  {
   "cell_type": "markdown",
   "id": "5a2f2899",
   "metadata": {},
   "source": [
    "**P-value do beta = 0,006, ou seja, < 0,05 tem superdispersão. Necessário Rodar o modelo Binomial Negativo.**"
   ]
  },
  {
   "cell_type": "markdown",
   "id": "b3a946f7",
   "metadata": {},
   "source": [
    "## Usando Modelo statsmodel.api.Poisson"
   ]
  },
  {
   "cell_type": "code",
   "execution_count": 21,
   "id": "017d0bce",
   "metadata": {},
   "outputs": [
    {
     "name": "stdout",
     "output_type": "stream",
     "text": [
      "Optimization terminated successfully.\n",
      "         Current function value: 6.952328\n",
      "         Iterations 9\n"
     ]
    }
   ],
   "source": [
    "#Definindo variáveis\n",
    "X = sm.add_constant(df_corrupcao.iloc[:,3:6])\n",
    "y = df_corrupcao.violations\n",
    "\n",
    "#Para esse modelo é necessário transformar a variável qualitativa em Dummie\n",
    "X_dum = pd.get_dummies(X, 'post', drop_first=True)\n",
    "\n",
    "#Gera o modelo\n",
    "sm_poisson = sm.Poisson(y, X_dum).fit()"
   ]
  },
  {
   "cell_type": "code",
   "execution_count": 22,
   "id": "491e8ccc",
   "metadata": {},
   "outputs": [
    {
     "data": {
      "text/html": [
       "<table class=\"simpletable\">\n",
       "<caption>Poisson Regression Results</caption>\n",
       "<tr>\n",
       "  <th>Dep. Variable:</th>      <td>violations</td>    <th>  No. Observations:  </th>  <td>   298</td> \n",
       "</tr>\n",
       "<tr>\n",
       "  <th>Model:</th>                <td>Poisson</td>     <th>  Df Residuals:      </th>  <td>   294</td> \n",
       "</tr>\n",
       "<tr>\n",
       "  <th>Method:</th>                 <td>MLE</td>       <th>  Df Model:          </th>  <td>     3</td> \n",
       "</tr>\n",
       "<tr>\n",
       "  <th>Date:</th>            <td>Wed, 29 Mar 2023</td> <th>  Pseudo R-squ.:     </th>  <td>0.3992</td> \n",
       "</tr>\n",
       "<tr>\n",
       "  <th>Time:</th>                <td>22:11:46</td>     <th>  Log-Likelihood:    </th> <td> -2071.8</td>\n",
       "</tr>\n",
       "<tr>\n",
       "  <th>converged:</th>             <td>True</td>       <th>  LL-Null:           </th> <td> -3448.6</td>\n",
       "</tr>\n",
       "<tr>\n",
       "  <th>Covariance Type:</th>     <td>nonrobust</td>    <th>  LLR p-value:       </th>  <td> 0.000</td> \n",
       "</tr>\n",
       "</table>\n",
       "<table class=\"simpletable\">\n",
       "<tr>\n",
       "       <td></td>         <th>coef</th>     <th>std err</th>      <th>z</th>      <th>P>|z|</th>  <th>[0.025</th>    <th>0.975]</th>  \n",
       "</tr>\n",
       "<tr>\n",
       "  <th>const</th>      <td>    2.2127</td> <td>    0.031</td> <td>   71.134</td> <td> 0.000</td> <td>    2.152</td> <td>    2.274</td>\n",
       "</tr>\n",
       "<tr>\n",
       "  <th>staff</th>      <td>    0.0219</td> <td>    0.001</td> <td>   17.807</td> <td> 0.000</td> <td>    0.019</td> <td>    0.024</td>\n",
       "</tr>\n",
       "<tr>\n",
       "  <th>corruption</th> <td>    0.3418</td> <td>    0.027</td> <td>   12.430</td> <td> 0.000</td> <td>    0.288</td> <td>    0.396</td>\n",
       "</tr>\n",
       "<tr>\n",
       "  <th>post_yes</th>   <td>   -4.2968</td> <td>    0.197</td> <td>  -21.762</td> <td> 0.000</td> <td>   -4.684</td> <td>   -3.910</td>\n",
       "</tr>\n",
       "</table>"
      ],
      "text/plain": [
       "<class 'statsmodels.iolib.summary.Summary'>\n",
       "\"\"\"\n",
       "                          Poisson Regression Results                          \n",
       "==============================================================================\n",
       "Dep. Variable:             violations   No. Observations:                  298\n",
       "Model:                        Poisson   Df Residuals:                      294\n",
       "Method:                           MLE   Df Model:                            3\n",
       "Date:                Wed, 29 Mar 2023   Pseudo R-squ.:                  0.3992\n",
       "Time:                        22:11:46   Log-Likelihood:                -2071.8\n",
       "converged:                       True   LL-Null:                       -3448.6\n",
       "Covariance Type:            nonrobust   LLR p-value:                     0.000\n",
       "==============================================================================\n",
       "                 coef    std err          z      P>|z|      [0.025      0.975]\n",
       "------------------------------------------------------------------------------\n",
       "const          2.2127      0.031     71.134      0.000       2.152       2.274\n",
       "staff          0.0219      0.001     17.807      0.000       0.019       0.024\n",
       "corruption     0.3418      0.027     12.430      0.000       0.288       0.396\n",
       "post_yes      -4.2968      0.197    -21.762      0.000      -4.684      -3.910\n",
       "==============================================================================\n",
       "\"\"\""
      ]
     },
     "execution_count": 22,
     "metadata": {},
     "output_type": "execute_result"
    }
   ],
   "source": [
    "sm_poisson.summary()"
   ]
  },
  {
   "cell_type": "code",
   "execution_count": 23,
   "id": "445f87d0",
   "metadata": {},
   "outputs": [
    {
     "data": {
      "text/plain": [
       "array([17.93283965])"
      ]
     },
     "execution_count": 23,
     "metadata": {},
     "output_type": "execute_result"
    }
   ],
   "source": [
    "#0 - const\n",
    "#1 - staff\n",
    "#2 - corruption\n",
    "#3 - post (yes:1, no:0)\n",
    "\n",
    "sm_poisson.predict([1, 23, 0.5, 0])"
   ]
  },
  {
   "cell_type": "markdown",
   "id": "11be6ee3",
   "metadata": {},
   "source": [
    "# Distribuição Binomial Negativa ou Poisson-Gama\n",
    "\n",
    "Avaliar a quantidade de observações para X ocorrências. (o oposto da distribuição Binomial - Bernoulli em que avalia a quantidade de ocorrências/sucessos para as n observações)\n",
    "\n",
    "**Como o teste de Dispersão de Cameron e Trivedi constatou que a distribuição possui superdispersão, será necessário aplicar o modelo Binomial Negativo**"
   ]
  },
  {
   "cell_type": "code",
   "execution_count": 24,
   "id": "79e208fa",
   "metadata": {},
   "outputs": [
    {
     "name": "stdout",
     "output_type": "stream",
     "text": [
      "Optimization terminated successfully.\n",
      "         Current function value: 1.904031\n",
      "         Iterations: 19\n",
      "         Function evaluations: 23\n",
      "         Gradient evaluations: 23\n"
     ]
    }
   ],
   "source": [
    "modelo_bneg = sm.NegativeBinomial(y, X_dum).fit()"
   ]
  },
  {
   "cell_type": "code",
   "execution_count": 25,
   "id": "2f8e8df8",
   "metadata": {},
   "outputs": [
    {
     "data": {
      "text/html": [
       "<table class=\"simpletable\">\n",
       "<caption>NegativeBinomial Regression Results</caption>\n",
       "<tr>\n",
       "  <th>Dep. Variable:</th>      <td>violations</td>    <th>  No. Observations:  </th>  <td>   298</td>  \n",
       "</tr>\n",
       "<tr>\n",
       "  <th>Model:</th>           <td>NegativeBinomial</td> <th>  Df Residuals:      </th>  <td>   294</td>  \n",
       "</tr>\n",
       "<tr>\n",
       "  <th>Method:</th>                 <td>MLE</td>       <th>  Df Model:          </th>  <td>     3</td>  \n",
       "</tr>\n",
       "<tr>\n",
       "  <th>Date:</th>            <td>Wed, 29 Mar 2023</td> <th>  Pseudo R-squ.:     </th>  <td>0.1549</td>  \n",
       "</tr>\n",
       "<tr>\n",
       "  <th>Time:</th>                <td>22:11:48</td>     <th>  Log-Likelihood:    </th> <td> -567.40</td> \n",
       "</tr>\n",
       "<tr>\n",
       "  <th>converged:</th>             <td>True</td>       <th>  LL-Null:           </th> <td> -671.37</td> \n",
       "</tr>\n",
       "<tr>\n",
       "  <th>Covariance Type:</th>     <td>nonrobust</td>    <th>  LLR p-value:       </th> <td>8.088e-45</td>\n",
       "</tr>\n",
       "</table>\n",
       "<table class=\"simpletable\">\n",
       "<tr>\n",
       "       <td></td>         <th>coef</th>     <th>std err</th>      <th>z</th>      <th>P>|z|</th>  <th>[0.025</th>    <th>0.975]</th>  \n",
       "</tr>\n",
       "<tr>\n",
       "  <th>const</th>      <td>    1.9469</td> <td>    0.205</td> <td>    9.477</td> <td> 0.000</td> <td>    1.544</td> <td>    2.350</td>\n",
       "</tr>\n",
       "<tr>\n",
       "  <th>staff</th>      <td>    0.0400</td> <td>    0.014</td> <td>    2.945</td> <td> 0.003</td> <td>    0.013</td> <td>    0.067</td>\n",
       "</tr>\n",
       "<tr>\n",
       "  <th>corruption</th> <td>    0.4527</td> <td>    0.133</td> <td>    3.396</td> <td> 0.001</td> <td>    0.191</td> <td>    0.714</td>\n",
       "</tr>\n",
       "<tr>\n",
       "  <th>post_yes</th>   <td>   -4.2746</td> <td>    0.266</td> <td>  -16.065</td> <td> 0.000</td> <td>   -4.796</td> <td>   -3.753</td>\n",
       "</tr>\n",
       "<tr>\n",
       "  <th>alpha</th>      <td>    2.0963</td> <td>    0.243</td> <td>    8.614</td> <td> 0.000</td> <td>    1.619</td> <td>    2.573</td>\n",
       "</tr>\n",
       "</table>"
      ],
      "text/plain": [
       "<class 'statsmodels.iolib.summary.Summary'>\n",
       "\"\"\"\n",
       "                     NegativeBinomial Regression Results                      \n",
       "==============================================================================\n",
       "Dep. Variable:             violations   No. Observations:                  298\n",
       "Model:               NegativeBinomial   Df Residuals:                      294\n",
       "Method:                           MLE   Df Model:                            3\n",
       "Date:                Wed, 29 Mar 2023   Pseudo R-squ.:                  0.1549\n",
       "Time:                        22:11:48   Log-Likelihood:                -567.40\n",
       "converged:                       True   LL-Null:                       -671.37\n",
       "Covariance Type:            nonrobust   LLR p-value:                 8.088e-45\n",
       "==============================================================================\n",
       "                 coef    std err          z      P>|z|      [0.025      0.975]\n",
       "------------------------------------------------------------------------------\n",
       "const          1.9469      0.205      9.477      0.000       1.544       2.350\n",
       "staff          0.0400      0.014      2.945      0.003       0.013       0.067\n",
       "corruption     0.4527      0.133      3.396      0.001       0.191       0.714\n",
       "post_yes      -4.2746      0.266    -16.065      0.000      -4.796      -3.753\n",
       "alpha          2.0963      0.243      8.614      0.000       1.619       2.573\n",
       "==============================================================================\n",
       "\"\"\""
      ]
     },
     "execution_count": 25,
     "metadata": {},
     "output_type": "execute_result"
    }
   ],
   "source": [
    "modelo_bneg.summary()"
   ]
  },
  {
   "cell_type": "markdown",
   "id": "5ea574c9",
   "metadata": {},
   "source": [
    "### Verificação da significância estatística do parâmetro de forma (theta) da distribuição negativa\n",
    "\n",
    "se theta / erro_padrão_theta > 1,96 a 95% de nível de confiança, verifica-se a significância estatística, ou seja, o componente de superdispersão (1/phi) é estatisticamente diferente de zero.\n",
    "\n",
    "**Ficamos com o modelo Binomial Negativo**\n",
    "\n",
    "No python temos a estatística de alpha onde z = theta / erro_padrão_theta = 8.614 com p-value < 0,05"
   ]
  },
  {
   "cell_type": "code",
   "execution_count": 26,
   "id": "db9aa140",
   "metadata": {},
   "outputs": [
    {
     "data": {
      "text/plain": [
       "0.4770223896142164"
      ]
     },
     "execution_count": 26,
     "metadata": {},
     "output_type": "execute_result"
    }
   ],
   "source": [
    "#Componente de Superdispersão\n",
    "theta = 1/ modelo_bneg.params['alpha']\n",
    "theta"
   ]
  },
  {
   "cell_type": "markdown",
   "id": "46c69b7a",
   "metadata": {},
   "source": [
    "Equação = ln(lambBneg) = 1,9469 + 0,04staf - 4,2746 post_yes + 0,4527corruption"
   ]
  },
  {
   "cell_type": "markdown",
   "id": "7f25ec05",
   "metadata": {},
   "source": [
    "## Comparando os Dois Modelos: Poisson e Bneg"
   ]
  },
  {
   "cell_type": "markdown",
   "id": "a84cdbee",
   "metadata": {},
   "source": [
    "COMPARAÇÕES ENTRE AS PREVISÕES:<br>\n",
    "\n",
    "Qual seria a quantidade média esperada de violações de trânsito para um país\n",
    "cujo corpo diplomático seja composto por 23 membros, considerando o período\n",
    "anterior à vigência da lei e cujo índice de corrupção seja igual 0.5?\n",
    "\n",
    "O modelo Binomial Negativo consegue capturar melhor os valores dentro da cauda da distribuição do histograma"
   ]
  },
  {
   "cell_type": "code",
   "execution_count": 27,
   "id": "8be89218",
   "metadata": {},
   "outputs": [
    {
     "name": "stdout",
     "output_type": "stream",
     "text": [
      "modelo poisson: [17.93283965]\n",
      "modelo BNeg: [22.05713121]\n"
     ]
    }
   ],
   "source": [
    "print(f'modelo poisson: {sm_poisson.predict([1, 23, 0.5, 0])}')\n",
    "print(f'modelo BNeg: {modelo_bneg.predict([1, 23, 0.5, 0])}')"
   ]
  },
  {
   "cell_type": "code",
   "execution_count": 28,
   "id": "7644bd7e",
   "metadata": {},
   "outputs": [
    {
     "data": {
      "text/plain": [
       "22.048619671468593"
      ]
     },
     "execution_count": 28,
     "metadata": {},
     "output_type": "execute_result"
    }
   ],
   "source": [
    "# Cálculo Manual modelo BNEG\n",
    "\n",
    "np.exp(1.9469 + 0.040*23 - 4.2746*0 + 0.4527*0.5)"
   ]
  },
  {
   "cell_type": "markdown",
   "id": "70c798af",
   "metadata": {},
   "source": [
    "Qual seria a quantidade média esperada de violações de trânsito para o mesmo\n",
    "país, porém agora considerando a vigência da lei?\n",
    "\n",
    "Valores próximos de zero (iniciais) tem pouco impacto entre os dois modelos."
   ]
  },
  {
   "cell_type": "code",
   "execution_count": 29,
   "id": "ef4f9e4b",
   "metadata": {},
   "outputs": [
    {
     "name": "stdout",
     "output_type": "stream",
     "text": [
      "modelo poisson: [0.24411195]\n",
      "modelo BNeg: [0.30697713]\n"
     ]
    }
   ],
   "source": [
    "print(f'modelo poisson: {sm_poisson.predict([1, 23, 0.5, 1])}')\n",
    "print(f'modelo BNeg: {modelo_bneg.predict([1, 23, 0.5, 1])}')"
   ]
  },
  {
   "cell_type": "markdown",
   "id": "a09d8824",
   "metadata": {},
   "source": [
    "### Incluindo os valores preditos"
   ]
  },
  {
   "cell_type": "code",
   "execution_count": 30,
   "id": "85293db1",
   "metadata": {},
   "outputs": [],
   "source": [
    "#Incluindo os valores preditos\n",
    "\n",
    "df_corrupcao['fitted_poisson'] = modelo_poisson.fittedvalues\n",
    "df_corrupcao['fitted_bneg'] = modelo_bneg.predict(X_dum)"
   ]
  },
  {
   "cell_type": "code",
   "execution_count": 31,
   "id": "07e40fe2",
   "metadata": {},
   "outputs": [
    {
     "data": {
      "text/html": [
       "<div>\n",
       "<style scoped>\n",
       "    .dataframe tbody tr th:only-of-type {\n",
       "        vertical-align: middle;\n",
       "    }\n",
       "\n",
       "    .dataframe tbody tr th {\n",
       "        vertical-align: top;\n",
       "    }\n",
       "\n",
       "    .dataframe thead th {\n",
       "        text-align: right;\n",
       "    }\n",
       "</style>\n",
       "<table border=\"1\" class=\"dataframe\">\n",
       "  <thead>\n",
       "    <tr style=\"text-align: right;\">\n",
       "      <th></th>\n",
       "      <th>country</th>\n",
       "      <th>code</th>\n",
       "      <th>violations</th>\n",
       "      <th>staff</th>\n",
       "      <th>post</th>\n",
       "      <th>corruption</th>\n",
       "      <th>fitted_poisson</th>\n",
       "      <th>fitted_bneg</th>\n",
       "    </tr>\n",
       "  </thead>\n",
       "  <tbody>\n",
       "    <tr>\n",
       "      <th>0</th>\n",
       "      <td>Angola</td>\n",
       "      <td>AGO</td>\n",
       "      <td>50</td>\n",
       "      <td>9</td>\n",
       "      <td>no</td>\n",
       "      <td>1.047506</td>\n",
       "      <td>15.919915</td>\n",
       "      <td>16.138708</td>\n",
       "    </tr>\n",
       "    <tr>\n",
       "      <th>1</th>\n",
       "      <td>Angola</td>\n",
       "      <td>AGO</td>\n",
       "      <td>1</td>\n",
       "      <td>9</td>\n",
       "      <td>yes</td>\n",
       "      <td>1.047506</td>\n",
       "      <td>0.216711</td>\n",
       "      <td>0.224608</td>\n",
       "    </tr>\n",
       "    <tr>\n",
       "      <th>2</th>\n",
       "      <td>Albania</td>\n",
       "      <td>ALB</td>\n",
       "      <td>17</td>\n",
       "      <td>3</td>\n",
       "      <td>no</td>\n",
       "      <td>0.921079</td>\n",
       "      <td>13.371720</td>\n",
       "      <td>11.987745</td>\n",
       "    </tr>\n",
       "    <tr>\n",
       "      <th>3</th>\n",
       "      <td>Albania</td>\n",
       "      <td>ALB</td>\n",
       "      <td>0</td>\n",
       "      <td>3</td>\n",
       "      <td>yes</td>\n",
       "      <td>0.921079</td>\n",
       "      <td>0.182023</td>\n",
       "      <td>0.166838</td>\n",
       "    </tr>\n",
       "    <tr>\n",
       "      <th>4</th>\n",
       "      <td>United Arab Emirates</td>\n",
       "      <td>ARE</td>\n",
       "      <td>0</td>\n",
       "      <td>3</td>\n",
       "      <td>no</td>\n",
       "      <td>-0.779468</td>\n",
       "      <td>7.477915</td>\n",
       "      <td>5.551744</td>\n",
       "    </tr>\n",
       "    <tr>\n",
       "      <th>...</th>\n",
       "      <td>...</td>\n",
       "      <td>...</td>\n",
       "      <td>...</td>\n",
       "      <td>...</td>\n",
       "      <td>...</td>\n",
       "      <td>...</td>\n",
       "      <td>...</td>\n",
       "      <td>...</td>\n",
       "    </tr>\n",
       "    <tr>\n",
       "      <th>293</th>\n",
       "      <td>Zaire</td>\n",
       "      <td>ZAR</td>\n",
       "      <td>0</td>\n",
       "      <td>6</td>\n",
       "      <td>yes</td>\n",
       "      <td>1.582807</td>\n",
       "      <td>0.243691</td>\n",
       "      <td>0.253817</td>\n",
       "    </tr>\n",
       "    <tr>\n",
       "      <th>294</th>\n",
       "      <td>Zambia</td>\n",
       "      <td>ZMB</td>\n",
       "      <td>37</td>\n",
       "      <td>9</td>\n",
       "      <td>no</td>\n",
       "      <td>0.562193</td>\n",
       "      <td>13.486751</td>\n",
       "      <td>12.955729</td>\n",
       "    </tr>\n",
       "    <tr>\n",
       "      <th>295</th>\n",
       "      <td>Zambia</td>\n",
       "      <td>ZMB</td>\n",
       "      <td>0</td>\n",
       "      <td>9</td>\n",
       "      <td>yes</td>\n",
       "      <td>0.562193</td>\n",
       "      <td>0.183589</td>\n",
       "      <td>0.180310</td>\n",
       "    </tr>\n",
       "    <tr>\n",
       "      <th>296</th>\n",
       "      <td>Zimbabwe</td>\n",
       "      <td>ZWE</td>\n",
       "      <td>43</td>\n",
       "      <td>14</td>\n",
       "      <td>no</td>\n",
       "      <td>0.133379</td>\n",
       "      <td>12.994217</td>\n",
       "      <td>13.033457</td>\n",
       "    </tr>\n",
       "    <tr>\n",
       "      <th>297</th>\n",
       "      <td>Zimbabwe</td>\n",
       "      <td>ZWE</td>\n",
       "      <td>1</td>\n",
       "      <td>14</td>\n",
       "      <td>yes</td>\n",
       "      <td>0.133379</td>\n",
       "      <td>0.176885</td>\n",
       "      <td>0.181391</td>\n",
       "    </tr>\n",
       "  </tbody>\n",
       "</table>\n",
       "<p>298 rows × 8 columns</p>\n",
       "</div>"
      ],
      "text/plain": [
       "                  country code  violations  staff post  corruption  \\\n",
       "0                  Angola  AGO          50      9   no    1.047506   \n",
       "1                  Angola  AGO           1      9  yes    1.047506   \n",
       "2                 Albania  ALB          17      3   no    0.921079   \n",
       "3                 Albania  ALB           0      3  yes    0.921079   \n",
       "4    United Arab Emirates  ARE           0      3   no   -0.779468   \n",
       "..                    ...  ...         ...    ...  ...         ...   \n",
       "293                 Zaire  ZAR           0      6  yes    1.582807   \n",
       "294                Zambia  ZMB          37      9   no    0.562193   \n",
       "295                Zambia  ZMB           0      9  yes    0.562193   \n",
       "296              Zimbabwe  ZWE          43     14   no    0.133379   \n",
       "297              Zimbabwe  ZWE           1     14  yes    0.133379   \n",
       "\n",
       "     fitted_poisson  fitted_bneg  \n",
       "0         15.919915    16.138708  \n",
       "1          0.216711     0.224608  \n",
       "2         13.371720    11.987745  \n",
       "3          0.182023     0.166838  \n",
       "4          7.477915     5.551744  \n",
       "..              ...          ...  \n",
       "293        0.243691     0.253817  \n",
       "294       13.486751    12.955729  \n",
       "295        0.183589     0.180310  \n",
       "296       12.994217    13.033457  \n",
       "297        0.176885     0.181391  \n",
       "\n",
       "[298 rows x 8 columns]"
      ]
     },
     "execution_count": 31,
     "metadata": {},
     "output_type": "execute_result"
    }
   ],
   "source": [
    "df_corrupcao"
   ]
  },
  {
   "cell_type": "markdown",
   "id": "750496a9",
   "metadata": {},
   "source": [
    "### Comparando os Indicadores"
   ]
  },
  {
   "cell_type": "code",
   "execution_count": 32,
   "id": "684d4ac7",
   "metadata": {},
   "outputs": [
    {
     "data": {
      "text/html": [
       "<table class=\"simpletable\">\n",
       "<tr>\n",
       "       <td></td>         <th>POISSON</th>  <th>BINOMIAL NEGATIVO</th>\n",
       "</tr>\n",
       "<tr>\n",
       "  <th>Intercept</th>    <td>2.2127***</td>         <td></td>         \n",
       "</tr>\n",
       "<tr>\n",
       "  <th></th>             <td>(0.0311)</td>          <td></td>         \n",
       "</tr>\n",
       "<tr>\n",
       "  <th>alpha</th>            <td></td>          <td>2.0963***</td>    \n",
       "</tr>\n",
       "<tr>\n",
       "  <th></th>                 <td></td>          <td>(0.2434)</td>     \n",
       "</tr>\n",
       "<tr>\n",
       "  <th>const</th>            <td></td>          <td>1.9469***</td>    \n",
       "</tr>\n",
       "<tr>\n",
       "  <th></th>                 <td></td>          <td>(0.2054)</td>     \n",
       "</tr>\n",
       "<tr>\n",
       "  <th>corruption</th>   <td>0.3418***</td>     <td>0.4527***</td>    \n",
       "</tr>\n",
       "<tr>\n",
       "  <th></th>             <td>(0.0275)</td>      <td>(0.1333)</td>     \n",
       "</tr>\n",
       "<tr>\n",
       "  <th>post[T.yes]</th> <td>-4.2968***</td>         <td></td>         \n",
       "</tr>\n",
       "<tr>\n",
       "  <th></th>             <td>(0.1974)</td>          <td></td>         \n",
       "</tr>\n",
       "<tr>\n",
       "  <th>post_yes</th>         <td></td>         <td>-4.2746***</td>    \n",
       "</tr>\n",
       "<tr>\n",
       "  <th></th>                 <td></td>          <td>(0.2661)</td>     \n",
       "</tr>\n",
       "<tr>\n",
       "  <th>staff</th>        <td>0.0219***</td>     <td>0.0400***</td>    \n",
       "</tr>\n",
       "<tr>\n",
       "  <th></th>             <td>(0.0012)</td>      <td>(0.0136)</td>     \n",
       "</tr>\n",
       "<tr>\n",
       "  <th>N</th>               <td>298</td>           <td>298</td>       \n",
       "</tr>\n",
       "</table>"
      ],
      "text/plain": [
       "<class 'statsmodels.iolib.summary2.Summary'>\n",
       "\"\"\"\n",
       "\n",
       "========================================\n",
       "             POISSON   BINOMIAL NEGATIVO\n",
       "----------------------------------------\n",
       "Intercept   2.2127***                   \n",
       "            (0.0311)                    \n",
       "alpha                  2.0963***        \n",
       "                       (0.2434)         \n",
       "const                  1.9469***        \n",
       "                       (0.2054)         \n",
       "corruption  0.3418***  0.4527***        \n",
       "            (0.0275)   (0.1333)         \n",
       "post[T.yes] -4.2968***                  \n",
       "            (0.1974)                    \n",
       "post_yes               -4.2746***       \n",
       "                       (0.2661)         \n",
       "staff       0.0219***  0.0400***        \n",
       "            (0.0012)   (0.0136)         \n",
       "N           298        298              \n",
       "========================================\n",
       "Standard errors in parentheses.\n",
       "* p<.1, ** p<.05, ***p<.01\n",
       "\"\"\""
      ]
     },
     "execution_count": 32,
     "metadata": {},
     "output_type": "execute_result"
    }
   ],
   "source": [
    "# Resumo dos dois modelos obtidos\n",
    "#(poisson e Bneg)\n",
    "\n",
    "from statsmodels.iolib.summary2 import summary_col\n",
    "\n",
    "summary_col([modelo_poisson, modelo_bneg],\n",
    "            model_names=[\"POISSON\",\"BINOMIAL NEGATIVO\"],\n",
    "            stars=True,\n",
    "            info_dict = {\n",
    "                'N':lambda x: \"{0:d}\".format(int(x.nobs))\n",
    "        })"
   ]
  },
  {
   "cell_type": "code",
   "execution_count": 33,
   "id": "e2a1609c",
   "metadata": {},
   "outputs": [],
   "source": [
    "df = {'Poisson': [modelo_poisson.aic, modelo_poisson.bic_llf, modelo_poisson.llf],\n",
    "         'BNeg': [modelo_bneg.aic, modelo_bneg.bic, modelo_bneg.llf]}\n",
    "\n",
    "indicadores = pd.DataFrame(df, index=['AIC', 'BIC', 'LL'])\n"
   ]
  },
  {
   "cell_type": "code",
   "execution_count": 34,
   "id": "588096e1",
   "metadata": {},
   "outputs": [
    {
     "data": {
      "text/html": [
       "<div>\n",
       "<style scoped>\n",
       "    .dataframe tbody tr th:only-of-type {\n",
       "        vertical-align: middle;\n",
       "    }\n",
       "\n",
       "    .dataframe tbody tr th {\n",
       "        vertical-align: top;\n",
       "    }\n",
       "\n",
       "    .dataframe thead th {\n",
       "        text-align: right;\n",
       "    }\n",
       "</style>\n",
       "<table border=\"1\" class=\"dataframe\">\n",
       "  <thead>\n",
       "    <tr style=\"text-align: right;\">\n",
       "      <th></th>\n",
       "      <th>Poisson</th>\n",
       "      <th>BNeg</th>\n",
       "    </tr>\n",
       "  </thead>\n",
       "  <tbody>\n",
       "    <tr>\n",
       "      <th>AIC</th>\n",
       "      <td>4151.587506</td>\n",
       "      <td>1144.802343</td>\n",
       "    </tr>\n",
       "    <tr>\n",
       "      <th>BIC</th>\n",
       "      <td>4166.375879</td>\n",
       "      <td>1163.287811</td>\n",
       "    </tr>\n",
       "    <tr>\n",
       "      <th>LL</th>\n",
       "      <td>-2071.793753</td>\n",
       "      <td>-567.401172</td>\n",
       "    </tr>\n",
       "  </tbody>\n",
       "</table>\n",
       "</div>"
      ],
      "text/plain": [
       "         Poisson         BNeg\n",
       "AIC  4151.587506  1144.802343\n",
       "BIC  4166.375879  1163.287811\n",
       "LL  -2071.793753  -567.401172"
      ]
     },
     "execution_count": 34,
     "metadata": {},
     "output_type": "execute_result"
    }
   ],
   "source": [
    "indicadores"
   ]
  },
  {
   "cell_type": "markdown",
   "id": "1cd81da9",
   "metadata": {},
   "source": [
    "### Comparando LogLike do Modelo BNeg contra o Modelo Poisson\n",
    "\n",
    "Verificar se o ganho de LogLike do modelo é estatisticamente significativo contra o modelo de poisson\n",
    "\n",
    "Teste Qui-quadrado onde p-valor < 0,05 rejeita H0. Pelo menos 1 beta é estatisticamente diferente de zero."
   ]
  },
  {
   "cell_type": "code",
   "execution_count": 36,
   "id": "da0bcae7",
   "metadata": {},
   "outputs": [
    {
     "name": "stdout",
     "output_type": "stream",
     "text": [
      "LogLike Modelo Ref: -2071.79\n",
      "LogLike Modelo: -567.40 \n",
      "Estatistica Chi2: 3008.79\n",
      "P-value Chi2: 0.0\n"
     ]
    }
   ],
   "source": [
    "llr_test(modelo_poisson, modelo_bneg)"
   ]
  },
  {
   "cell_type": "markdown",
   "id": "546bd561",
   "metadata": {},
   "source": [
    "#### O LogLike do modelo Binomial Negativo é estatisticamente maior do que o LogLike do modelo Poisson"
   ]
  },
  {
   "cell_type": "markdown",
   "id": "59f04dcb",
   "metadata": {},
   "source": [
    "## Gráfico Comparativo de ganho de LogLike"
   ]
  },
  {
   "cell_type": "code",
   "execution_count": null,
   "id": "d22b8a67",
   "metadata": {},
   "outputs": [],
   "source": []
  },
  {
   "cell_type": "markdown",
   "id": "1581363c",
   "metadata": {},
   "source": [
    "### Quando não há superdispersão os modelos poisson e Binomial Negativo apresentam basicamente os mesmo resultados. \n",
    "\n",
    "Os parâmetros estimados pelo modelo Binomial Negativo regridem aos parâmetros estimados pelo modelo de poisson.\n",
    "\n",
    "Quando o parâmetro de forma da distribuição Binomial Negativo theta não se mostra estatisticamente significante, ou seja, a regressão Binomial Negativa não deixa de ser uma regressão Poisson para os casos em que theta  não se mostra estatisticamente diferente de zero."
   ]
  },
  {
   "cell_type": "code",
   "execution_count": null,
   "id": "66a9a36f",
   "metadata": {},
   "outputs": [],
   "source": []
  }
 ],
 "metadata": {
  "kernelspec": {
   "display_name": "Python 3 (ipykernel)",
   "language": "python",
   "name": "python3"
  },
  "language_info": {
   "codemirror_mode": {
    "name": "ipython",
    "version": 3
   },
   "file_extension": ".py",
   "mimetype": "text/x-python",
   "name": "python",
   "nbconvert_exporter": "python",
   "pygments_lexer": "ipython3",
   "version": "3.9.13"
  }
 },
 "nbformat": 4,
 "nbformat_minor": 5
}
