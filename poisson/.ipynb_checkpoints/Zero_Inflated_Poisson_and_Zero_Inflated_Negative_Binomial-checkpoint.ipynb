{
 "cells": [
  {
   "cell_type": "code",
   "execution_count": 1,
   "id": "ebdb3de8",
   "metadata": {},
   "outputs": [],
   "source": [
    "import pandas as pd\n",
    "import numpy as np\n",
    "import matplotlib as plt\n",
    "import seaborn as sns"
   ]
  },
  {
   "cell_type": "markdown",
   "id": "b7ca78e2",
   "metadata": {},
   "source": [
    "# Distribuição Zero-Inflated Poisson (ZIP) e\n",
    "# Zero-Inflated Binomial Negativa (ZINB)\n",
    "\n",
    "Exmplo da aula do MBA DSA USP/ESALQ com Prof. Luiz Fávero\n",
    "\n",
    "\n",
    "### Objetivo\n",
    "\n",
    "Analisar o comportamento de uma variável depedente em função de variáveis preditoras.<br>\n",
    "\n",
    "**Capacidade de capturar o comportamento de inflação de zeros sem Cauda Longa**\n",
    "\n",
    "Quantidade excessiva de Zeros na variável dependente.\n",
    "\n",
    "Realizar o teste de Vuong (1989) para vericiar a quantiade excessiva de zeros.\n",
    "\n",
    "### Contexto\n",
    "\n",
    "Fisman, R.; Miguel, E. Corruption, Norms, and Legal Enforcement:<br>\n",
    "Evidence from Diplomatic Parking Tickets.<br>\n",
    "Journal of Political Economy, v. 15, n. 6, p. 1020-1048, 2007.<br>\n",
    "https://www.journals.uchicago.edu/doi/abs/10.1086/527495\n",
    "\n",
    "Base contendo evidências de corrupção em multas de estacionamento.\n",
    "\n",
    "Os membros de corpo diplomático não precisam pagar multa caso estacionem em lugar proibido.<br>\n",
    "\n",
    "\n",
    "- country\n",
    "- violations: qtde de violações de trânsito por mês\n",
    "- staff: qtde de membros do corpo diplomático\n",
    "- post: antes ou depois da obrigatotriedade de multa instituído pelo prefeitura de NY\n",
    "- corruption: indicador de corrupção do pais. Maior pior.\n",
    "\n",
    "**Constructor**\n",
    "\n",
    "violations/month ~ staff + post + corruption\n",
    "\n",
    "ln(violations) = alpha + B1staff + B2post + B3corruption"
   ]
  },
  {
   "cell_type": "code",
   "execution_count": 2,
   "id": "845ed935",
   "metadata": {},
   "outputs": [
    {
     "data": {
      "text/html": [
       "<div>\n",
       "<style scoped>\n",
       "    .dataframe tbody tr th:only-of-type {\n",
       "        vertical-align: middle;\n",
       "    }\n",
       "\n",
       "    .dataframe tbody tr th {\n",
       "        vertical-align: top;\n",
       "    }\n",
       "\n",
       "    .dataframe thead th {\n",
       "        text-align: right;\n",
       "    }\n",
       "</style>\n",
       "<table border=\"1\" class=\"dataframe\">\n",
       "  <thead>\n",
       "    <tr style=\"text-align: right;\">\n",
       "      <th></th>\n",
       "      <th>country</th>\n",
       "      <th>code</th>\n",
       "      <th>violations</th>\n",
       "      <th>staff</th>\n",
       "      <th>post</th>\n",
       "      <th>corruption</th>\n",
       "    </tr>\n",
       "  </thead>\n",
       "  <tbody>\n",
       "    <tr>\n",
       "      <th>0</th>\n",
       "      <td>Angola</td>\n",
       "      <td>AGO</td>\n",
       "      <td>50</td>\n",
       "      <td>9</td>\n",
       "      <td>no</td>\n",
       "      <td>1.047506</td>\n",
       "    </tr>\n",
       "    <tr>\n",
       "      <th>1</th>\n",
       "      <td>Angola</td>\n",
       "      <td>AGO</td>\n",
       "      <td>1</td>\n",
       "      <td>9</td>\n",
       "      <td>yes</td>\n",
       "      <td>1.047506</td>\n",
       "    </tr>\n",
       "    <tr>\n",
       "      <th>2</th>\n",
       "      <td>Albania</td>\n",
       "      <td>ALB</td>\n",
       "      <td>17</td>\n",
       "      <td>3</td>\n",
       "      <td>no</td>\n",
       "      <td>0.921079</td>\n",
       "    </tr>\n",
       "    <tr>\n",
       "      <th>3</th>\n",
       "      <td>Albania</td>\n",
       "      <td>ALB</td>\n",
       "      <td>0</td>\n",
       "      <td>3</td>\n",
       "      <td>yes</td>\n",
       "      <td>0.921079</td>\n",
       "    </tr>\n",
       "    <tr>\n",
       "      <th>4</th>\n",
       "      <td>United Arab Emirates</td>\n",
       "      <td>ARE</td>\n",
       "      <td>0</td>\n",
       "      <td>3</td>\n",
       "      <td>no</td>\n",
       "      <td>-0.779468</td>\n",
       "    </tr>\n",
       "    <tr>\n",
       "      <th>...</th>\n",
       "      <td>...</td>\n",
       "      <td>...</td>\n",
       "      <td>...</td>\n",
       "      <td>...</td>\n",
       "      <td>...</td>\n",
       "      <td>...</td>\n",
       "    </tr>\n",
       "    <tr>\n",
       "      <th>293</th>\n",
       "      <td>Zaire</td>\n",
       "      <td>ZAR</td>\n",
       "      <td>0</td>\n",
       "      <td>6</td>\n",
       "      <td>yes</td>\n",
       "      <td>1.582807</td>\n",
       "    </tr>\n",
       "    <tr>\n",
       "      <th>294</th>\n",
       "      <td>Zambia</td>\n",
       "      <td>ZMB</td>\n",
       "      <td>37</td>\n",
       "      <td>9</td>\n",
       "      <td>no</td>\n",
       "      <td>0.562193</td>\n",
       "    </tr>\n",
       "    <tr>\n",
       "      <th>295</th>\n",
       "      <td>Zambia</td>\n",
       "      <td>ZMB</td>\n",
       "      <td>0</td>\n",
       "      <td>9</td>\n",
       "      <td>yes</td>\n",
       "      <td>0.562193</td>\n",
       "    </tr>\n",
       "    <tr>\n",
       "      <th>296</th>\n",
       "      <td>Zimbabwe</td>\n",
       "      <td>ZWE</td>\n",
       "      <td>43</td>\n",
       "      <td>14</td>\n",
       "      <td>no</td>\n",
       "      <td>0.133379</td>\n",
       "    </tr>\n",
       "    <tr>\n",
       "      <th>297</th>\n",
       "      <td>Zimbabwe</td>\n",
       "      <td>ZWE</td>\n",
       "      <td>1</td>\n",
       "      <td>14</td>\n",
       "      <td>yes</td>\n",
       "      <td>0.133379</td>\n",
       "    </tr>\n",
       "  </tbody>\n",
       "</table>\n",
       "<p>298 rows × 6 columns</p>\n",
       "</div>"
      ],
      "text/plain": [
       "                  country code  violations  staff post  corruption\n",
       "0                  Angola  AGO          50      9   no    1.047506\n",
       "1                  Angola  AGO           1      9  yes    1.047506\n",
       "2                 Albania  ALB          17      3   no    0.921079\n",
       "3                 Albania  ALB           0      3  yes    0.921079\n",
       "4    United Arab Emirates  ARE           0      3   no   -0.779468\n",
       "..                    ...  ...         ...    ...  ...         ...\n",
       "293                 Zaire  ZAR           0      6  yes    1.582807\n",
       "294                Zambia  ZMB          37      9   no    0.562193\n",
       "295                Zambia  ZMB           0      9  yes    0.562193\n",
       "296              Zimbabwe  ZWE          43     14   no    0.133379\n",
       "297              Zimbabwe  ZWE           1     14  yes    0.133379\n",
       "\n",
       "[298 rows x 6 columns]"
      ]
     },
     "execution_count": 2,
     "metadata": {},
     "output_type": "execute_result"
    }
   ],
   "source": [
    "#Importando a base\n",
    "df_corrupcao = pd.read_csv(r'bases\\corruption.csv')\n",
    "df_corrupcao"
   ]
  },
  {
   "cell_type": "markdown",
   "id": "72bce32e",
   "metadata": {},
   "source": [
    "## Aplicando Modelo ZIP"
   ]
  },
  {
   "cell_type": "code",
   "execution_count": 14,
   "id": "4ab810c6",
   "metadata": {},
   "outputs": [
    {
     "name": "stdout",
     "output_type": "stream",
     "text": [
      "Optimization terminated successfully.\n",
      "         Current function value: 5.977545\n",
      "         Iterations: 22\n",
      "         Function evaluations: 27\n",
      "         Gradient evaluations: 27\n"
     ]
    },
    {
     "name": "stderr",
     "output_type": "stream",
     "text": [
      "C:\\ProgramData\\Anaconda3\\lib\\site-packages\\statsmodels\\base\\model.py:604: ConvergenceWarning: Maximum Likelihood optimization failed to converge. Check mle_retvals\n",
      "  warnings.warn(\"Maximum Likelihood optimization failed to \"\n"
     ]
    }
   ],
   "source": [
    "#https://www.statsmodels.org/stable/glm.html#links\n",
    "import statsmodels.api as sm\n",
    "\n",
    "#Definindo variáveis do modelo Poisson\n",
    "X = sm.add_constant(df_corrupcao.iloc[:,3:6]) #add constante para cálculo da função\n",
    "y = df_corrupcao.violations\n",
    "\n",
    "#Definindo variáveis do modelo Inflação e add constante para cálculo da função\n",
    "x_infl = sm.add_constant(df_corrupcao.corruption)\n",
    "\n",
    "#Para esse modelo é necessário transformar a variável qualitativa em Dummie\n",
    "X_dum = pd.get_dummies(X, 'post', drop_first=True)\n",
    "\n",
    "\n",
    "modelo_zip = sm.ZeroInflatedPoisson(endog=y, exog=X_dum, exog_infl=x_infl).fit()\n"
   ]
  },
  {
   "cell_type": "code",
   "execution_count": 16,
   "id": "f3784bf6",
   "metadata": {},
   "outputs": [
    {
     "data": {
      "text/html": [
       "<table class=\"simpletable\">\n",
       "<caption>ZeroInflatedPoisson Regression Results</caption>\n",
       "<tr>\n",
       "  <th>Dep. Variable:</th>       <td>violations</td>      <th>  No. Observations:  </th>   <td>   298</td>  \n",
       "</tr>\n",
       "<tr>\n",
       "  <th>Model:</th>           <td>ZeroInflatedPoisson</td> <th>  Df Residuals:      </th>   <td>   294</td>  \n",
       "</tr>\n",
       "<tr>\n",
       "  <th>Method:</th>                  <td>MLE</td>         <th>  Df Model:          </th>   <td>     3</td>  \n",
       "</tr>\n",
       "<tr>\n",
       "  <th>Date:</th>             <td>Wed, 29 Mar 2023</td>   <th>  Pseudo R-squ.:     </th>   <td>0.1975</td>  \n",
       "</tr>\n",
       "<tr>\n",
       "  <th>Time:</th>                 <td>20:09:05</td>       <th>  Log-Likelihood:    </th>  <td> -1781.3</td> \n",
       "</tr>\n",
       "<tr>\n",
       "  <th>converged:</th>              <td>True</td>         <th>  LL-Null:           </th>  <td> -2219.8</td> \n",
       "</tr>\n",
       "<tr>\n",
       "  <th>Covariance Type:</th>      <td>nonrobust</td>      <th>  LLR p-value:       </th> <td>8.828e-190</td>\n",
       "</tr>\n",
       "</table>\n",
       "<table class=\"simpletable\">\n",
       "<tr>\n",
       "           <td></td>             <th>coef</th>     <th>std err</th>      <th>z</th>      <th>P>|z|</th>  <th>[0.025</th>    <th>0.975]</th>  \n",
       "</tr>\n",
       "<tr>\n",
       "  <th>inflate_const</th>      <td>   -1.6116</td> <td>    0.240</td> <td>   -6.714</td> <td> 0.000</td> <td>   -2.082</td> <td>   -1.141</td>\n",
       "</tr>\n",
       "<tr>\n",
       "  <th>inflate_corruption</th> <td>   -0.9523</td> <td>    0.195</td> <td>   -4.875</td> <td> 0.000</td> <td>   -1.335</td> <td>   -0.569</td>\n",
       "</tr>\n",
       "<tr>\n",
       "  <th>const</th>              <td>    2.4889</td> <td>    0.032</td> <td>   78.990</td> <td> 0.000</td> <td>    2.427</td> <td>    2.551</td>\n",
       "</tr>\n",
       "<tr>\n",
       "  <th>staff</th>              <td>    0.0200</td> <td>    0.001</td> <td>   16.154</td> <td> 0.000</td> <td>    0.018</td> <td>    0.022</td>\n",
       "</tr>\n",
       "<tr>\n",
       "  <th>corruption</th>         <td>    0.0937</td> <td>    0.030</td> <td>    3.127</td> <td> 0.002</td> <td>    0.035</td> <td>    0.152</td>\n",
       "</tr>\n",
       "<tr>\n",
       "  <th>post_yes</th>           <td>   -4.2879</td> <td>    0.201</td> <td>  -21.291</td> <td> 0.000</td> <td>   -4.683</td> <td>   -3.893</td>\n",
       "</tr>\n",
       "</table>"
      ],
      "text/plain": [
       "<class 'statsmodels.iolib.summary.Summary'>\n",
       "\"\"\"\n",
       "                     ZeroInflatedPoisson Regression Results                    \n",
       "===============================================================================\n",
       "Dep. Variable:              violations   No. Observations:                  298\n",
       "Model:             ZeroInflatedPoisson   Df Residuals:                      294\n",
       "Method:                            MLE   Df Model:                            3\n",
       "Date:                 Wed, 29 Mar 2023   Pseudo R-squ.:                  0.1975\n",
       "Time:                         20:09:05   Log-Likelihood:                -1781.3\n",
       "converged:                        True   LL-Null:                       -2219.8\n",
       "Covariance Type:             nonrobust   LLR p-value:                8.828e-190\n",
       "======================================================================================\n",
       "                         coef    std err          z      P>|z|      [0.025      0.975]\n",
       "--------------------------------------------------------------------------------------\n",
       "inflate_const         -1.6116      0.240     -6.714      0.000      -2.082      -1.141\n",
       "inflate_corruption    -0.9523      0.195     -4.875      0.000      -1.335      -0.569\n",
       "const                  2.4889      0.032     78.990      0.000       2.427       2.551\n",
       "staff                  0.0200      0.001     16.154      0.000       0.018       0.022\n",
       "corruption             0.0937      0.030      3.127      0.002       0.035       0.152\n",
       "post_yes              -4.2879      0.201    -21.291      0.000      -4.683      -3.893\n",
       "======================================================================================\n",
       "\"\"\""
      ]
     },
     "execution_count": 16,
     "metadata": {},
     "output_type": "execute_result"
    }
   ],
   "source": [
    "modelo_zip.summary()"
   ]
  },
  {
   "cell_type": "markdown",
   "id": "a5cc1743",
   "metadata": {},
   "source": [
    "## Teste de Vuong\n",
    "\n",
    "Verificar se a partir do modelo estimado contra o modelo de poisson possui inflação de zeros."
   ]
  },
  {
   "cell_type": "code",
   "execution_count": 20,
   "id": "55016f61",
   "metadata": {},
   "outputs": [],
   "source": [
    "#https://stackoverflow.com/questions/75727494/how-can-i-code-vuongs-statistical-test-in-python\n",
    "import numpy as np\n",
    "import pandas as pd\n",
    "import statsmodels.api as sm\n",
    "from scipy.stats import norm\n",
    "from sklearn.datasets import load_breast_cancer\n",
    "\n",
    "def vuong_test(mod1, mod2, correction=True):\n",
    "    '''\n",
    "    mod1, mod2 - non-nested logitstic regression fit results from statsmodels\n",
    "    '''\n",
    "    # number of observations and check of models\n",
    "    N = mod1.nobs\n",
    "    N2 = mod2.nobs\n",
    "    if N != N2:\n",
    "        raise ValueError('Models do not have the same number of observations')\n",
    "    # extract the log-likelihood for individual points with the models\n",
    "    m1 = mod1.model.loglikeobs(mod1.params)\n",
    "    m2 = mod2.model.loglikeobs(mod2.params)\n",
    "    # point-wise log likelihood ratio\n",
    "    m = m1 - m2\n",
    "    # calculate the LR statistic\n",
    "    LR = np.sum(m)\n",
    "    # calculate the AIC and BIC correction factors -> these go to zero when df is same between models\n",
    "    AICcor = mod1.df_model - mod2.df_model\n",
    "    BICcor = np.log(N)*AICcor/2\n",
    "    # calculate the omega^2 term\n",
    "    omega2 = np.var(m, ddof=1)\n",
    "    # calculate the Z statistic with and without corrections\n",
    "    Zs = np.array([LR,LR-AICcor,LR-BICcor])\n",
    "    Zs /= np.sqrt(N*omega2)\n",
    "    # calculate the p-value\n",
    "    ps = []\n",
    "    msgs = []\n",
    "    for Z in Zs:\n",
    "        if Z>0:\n",
    "            ps.append(1 - norm.cdf(Z))\n",
    "            msgs.append('model 1 preferred over model 2')\n",
    "        else:\n",
    "            ps.append(norm.cdf(Z))\n",
    "            msgs.append('model 2 preferred over model 1')\n",
    "    # share information\n",
    "    print('=== Vuong Test Results ===')\n",
    "    labs = ['Uncorrected']\n",
    "    if AICcor!=0:\n",
    "        labs += ['AIC Corrected','BIC Corrected']\n",
    "    for lab,msg,p,Z in zip(labs,msgs,ps,Zs):\n",
    "        print('  -> '+lab)\n",
    "        print('    -> '+msg)\n",
    "        print('    -> Z: '+str(Z))\n",
    "        print('    -> p: '+str(p))"
   ]
  },
  {
   "cell_type": "markdown",
   "id": "ce6b9417",
   "metadata": {},
   "source": [
    "**Resultado da função equivale ao RAW na função em R onde p < 0,05 rejeita H0. Existe inflação de Zeros**"
   ]
  },
  {
   "cell_type": "code",
   "execution_count": 21,
   "id": "1e8b44f9",
   "metadata": {},
   "outputs": [
    {
     "name": "stdout",
     "output_type": "stream",
     "text": [
      "Optimization terminated successfully.\n",
      "         Current function value: 6.952328\n",
      "         Iterations 9\n",
      "=== Vuong Test Results ===\n",
      "  -> Uncorrected\n",
      "    -> model 1 preferred over model 2\n",
      "    -> Z: 2.9877590232091156\n",
      "    -> p: 0.0014051552109882737\n"
     ]
    }
   ],
   "source": [
    "\n",
    "#Cria modelo Poisson\n",
    "modelo_poisson = sm.Poisson(y, X_dum).fit()\n",
    "\n",
    "#Aplica Teste\n",
    "vuong_test(modelo_zip, modelo_poisson)"
   ]
  },
  {
   "cell_type": "markdown",
   "id": "1ace2585",
   "metadata": {},
   "source": [
    "## LogLike Ratior Test"
   ]
  },
  {
   "cell_type": "code",
   "execution_count": 32,
   "id": "6e6c36ea",
   "metadata": {},
   "outputs": [],
   "source": [
    "def llrtest (model_ref, model_test):\n",
    "    \n",
    "    from scipy.stats import chi2\n",
    "    \n",
    "    if model_ref == model_test:\n",
    "\n",
    "        stats_chi2 = -2*(model_ref.llnull - model_test.llf)\n",
    "        \n",
    "        return print(f\"\"\"LogLike Modelo Nulo: {model_ref.llnull:.2f}\n",
    "LogLike Modelo: {model_test.llf:.2f}\n",
    "Estatistica Chi2: {stats_chi2:.2f}\n",
    "P-value Chi2: {1-chi2.cdf(stats_chi2, df=model_test.df_model)}\"\"\")\n",
    "            \n",
    "    else:\n",
    "        \n",
    "        stats_chi2 = -2*(model_ref.llf - model_test.llf)\n",
    "        \n",
    "        return print(f\"\"\"LogLike Modelo Ref: {model_ref.llf:.2f}\n",
    "LogLike Modelo: {model_test.llf:.2f} \n",
    "Estatistica Chi2: {stats_chi2:.2f}\n",
    "P-value Chi2: {1-chi2.cdf(stats_chi2, df=model_test.df_model)}\"\"\")"
   ]
  },
  {
   "cell_type": "markdown",
   "id": "cc41b8e6",
   "metadata": {},
   "source": [
    "### Teste a favor do modelo ZIP com LL estatisticamente maior do que o modelo Referência (Poisson)."
   ]
  },
  {
   "cell_type": "code",
   "execution_count": 33,
   "id": "1235ae6b",
   "metadata": {},
   "outputs": [
    {
     "name": "stdout",
     "output_type": "stream",
     "text": [
      "LogLike Modelo Ref: -2071.79\n",
      "LogLike Modelo: -1781.31 \n",
      "Estatistica Chi2: 580.97\n",
      "P-value Chi2: 0.0\n"
     ]
    }
   ],
   "source": [
    "llrtest(modelo_poisson, modelo_zip)"
   ]
  },
  {
   "cell_type": "markdown",
   "id": "17166950",
   "metadata": {},
   "source": [
    "## Comparando os Modelo"
   ]
  },
  {
   "cell_type": "code",
   "execution_count": null,
   "id": "9c7d2d61",
   "metadata": {},
   "outputs": [],
   "source": []
  },
  {
   "cell_type": "code",
   "execution_count": 44,
   "id": "46c94dbe",
   "metadata": {},
   "outputs": [
    {
     "name": "stdout",
     "output_type": "stream",
     "text": [
      "modelo poisson: [17.93283965]\n"
     ]
    }
   ],
   "source": [
    "print(f'modelo poisson: {modelo_poisson.predict([1, 23, 0.5, 0])}')\n",
    "#print(f'modelo ZIP: {modelo_zip.predict([1,0.5, 1, 23, 0.5, 0])}')"
   ]
  },
  {
   "cell_type": "code",
   "execution_count": 38,
   "id": "ef9ec6db",
   "metadata": {},
   "outputs": [
    {
     "data": {
      "text/plain": [
       "inflate_const        -1.611649\n",
       "inflate_corruption   -0.952315\n",
       "const                 2.488877\n",
       "staff                 0.020020\n",
       "corruption            0.093722\n",
       "post_yes             -4.287916\n",
       "dtype: float64"
      ]
     },
     "execution_count": 38,
     "metadata": {},
     "output_type": "execute_result"
    }
   ],
   "source": [
    "modelo_zip.params"
   ]
  },
  {
   "cell_type": "code",
   "execution_count": 43,
   "id": "846d0577",
   "metadata": {},
   "outputs": [
    {
     "data": {
      "text/plain": [
       "17.80272023251229"
      ]
     },
     "execution_count": 43,
     "metadata": {},
     "output_type": "execute_result"
    }
   ],
   "source": [
    "# Cálculo manual da Previsão do Modelo ZIP com \n",
    "#Corruption 0.5\n",
    "#Staff 23\n",
    "#Post_yes No\n",
    "(1 - (1/(1 + np.exp(-(-1.6117 - 0.9524*0.5)))))*(np.exp(2.488877 + 0.020020*23 - 4.287916*0 + 0.093722*0.5))"
   ]
  },
  {
   "cell_type": "markdown",
   "id": "7bea01c8",
   "metadata": {},
   "source": [
    "# Zero-Inflated Binomial Negativa (ZINB)\n",
    "\n",
    "### Objetivo\n",
    "\n",
    "Analisar o comportamento de uma variável depedente em função de variáveis preditoras.<br>\n",
    "\n",
    "**Capacidade de capturar o comportamento de inflação de zeros COM Cauda Longa**"
   ]
  },
  {
   "cell_type": "code",
   "execution_count": 45,
   "id": "6f9619ee",
   "metadata": {},
   "outputs": [
    {
     "name": "stdout",
     "output_type": "stream",
     "text": [
      "Warning: Maximum number of iterations has been exceeded.\n",
      "         Current function value: 1.870015\n",
      "         Iterations: 35\n",
      "         Function evaluations: 39\n",
      "         Gradient evaluations: 39\n"
     ]
    },
    {
     "name": "stderr",
     "output_type": "stream",
     "text": [
      "C:\\ProgramData\\Anaconda3\\lib\\site-packages\\statsmodels\\base\\model.py:604: ConvergenceWarning: Maximum Likelihood optimization failed to converge. Check mle_retvals\n",
      "  warnings.warn(\"Maximum Likelihood optimization failed to \"\n"
     ]
    },
    {
     "data": {
      "text/html": [
       "<table class=\"simpletable\">\n",
       "<caption>ZeroInflatedNegativeBinomialP Regression Results</caption>\n",
       "<tr>\n",
       "  <th>Dep. Variable:</th>            <td>violations</td>           <th>  No. Observations:  </th>  <td>   298</td>  \n",
       "</tr>\n",
       "<tr>\n",
       "  <th>Model:</th>           <td>ZeroInflatedNegativeBinomialP</td> <th>  Df Residuals:      </th>  <td>   294</td>  \n",
       "</tr>\n",
       "<tr>\n",
       "  <th>Method:</th>                       <td>MLE</td>              <th>  Df Model:          </th>  <td>     3</td>  \n",
       "</tr>\n",
       "<tr>\n",
       "  <th>Date:</th>                  <td>Wed, 29 Mar 2023</td>        <th>  Pseudo R-squ.:     </th>  <td>0.1700</td>  \n",
       "</tr>\n",
       "<tr>\n",
       "  <th>Time:</th>                      <td>20:57:10</td>            <th>  Log-Likelihood:    </th> <td> -557.26</td> \n",
       "</tr>\n",
       "<tr>\n",
       "  <th>converged:</th>                   <td>False</td>             <th>  LL-Null:           </th> <td> -671.37</td> \n",
       "</tr>\n",
       "<tr>\n",
       "  <th>Covariance Type:</th>           <td>nonrobust</td>           <th>  LLR p-value:       </th> <td>3.353e-49</td>\n",
       "</tr>\n",
       "</table>\n",
       "<table class=\"simpletable\">\n",
       "<tr>\n",
       "           <td></td>             <th>coef</th>     <th>std err</th>      <th>z</th>      <th>P>|z|</th>  <th>[0.025</th>    <th>0.975]</th>  \n",
       "</tr>\n",
       "<tr>\n",
       "  <th>inflate_const</th>      <td>  -17.9857</td> <td>    9.287</td> <td>   -1.937</td> <td> 0.053</td> <td>  -36.187</td> <td>    0.216</td>\n",
       "</tr>\n",
       "<tr>\n",
       "  <th>inflate_corruption</th> <td>   -8.1104</td> <td>    4.037</td> <td>   -2.009</td> <td> 0.045</td> <td>  -16.023</td> <td>   -0.197</td>\n",
       "</tr>\n",
       "<tr>\n",
       "  <th>const</th>              <td>    2.0324</td> <td>    0.203</td> <td>    9.988</td> <td> 0.000</td> <td>    1.634</td> <td>    2.431</td>\n",
       "</tr>\n",
       "<tr>\n",
       "  <th>staff</th>              <td>    0.0411</td> <td>    0.013</td> <td>    3.078</td> <td> 0.002</td> <td>    0.015</td> <td>    0.067</td>\n",
       "</tr>\n",
       "<tr>\n",
       "  <th>corruption</th>         <td>    0.1815</td> <td>    0.147</td> <td>    1.237</td> <td> 0.216</td> <td>   -0.106</td> <td>    0.469</td>\n",
       "</tr>\n",
       "<tr>\n",
       "  <th>post_yes</th>           <td>   -4.2638</td> <td>    0.261</td> <td>  -16.328</td> <td> 0.000</td> <td>   -4.776</td> <td>   -3.752</td>\n",
       "</tr>\n",
       "<tr>\n",
       "  <th>alpha</th>              <td>    1.8560</td> <td>    0.218</td> <td>    8.518</td> <td> 0.000</td> <td>    1.429</td> <td>    2.283</td>\n",
       "</tr>\n",
       "</table>"
      ],
      "text/plain": [
       "<class 'statsmodels.iolib.summary.Summary'>\n",
       "\"\"\"\n",
       "                     ZeroInflatedNegativeBinomialP Regression Results                    \n",
       "=========================================================================================\n",
       "Dep. Variable:                        violations   No. Observations:                  298\n",
       "Model:             ZeroInflatedNegativeBinomialP   Df Residuals:                      294\n",
       "Method:                                      MLE   Df Model:                            3\n",
       "Date:                           Wed, 29 Mar 2023   Pseudo R-squ.:                  0.1700\n",
       "Time:                                   20:57:10   Log-Likelihood:                -557.26\n",
       "converged:                                 False   LL-Null:                       -671.37\n",
       "Covariance Type:                       nonrobust   LLR p-value:                 3.353e-49\n",
       "======================================================================================\n",
       "                         coef    std err          z      P>|z|      [0.025      0.975]\n",
       "--------------------------------------------------------------------------------------\n",
       "inflate_const        -17.9857      9.287     -1.937      0.053     -36.187       0.216\n",
       "inflate_corruption    -8.1104      4.037     -2.009      0.045     -16.023      -0.197\n",
       "const                  2.0324      0.203      9.988      0.000       1.634       2.431\n",
       "staff                  0.0411      0.013      3.078      0.002       0.015       0.067\n",
       "corruption             0.1815      0.147      1.237      0.216      -0.106       0.469\n",
       "post_yes              -4.2638      0.261    -16.328      0.000      -4.776      -3.752\n",
       "alpha                  1.8560      0.218      8.518      0.000       1.429       2.283\n",
       "======================================================================================\n",
       "\"\"\""
      ]
     },
     "execution_count": 45,
     "metadata": {},
     "output_type": "execute_result"
    }
   ],
   "source": [
    "modelo_zinb = sm.ZeroInflatedNegativeBinomialP(y, X_dum, exog_infl=x_infl).fit()\n",
    "modelo_zinb.summary()"
   ]
  },
  {
   "cell_type": "code",
   "execution_count": 47,
   "id": "3909c665",
   "metadata": {},
   "outputs": [
    {
     "data": {
      "text/plain": [
       "0.538788500861243"
      ]
     },
     "execution_count": 47,
     "metadata": {},
     "output_type": "execute_result"
    }
   ],
   "source": [
    "theta = 1/modelo_zinb.params['alpha']\n",
    "theta"
   ]
  },
  {
   "cell_type": "markdown",
   "id": "cb2d23f7",
   "metadata": {},
   "source": [
    "### Teste de Vuong para verificar Ocorrência de Inflação de Zeros entre o modelo Bneg e ZINB\n",
    "\n",
    "p_value < 0,05, existe inflação de zeros"
   ]
  },
  {
   "cell_type": "code",
   "execution_count": 51,
   "id": "1448485c",
   "metadata": {},
   "outputs": [
    {
     "name": "stdout",
     "output_type": "stream",
     "text": [
      "Optimization terminated successfully.\n",
      "         Current function value: 1.904031\n",
      "         Iterations: 19\n",
      "         Function evaluations: 23\n",
      "         Gradient evaluations: 23\n",
      "=== Vuong Test Results ===\n",
      "  -> Uncorrected\n",
      "    -> model 1 preferred over model 2\n",
      "    -> Z: 1.944023255622406\n",
      "    -> p: 0.02594632338431324\n"
     ]
    }
   ],
   "source": [
    "modelo_bneg = sm.NegativeBinomial(y, X_dum).fit()\n",
    "vuong_test(modelo_zinb, modelo_bneg)"
   ]
  },
  {
   "cell_type": "markdown",
   "id": "d444f007",
   "metadata": {},
   "source": [
    "## LogLike Ratio Teste Para verificar melhoria do LL em relação ao Modelo Bneg\n",
    "\n",
    "p_value < 0,05, o ganho é estatisticamente significativo"
   ]
  },
  {
   "cell_type": "code",
   "execution_count": 50,
   "id": "49855e81",
   "metadata": {},
   "outputs": [
    {
     "name": "stdout",
     "output_type": "stream",
     "text": [
      "LogLike Modelo Ref: -567.40\n",
      "LogLike Modelo: -557.26 \n",
      "Estatistica Chi2: 20.27\n",
      "P-value Chi2: 0.00014896052524815406\n"
     ]
    }
   ],
   "source": [
    "llrtest(modelo_bneg, modelo_zinb)"
   ]
  },
  {
   "cell_type": "markdown",
   "id": "1bb676de",
   "metadata": {},
   "source": [
    "**O modelo Zero Inflated Negative Binomial é o que melhor captura a inflação de zeros e a cauda longa dos dados da variável dependente.** "
   ]
  },
  {
   "cell_type": "markdown",
   "id": "0d40a30d",
   "metadata": {},
   "source": [
    "## Incluindo Fitted Values na Base"
   ]
  },
  {
   "cell_type": "code",
   "execution_count": 57,
   "id": "e84afda2",
   "metadata": {},
   "outputs": [],
   "source": [
    "df_corrupcao['fitted_poisson'] = modelo_poisson.predict(X_dum)\n",
    "df_corrupcao['fitted_bneg'] = modelo_bneg.predict(X_dum)\n",
    "df_corrupcao['fitted_zip'] = modelo_zip.predict(X_dum)\n",
    "df_corrupcao['fitted_zinb'] = modelo_zinb.predict(X_dum)"
   ]
  },
  {
   "cell_type": "code",
   "execution_count": 58,
   "id": "1431504d",
   "metadata": {},
   "outputs": [
    {
     "data": {
      "text/html": [
       "<div>\n",
       "<style scoped>\n",
       "    .dataframe tbody tr th:only-of-type {\n",
       "        vertical-align: middle;\n",
       "    }\n",
       "\n",
       "    .dataframe tbody tr th {\n",
       "        vertical-align: top;\n",
       "    }\n",
       "\n",
       "    .dataframe thead th {\n",
       "        text-align: right;\n",
       "    }\n",
       "</style>\n",
       "<table border=\"1\" class=\"dataframe\">\n",
       "  <thead>\n",
       "    <tr style=\"text-align: right;\">\n",
       "      <th></th>\n",
       "      <th>country</th>\n",
       "      <th>code</th>\n",
       "      <th>violations</th>\n",
       "      <th>staff</th>\n",
       "      <th>post</th>\n",
       "      <th>corruption</th>\n",
       "      <th>fitted_poisson</th>\n",
       "      <th>fitted_bneg</th>\n",
       "      <th>fitted_zip</th>\n",
       "      <th>fitted_zinb</th>\n",
       "    </tr>\n",
       "  </thead>\n",
       "  <tbody>\n",
       "    <tr>\n",
       "      <th>0</th>\n",
       "      <td>Angola</td>\n",
       "      <td>AGO</td>\n",
       "      <td>50</td>\n",
       "      <td>9</td>\n",
       "      <td>no</td>\n",
       "      <td>1.047506</td>\n",
       "      <td>15.919915</td>\n",
       "      <td>16.138708</td>\n",
       "      <td>14.823562</td>\n",
       "      <td>13.358543</td>\n",
       "    </tr>\n",
       "    <tr>\n",
       "      <th>1</th>\n",
       "      <td>Angola</td>\n",
       "      <td>AGO</td>\n",
       "      <td>1</td>\n",
       "      <td>9</td>\n",
       "      <td>yes</td>\n",
       "      <td>1.047506</td>\n",
       "      <td>0.216711</td>\n",
       "      <td>0.224608</td>\n",
       "      <td>0.203580</td>\n",
       "      <td>0.187939</td>\n",
       "    </tr>\n",
       "    <tr>\n",
       "      <th>2</th>\n",
       "      <td>Albania</td>\n",
       "      <td>ALB</td>\n",
       "      <td>17</td>\n",
       "      <td>3</td>\n",
       "      <td>no</td>\n",
       "      <td>0.921079</td>\n",
       "      <td>13.371720</td>\n",
       "      <td>11.987745</td>\n",
       "      <td>12.877979</td>\n",
       "      <td>10.203814</td>\n",
       "    </tr>\n",
       "    <tr>\n",
       "      <th>3</th>\n",
       "      <td>Albania</td>\n",
       "      <td>ALB</td>\n",
       "      <td>0</td>\n",
       "      <td>3</td>\n",
       "      <td>yes</td>\n",
       "      <td>0.921079</td>\n",
       "      <td>0.182023</td>\n",
       "      <td>0.166838</td>\n",
       "      <td>0.176860</td>\n",
       "      <td>0.143555</td>\n",
       "    </tr>\n",
       "    <tr>\n",
       "      <th>4</th>\n",
       "      <td>United Arab Emirates</td>\n",
       "      <td>ARE</td>\n",
       "      <td>0</td>\n",
       "      <td>3</td>\n",
       "      <td>no</td>\n",
       "      <td>-0.779468</td>\n",
       "      <td>7.477915</td>\n",
       "      <td>5.551744</td>\n",
       "      <td>8.379367</td>\n",
       "      <td>7.494531</td>\n",
       "    </tr>\n",
       "    <tr>\n",
       "      <th>...</th>\n",
       "      <td>...</td>\n",
       "      <td>...</td>\n",
       "      <td>...</td>\n",
       "      <td>...</td>\n",
       "      <td>...</td>\n",
       "      <td>...</td>\n",
       "      <td>...</td>\n",
       "      <td>...</td>\n",
       "      <td>...</td>\n",
       "      <td>...</td>\n",
       "    </tr>\n",
       "    <tr>\n",
       "      <th>293</th>\n",
       "      <td>Zaire</td>\n",
       "      <td>ZAR</td>\n",
       "      <td>0</td>\n",
       "      <td>6</td>\n",
       "      <td>yes</td>\n",
       "      <td>1.582807</td>\n",
       "      <td>0.243691</td>\n",
       "      <td>0.253817</td>\n",
       "      <td>0.207250</td>\n",
       "      <td>0.183098</td>\n",
       "    </tr>\n",
       "    <tr>\n",
       "      <th>294</th>\n",
       "      <td>Zambia</td>\n",
       "      <td>ZMB</td>\n",
       "      <td>37</td>\n",
       "      <td>9</td>\n",
       "      <td>no</td>\n",
       "      <td>0.562193</td>\n",
       "      <td>13.486751</td>\n",
       "      <td>12.955729</td>\n",
       "      <td>13.616058</td>\n",
       "      <td>12.232444</td>\n",
       "    </tr>\n",
       "    <tr>\n",
       "      <th>295</th>\n",
       "      <td>Zambia</td>\n",
       "      <td>ZMB</td>\n",
       "      <td>0</td>\n",
       "      <td>9</td>\n",
       "      <td>yes</td>\n",
       "      <td>0.562193</td>\n",
       "      <td>0.183589</td>\n",
       "      <td>0.180310</td>\n",
       "      <td>0.186996</td>\n",
       "      <td>0.172096</td>\n",
       "    </tr>\n",
       "    <tr>\n",
       "      <th>296</th>\n",
       "      <td>Zimbabwe</td>\n",
       "      <td>ZWE</td>\n",
       "      <td>43</td>\n",
       "      <td>14</td>\n",
       "      <td>no</td>\n",
       "      <td>0.133379</td>\n",
       "      <td>12.994217</td>\n",
       "      <td>13.033457</td>\n",
       "      <td>13.732195</td>\n",
       "      <td>13.896783</td>\n",
       "    </tr>\n",
       "    <tr>\n",
       "      <th>297</th>\n",
       "      <td>Zimbabwe</td>\n",
       "      <td>ZWE</td>\n",
       "      <td>1</td>\n",
       "      <td>14</td>\n",
       "      <td>yes</td>\n",
       "      <td>0.133379</td>\n",
       "      <td>0.176885</td>\n",
       "      <td>0.181391</td>\n",
       "      <td>0.188591</td>\n",
       "      <td>0.195511</td>\n",
       "    </tr>\n",
       "  </tbody>\n",
       "</table>\n",
       "<p>298 rows × 10 columns</p>\n",
       "</div>"
      ],
      "text/plain": [
       "                  country code  violations  staff post  corruption  \\\n",
       "0                  Angola  AGO          50      9   no    1.047506   \n",
       "1                  Angola  AGO           1      9  yes    1.047506   \n",
       "2                 Albania  ALB          17      3   no    0.921079   \n",
       "3                 Albania  ALB           0      3  yes    0.921079   \n",
       "4    United Arab Emirates  ARE           0      3   no   -0.779468   \n",
       "..                    ...  ...         ...    ...  ...         ...   \n",
       "293                 Zaire  ZAR           0      6  yes    1.582807   \n",
       "294                Zambia  ZMB          37      9   no    0.562193   \n",
       "295                Zambia  ZMB           0      9  yes    0.562193   \n",
       "296              Zimbabwe  ZWE          43     14   no    0.133379   \n",
       "297              Zimbabwe  ZWE           1     14  yes    0.133379   \n",
       "\n",
       "     fitted_poisson  fitted_bneg  fitted_zip  fitted_zinb  \n",
       "0         15.919915    16.138708   14.823562    13.358543  \n",
       "1          0.216711     0.224608    0.203580     0.187939  \n",
       "2         13.371720    11.987745   12.877979    10.203814  \n",
       "3          0.182023     0.166838    0.176860     0.143555  \n",
       "4          7.477915     5.551744    8.379367     7.494531  \n",
       "..              ...          ...         ...          ...  \n",
       "293        0.243691     0.253817    0.207250     0.183098  \n",
       "294       13.486751    12.955729   13.616058    12.232444  \n",
       "295        0.183589     0.180310    0.186996     0.172096  \n",
       "296       12.994217    13.033457   13.732195    13.896783  \n",
       "297        0.176885     0.181391    0.188591     0.195511  \n",
       "\n",
       "[298 rows x 10 columns]"
      ]
     },
     "execution_count": 58,
     "metadata": {},
     "output_type": "execute_result"
    }
   ],
   "source": [
    "df_corrupcao"
   ]
  },
  {
   "cell_type": "markdown",
   "id": "46239bd1",
   "metadata": {},
   "source": [
    "# Modelo OLS para Comparação\n",
    "\n",
    "Nível ineficiência do modelo de Regressão Linear"
   ]
  },
  {
   "cell_type": "code",
   "execution_count": 59,
   "id": "9af428f5",
   "metadata": {},
   "outputs": [
    {
     "data": {
      "text/html": [
       "<table class=\"simpletable\">\n",
       "<caption>OLS Regression Results</caption>\n",
       "<tr>\n",
       "  <th>Dep. Variable:</th>       <td>violations</td>    <th>  R-squared:         </th> <td>   0.150</td>\n",
       "</tr>\n",
       "<tr>\n",
       "  <th>Model:</th>                   <td>OLS</td>       <th>  Adj. R-squared:    </th> <td>   0.142</td>\n",
       "</tr>\n",
       "<tr>\n",
       "  <th>Method:</th>             <td>Least Squares</td>  <th>  F-statistic:       </th> <td>   17.34</td>\n",
       "</tr>\n",
       "<tr>\n",
       "  <th>Date:</th>             <td>Wed, 29 Mar 2023</td> <th>  Prob (F-statistic):</th> <td>2.15e-10</td>\n",
       "</tr>\n",
       "<tr>\n",
       "  <th>Time:</th>                 <td>21:10:53</td>     <th>  Log-Likelihood:    </th> <td> -1262.9</td>\n",
       "</tr>\n",
       "<tr>\n",
       "  <th>No. Observations:</th>      <td>   298</td>      <th>  AIC:               </th> <td>   2534.</td>\n",
       "</tr>\n",
       "<tr>\n",
       "  <th>Df Residuals:</th>          <td>   294</td>      <th>  BIC:               </th> <td>   2549.</td>\n",
       "</tr>\n",
       "<tr>\n",
       "  <th>Df Model:</th>              <td>     3</td>      <th>                     </th>     <td> </td>   \n",
       "</tr>\n",
       "<tr>\n",
       "  <th>Covariance Type:</th>      <td>nonrobust</td>    <th>                     </th>     <td> </td>   \n",
       "</tr>\n",
       "</table>\n",
       "<table class=\"simpletable\">\n",
       "<tr>\n",
       "       <td></td>         <th>coef</th>     <th>std err</th>      <th>t</th>      <th>P>|t|</th>  <th>[0.025</th>    <th>0.975]</th>  \n",
       "</tr>\n",
       "<tr>\n",
       "  <th>const</th>      <td>    9.7926</td> <td>    1.756</td> <td>    5.577</td> <td> 0.000</td> <td>    6.337</td> <td>   13.248</td>\n",
       "</tr>\n",
       "<tr>\n",
       "  <th>staff</th>      <td>    0.2538</td> <td>    0.091</td> <td>    2.775</td> <td> 0.006</td> <td>    0.074</td> <td>    0.434</td>\n",
       "</tr>\n",
       "<tr>\n",
       "  <th>corruption</th> <td>    2.2367</td> <td>    1.001</td> <td>    2.235</td> <td> 0.026</td> <td>    0.267</td> <td>    4.206</td>\n",
       "</tr>\n",
       "<tr>\n",
       "  <th>post_yes</th>   <td>  -12.6443</td> <td>    1.955</td> <td>   -6.469</td> <td> 0.000</td> <td>  -16.491</td> <td>   -8.797</td>\n",
       "</tr>\n",
       "</table>\n",
       "<table class=\"simpletable\">\n",
       "<tr>\n",
       "  <th>Omnibus:</th>       <td>355.094</td> <th>  Durbin-Watson:     </th> <td>   2.022</td> \n",
       "</tr>\n",
       "<tr>\n",
       "  <th>Prob(Omnibus):</th> <td> 0.000</td>  <th>  Jarque-Bera (JB):  </th> <td>20158.543</td>\n",
       "</tr>\n",
       "<tr>\n",
       "  <th>Skew:</th>          <td> 5.312</td>  <th>  Prob(JB):          </th> <td>    0.00</td> \n",
       "</tr>\n",
       "<tr>\n",
       "  <th>Kurtosis:</th>      <td>41.867</td>  <th>  Cond. No.          </th> <td>    38.5</td> \n",
       "</tr>\n",
       "</table><br/><br/>Notes:<br/>[1] Standard Errors assume that the covariance matrix of the errors is correctly specified."
      ],
      "text/plain": [
       "<class 'statsmodels.iolib.summary.Summary'>\n",
       "\"\"\"\n",
       "                            OLS Regression Results                            \n",
       "==============================================================================\n",
       "Dep. Variable:             violations   R-squared:                       0.150\n",
       "Model:                            OLS   Adj. R-squared:                  0.142\n",
       "Method:                 Least Squares   F-statistic:                     17.34\n",
       "Date:                Wed, 29 Mar 2023   Prob (F-statistic):           2.15e-10\n",
       "Time:                        21:10:53   Log-Likelihood:                -1262.9\n",
       "No. Observations:                 298   AIC:                             2534.\n",
       "Df Residuals:                     294   BIC:                             2549.\n",
       "Df Model:                           3                                         \n",
       "Covariance Type:            nonrobust                                         \n",
       "==============================================================================\n",
       "                 coef    std err          t      P>|t|      [0.025      0.975]\n",
       "------------------------------------------------------------------------------\n",
       "const          9.7926      1.756      5.577      0.000       6.337      13.248\n",
       "staff          0.2538      0.091      2.775      0.006       0.074       0.434\n",
       "corruption     2.2367      1.001      2.235      0.026       0.267       4.206\n",
       "post_yes     -12.6443      1.955     -6.469      0.000     -16.491      -8.797\n",
       "==============================================================================\n",
       "Omnibus:                      355.094   Durbin-Watson:                   2.022\n",
       "Prob(Omnibus):                  0.000   Jarque-Bera (JB):            20158.543\n",
       "Skew:                           5.312   Prob(JB):                         0.00\n",
       "Kurtosis:                      41.867   Cond. No.                         38.5\n",
       "==============================================================================\n",
       "\n",
       "Notes:\n",
       "[1] Standard Errors assume that the covariance matrix of the errors is correctly specified.\n",
       "\"\"\""
      ]
     },
     "execution_count": 59,
     "metadata": {},
     "output_type": "execute_result"
    }
   ],
   "source": [
    "modelo_lm = sm.OLS(y, X_dum).fit()\n",
    "modelo_lm.summary()"
   ]
  },
  {
   "cell_type": "markdown",
   "id": "c3dfaa3f",
   "metadata": {},
   "source": [
    "### Teste de Verificação da Aderência dos Resíduos à Normalidade (Shapiro-Francia)\n",
    "\n",
    "Caso os erros não sigam uma distribuição normal, o modelo não é adequado para fins preditivos. <br>\n",
    "Os betas não são ajustados para que consigam fazer inferência a partir dos intervalos de confiança daqueles parâmetros e construção de cenários.\n",
    "\n",
    "> Teste Shapiro-Francia: n >= 30\n",
    "\n",
    "> Teste Shapiro-Wilk: n < 30\n",
    "\n",
    "\n",
    "onde,\n",
    "\n",
    " - H0: Diferênças não são estatisticamente significantes (existe aderência à normalidade);\n",
    " - H1: Diferênças são estatisticamente significantes (não é uma normal)\n",
    " \n",
    "p-value < 0,05 rejeita-se H0"
   ]
  },
  {
   "cell_type": "code",
   "execution_count": 60,
   "id": "d830b2b6",
   "metadata": {},
   "outputs": [
    {
     "data": {
      "text/plain": [
       "(0.5370519161224365, 2.6539385893064052e-27)"
      ]
     },
     "execution_count": 60,
     "metadata": {},
     "output_type": "execute_result"
    }
   ],
   "source": [
    "from scipy.stats import shapiro\n",
    "\n",
    "stat, p_value = shapiro(modelo_lm.resid)\n",
    "stat , p_value"
   ]
  },
  {
   "cell_type": "code",
   "execution_count": 63,
   "id": "32bf94f7",
   "metadata": {},
   "outputs": [
    {
     "name": "stdout",
     "output_type": "stream",
     "text": [
      "LogLike Modelo Ref: -557.26\n",
      "LogLike Modelo: -1262.86 \n",
      "Estatistica Chi2: -1411.19\n",
      "P-value Chi2: 1.0\n"
     ]
    }
   ],
   "source": [
    "llrtest(modelo_zinb, modelo_lm)"
   ]
  },
  {
   "cell_type": "markdown",
   "id": "ff4e8068",
   "metadata": {},
   "source": [
    "### Transformação de Box-Cox\n",
    "\n",
    "O modelo LM não possui resíduos aderentes à normalidade pelo teste Shapiro-Francia.<br>\n",
    "Devemos transformar a variável Y em uma normal aplicando o método de Box Cox:"
   ]
  },
  {
   "cell_type": "markdown",
   "id": "8a37b5ca",
   "metadata": {},
   "source": [
    "Antes precisamos somar 0.0001 na variável Y para transformação de Box-Cox pois zeros impedem a transformação."
   ]
  },
  {
   "cell_type": "code",
   "execution_count": 65,
   "id": "66189355",
   "metadata": {},
   "outputs": [],
   "source": [
    "df_corrupcao['violations1'] = df_corrupcao.violations + 0.001"
   ]
  },
  {
   "cell_type": "code",
   "execution_count": 66,
   "id": "24dceb2b",
   "metadata": {},
   "outputs": [
    {
     "data": {
      "text/plain": [
       "-0.06364174393948599"
      ]
     },
     "execution_count": 66,
     "metadata": {},
     "output_type": "execute_result"
    }
   ],
   "source": [
    "#https://docs.scipy.org/doc/scipy/reference/generated/scipy.stats.boxcox.html\n",
    "from scipy import stats\n",
    "\n",
    "y_lamb, lambida_otimo = stats.boxcox(df_corrupcao.violations1)\n",
    "lambida_otimo"
   ]
  },
  {
   "cell_type": "markdown",
   "id": "3c95c112",
   "metadata": {},
   "source": [
    "O lambda é próximo de zero para garantir a forma funcional semi-logarítima para dados de contagem"
   ]
  },
  {
   "cell_type": "code",
   "execution_count": 67,
   "id": "ebac53c8",
   "metadata": {},
   "outputs": [],
   "source": [
    "#Inserindo a variável transformada no banco de dados\n",
    "df_corrupcao['bc_violations'] = y_lamb"
   ]
  },
  {
   "cell_type": "code",
   "execution_count": 68,
   "id": "a6814162",
   "metadata": {},
   "outputs": [
    {
     "data": {
      "text/html": [
       "<div>\n",
       "<style scoped>\n",
       "    .dataframe tbody tr th:only-of-type {\n",
       "        vertical-align: middle;\n",
       "    }\n",
       "\n",
       "    .dataframe tbody tr th {\n",
       "        vertical-align: top;\n",
       "    }\n",
       "\n",
       "    .dataframe thead th {\n",
       "        text-align: right;\n",
       "    }\n",
       "</style>\n",
       "<table border=\"1\" class=\"dataframe\">\n",
       "  <thead>\n",
       "    <tr style=\"text-align: right;\">\n",
       "      <th></th>\n",
       "      <th>country</th>\n",
       "      <th>code</th>\n",
       "      <th>violations</th>\n",
       "      <th>staff</th>\n",
       "      <th>post</th>\n",
       "      <th>corruption</th>\n",
       "      <th>fitted_poisson</th>\n",
       "      <th>fitted_bneg</th>\n",
       "      <th>fitted_zip</th>\n",
       "      <th>fitted_zinb</th>\n",
       "      <th>violations1</th>\n",
       "      <th>bc_violations</th>\n",
       "    </tr>\n",
       "  </thead>\n",
       "  <tbody>\n",
       "    <tr>\n",
       "      <th>0</th>\n",
       "      <td>Angola</td>\n",
       "      <td>AGO</td>\n",
       "      <td>50</td>\n",
       "      <td>9</td>\n",
       "      <td>no</td>\n",
       "      <td>1.047506</td>\n",
       "      <td>15.919915</td>\n",
       "      <td>16.138708</td>\n",
       "      <td>14.823562</td>\n",
       "      <td>13.358543</td>\n",
       "      <td>50.001</td>\n",
       "      <td>3.463074</td>\n",
       "    </tr>\n",
       "    <tr>\n",
       "      <th>1</th>\n",
       "      <td>Angola</td>\n",
       "      <td>AGO</td>\n",
       "      <td>1</td>\n",
       "      <td>9</td>\n",
       "      <td>yes</td>\n",
       "      <td>1.047506</td>\n",
       "      <td>0.216711</td>\n",
       "      <td>0.224608</td>\n",
       "      <td>0.203580</td>\n",
       "      <td>0.187939</td>\n",
       "      <td>1.001</td>\n",
       "      <td>0.000999</td>\n",
       "    </tr>\n",
       "    <tr>\n",
       "      <th>2</th>\n",
       "      <td>Albania</td>\n",
       "      <td>ALB</td>\n",
       "      <td>17</td>\n",
       "      <td>3</td>\n",
       "      <td>no</td>\n",
       "      <td>0.921079</td>\n",
       "      <td>13.371720</td>\n",
       "      <td>11.987745</td>\n",
       "      <td>12.877979</td>\n",
       "      <td>10.203814</td>\n",
       "      <td>17.001</td>\n",
       "      <td>2.592518</td>\n",
       "    </tr>\n",
       "    <tr>\n",
       "      <th>3</th>\n",
       "      <td>Albania</td>\n",
       "      <td>ALB</td>\n",
       "      <td>0</td>\n",
       "      <td>3</td>\n",
       "      <td>yes</td>\n",
       "      <td>0.921079</td>\n",
       "      <td>0.182023</td>\n",
       "      <td>0.166838</td>\n",
       "      <td>0.176860</td>\n",
       "      <td>0.143555</td>\n",
       "      <td>0.001</td>\n",
       "      <td>-8.675434</td>\n",
       "    </tr>\n",
       "    <tr>\n",
       "      <th>4</th>\n",
       "      <td>United Arab Emirates</td>\n",
       "      <td>ARE</td>\n",
       "      <td>0</td>\n",
       "      <td>3</td>\n",
       "      <td>no</td>\n",
       "      <td>-0.779468</td>\n",
       "      <td>7.477915</td>\n",
       "      <td>5.551744</td>\n",
       "      <td>8.379367</td>\n",
       "      <td>7.494531</td>\n",
       "      <td>0.001</td>\n",
       "      <td>-8.675434</td>\n",
       "    </tr>\n",
       "    <tr>\n",
       "      <th>...</th>\n",
       "      <td>...</td>\n",
       "      <td>...</td>\n",
       "      <td>...</td>\n",
       "      <td>...</td>\n",
       "      <td>...</td>\n",
       "      <td>...</td>\n",
       "      <td>...</td>\n",
       "      <td>...</td>\n",
       "      <td>...</td>\n",
       "      <td>...</td>\n",
       "      <td>...</td>\n",
       "      <td>...</td>\n",
       "    </tr>\n",
       "    <tr>\n",
       "      <th>293</th>\n",
       "      <td>Zaire</td>\n",
       "      <td>ZAR</td>\n",
       "      <td>0</td>\n",
       "      <td>6</td>\n",
       "      <td>yes</td>\n",
       "      <td>1.582807</td>\n",
       "      <td>0.243691</td>\n",
       "      <td>0.253817</td>\n",
       "      <td>0.207250</td>\n",
       "      <td>0.183098</td>\n",
       "      <td>0.001</td>\n",
       "      <td>-8.675434</td>\n",
       "    </tr>\n",
       "    <tr>\n",
       "      <th>294</th>\n",
       "      <td>Zambia</td>\n",
       "      <td>ZMB</td>\n",
       "      <td>37</td>\n",
       "      <td>9</td>\n",
       "      <td>no</td>\n",
       "      <td>0.562193</td>\n",
       "      <td>13.486751</td>\n",
       "      <td>12.955729</td>\n",
       "      <td>13.616058</td>\n",
       "      <td>12.232444</td>\n",
       "      <td>37.001</td>\n",
       "      <td>3.226073</td>\n",
       "    </tr>\n",
       "    <tr>\n",
       "      <th>295</th>\n",
       "      <td>Zambia</td>\n",
       "      <td>ZMB</td>\n",
       "      <td>0</td>\n",
       "      <td>9</td>\n",
       "      <td>yes</td>\n",
       "      <td>0.562193</td>\n",
       "      <td>0.183589</td>\n",
       "      <td>0.180310</td>\n",
       "      <td>0.186996</td>\n",
       "      <td>0.172096</td>\n",
       "      <td>0.001</td>\n",
       "      <td>-8.675434</td>\n",
       "    </tr>\n",
       "    <tr>\n",
       "      <th>296</th>\n",
       "      <td>Zimbabwe</td>\n",
       "      <td>ZWE</td>\n",
       "      <td>43</td>\n",
       "      <td>14</td>\n",
       "      <td>no</td>\n",
       "      <td>0.133379</td>\n",
       "      <td>12.994217</td>\n",
       "      <td>13.033457</td>\n",
       "      <td>13.732195</td>\n",
       "      <td>13.896783</td>\n",
       "      <td>43.001</td>\n",
       "      <td>3.344928</td>\n",
       "    </tr>\n",
       "    <tr>\n",
       "      <th>297</th>\n",
       "      <td>Zimbabwe</td>\n",
       "      <td>ZWE</td>\n",
       "      <td>1</td>\n",
       "      <td>14</td>\n",
       "      <td>yes</td>\n",
       "      <td>0.133379</td>\n",
       "      <td>0.176885</td>\n",
       "      <td>0.181391</td>\n",
       "      <td>0.188591</td>\n",
       "      <td>0.195511</td>\n",
       "      <td>1.001</td>\n",
       "      <td>0.000999</td>\n",
       "    </tr>\n",
       "  </tbody>\n",
       "</table>\n",
       "<p>298 rows × 12 columns</p>\n",
       "</div>"
      ],
      "text/plain": [
       "                  country code  violations  staff post  corruption  \\\n",
       "0                  Angola  AGO          50      9   no    1.047506   \n",
       "1                  Angola  AGO           1      9  yes    1.047506   \n",
       "2                 Albania  ALB          17      3   no    0.921079   \n",
       "3                 Albania  ALB           0      3  yes    0.921079   \n",
       "4    United Arab Emirates  ARE           0      3   no   -0.779468   \n",
       "..                    ...  ...         ...    ...  ...         ...   \n",
       "293                 Zaire  ZAR           0      6  yes    1.582807   \n",
       "294                Zambia  ZMB          37      9   no    0.562193   \n",
       "295                Zambia  ZMB           0      9  yes    0.562193   \n",
       "296              Zimbabwe  ZWE          43     14   no    0.133379   \n",
       "297              Zimbabwe  ZWE           1     14  yes    0.133379   \n",
       "\n",
       "     fitted_poisson  fitted_bneg  fitted_zip  fitted_zinb  violations1  \\\n",
       "0         15.919915    16.138708   14.823562    13.358543       50.001   \n",
       "1          0.216711     0.224608    0.203580     0.187939        1.001   \n",
       "2         13.371720    11.987745   12.877979    10.203814       17.001   \n",
       "3          0.182023     0.166838    0.176860     0.143555        0.001   \n",
       "4          7.477915     5.551744    8.379367     7.494531        0.001   \n",
       "..              ...          ...         ...          ...          ...   \n",
       "293        0.243691     0.253817    0.207250     0.183098        0.001   \n",
       "294       13.486751    12.955729   13.616058    12.232444       37.001   \n",
       "295        0.183589     0.180310    0.186996     0.172096        0.001   \n",
       "296       12.994217    13.033457   13.732195    13.896783       43.001   \n",
       "297        0.176885     0.181391    0.188591     0.195511        1.001   \n",
       "\n",
       "     bc_violations  \n",
       "0         3.463074  \n",
       "1         0.000999  \n",
       "2         2.592518  \n",
       "3        -8.675434  \n",
       "4        -8.675434  \n",
       "..             ...  \n",
       "293      -8.675434  \n",
       "294       3.226073  \n",
       "295      -8.675434  \n",
       "296       3.344928  \n",
       "297       0.000999  \n",
       "\n",
       "[298 rows x 12 columns]"
      ]
     },
     "execution_count": 68,
     "metadata": {},
     "output_type": "execute_result"
    }
   ],
   "source": [
    "df_corrupcao"
   ]
  },
  {
   "cell_type": "code",
   "execution_count": 69,
   "id": "206bbfda",
   "metadata": {},
   "outputs": [
    {
     "data": {
      "text/html": [
       "<table class=\"simpletable\">\n",
       "<caption>OLS Regression Results</caption>\n",
       "<tr>\n",
       "  <th>Dep. Variable:</th>      <td>bc_violations</td>  <th>  R-squared:         </th> <td>   0.513</td>\n",
       "</tr>\n",
       "<tr>\n",
       "  <th>Model:</th>                   <td>OLS</td>       <th>  Adj. R-squared:    </th> <td>   0.508</td>\n",
       "</tr>\n",
       "<tr>\n",
       "  <th>Method:</th>             <td>Least Squares</td>  <th>  F-statistic:       </th> <td>   103.4</td>\n",
       "</tr>\n",
       "<tr>\n",
       "  <th>Date:</th>             <td>Wed, 29 Mar 2023</td> <th>  Prob (F-statistic):</th> <td>1.04e-45</td>\n",
       "</tr>\n",
       "<tr>\n",
       "  <th>Time:</th>                 <td>21:21:43</td>     <th>  Log-Likelihood:    </th> <td> -803.49</td>\n",
       "</tr>\n",
       "<tr>\n",
       "  <th>No. Observations:</th>      <td>   298</td>      <th>  AIC:               </th> <td>   1615.</td>\n",
       "</tr>\n",
       "<tr>\n",
       "  <th>Df Residuals:</th>          <td>   294</td>      <th>  BIC:               </th> <td>   1630.</td>\n",
       "</tr>\n",
       "<tr>\n",
       "  <th>Df Model:</th>              <td>     3</td>      <th>                     </th>     <td> </td>   \n",
       "</tr>\n",
       "<tr>\n",
       "  <th>Covariance Type:</th>      <td>nonrobust</td>    <th>                     </th>     <td> </td>   \n",
       "</tr>\n",
       "</table>\n",
       "<table class=\"simpletable\">\n",
       "<tr>\n",
       "       <td></td>         <th>coef</th>     <th>std err</th>      <th>t</th>      <th>P>|t|</th>  <th>[0.025</th>    <th>0.975]</th>  \n",
       "</tr>\n",
       "<tr>\n",
       "  <th>const</th>      <td>   -0.8700</td> <td>    0.376</td> <td>   -2.315</td> <td> 0.021</td> <td>   -1.610</td> <td>   -0.130</td>\n",
       "</tr>\n",
       "<tr>\n",
       "  <th>staff</th>      <td>    0.0431</td> <td>    0.020</td> <td>    2.203</td> <td> 0.028</td> <td>    0.005</td> <td>    0.082</td>\n",
       "</tr>\n",
       "<tr>\n",
       "  <th>corruption</th> <td>    1.1964</td> <td>    0.214</td> <td>    5.585</td> <td> 0.000</td> <td>    0.775</td> <td>    1.618</td>\n",
       "</tr>\n",
       "<tr>\n",
       "  <th>post_yes</th>   <td>   -6.9798</td> <td>    0.418</td> <td>  -16.682</td> <td> 0.000</td> <td>   -7.803</td> <td>   -6.156</td>\n",
       "</tr>\n",
       "</table>\n",
       "<table class=\"simpletable\">\n",
       "<tr>\n",
       "  <th>Omnibus:</th>       <td> 7.587</td> <th>  Durbin-Watson:     </th> <td>   1.935</td>\n",
       "</tr>\n",
       "<tr>\n",
       "  <th>Prob(Omnibus):</th> <td> 0.023</td> <th>  Jarque-Bera (JB):  </th> <td>   8.716</td>\n",
       "</tr>\n",
       "<tr>\n",
       "  <th>Skew:</th>          <td>-0.257</td> <th>  Prob(JB):          </th> <td>  0.0128</td>\n",
       "</tr>\n",
       "<tr>\n",
       "  <th>Kurtosis:</th>      <td> 3.661</td> <th>  Cond. No.          </th> <td>    38.5</td>\n",
       "</tr>\n",
       "</table><br/><br/>Notes:<br/>[1] Standard Errors assume that the covariance matrix of the errors is correctly specified."
      ],
      "text/plain": [
       "<class 'statsmodels.iolib.summary.Summary'>\n",
       "\"\"\"\n",
       "                            OLS Regression Results                            \n",
       "==============================================================================\n",
       "Dep. Variable:          bc_violations   R-squared:                       0.513\n",
       "Model:                            OLS   Adj. R-squared:                  0.508\n",
       "Method:                 Least Squares   F-statistic:                     103.4\n",
       "Date:                Wed, 29 Mar 2023   Prob (F-statistic):           1.04e-45\n",
       "Time:                        21:21:43   Log-Likelihood:                -803.49\n",
       "No. Observations:                 298   AIC:                             1615.\n",
       "Df Residuals:                     294   BIC:                             1630.\n",
       "Df Model:                           3                                         \n",
       "Covariance Type:            nonrobust                                         \n",
       "==============================================================================\n",
       "                 coef    std err          t      P>|t|      [0.025      0.975]\n",
       "------------------------------------------------------------------------------\n",
       "const         -0.8700      0.376     -2.315      0.021      -1.610      -0.130\n",
       "staff          0.0431      0.020      2.203      0.028       0.005       0.082\n",
       "corruption     1.1964      0.214      5.585      0.000       0.775       1.618\n",
       "post_yes      -6.9798      0.418    -16.682      0.000      -7.803      -6.156\n",
       "==============================================================================\n",
       "Omnibus:                        7.587   Durbin-Watson:                   1.935\n",
       "Prob(Omnibus):                  0.023   Jarque-Bera (JB):                8.716\n",
       "Skew:                          -0.257   Prob(JB):                       0.0128\n",
       "Kurtosis:                       3.661   Cond. No.                         38.5\n",
       "==============================================================================\n",
       "\n",
       "Notes:\n",
       "[1] Standard Errors assume that the covariance matrix of the errors is correctly specified.\n",
       "\"\"\""
      ]
     },
     "execution_count": 69,
     "metadata": {},
     "output_type": "execute_result"
    }
   ],
   "source": [
    "modelo_bc = sm.OLS(df_corrupcao.bc_violations, X_dum).fit()\n",
    "modelo_bc.summary()"
   ]
  },
  {
   "cell_type": "markdown",
   "id": "8e8826ec",
   "metadata": {},
   "source": [
    "### Mesmo depois da Transformação de Box-Cox os resíduos não seguem uma distribuição normal, incapacitando o modelo de realizar previsões mais acertivas"
   ]
  },
  {
   "cell_type": "code",
   "execution_count": 70,
   "id": "71277482",
   "metadata": {},
   "outputs": [
    {
     "data": {
      "text/plain": [
       "(0.9626880288124084, 6.149879254735424e-07)"
      ]
     },
     "execution_count": 70,
     "metadata": {},
     "output_type": "execute_result"
    }
   ],
   "source": [
    "stat, p_value = shapiro(modelo_bc.resid)\n",
    "stat , p_value"
   ]
  },
  {
   "cell_type": "markdown",
   "id": "fe9e8619",
   "metadata": {},
   "source": [
    "### LogLike do Modelo ZINB ainda é melhor do que o do Modelo Box-Cox"
   ]
  },
  {
   "cell_type": "code",
   "execution_count": 72,
   "id": "bd867778",
   "metadata": {},
   "outputs": [
    {
     "name": "stdout",
     "output_type": "stream",
     "text": [
      "LogLike Modelo Ref: -557.26\n",
      "LogLike Modelo: -803.49 \n",
      "Estatistica Chi2: -492.45\n",
      "P-value Chi2: 1.0\n"
     ]
    }
   ],
   "source": [
    "llrtest(modelo_zinb, modelo_bc)"
   ]
  },
  {
   "cell_type": "code",
   "execution_count": null,
   "id": "9de372c8",
   "metadata": {},
   "outputs": [],
   "source": []
  }
 ],
 "metadata": {
  "kernelspec": {
   "display_name": "Python 3 (ipykernel)",
   "language": "python",
   "name": "python3"
  },
  "language_info": {
   "codemirror_mode": {
    "name": "ipython",
    "version": 3
   },
   "file_extension": ".py",
   "mimetype": "text/x-python",
   "name": "python",
   "nbconvert_exporter": "python",
   "pygments_lexer": "ipython3",
   "version": "3.9.13"
  }
 },
 "nbformat": 4,
 "nbformat_minor": 5
}
