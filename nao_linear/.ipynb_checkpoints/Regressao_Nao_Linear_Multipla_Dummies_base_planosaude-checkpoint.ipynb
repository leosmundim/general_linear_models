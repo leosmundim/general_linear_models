{
 "cells": [
  {
   "cell_type": "code",
   "execution_count": 3,
   "id": "7916a7b5",
   "metadata": {},
   "outputs": [],
   "source": [
    "import pandas as pd\n",
    "import numpy as np\n",
    "import pyreadr\n",
    "import seaborn as sns\n",
    "import matplotlib.pyplot as plt\n",
    "import warnings\n",
    "warnings.filterwarnings('ignore')"
   ]
  },
  {
   "cell_type": "markdown",
   "id": "4114c6aa",
   "metadata": {},
   "source": [
    "# Modelo de Regressão Não Linear Múltipla <br> \n",
    "## DIAGNÓSTICO DE HETEROCEDASTICIDADE\n",
    "\n",
    "\n",
    "Exmplo da aula do MBA DSA USP/ESALQ com Prof. Fávero e Belfiore\n",
    "\n",
    "Correlação entre o termo de erro e a variável explicativa. No exemplo, temos uma figura de um cone entre SAEB e rendimento.\n",
    "\n",
    "**corr[X,u] <> 0 -> existe heterocedasticidade (correlação estatisticamente diferente de 0)**\n",
    "\n",
    "Variância não constante dos termos de erro ao longo de X ou ao longo de Yhat se tiver mais de uma variável X.\n",
    "\n",
    "**Sobre o fenômeno da Heterocedasticidade podemos afirmar:**\n",
    "\n",
    "- É decorrente da omissão de variáveis preditoras significativas no modelo final estimado;\n",
    "- Pode ser reduzido por meio da inclusão de variáveis preditoras de Y cuja os parâmetros Beta se mostrarem estatisticamente significantes após o procedimento stepwise;\n",
    "- Os termos de erro serão heterocedásticos quando eles estiverem fazendo as vezes de variáveis preditoras significantes para a explicação do comportamento de Y que foram omitidas no modelo final estimado e se fossem consideradas ficariam no modelo após o procedimento stepwise;\n",
    "\n",
    "## DIAGNÓSTICO DE MULTICOLINEARIDADE\n",
    "\n",
    "**Correlação elevada entre variáveis explicativas.**\n",
    "\n",
    "<b>Uma variável no modelo múltiplo pode apresentar um beta não estatisticamente significante em função de:\n",
    "\n",
    "1) A correlação entre ela e o Y já não é estatisticamente significante individualmente;<br>\n",
    "2) Pode não ser considerada em função de problemas de correlação com outras variáveis explicativas (multicolinearidade); <br>\n",
    "3) Na forma funcional não linear; </b>\n",
    "\n",
    "\n",
    "## Aplicação MQO (OLS)\n",
    "\n",
    "1) Estimação do modelo linear com stepwise<br>\n",
    "2) Aplica teste Shapiro Francia nos resíduos:<br>\n",
    "- Deu aderência à normalidade? Modelo validado <br>\n",
    "- Não deu aderência à normalidade? Aplica transformação Box-Cox <br>\n",
    "\n",
    "3) Aplica modelo novamente com stepwise<br>\n",
    "4) Aplica teste shapiro Francia novamente nos resíduos:\n",
    "\n",
    "\n",
    "\n",
    "## Contexto\n",
    "\n",
    "Despesas Médicas em unidades monetárias para reembolso;\n",
    "idade em anos;\n",
    "Dcron: quantidade de doenças crônicas\n",
    "Renda\n",
    "Plano"
   ]
  },
  {
   "cell_type": "code",
   "execution_count": 4,
   "id": "f5d1d5b3",
   "metadata": {},
   "outputs": [
    {
     "name": "stdout",
     "output_type": "stream",
     "text": [
      "odict_keys(['planosaude'])\n"
     ]
    }
   ],
   "source": [
    "#Importa base e transforma em objeto\n",
    "rData = pyreadr.read_r(r'bases\\planosaude.RData')\n",
    "\n",
    "#Verifica o nomne do objeto\n",
    "print(rData.keys())"
   ]
  },
  {
   "cell_type": "code",
   "execution_count": 8,
   "id": "b38a7ac9",
   "metadata": {},
   "outputs": [
    {
     "data": {
      "text/html": [
       "<div>\n",
       "<style scoped>\n",
       "    .dataframe tbody tr th:only-of-type {\n",
       "        vertical-align: middle;\n",
       "    }\n",
       "\n",
       "    .dataframe tbody tr th {\n",
       "        vertical-align: top;\n",
       "    }\n",
       "\n",
       "    .dataframe thead th {\n",
       "        text-align: right;\n",
       "    }\n",
       "</style>\n",
       "<table border=\"1\" class=\"dataframe\">\n",
       "  <thead>\n",
       "    <tr style=\"text-align: right;\">\n",
       "      <th></th>\n",
       "      <th>id</th>\n",
       "      <th>despmed</th>\n",
       "      <th>idade</th>\n",
       "      <th>dcron</th>\n",
       "      <th>renda</th>\n",
       "      <th>plano</th>\n",
       "    </tr>\n",
       "    <tr>\n",
       "      <th>rownames</th>\n",
       "      <th></th>\n",
       "      <th></th>\n",
       "      <th></th>\n",
       "      <th></th>\n",
       "      <th></th>\n",
       "      <th></th>\n",
       "    </tr>\n",
       "  </thead>\n",
       "  <tbody>\n",
       "    <tr>\n",
       "      <th>1</th>\n",
       "      <td>1</td>\n",
       "      <td>206.84</td>\n",
       "      <td>57</td>\n",
       "      <td>5</td>\n",
       "      <td>57.200001</td>\n",
       "      <td>bronze</td>\n",
       "    </tr>\n",
       "    <tr>\n",
       "      <th>2</th>\n",
       "      <td>2</td>\n",
       "      <td>184.19</td>\n",
       "      <td>67</td>\n",
       "      <td>4</td>\n",
       "      <td>67.199997</td>\n",
       "      <td>bronze</td>\n",
       "    </tr>\n",
       "    <tr>\n",
       "      <th>3</th>\n",
       "      <td>3</td>\n",
       "      <td>175.68</td>\n",
       "      <td>62</td>\n",
       "      <td>4</td>\n",
       "      <td>62.000000</td>\n",
       "      <td>bronze</td>\n",
       "    </tr>\n",
       "    <tr>\n",
       "      <th>4</th>\n",
       "      <td>4</td>\n",
       "      <td>180.04</td>\n",
       "      <td>67</td>\n",
       "      <td>5</td>\n",
       "      <td>67.199997</td>\n",
       "      <td>bronze</td>\n",
       "    </tr>\n",
       "    <tr>\n",
       "      <th>5</th>\n",
       "      <td>5</td>\n",
       "      <td>218.86</td>\n",
       "      <td>68</td>\n",
       "      <td>5</td>\n",
       "      <td>68.000000</td>\n",
       "      <td>bronze</td>\n",
       "    </tr>\n",
       "  </tbody>\n",
       "</table>\n",
       "</div>"
      ],
      "text/plain": [
       "         id  despmed  idade  dcron      renda   plano\n",
       "rownames                                             \n",
       "1         1   206.84     57      5  57.200001  bronze\n",
       "2         2   184.19     67      4  67.199997  bronze\n",
       "3         3   175.68     62      4  62.000000  bronze\n",
       "4         4   180.04     67      5  67.199997  bronze\n",
       "5         5   218.86     68      5  68.000000  bronze"
      ]
     },
     "execution_count": 8,
     "metadata": {},
     "output_type": "execute_result"
    }
   ],
   "source": [
    "#Transforma o objeto em um pandas DataFrame\n",
    "planosaude = rData['planosaude']\n",
    "planosaude['id'] = planosaude['id'].astype('str')\n",
    "planosaude.head()"
   ]
  },
  {
   "cell_type": "code",
   "execution_count": 9,
   "id": "d80e3000",
   "metadata": {},
   "outputs": [
    {
     "data": {
      "text/plain": [
       "plano\n",
       "bronze       72\n",
       "esmeralda    66\n",
       "ouro         62\n",
       "Name: id, dtype: int64"
      ]
     },
     "execution_count": 9,
     "metadata": {},
     "output_type": "execute_result"
    }
   ],
   "source": [
    "planosaude.groupby('plano')['id'].count()"
   ]
  },
  {
   "cell_type": "code",
   "execution_count": 10,
   "id": "d7200f1f",
   "metadata": {},
   "outputs": [
    {
     "data": {
      "image/png": "[encoded data removed]",
      "text/plain": [
       "<Figure size 640x480 with 2 Axes>"
      ]
     },
     "metadata": {},
     "output_type": "display_data"
    }
   ],
   "source": [
    "matriz_corr = planosaude.corr()\n",
    "\n",
    "#Gráfico matriz correlação\n",
    "\n",
    "sns.heatmap(matriz_corr, cmap='viridis', annot=True)\n",
    "plt.show()"
   ]
  },
  {
   "cell_type": "code",
   "execution_count": 11,
   "id": "bd56de97",
   "metadata": {},
   "outputs": [
    {
     "data": {
      "image/png": "[encoded data removed]",
      "text/plain": [
       "<Figure size 1000x1000 with 20 Axes>"
      ]
     },
     "metadata": {},
     "output_type": "display_data"
    }
   ],
   "source": [
    "#Scatter Matrix\n",
    "sns.pairplot(planosaude, diag_kind='kde', kind='reg')\n",
    "plt.show()"
   ]
  },
  {
   "cell_type": "markdown",
   "id": "10be62a6",
   "metadata": {},
   "source": [
    "### Dummizando"
   ]
  },
  {
   "cell_type": "code",
   "execution_count": 15,
   "id": "23dd12a4",
   "metadata": {},
   "outputs": [
    {
     "data": {
      "text/html": [
       "<div>\n",
       "<style scoped>\n",
       "    .dataframe tbody tr th:only-of-type {\n",
       "        vertical-align: middle;\n",
       "    }\n",
       "\n",
       "    .dataframe tbody tr th {\n",
       "        vertical-align: top;\n",
       "    }\n",
       "\n",
       "    .dataframe thead th {\n",
       "        text-align: right;\n",
       "    }\n",
       "</style>\n",
       "<table border=\"1\" class=\"dataframe\">\n",
       "  <thead>\n",
       "    <tr style=\"text-align: right;\">\n",
       "      <th></th>\n",
       "      <th>id</th>\n",
       "      <th>despmed</th>\n",
       "      <th>idade</th>\n",
       "      <th>dcron</th>\n",
       "      <th>renda</th>\n",
       "      <th>esmeralda</th>\n",
       "      <th>ouro</th>\n",
       "    </tr>\n",
       "    <tr>\n",
       "      <th>rownames</th>\n",
       "      <th></th>\n",
       "      <th></th>\n",
       "      <th></th>\n",
       "      <th></th>\n",
       "      <th></th>\n",
       "      <th></th>\n",
       "      <th></th>\n",
       "    </tr>\n",
       "  </thead>\n",
       "  <tbody>\n",
       "    <tr>\n",
       "      <th>1</th>\n",
       "      <td>1</td>\n",
       "      <td>206.84</td>\n",
       "      <td>57</td>\n",
       "      <td>5</td>\n",
       "      <td>57.200001</td>\n",
       "      <td>0</td>\n",
       "      <td>0</td>\n",
       "    </tr>\n",
       "    <tr>\n",
       "      <th>2</th>\n",
       "      <td>2</td>\n",
       "      <td>184.19</td>\n",
       "      <td>67</td>\n",
       "      <td>4</td>\n",
       "      <td>67.199997</td>\n",
       "      <td>0</td>\n",
       "      <td>0</td>\n",
       "    </tr>\n",
       "    <tr>\n",
       "      <th>3</th>\n",
       "      <td>3</td>\n",
       "      <td>175.68</td>\n",
       "      <td>62</td>\n",
       "      <td>4</td>\n",
       "      <td>62.000000</td>\n",
       "      <td>0</td>\n",
       "      <td>0</td>\n",
       "    </tr>\n",
       "    <tr>\n",
       "      <th>4</th>\n",
       "      <td>4</td>\n",
       "      <td>180.04</td>\n",
       "      <td>67</td>\n",
       "      <td>5</td>\n",
       "      <td>67.199997</td>\n",
       "      <td>0</td>\n",
       "      <td>0</td>\n",
       "    </tr>\n",
       "    <tr>\n",
       "      <th>5</th>\n",
       "      <td>5</td>\n",
       "      <td>218.86</td>\n",
       "      <td>68</td>\n",
       "      <td>5</td>\n",
       "      <td>68.000000</td>\n",
       "      <td>0</td>\n",
       "      <td>0</td>\n",
       "    </tr>\n",
       "    <tr>\n",
       "      <th>...</th>\n",
       "      <td>...</td>\n",
       "      <td>...</td>\n",
       "      <td>...</td>\n",
       "      <td>...</td>\n",
       "      <td>...</td>\n",
       "      <td>...</td>\n",
       "      <td>...</td>\n",
       "    </tr>\n",
       "    <tr>\n",
       "      <th>196</th>\n",
       "      <td>196</td>\n",
       "      <td>159.02</td>\n",
       "      <td>63</td>\n",
       "      <td>3</td>\n",
       "      <td>63.200001</td>\n",
       "      <td>1</td>\n",
       "      <td>0</td>\n",
       "    </tr>\n",
       "    <tr>\n",
       "      <th>197</th>\n",
       "      <td>197</td>\n",
       "      <td>205.35</td>\n",
       "      <td>64</td>\n",
       "      <td>4</td>\n",
       "      <td>64.000000</td>\n",
       "      <td>0</td>\n",
       "      <td>0</td>\n",
       "    </tr>\n",
       "    <tr>\n",
       "      <th>198</th>\n",
       "      <td>198</td>\n",
       "      <td>133.64</td>\n",
       "      <td>49</td>\n",
       "      <td>4</td>\n",
       "      <td>48.799999</td>\n",
       "      <td>1</td>\n",
       "      <td>0</td>\n",
       "    </tr>\n",
       "    <tr>\n",
       "      <th>199</th>\n",
       "      <td>199</td>\n",
       "      <td>158.73</td>\n",
       "      <td>44</td>\n",
       "      <td>2</td>\n",
       "      <td>44.000000</td>\n",
       "      <td>1</td>\n",
       "      <td>0</td>\n",
       "    </tr>\n",
       "    <tr>\n",
       "      <th>200</th>\n",
       "      <td>200</td>\n",
       "      <td>156.47</td>\n",
       "      <td>50</td>\n",
       "      <td>2</td>\n",
       "      <td>50.400002</td>\n",
       "      <td>1</td>\n",
       "      <td>0</td>\n",
       "    </tr>\n",
       "  </tbody>\n",
       "</table>\n",
       "<p>200 rows × 7 columns</p>\n",
       "</div>"
      ],
      "text/plain": [
       "           id  despmed  idade  dcron      renda  esmeralda  ouro\n",
       "rownames                                                        \n",
       "1           1   206.84     57      5  57.200001          0     0\n",
       "2           2   184.19     67      4  67.199997          0     0\n",
       "3           3   175.68     62      4  62.000000          0     0\n",
       "4           4   180.04     67      5  67.199997          0     0\n",
       "5           5   218.86     68      5  68.000000          0     0\n",
       "...       ...      ...    ...    ...        ...        ...   ...\n",
       "196       196   159.02     63      3  63.200001          1     0\n",
       "197       197   205.35     64      4  64.000000          0     0\n",
       "198       198   133.64     49      4  48.799999          1     0\n",
       "199       199   158.73     44      2  44.000000          1     0\n",
       "200       200   156.47     50      2  50.400002          1     0\n",
       "\n",
       "[200 rows x 7 columns]"
      ]
     },
     "execution_count": 15,
     "metadata": {},
     "output_type": "execute_result"
    }
   ],
   "source": [
    "planosaude_dummies = planosaude.join(pd.get_dummies(planosaude.plano))\n",
    "planosaude_dummies = planosaude_dummies.drop(['bronze', 'plano'], axis=1)\n",
    "planosaude_dummies"
   ]
  },
  {
   "cell_type": "markdown",
   "id": "f43fce4a",
   "metadata": {},
   "source": [
    "## Estimando Modelo Regressão Linear"
   ]
  },
  {
   "cell_type": "code",
   "execution_count": 16,
   "id": "3b4b43bb",
   "metadata": {},
   "outputs": [
    {
     "data": {
      "text/html": [
       "<table class=\"simpletable\">\n",
       "<caption>OLS Regression Results</caption>\n",
       "<tr>\n",
       "  <th>Dep. Variable:</th>         <td>despmed</td>     <th>  R-squared:         </th> <td>   0.871</td>\n",
       "</tr>\n",
       "<tr>\n",
       "  <th>Model:</th>                   <td>OLS</td>       <th>  Adj. R-squared:    </th> <td>   0.868</td>\n",
       "</tr>\n",
       "<tr>\n",
       "  <th>Method:</th>             <td>Least Squares</td>  <th>  F-statistic:       </th> <td>   262.3</td>\n",
       "</tr>\n",
       "<tr>\n",
       "  <th>Date:</th>             <td>Thu, 02 Mar 2023</td> <th>  Prob (F-statistic):</th> <td>2.88e-84</td>\n",
       "</tr>\n",
       "<tr>\n",
       "  <th>Time:</th>                 <td>20:42:08</td>     <th>  Log-Likelihood:    </th> <td> -828.04</td>\n",
       "</tr>\n",
       "<tr>\n",
       "  <th>No. Observations:</th>      <td>   200</td>      <th>  AIC:               </th> <td>   1668.</td>\n",
       "</tr>\n",
       "<tr>\n",
       "  <th>Df Residuals:</th>          <td>   194</td>      <th>  BIC:               </th> <td>   1688.</td>\n",
       "</tr>\n",
       "<tr>\n",
       "  <th>Df Model:</th>              <td>     5</td>      <th>                     </th>     <td> </td>   \n",
       "</tr>\n",
       "<tr>\n",
       "  <th>Covariance Type:</th>      <td>nonrobust</td>    <th>                     </th>     <td> </td>   \n",
       "</tr>\n",
       "</table>\n",
       "<table class=\"simpletable\">\n",
       "<tr>\n",
       "      <td></td>         <th>coef</th>     <th>std err</th>      <th>t</th>      <th>P>|t|</th>  <th>[0.025</th>    <th>0.975]</th>  \n",
       "</tr>\n",
       "<tr>\n",
       "  <th>Intercept</th> <td>  148.8596</td> <td>   12.744</td> <td>   11.681</td> <td> 0.000</td> <td>  123.725</td> <td>  173.994</td>\n",
       "</tr>\n",
       "<tr>\n",
       "  <th>idade</th>     <td>    8.9226</td> <td>    5.549</td> <td>    1.608</td> <td> 0.109</td> <td>   -2.021</td> <td>   19.866</td>\n",
       "</tr>\n",
       "<tr>\n",
       "  <th>dcron</th>     <td>    6.7232</td> <td>    1.600</td> <td>    4.201</td> <td> 0.000</td> <td>    3.567</td> <td>    9.879</td>\n",
       "</tr>\n",
       "<tr>\n",
       "  <th>renda</th>     <td>   -8.4425</td> <td>    5.464</td> <td>   -1.545</td> <td> 0.124</td> <td>  -19.219</td> <td>    2.334</td>\n",
       "</tr>\n",
       "<tr>\n",
       "  <th>esmeralda</th> <td>  -35.0189</td> <td>    4.685</td> <td>   -7.474</td> <td> 0.000</td> <td>  -44.259</td> <td>  -25.779</td>\n",
       "</tr>\n",
       "<tr>\n",
       "  <th>ouro</th>      <td>  -58.7653</td> <td>    6.075</td> <td>   -9.673</td> <td> 0.000</td> <td>  -70.747</td> <td>  -46.783</td>\n",
       "</tr>\n",
       "</table>\n",
       "<table class=\"simpletable\">\n",
       "<tr>\n",
       "  <th>Omnibus:</th>       <td>25.070</td> <th>  Durbin-Watson:     </th> <td>   1.775</td>\n",
       "</tr>\n",
       "<tr>\n",
       "  <th>Prob(Omnibus):</th> <td> 0.000</td> <th>  Jarque-Bera (JB):  </th> <td>  48.329</td>\n",
       "</tr>\n",
       "<tr>\n",
       "  <th>Skew:</th>          <td> 0.622</td> <th>  Prob(JB):          </th> <td>3.20e-11</td>\n",
       "</tr>\n",
       "<tr>\n",
       "  <th>Kurtosis:</th>      <td> 5.062</td> <th>  Cond. No.          </th> <td>    964.</td>\n",
       "</tr>\n",
       "</table><br/><br/>Notes:<br/>[1] Standard Errors assume that the covariance matrix of the errors is correctly specified."
      ],
      "text/plain": [
       "<class 'statsmodels.iolib.summary.Summary'>\n",
       "\"\"\"\n",
       "                            OLS Regression Results                            \n",
       "==============================================================================\n",
       "Dep. Variable:                despmed   R-squared:                       0.871\n",
       "Model:                            OLS   Adj. R-squared:                  0.868\n",
       "Method:                 Least Squares   F-statistic:                     262.3\n",
       "Date:                Thu, 02 Mar 2023   Prob (F-statistic):           2.88e-84\n",
       "Time:                        20:42:08   Log-Likelihood:                -828.04\n",
       "No. Observations:                 200   AIC:                             1668.\n",
       "Df Residuals:                     194   BIC:                             1688.\n",
       "Df Model:                           5                                         \n",
       "Covariance Type:            nonrobust                                         \n",
       "==============================================================================\n",
       "                 coef    std err          t      P>|t|      [0.025      0.975]\n",
       "------------------------------------------------------------------------------\n",
       "Intercept    148.8596     12.744     11.681      0.000     123.725     173.994\n",
       "idade          8.9226      5.549      1.608      0.109      -2.021      19.866\n",
       "dcron          6.7232      1.600      4.201      0.000       3.567       9.879\n",
       "renda         -8.4425      5.464     -1.545      0.124     -19.219       2.334\n",
       "esmeralda    -35.0189      4.685     -7.474      0.000     -44.259     -25.779\n",
       "ouro         -58.7653      6.075     -9.673      0.000     -70.747     -46.783\n",
       "==============================================================================\n",
       "Omnibus:                       25.070   Durbin-Watson:                   1.775\n",
       "Prob(Omnibus):                  0.000   Jarque-Bera (JB):               48.329\n",
       "Skew:                           0.622   Prob(JB):                     3.20e-11\n",
       "Kurtosis:                       5.062   Cond. No.                         964.\n",
       "==============================================================================\n",
       "\n",
       "Notes:\n",
       "[1] Standard Errors assume that the covariance matrix of the errors is correctly specified.\n",
       "\"\"\""
      ]
     },
     "execution_count": 16,
     "metadata": {},
     "output_type": "execute_result"
    }
   ],
   "source": [
    "#Estimando o modelo\n",
    "#https://www.statsmodels.org/dev/generated/statsmodels.regression.linear_model.OLS.html#statsmodels.regression.linear_model.OLS\n",
    "import statsmodels.api as sm\n",
    "\n",
    "modelo_planosaude = sm.OLS.from_formula(formula = 'despmed ~ idade+dcron+renda+esmeralda+ouro', data=planosaude_dummies).fit()\n",
    "modelo_planosaude.summary()"
   ]
  },
  {
   "cell_type": "markdown",
   "id": "af09d54f",
   "metadata": {},
   "source": [
    "## Procedimento Stepwise\n",
    "\n",
    "Retirar o parâmetro que apresentar um p-value > 0,05 do maior para o menor a cada rodada.<br>"
   ]
  },
  {
   "cell_type": "code",
   "execution_count": 42,
   "id": "69b32ff5",
   "metadata": {},
   "outputs": [
    {
     "data": {
      "text/html": [
       "<table class=\"simpletable\">\n",
       "<caption>OLS Regression Results</caption>\n",
       "<tr>\n",
       "  <th>Dep. Variable:</th>         <td>despmed</td>     <th>  R-squared:         </th> <td>   0.870</td>\n",
       "</tr>\n",
       "<tr>\n",
       "  <th>Model:</th>                   <td>OLS</td>       <th>  Adj. R-squared:    </th> <td>   0.867</td>\n",
       "</tr>\n",
       "<tr>\n",
       "  <th>Method:</th>             <td>Least Squares</td>  <th>  F-statistic:       </th> <td>   325.0</td>\n",
       "</tr>\n",
       "<tr>\n",
       "  <th>Date:</th>             <td>Thu, 02 Mar 2023</td> <th>  Prob (F-statistic):</th> <td>4.89e-85</td>\n",
       "</tr>\n",
       "<tr>\n",
       "  <th>Time:</th>                 <td>21:07:56</td>     <th>  Log-Likelihood:    </th> <td> -829.26</td>\n",
       "</tr>\n",
       "<tr>\n",
       "  <th>No. Observations:</th>      <td>   200</td>      <th>  AIC:               </th> <td>   1669.</td>\n",
       "</tr>\n",
       "<tr>\n",
       "  <th>Df Residuals:</th>          <td>   195</td>      <th>  BIC:               </th> <td>   1685.</td>\n",
       "</tr>\n",
       "<tr>\n",
       "  <th>Df Model:</th>              <td>     4</td>      <th>                     </th>     <td> </td>   \n",
       "</tr>\n",
       "<tr>\n",
       "  <th>Covariance Type:</th>      <td>nonrobust</td>    <th>                     </th>     <td> </td>   \n",
       "</tr>\n",
       "</table>\n",
       "<table class=\"simpletable\">\n",
       "<tr>\n",
       "      <td></td>         <th>coef</th>     <th>std err</th>      <th>t</th>      <th>P>|t|</th>  <th>[0.025</th>    <th>0.975]</th>  \n",
       "</tr>\n",
       "<tr>\n",
       "  <th>Intercept</th> <td>  153.5746</td> <td>   12.417</td> <td>   12.368</td> <td> 0.000</td> <td>  129.085</td> <td>  178.064</td>\n",
       "</tr>\n",
       "<tr>\n",
       "  <th>idade</th>     <td>    0.3561</td> <td>    0.225</td> <td>    1.583</td> <td> 0.115</td> <td>   -0.088</td> <td>    0.800</td>\n",
       "</tr>\n",
       "<tr>\n",
       "  <th>dcron</th>     <td>    7.2704</td> <td>    1.566</td> <td>    4.642</td> <td> 0.000</td> <td>    4.182</td> <td>   10.359</td>\n",
       "</tr>\n",
       "<tr>\n",
       "  <th>esmeralda</th> <td>  -34.9918</td> <td>    4.702</td> <td>   -7.442</td> <td> 0.000</td> <td>  -44.265</td> <td>  -25.719</td>\n",
       "</tr>\n",
       "<tr>\n",
       "  <th>ouro</th>      <td>  -59.0862</td> <td>    6.093</td> <td>   -9.697</td> <td> 0.000</td> <td>  -71.103</td> <td>  -47.069</td>\n",
       "</tr>\n",
       "</table>\n",
       "<table class=\"simpletable\">\n",
       "<tr>\n",
       "  <th>Omnibus:</th>       <td>28.603</td> <th>  Durbin-Watson:     </th> <td>   1.771</td>\n",
       "</tr>\n",
       "<tr>\n",
       "  <th>Prob(Omnibus):</th> <td> 0.000</td> <th>  Jarque-Bera (JB):  </th> <td>  58.043</td>\n",
       "</tr>\n",
       "<tr>\n",
       "  <th>Skew:</th>          <td> 0.688</td> <th>  Prob(JB):          </th> <td>2.49e-13</td>\n",
       "</tr>\n",
       "<tr>\n",
       "  <th>Kurtosis:</th>      <td> 5.252</td> <th>  Cond. No.          </th> <td>    663.</td>\n",
       "</tr>\n",
       "</table><br/><br/>Notes:<br/>[1] Standard Errors assume that the covariance matrix of the errors is correctly specified."
      ],
      "text/plain": [
       "<class 'statsmodels.iolib.summary.Summary'>\n",
       "\"\"\"\n",
       "                            OLS Regression Results                            \n",
       "==============================================================================\n",
       "Dep. Variable:                despmed   R-squared:                       0.870\n",
       "Model:                            OLS   Adj. R-squared:                  0.867\n",
       "Method:                 Least Squares   F-statistic:                     325.0\n",
       "Date:                Thu, 02 Mar 2023   Prob (F-statistic):           4.89e-85\n",
       "Time:                        21:07:56   Log-Likelihood:                -829.26\n",
       "No. Observations:                 200   AIC:                             1669.\n",
       "Df Residuals:                     195   BIC:                             1685.\n",
       "Df Model:                           4                                         \n",
       "Covariance Type:            nonrobust                                         \n",
       "==============================================================================\n",
       "                 coef    std err          t      P>|t|      [0.025      0.975]\n",
       "------------------------------------------------------------------------------\n",
       "Intercept    153.5746     12.417     12.368      0.000     129.085     178.064\n",
       "idade          0.3561      0.225      1.583      0.115      -0.088       0.800\n",
       "dcron          7.2704      1.566      4.642      0.000       4.182      10.359\n",
       "esmeralda    -34.9918      4.702     -7.442      0.000     -44.265     -25.719\n",
       "ouro         -59.0862      6.093     -9.697      0.000     -71.103     -47.069\n",
       "==============================================================================\n",
       "Omnibus:                       28.603   Durbin-Watson:                   1.771\n",
       "Prob(Omnibus):                  0.000   Jarque-Bera (JB):               58.043\n",
       "Skew:                           0.688   Prob(JB):                     2.49e-13\n",
       "Kurtosis:                       5.252   Cond. No.                         663.\n",
       "==============================================================================\n",
       "\n",
       "Notes:\n",
       "[1] Standard Errors assume that the covariance matrix of the errors is correctly specified.\n",
       "\"\"\""
      ]
     },
     "execution_count": 42,
     "metadata": {},
     "output_type": "execute_result"
    }
   ],
   "source": [
    "# Retirando a Renda\n",
    "modelo_planosaude = sm.OLS.from_formula(formula = 'despmed ~ idade+dcron+esmeralda+ouro', data=planosaude_dummies).fit()\n",
    "modelo_planosaude.summary()"
   ]
  },
  {
   "cell_type": "code",
   "execution_count": 18,
   "id": "34244c73",
   "metadata": {},
   "outputs": [
    {
     "data": {
      "text/html": [
       "<table class=\"simpletable\">\n",
       "<caption>OLS Regression Results</caption>\n",
       "<tr>\n",
       "  <th>Dep. Variable:</th>         <td>despmed</td>     <th>  R-squared:         </th> <td>   0.868</td>\n",
       "</tr>\n",
       "<tr>\n",
       "  <th>Model:</th>                   <td>OLS</td>       <th>  Adj. R-squared:    </th> <td>   0.866</td>\n",
       "</tr>\n",
       "<tr>\n",
       "  <th>Method:</th>             <td>Least Squares</td>  <th>  F-statistic:       </th> <td>   429.1</td>\n",
       "</tr>\n",
       "<tr>\n",
       "  <th>Date:</th>             <td>Thu, 02 Mar 2023</td> <th>  Prob (F-statistic):</th> <td>7.53e-86</td>\n",
       "</tr>\n",
       "<tr>\n",
       "  <th>Time:</th>                 <td>20:43:19</td>     <th>  Log-Likelihood:    </th> <td> -830.54</td>\n",
       "</tr>\n",
       "<tr>\n",
       "  <th>No. Observations:</th>      <td>   200</td>      <th>  AIC:               </th> <td>   1669.</td>\n",
       "</tr>\n",
       "<tr>\n",
       "  <th>Df Residuals:</th>          <td>   196</td>      <th>  BIC:               </th> <td>   1682.</td>\n",
       "</tr>\n",
       "<tr>\n",
       "  <th>Df Model:</th>              <td>     3</td>      <th>                     </th>     <td> </td>   \n",
       "</tr>\n",
       "<tr>\n",
       "  <th>Covariance Type:</th>      <td>nonrobust</td>    <th>                     </th>     <td> </td>   \n",
       "</tr>\n",
       "</table>\n",
       "<table class=\"simpletable\">\n",
       "<tr>\n",
       "      <td></td>         <th>coef</th>     <th>std err</th>      <th>t</th>      <th>P>|t|</th>  <th>[0.025</th>    <th>0.975]</th>  \n",
       "</tr>\n",
       "<tr>\n",
       "  <th>Intercept</th> <td>  170.4948</td> <td>    6.345</td> <td>   26.869</td> <td> 0.000</td> <td>  157.981</td> <td>  183.009</td>\n",
       "</tr>\n",
       "<tr>\n",
       "  <th>dcron</th>     <td>    8.5833</td> <td>    1.334</td> <td>    6.436</td> <td> 0.000</td> <td>    5.953</td> <td>   11.213</td>\n",
       "</tr>\n",
       "<tr>\n",
       "  <th>esmeralda</th> <td>  -38.5561</td> <td>    4.143</td> <td>   -9.305</td> <td> 0.000</td> <td>  -46.728</td> <td>  -30.385</td>\n",
       "</tr>\n",
       "<tr>\n",
       "  <th>ouro</th>      <td>  -63.8897</td> <td>    5.304</td> <td>  -12.045</td> <td> 0.000</td> <td>  -74.351</td> <td>  -53.429</td>\n",
       "</tr>\n",
       "</table>\n",
       "<table class=\"simpletable\">\n",
       "<tr>\n",
       "  <th>Omnibus:</th>       <td>29.826</td> <th>  Durbin-Watson:     </th> <td>   1.756</td>\n",
       "</tr>\n",
       "<tr>\n",
       "  <th>Prob(Omnibus):</th> <td> 0.000</td> <th>  Jarque-Bera (JB):  </th> <td>  61.963</td>\n",
       "</tr>\n",
       "<tr>\n",
       "  <th>Skew:</th>          <td> 0.707</td> <th>  Prob(JB):          </th> <td>3.51e-14</td>\n",
       "</tr>\n",
       "<tr>\n",
       "  <th>Kurtosis:</th>      <td> 5.331</td> <th>  Cond. No.          </th> <td>    27.0</td>\n",
       "</tr>\n",
       "</table><br/><br/>Notes:<br/>[1] Standard Errors assume that the covariance matrix of the errors is correctly specified."
      ],
      "text/plain": [
       "<class 'statsmodels.iolib.summary.Summary'>\n",
       "\"\"\"\n",
       "                            OLS Regression Results                            \n",
       "==============================================================================\n",
       "Dep. Variable:                despmed   R-squared:                       0.868\n",
       "Model:                            OLS   Adj. R-squared:                  0.866\n",
       "Method:                 Least Squares   F-statistic:                     429.1\n",
       "Date:                Thu, 02 Mar 2023   Prob (F-statistic):           7.53e-86\n",
       "Time:                        20:43:19   Log-Likelihood:                -830.54\n",
       "No. Observations:                 200   AIC:                             1669.\n",
       "Df Residuals:                     196   BIC:                             1682.\n",
       "Df Model:                           3                                         \n",
       "Covariance Type:            nonrobust                                         \n",
       "==============================================================================\n",
       "                 coef    std err          t      P>|t|      [0.025      0.975]\n",
       "------------------------------------------------------------------------------\n",
       "Intercept    170.4948      6.345     26.869      0.000     157.981     183.009\n",
       "dcron          8.5833      1.334      6.436      0.000       5.953      11.213\n",
       "esmeralda    -38.5561      4.143     -9.305      0.000     -46.728     -30.385\n",
       "ouro         -63.8897      5.304    -12.045      0.000     -74.351     -53.429\n",
       "==============================================================================\n",
       "Omnibus:                       29.826   Durbin-Watson:                   1.756\n",
       "Prob(Omnibus):                  0.000   Jarque-Bera (JB):               61.963\n",
       "Skew:                           0.707   Prob(JB):                     3.51e-14\n",
       "Kurtosis:                       5.331   Cond. No.                         27.0\n",
       "==============================================================================\n",
       "\n",
       "Notes:\n",
       "[1] Standard Errors assume that the covariance matrix of the errors is correctly specified.\n",
       "\"\"\""
      ]
     },
     "execution_count": 18,
     "metadata": {},
     "output_type": "execute_result"
    }
   ],
   "source": [
    "# Retirando a Idade\n",
    "modelo_planosaude = sm.OLS.from_formula(formula = 'despmed ~ dcron+esmeralda+ouro', data=planosaude_dummies).fit()\n",
    "modelo_planosaude.summary()"
   ]
  },
  {
   "cell_type": "markdown",
   "id": "68b4cfc0",
   "metadata": {},
   "source": [
    "### Teste de Verificação da Aderência dos Resíduos à Normalidade (Shapiro-Francia)\n",
    "\n",
    "Caso os erros não sigam uma distribuição normal, o modelo não é adequado para fins preditivos. <br>\n",
    "Os betas não são ajustados para que consigam fazer inferência a partir dos intervalos de confiança daqueles parâmetros e construção de cenários.\n",
    "\n",
    "> Teste Shapiro-Francia: n >= 30\n",
    "\n",
    "> Teste Shapiro-Wilk: n < 30\n",
    "\n",
    "\n",
    "onde,\n",
    "\n",
    " - H0: Diferênças não são estatisticamente significantes (existe aderência à normalidade);\n",
    " - H1: Diferênças são estatisticamente significantes (não é uma normal)\n",
    " \n",
    "p-value < 0,05 rejeita-se H0"
   ]
  },
  {
   "cell_type": "code",
   "execution_count": 19,
   "id": "161d45dd",
   "metadata": {},
   "outputs": [
    {
     "data": {
      "text/plain": [
       "(0.9445379972457886, 5.809987442262354e-07)"
      ]
     },
     "execution_count": 19,
     "metadata": {},
     "output_type": "execute_result"
    }
   ],
   "source": [
    "from scipy.stats import shapiro\n",
    "\n",
    "stat, p_value = shapiro(modelo_planosaude.resid)\n",
    "stat , p_value"
   ]
  },
  {
   "cell_type": "markdown",
   "id": "36d91b5e",
   "metadata": {},
   "source": [
    "**Não há aderência dos termos de erro à normalidade**"
   ]
  },
  {
   "cell_type": "code",
   "execution_count": 20,
   "id": "0f9aeb1e",
   "metadata": {},
   "outputs": [
    {
     "data": {
      "text/plain": [
       "<AxesSubplot:>"
      ]
     },
     "execution_count": 20,
     "metadata": {},
     "output_type": "execute_result"
    },
    {
     "data": {
      "image/png": "[encoded data removed]",
      "text/plain": [
       "<Figure size 640x480 with 1 Axes>"
      ]
     },
     "metadata": {},
     "output_type": "display_data"
    }
   ],
   "source": [
    "modelo_planosaude.resid.hist()"
   ]
  },
  {
   "cell_type": "markdown",
   "id": "8d441c70",
   "metadata": {},
   "source": [
    "## Diagnóstico de Heterocedasticidade\n",
    "\n",
    "### Teste de Breusch-Pagan\n",
    "\n",
    "> H0: Ausência de heterocedasticidade\n",
    "\n",
    "> H1: heterocedasticidade, ou seja, correlação entre resíduos e uma ou mais variáveis explicativas, o que indica omissão de variável relevante!\n",
    "\n",
    "P-value < 0,05 existe heterocedasticidade <br>\n",
    "P-value >= 0,05 é homogênio"
   ]
  },
  {
   "cell_type": "code",
   "execution_count": 36,
   "id": "9206a70e",
   "metadata": {},
   "outputs": [
    {
     "data": {
      "text/html": [
       "<div>\n",
       "<style scoped>\n",
       "    .dataframe tbody tr th:only-of-type {\n",
       "        vertical-align: middle;\n",
       "    }\n",
       "\n",
       "    .dataframe tbody tr th {\n",
       "        vertical-align: top;\n",
       "    }\n",
       "\n",
       "    .dataframe thead th {\n",
       "        text-align: right;\n",
       "    }\n",
       "</style>\n",
       "<table border=\"1\" class=\"dataframe\">\n",
       "  <thead>\n",
       "    <tr style=\"text-align: right;\">\n",
       "      <th></th>\n",
       "      <th>yhat</th>\n",
       "      <th>resid</th>\n",
       "      <th>up</th>\n",
       "    </tr>\n",
       "    <tr>\n",
       "      <th>rownames</th>\n",
       "      <th></th>\n",
       "      <th></th>\n",
       "      <th></th>\n",
       "    </tr>\n",
       "  </thead>\n",
       "  <tbody>\n",
       "    <tr>\n",
       "      <th>1</th>\n",
       "      <td>213.411485</td>\n",
       "      <td>-6.571485</td>\n",
       "      <td>0.182312</td>\n",
       "    </tr>\n",
       "    <tr>\n",
       "      <th>2</th>\n",
       "      <td>204.828144</td>\n",
       "      <td>-20.638144</td>\n",
       "      <td>1.798162</td>\n",
       "    </tr>\n",
       "    <tr>\n",
       "      <th>3</th>\n",
       "      <td>204.828144</td>\n",
       "      <td>-29.148144</td>\n",
       "      <td>3.586818</td>\n",
       "    </tr>\n",
       "    <tr>\n",
       "      <th>4</th>\n",
       "      <td>213.411485</td>\n",
       "      <td>-33.371485</td>\n",
       "      <td>4.701523</td>\n",
       "    </tr>\n",
       "    <tr>\n",
       "      <th>5</th>\n",
       "      <td>213.411485</td>\n",
       "      <td>5.448515</td>\n",
       "      <td>0.125327</td>\n",
       "    </tr>\n",
       "    <tr>\n",
       "      <th>...</th>\n",
       "      <td>...</td>\n",
       "      <td>...</td>\n",
       "      <td>...</td>\n",
       "    </tr>\n",
       "    <tr>\n",
       "      <th>196</th>\n",
       "      <td>157.688693</td>\n",
       "      <td>1.331307</td>\n",
       "      <td>0.007482</td>\n",
       "    </tr>\n",
       "    <tr>\n",
       "      <th>197</th>\n",
       "      <td>204.828144</td>\n",
       "      <td>0.521856</td>\n",
       "      <td>0.001150</td>\n",
       "    </tr>\n",
       "    <tr>\n",
       "      <th>198</th>\n",
       "      <td>166.272034</td>\n",
       "      <td>-32.632034</td>\n",
       "      <td>4.495477</td>\n",
       "    </tr>\n",
       "    <tr>\n",
       "      <th>199</th>\n",
       "      <td>149.105352</td>\n",
       "      <td>9.624648</td>\n",
       "      <td>0.391072</td>\n",
       "    </tr>\n",
       "    <tr>\n",
       "      <th>200</th>\n",
       "      <td>149.105352</td>\n",
       "      <td>7.364648</td>\n",
       "      <td>0.228977</td>\n",
       "    </tr>\n",
       "  </tbody>\n",
       "</table>\n",
       "<p>200 rows × 3 columns</p>\n",
       "</div>"
      ],
      "text/plain": [
       "                yhat      resid        up\n",
       "rownames                                 \n",
       "1         213.411485  -6.571485  0.182312\n",
       "2         204.828144 -20.638144  1.798162\n",
       "3         204.828144 -29.148144  3.586818\n",
       "4         213.411485 -33.371485  4.701523\n",
       "5         213.411485   5.448515  0.125327\n",
       "...              ...        ...       ...\n",
       "196       157.688693   1.331307  0.007482\n",
       "197       204.828144   0.521856  0.001150\n",
       "198       166.272034 -32.632034  4.495477\n",
       "199       149.105352   9.624648  0.391072\n",
       "200       149.105352   7.364648  0.228977\n",
       "\n",
       "[200 rows x 3 columns]"
      ]
     },
     "execution_count": 36,
     "metadata": {},
     "output_type": "execute_result"
    }
   ],
   "source": [
    "df_aux = pd.DataFrame()\n",
    "df_aux['yhat'] = modelo_planosaude.fittedvalues\n",
    "df_aux['resid'] = modelo_planosaude.resid\n",
    "#df_aux = modelo_planosaude.dropna(axis=0, subset='saeb')\n",
    "df_aux['up'] = ((modelo_planosaude.resid**2)/ ((sum(modelo_planosaude.resid**2))/(planosaude.index.size)))\n",
    "df_aux"
   ]
  },
  {
   "cell_type": "markdown",
   "id": "411a075d",
   "metadata": {},
   "source": [
    "### ANOVA"
   ]
  },
  {
   "cell_type": "code",
   "execution_count": 37,
   "id": "25859d1e",
   "metadata": {},
   "outputs": [
    {
     "data": {
      "text/html": [
       "<div>\n",
       "<style scoped>\n",
       "    .dataframe tbody tr th:only-of-type {\n",
       "        vertical-align: middle;\n",
       "    }\n",
       "\n",
       "    .dataframe tbody tr th {\n",
       "        vertical-align: top;\n",
       "    }\n",
       "\n",
       "    .dataframe thead th {\n",
       "        text-align: right;\n",
       "    }\n",
       "</style>\n",
       "<table border=\"1\" class=\"dataframe\">\n",
       "  <thead>\n",
       "    <tr style=\"text-align: right;\">\n",
       "      <th></th>\n",
       "      <th>df</th>\n",
       "      <th>sum_sq</th>\n",
       "      <th>mean_sq</th>\n",
       "      <th>F</th>\n",
       "      <th>PR(&gt;F)</th>\n",
       "    </tr>\n",
       "  </thead>\n",
       "  <tbody>\n",
       "    <tr>\n",
       "      <th>yhat</th>\n",
       "      <td>1.0</td>\n",
       "      <td>121.604</td>\n",
       "      <td>121.604</td>\n",
       "      <td>32.336</td>\n",
       "      <td>0.0</td>\n",
       "    </tr>\n",
       "    <tr>\n",
       "      <th>Residual</th>\n",
       "      <td>198.0</td>\n",
       "      <td>744.606</td>\n",
       "      <td>3.761</td>\n",
       "      <td>NaN</td>\n",
       "      <td>NaN</td>\n",
       "    </tr>\n",
       "  </tbody>\n",
       "</table>\n",
       "</div>"
      ],
      "text/plain": [
       "             df   sum_sq  mean_sq       F  PR(>F)\n",
       "yhat        1.0  121.604  121.604  32.336     0.0\n",
       "Residual  198.0  744.606    3.761     NaN     NaN"
      ]
     },
     "execution_count": 37,
     "metadata": {},
     "output_type": "execute_result"
    }
   ],
   "source": [
    "from bioinfokit.analys import stat\n",
    "\n",
    "res = stat()\n",
    "res.anova_stat(df=df_aux, res_var='up', anova_model=f'up ~ yhat')\n",
    "round(res.anova_summary,3)"
   ]
  },
  {
   "cell_type": "code",
   "execution_count": 38,
   "id": "6cbbaafd",
   "metadata": {},
   "outputs": [
    {
     "name": "stdout",
     "output_type": "stream",
     "text": [
      "Chi2: 60.802\n",
      "P-value: 6.328271240363392e-15\n"
     ]
    }
   ],
   "source": [
    "from scipy.stats import chi2\n",
    "\n",
    "mean = 121.604/2\n",
    "\n",
    "p = 1- chi2.cdf(mean, 1)\n",
    "# Resultado teste Breush-Pagen\n",
    "\n",
    "print(f'Chi2: {mean}')\n",
    "print(f'P-value: {p}')"
   ]
  },
  {
   "cell_type": "markdown",
   "id": "74007772",
   "metadata": {},
   "source": [
    "**Existe variável omitida importante que poderia ser incluída**<br>\n",
    "**Existe heterodasticidade**"
   ]
  },
  {
   "cell_type": "markdown",
   "id": "018b8c84",
   "metadata": {},
   "source": [
    "# Gráfico dos Resíduos em Função do Yhat\n",
    "\n",
    "Existe a formação de um cone.\n",
    "\n",
    "Variância não constante dos termos de erro em relação aos fitted values do modelo stepwise"
   ]
  },
  {
   "cell_type": "code",
   "execution_count": 39,
   "id": "9db2a4b9",
   "metadata": {},
   "outputs": [
    {
     "data": {
      "text/plain": [
       "<AxesSubplot:xlabel='yhat', ylabel='resid'>"
      ]
     },
     "execution_count": 39,
     "metadata": {},
     "output_type": "execute_result"
    },
    {
     "data": {
      "image/png": "[encoded data removed]",
      "text/plain": [
       "<Figure size 640x480 with 1 Axes>"
      ]
     },
     "metadata": {},
     "output_type": "display_data"
    }
   ],
   "source": [
    "sns.scatterplot(df_aux.yhat, df_aux.resid)"
   ]
  },
  {
   "cell_type": "markdown",
   "id": "bcbffc1f",
   "metadata": {},
   "source": [
    "### Transformação de Box-Cox\n",
    "\n",
    "O modelo não possui resíduos aderentes à normalidade. Devemos transformar a variável Y em uma normal aplicando o método de Box Cox:\n",
    "<br>\n",
    "<br>\n",
    "\n",
    "<center><img src='img\\box_cox.jpg'></center>\n",
    "\n",
    "\n",
    "- Lâmbda 1: linear\n",
    "- Lâmbda 2: quadrática\n",
    "- Lâmbda 3: cúbica\n",
    "- Lâmbda -1: inversa\n",
    "- Lâmbda 0,5: raiz\n",
    "- Lâmbda -0,5: raiz inversa\n",
    "- Lâmbda 0: ln(y\n",
    "\n",
    "Lâmbda varia de -infinito a +infinito.\n",
    "\n",
    "<b>Objetivo é encontrar qual o lâmbda que maximiza a aderência do Y à normalidade.</b>\n",
    "\n",
    "\n",
    "<b> A padronização pelo Z-Score NÃO normaliza, a distribuição se mantém a mesma.<b>"
   ]
  },
  {
   "cell_type": "code",
   "execution_count": 40,
   "id": "bc4c4c65",
   "metadata": {},
   "outputs": [
    {
     "data": {
      "text/plain": [
       "-0.14436741694478952"
      ]
     },
     "execution_count": 40,
     "metadata": {},
     "output_type": "execute_result"
    }
   ],
   "source": [
    "#https://docs.scipy.org/doc/scipy/reference/generated/scipy.stats.boxcox.html\n",
    "from scipy import stats\n",
    "\n",
    "y_lamb, lambida_otimo = stats.boxcox(planosaude.despmed)\n",
    "lambida_otimo"
   ]
  },
  {
   "cell_type": "code",
   "execution_count": 41,
   "id": "46b92b16",
   "metadata": {},
   "outputs": [
    {
     "data": {
      "text/html": [
       "<div>\n",
       "<style scoped>\n",
       "    .dataframe tbody tr th:only-of-type {\n",
       "        vertical-align: middle;\n",
       "    }\n",
       "\n",
       "    .dataframe tbody tr th {\n",
       "        vertical-align: top;\n",
       "    }\n",
       "\n",
       "    .dataframe thead th {\n",
       "        text-align: right;\n",
       "    }\n",
       "</style>\n",
       "<table border=\"1\" class=\"dataframe\">\n",
       "  <thead>\n",
       "    <tr style=\"text-align: right;\">\n",
       "      <th></th>\n",
       "      <th>id</th>\n",
       "      <th>despmed</th>\n",
       "      <th>idade</th>\n",
       "      <th>dcron</th>\n",
       "      <th>renda</th>\n",
       "      <th>esmeralda</th>\n",
       "      <th>ouro</th>\n",
       "      <th>bc_despmed</th>\n",
       "    </tr>\n",
       "    <tr>\n",
       "      <th>rownames</th>\n",
       "      <th></th>\n",
       "      <th></th>\n",
       "      <th></th>\n",
       "      <th></th>\n",
       "      <th></th>\n",
       "      <th></th>\n",
       "      <th></th>\n",
       "      <th></th>\n",
       "    </tr>\n",
       "  </thead>\n",
       "  <tbody>\n",
       "    <tr>\n",
       "      <th>1</th>\n",
       "      <td>1</td>\n",
       "      <td>206.84</td>\n",
       "      <td>57</td>\n",
       "      <td>5</td>\n",
       "      <td>57.200001</td>\n",
       "      <td>0</td>\n",
       "      <td>0</td>\n",
       "      <td>3.718813</td>\n",
       "    </tr>\n",
       "    <tr>\n",
       "      <th>2</th>\n",
       "      <td>2</td>\n",
       "      <td>184.19</td>\n",
       "      <td>67</td>\n",
       "      <td>4</td>\n",
       "      <td>67.199997</td>\n",
       "      <td>0</td>\n",
       "      <td>0</td>\n",
       "      <td>3.664649</td>\n",
       "    </tr>\n",
       "    <tr>\n",
       "      <th>3</th>\n",
       "      <td>3</td>\n",
       "      <td>175.68</td>\n",
       "      <td>62</td>\n",
       "      <td>4</td>\n",
       "      <td>62.000000</td>\n",
       "      <td>0</td>\n",
       "      <td>0</td>\n",
       "      <td>3.642295</td>\n",
       "    </tr>\n",
       "    <tr>\n",
       "      <th>4</th>\n",
       "      <td>4</td>\n",
       "      <td>180.04</td>\n",
       "      <td>67</td>\n",
       "      <td>5</td>\n",
       "      <td>67.199997</td>\n",
       "      <td>0</td>\n",
       "      <td>0</td>\n",
       "      <td>3.653899</td>\n",
       "    </tr>\n",
       "    <tr>\n",
       "      <th>5</th>\n",
       "      <td>5</td>\n",
       "      <td>218.86</td>\n",
       "      <td>68</td>\n",
       "      <td>5</td>\n",
       "      <td>68.000000</td>\n",
       "      <td>0</td>\n",
       "      <td>0</td>\n",
       "      <td>3.744867</td>\n",
       "    </tr>\n",
       "    <tr>\n",
       "      <th>...</th>\n",
       "      <td>...</td>\n",
       "      <td>...</td>\n",
       "      <td>...</td>\n",
       "      <td>...</td>\n",
       "      <td>...</td>\n",
       "      <td>...</td>\n",
       "      <td>...</td>\n",
       "      <td>...</td>\n",
       "    </tr>\n",
       "    <tr>\n",
       "      <th>196</th>\n",
       "      <td>196</td>\n",
       "      <td>159.02</td>\n",
       "      <td>63</td>\n",
       "      <td>3</td>\n",
       "      <td>63.200001</td>\n",
       "      <td>1</td>\n",
       "      <td>0</td>\n",
       "      <td>3.594710</td>\n",
       "    </tr>\n",
       "    <tr>\n",
       "      <th>197</th>\n",
       "      <td>197</td>\n",
       "      <td>205.35</td>\n",
       "      <td>64</td>\n",
       "      <td>4</td>\n",
       "      <td>64.000000</td>\n",
       "      <td>0</td>\n",
       "      <td>0</td>\n",
       "      <td>3.715463</td>\n",
       "    </tr>\n",
       "    <tr>\n",
       "      <th>198</th>\n",
       "      <td>198</td>\n",
       "      <td>133.64</td>\n",
       "      <td>49</td>\n",
       "      <td>4</td>\n",
       "      <td>48.799999</td>\n",
       "      <td>1</td>\n",
       "      <td>0</td>\n",
       "      <td>3.510008</td>\n",
       "    </tr>\n",
       "    <tr>\n",
       "      <th>199</th>\n",
       "      <td>199</td>\n",
       "      <td>158.73</td>\n",
       "      <td>44</td>\n",
       "      <td>2</td>\n",
       "      <td>44.000000</td>\n",
       "      <td>1</td>\n",
       "      <td>0</td>\n",
       "      <td>3.593832</td>\n",
       "    </tr>\n",
       "    <tr>\n",
       "      <th>200</th>\n",
       "      <td>200</td>\n",
       "      <td>156.47</td>\n",
       "      <td>50</td>\n",
       "      <td>2</td>\n",
       "      <td>50.400002</td>\n",
       "      <td>1</td>\n",
       "      <td>0</td>\n",
       "      <td>3.586925</td>\n",
       "    </tr>\n",
       "  </tbody>\n",
       "</table>\n",
       "<p>200 rows × 8 columns</p>\n",
       "</div>"
      ],
      "text/plain": [
       "           id  despmed  idade  dcron      renda  esmeralda  ouro  bc_despmed\n",
       "rownames                                                                    \n",
       "1           1   206.84     57      5  57.200001          0     0    3.718813\n",
       "2           2   184.19     67      4  67.199997          0     0    3.664649\n",
       "3           3   175.68     62      4  62.000000          0     0    3.642295\n",
       "4           4   180.04     67      5  67.199997          0     0    3.653899\n",
       "5           5   218.86     68      5  68.000000          0     0    3.744867\n",
       "...       ...      ...    ...    ...        ...        ...   ...         ...\n",
       "196       196   159.02     63      3  63.200001          1     0    3.594710\n",
       "197       197   205.35     64      4  64.000000          0     0    3.715463\n",
       "198       198   133.64     49      4  48.799999          1     0    3.510008\n",
       "199       199   158.73     44      2  44.000000          1     0    3.593832\n",
       "200       200   156.47     50      2  50.400002          1     0    3.586925\n",
       "\n",
       "[200 rows x 8 columns]"
      ]
     },
     "execution_count": 41,
     "metadata": {},
     "output_type": "execute_result"
    }
   ],
   "source": [
    "planosaude_dummies['bc_despmed'] = y_lamb\n",
    "planosaude_dummies"
   ]
  },
  {
   "cell_type": "markdown",
   "id": "5160be0e",
   "metadata": {},
   "source": [
    "### Novo Modelo Com Box-Cox"
   ]
  },
  {
   "cell_type": "code",
   "execution_count": 43,
   "id": "2d97bf3e",
   "metadata": {},
   "outputs": [
    {
     "data": {
      "text/html": [
       "<table class=\"simpletable\">\n",
       "<caption>OLS Regression Results</caption>\n",
       "<tr>\n",
       "  <th>Dep. Variable:</th>       <td>bc_despmed</td>    <th>  R-squared:         </th> <td>   0.893</td>\n",
       "</tr>\n",
       "<tr>\n",
       "  <th>Model:</th>                   <td>OLS</td>       <th>  Adj. R-squared:    </th> <td>   0.891</td>\n",
       "</tr>\n",
       "<tr>\n",
       "  <th>Method:</th>             <td>Least Squares</td>  <th>  F-statistic:       </th> <td>   325.5</td>\n",
       "</tr>\n",
       "<tr>\n",
       "  <th>Date:</th>             <td>Thu, 02 Mar 2023</td> <th>  Prob (F-statistic):</th> <td>2.80e-92</td>\n",
       "</tr>\n",
       "<tr>\n",
       "  <th>Time:</th>                 <td>21:08:29</td>     <th>  Log-Likelihood:    </th> <td>  355.33</td>\n",
       "</tr>\n",
       "<tr>\n",
       "  <th>No. Observations:</th>      <td>   200</td>      <th>  AIC:               </th> <td>  -698.7</td>\n",
       "</tr>\n",
       "<tr>\n",
       "  <th>Df Residuals:</th>          <td>   194</td>      <th>  BIC:               </th> <td>  -678.9</td>\n",
       "</tr>\n",
       "<tr>\n",
       "  <th>Df Model:</th>              <td>     5</td>      <th>                     </th>     <td> </td>   \n",
       "</tr>\n",
       "<tr>\n",
       "  <th>Covariance Type:</th>      <td>nonrobust</td>    <th>                     </th>     <td> </td>   \n",
       "</tr>\n",
       "</table>\n",
       "<table class=\"simpletable\">\n",
       "<tr>\n",
       "      <td></td>         <th>coef</th>     <th>std err</th>      <th>t</th>      <th>P>|t|</th>  <th>[0.025</th>    <th>0.975]</th>  \n",
       "</tr>\n",
       "<tr>\n",
       "  <th>Intercept</th> <td>    3.5507</td> <td>    0.034</td> <td>  103.431</td> <td> 0.000</td> <td>    3.483</td> <td>    3.618</td>\n",
       "</tr>\n",
       "<tr>\n",
       "  <th>idade</th>     <td>    0.0146</td> <td>    0.015</td> <td>    0.980</td> <td> 0.328</td> <td>   -0.015</td> <td>    0.044</td>\n",
       "</tr>\n",
       "<tr>\n",
       "  <th>dcron</th>     <td>    0.0231</td> <td>    0.004</td> <td>    5.360</td> <td> 0.000</td> <td>    0.015</td> <td>    0.032</td>\n",
       "</tr>\n",
       "<tr>\n",
       "  <th>renda</th>     <td>   -0.0136</td> <td>    0.015</td> <td>   -0.924</td> <td> 0.357</td> <td>   -0.043</td> <td>    0.015</td>\n",
       "</tr>\n",
       "<tr>\n",
       "  <th>esmeralda</th> <td>   -0.0820</td> <td>    0.013</td> <td>   -6.494</td> <td> 0.000</td> <td>   -0.107</td> <td>   -0.057</td>\n",
       "</tr>\n",
       "<tr>\n",
       "  <th>ouro</th>      <td>   -0.1791</td> <td>    0.016</td> <td>  -10.944</td> <td> 0.000</td> <td>   -0.211</td> <td>   -0.147</td>\n",
       "</tr>\n",
       "</table>\n",
       "<table class=\"simpletable\">\n",
       "<tr>\n",
       "  <th>Omnibus:</th>       <td> 3.284</td> <th>  Durbin-Watson:     </th> <td>   1.828</td>\n",
       "</tr>\n",
       "<tr>\n",
       "  <th>Prob(Omnibus):</th> <td> 0.194</td> <th>  Jarque-Bera (JB):  </th> <td>   2.871</td>\n",
       "</tr>\n",
       "<tr>\n",
       "  <th>Skew:</th>          <td>-0.246</td> <th>  Prob(JB):          </th> <td>   0.238</td>\n",
       "</tr>\n",
       "<tr>\n",
       "  <th>Kurtosis:</th>      <td> 3.319</td> <th>  Cond. No.          </th> <td>    964.</td>\n",
       "</tr>\n",
       "</table><br/><br/>Notes:<br/>[1] Standard Errors assume that the covariance matrix of the errors is correctly specified."
      ],
      "text/plain": [
       "<class 'statsmodels.iolib.summary.Summary'>\n",
       "\"\"\"\n",
       "                            OLS Regression Results                            \n",
       "==============================================================================\n",
       "Dep. Variable:             bc_despmed   R-squared:                       0.893\n",
       "Model:                            OLS   Adj. R-squared:                  0.891\n",
       "Method:                 Least Squares   F-statistic:                     325.5\n",
       "Date:                Thu, 02 Mar 2023   Prob (F-statistic):           2.80e-92\n",
       "Time:                        21:08:29   Log-Likelihood:                 355.33\n",
       "No. Observations:                 200   AIC:                            -698.7\n",
       "Df Residuals:                     194   BIC:                            -678.9\n",
       "Df Model:                           5                                         \n",
       "Covariance Type:            nonrobust                                         \n",
       "==============================================================================\n",
       "                 coef    std err          t      P>|t|      [0.025      0.975]\n",
       "------------------------------------------------------------------------------\n",
       "Intercept      3.5507      0.034    103.431      0.000       3.483       3.618\n",
       "idade          0.0146      0.015      0.980      0.328      -0.015       0.044\n",
       "dcron          0.0231      0.004      5.360      0.000       0.015       0.032\n",
       "renda         -0.0136      0.015     -0.924      0.357      -0.043       0.015\n",
       "esmeralda     -0.0820      0.013     -6.494      0.000      -0.107      -0.057\n",
       "ouro          -0.1791      0.016    -10.944      0.000      -0.211      -0.147\n",
       "==============================================================================\n",
       "Omnibus:                        3.284   Durbin-Watson:                   1.828\n",
       "Prob(Omnibus):                  0.194   Jarque-Bera (JB):                2.871\n",
       "Skew:                          -0.246   Prob(JB):                        0.238\n",
       "Kurtosis:                       3.319   Cond. No.                         964.\n",
       "==============================================================================\n",
       "\n",
       "Notes:\n",
       "[1] Standard Errors assume that the covariance matrix of the errors is correctly specified.\n",
       "\"\"\""
      ]
     },
     "execution_count": 43,
     "metadata": {},
     "output_type": "execute_result"
    }
   ],
   "source": [
    "modelo_bc_planosaude = sm.OLS.from_formula(formula = 'bc_despmed ~ idade+dcron+renda+esmeralda+ouro', data=planosaude_dummies).fit()\n",
    "modelo_bc_planosaude.summary()"
   ]
  },
  {
   "cell_type": "markdown",
   "id": "ce969716",
   "metadata": {},
   "source": [
    "### Stepwise do Modelo Box-Cox"
   ]
  },
  {
   "cell_type": "code",
   "execution_count": 44,
   "id": "d2a21517",
   "metadata": {},
   "outputs": [
    {
     "data": {
      "text/html": [
       "<table class=\"simpletable\">\n",
       "<caption>OLS Regression Results</caption>\n",
       "<tr>\n",
       "  <th>Dep. Variable:</th>       <td>bc_despmed</td>    <th>  R-squared:         </th> <td>   0.893</td>\n",
       "</tr>\n",
       "<tr>\n",
       "  <th>Model:</th>                   <td>OLS</td>       <th>  Adj. R-squared:    </th> <td>   0.891</td>\n",
       "</tr>\n",
       "<tr>\n",
       "  <th>Method:</th>             <td>Least Squares</td>  <th>  F-statistic:       </th> <td>   407.0</td>\n",
       "</tr>\n",
       "<tr>\n",
       "  <th>Date:</th>             <td>Thu, 02 Mar 2023</td> <th>  Prob (F-statistic):</th> <td>1.99e-93</td>\n",
       "</tr>\n",
       "<tr>\n",
       "  <th>Time:</th>                 <td>21:10:03</td>     <th>  Log-Likelihood:    </th> <td>  354.89</td>\n",
       "</tr>\n",
       "<tr>\n",
       "  <th>No. Observations:</th>      <td>   200</td>      <th>  AIC:               </th> <td>  -699.8</td>\n",
       "</tr>\n",
       "<tr>\n",
       "  <th>Df Residuals:</th>          <td>   195</td>      <th>  BIC:               </th> <td>  -683.3</td>\n",
       "</tr>\n",
       "<tr>\n",
       "  <th>Df Model:</th>              <td>     4</td>      <th>                     </th>     <td> </td>   \n",
       "</tr>\n",
       "<tr>\n",
       "  <th>Covariance Type:</th>      <td>nonrobust</td>    <th>                     </th>     <td> </td>   \n",
       "</tr>\n",
       "</table>\n",
       "<table class=\"simpletable\">\n",
       "<tr>\n",
       "      <td></td>         <th>coef</th>     <th>std err</th>      <th>t</th>      <th>P>|t|</th>  <th>[0.025</th>    <th>0.975]</th>  \n",
       "</tr>\n",
       "<tr>\n",
       "  <th>Intercept</th> <td>    3.5583</td> <td>    0.033</td> <td>  106.798</td> <td> 0.000</td> <td>    3.493</td> <td>    3.624</td>\n",
       "</tr>\n",
       "<tr>\n",
       "  <th>idade</th>     <td>    0.0008</td> <td>    0.001</td> <td>    1.394</td> <td> 0.165</td> <td>   -0.000</td> <td>    0.002</td>\n",
       "</tr>\n",
       "<tr>\n",
       "  <th>dcron</th>     <td>    0.0240</td> <td>    0.004</td> <td>    5.708</td> <td> 0.000</td> <td>    0.016</td> <td>    0.032</td>\n",
       "</tr>\n",
       "<tr>\n",
       "  <th>esmeralda</th> <td>   -0.0819</td> <td>    0.013</td> <td>   -6.493</td> <td> 0.000</td> <td>   -0.107</td> <td>   -0.057</td>\n",
       "</tr>\n",
       "<tr>\n",
       "  <th>ouro</th>      <td>   -0.1796</td> <td>    0.016</td> <td>  -10.987</td> <td> 0.000</td> <td>   -0.212</td> <td>   -0.147</td>\n",
       "</tr>\n",
       "</table>\n",
       "<table class=\"simpletable\">\n",
       "<tr>\n",
       "  <th>Omnibus:</th>       <td> 2.551</td> <th>  Durbin-Watson:     </th> <td>   1.822</td>\n",
       "</tr>\n",
       "<tr>\n",
       "  <th>Prob(Omnibus):</th> <td> 0.279</td> <th>  Jarque-Bera (JB):  </th> <td>   2.156</td>\n",
       "</tr>\n",
       "<tr>\n",
       "  <th>Skew:</th>          <td>-0.198</td> <th>  Prob(JB):          </th> <td>   0.340</td>\n",
       "</tr>\n",
       "<tr>\n",
       "  <th>Kurtosis:</th>      <td> 3.320</td> <th>  Cond. No.          </th> <td>    663.</td>\n",
       "</tr>\n",
       "</table><br/><br/>Notes:<br/>[1] Standard Errors assume that the covariance matrix of the errors is correctly specified."
      ],
      "text/plain": [
       "<class 'statsmodels.iolib.summary.Summary'>\n",
       "\"\"\"\n",
       "                            OLS Regression Results                            \n",
       "==============================================================================\n",
       "Dep. Variable:             bc_despmed   R-squared:                       0.893\n",
       "Model:                            OLS   Adj. R-squared:                  0.891\n",
       "Method:                 Least Squares   F-statistic:                     407.0\n",
       "Date:                Thu, 02 Mar 2023   Prob (F-statistic):           1.99e-93\n",
       "Time:                        21:10:03   Log-Likelihood:                 354.89\n",
       "No. Observations:                 200   AIC:                            -699.8\n",
       "Df Residuals:                     195   BIC:                            -683.3\n",
       "Df Model:                           4                                         \n",
       "Covariance Type:            nonrobust                                         \n",
       "==============================================================================\n",
       "                 coef    std err          t      P>|t|      [0.025      0.975]\n",
       "------------------------------------------------------------------------------\n",
       "Intercept      3.5583      0.033    106.798      0.000       3.493       3.624\n",
       "idade          0.0008      0.001      1.394      0.165      -0.000       0.002\n",
       "dcron          0.0240      0.004      5.708      0.000       0.016       0.032\n",
       "esmeralda     -0.0819      0.013     -6.493      0.000      -0.107      -0.057\n",
       "ouro          -0.1796      0.016    -10.987      0.000      -0.212      -0.147\n",
       "==============================================================================\n",
       "Omnibus:                        2.551   Durbin-Watson:                   1.822\n",
       "Prob(Omnibus):                  0.279   Jarque-Bera (JB):                2.156\n",
       "Skew:                          -0.198   Prob(JB):                        0.340\n",
       "Kurtosis:                       3.320   Cond. No.                         663.\n",
       "==============================================================================\n",
       "\n",
       "Notes:\n",
       "[1] Standard Errors assume that the covariance matrix of the errors is correctly specified.\n",
       "\"\"\""
      ]
     },
     "execution_count": 44,
     "metadata": {},
     "output_type": "execute_result"
    }
   ],
   "source": [
    "#Retira a Renda\n",
    "step_bc_planosaude = sm.OLS.from_formula(formula = 'bc_despmed ~ idade+dcron+esmeralda+ouro', data=planosaude_dummies).fit()\n",
    "step_bc_planosaude.summary()"
   ]
  },
  {
   "cell_type": "code",
   "execution_count": 45,
   "id": "6db13974",
   "metadata": {},
   "outputs": [
    {
     "data": {
      "text/html": [
       "<table class=\"simpletable\">\n",
       "<caption>OLS Regression Results</caption>\n",
       "<tr>\n",
       "  <th>Dep. Variable:</th>       <td>bc_despmed</td>    <th>  R-squared:         </th> <td>   0.892</td>\n",
       "</tr>\n",
       "<tr>\n",
       "  <th>Model:</th>                   <td>OLS</td>       <th>  Adj. R-squared:    </th> <td>   0.890</td>\n",
       "</tr>\n",
       "<tr>\n",
       "  <th>Method:</th>             <td>Least Squares</td>  <th>  F-statistic:       </th> <td>   539.4</td>\n",
       "</tr>\n",
       "<tr>\n",
       "  <th>Date:</th>             <td>Thu, 02 Mar 2023</td> <th>  Prob (F-statistic):</th> <td>2.07e-94</td>\n",
       "</tr>\n",
       "<tr>\n",
       "  <th>Time:</th>                 <td>21:10:36</td>     <th>  Log-Likelihood:    </th> <td>  353.90</td>\n",
       "</tr>\n",
       "<tr>\n",
       "  <th>No. Observations:</th>      <td>   200</td>      <th>  AIC:               </th> <td>  -699.8</td>\n",
       "</tr>\n",
       "<tr>\n",
       "  <th>Df Residuals:</th>          <td>   196</td>      <th>  BIC:               </th> <td>  -686.6</td>\n",
       "</tr>\n",
       "<tr>\n",
       "  <th>Df Model:</th>              <td>     3</td>      <th>                     </th>     <td> </td>   \n",
       "</tr>\n",
       "<tr>\n",
       "  <th>Covariance Type:</th>      <td>nonrobust</td>    <th>                     </th>     <td> </td>   \n",
       "</tr>\n",
       "</table>\n",
       "<table class=\"simpletable\">\n",
       "<tr>\n",
       "      <td></td>         <th>coef</th>     <th>std err</th>      <th>t</th>      <th>P>|t|</th>  <th>[0.025</th>    <th>0.975]</th>  \n",
       "</tr>\n",
       "<tr>\n",
       "  <th>Intercept</th> <td>    3.5983</td> <td>    0.017</td> <td>  211.642</td> <td> 0.000</td> <td>    3.565</td> <td>    3.632</td>\n",
       "</tr>\n",
       "<tr>\n",
       "  <th>dcron</th>     <td>    0.0271</td> <td>    0.004</td> <td>    7.582</td> <td> 0.000</td> <td>    0.020</td> <td>    0.034</td>\n",
       "</tr>\n",
       "<tr>\n",
       "  <th>esmeralda</th> <td>   -0.0903</td> <td>    0.011</td> <td>   -8.137</td> <td> 0.000</td> <td>   -0.112</td> <td>   -0.068</td>\n",
       "</tr>\n",
       "<tr>\n",
       "  <th>ouro</th>      <td>   -0.1910</td> <td>    0.014</td> <td>  -13.437</td> <td> 0.000</td> <td>   -0.219</td> <td>   -0.163</td>\n",
       "</tr>\n",
       "</table>\n",
       "<table class=\"simpletable\">\n",
       "<tr>\n",
       "  <th>Omnibus:</th>       <td> 2.456</td> <th>  Durbin-Watson:     </th> <td>   1.806</td>\n",
       "</tr>\n",
       "<tr>\n",
       "  <th>Prob(Omnibus):</th> <td> 0.293</td> <th>  Jarque-Bera (JB):  </th> <td>   2.071</td>\n",
       "</tr>\n",
       "<tr>\n",
       "  <th>Skew:</th>          <td>-0.185</td> <th>  Prob(JB):          </th> <td>   0.355</td>\n",
       "</tr>\n",
       "<tr>\n",
       "  <th>Kurtosis:</th>      <td> 3.333</td> <th>  Cond. No.          </th> <td>    27.0</td>\n",
       "</tr>\n",
       "</table><br/><br/>Notes:<br/>[1] Standard Errors assume that the covariance matrix of the errors is correctly specified."
      ],
      "text/plain": [
       "<class 'statsmodels.iolib.summary.Summary'>\n",
       "\"\"\"\n",
       "                            OLS Regression Results                            \n",
       "==============================================================================\n",
       "Dep. Variable:             bc_despmed   R-squared:                       0.892\n",
       "Model:                            OLS   Adj. R-squared:                  0.890\n",
       "Method:                 Least Squares   F-statistic:                     539.4\n",
       "Date:                Thu, 02 Mar 2023   Prob (F-statistic):           2.07e-94\n",
       "Time:                        21:10:36   Log-Likelihood:                 353.90\n",
       "No. Observations:                 200   AIC:                            -699.8\n",
       "Df Residuals:                     196   BIC:                            -686.6\n",
       "Df Model:                           3                                         \n",
       "Covariance Type:            nonrobust                                         \n",
       "==============================================================================\n",
       "                 coef    std err          t      P>|t|      [0.025      0.975]\n",
       "------------------------------------------------------------------------------\n",
       "Intercept      3.5983      0.017    211.642      0.000       3.565       3.632\n",
       "dcron          0.0271      0.004      7.582      0.000       0.020       0.034\n",
       "esmeralda     -0.0903      0.011     -8.137      0.000      -0.112      -0.068\n",
       "ouro          -0.1910      0.014    -13.437      0.000      -0.219      -0.163\n",
       "==============================================================================\n",
       "Omnibus:                        2.456   Durbin-Watson:                   1.806\n",
       "Prob(Omnibus):                  0.293   Jarque-Bera (JB):                2.071\n",
       "Skew:                          -0.185   Prob(JB):                        0.355\n",
       "Kurtosis:                       3.333   Cond. No.                         27.0\n",
       "==============================================================================\n",
       "\n",
       "Notes:\n",
       "[1] Standard Errors assume that the covariance matrix of the errors is correctly specified.\n",
       "\"\"\""
      ]
     },
     "execution_count": 45,
     "metadata": {},
     "output_type": "execute_result"
    }
   ],
   "source": [
    "#Retira a Idade\n",
    "step_bc_planosaude = sm.OLS.from_formula(formula = 'bc_despmed ~ dcron+esmeralda+ouro', data=planosaude_dummies).fit()\n",
    "step_bc_planosaude.summary()"
   ]
  },
  {
   "cell_type": "markdown",
   "id": "cf3fca11",
   "metadata": {},
   "source": [
    "### Teste Shapiro-Francia no Modelo Box-Cox"
   ]
  },
  {
   "cell_type": "code",
   "execution_count": 46,
   "id": "63505239",
   "metadata": {},
   "outputs": [
    {
     "data": {
      "text/plain": [
       "(0.9857446551322937, 0.041268423199653625)"
      ]
     },
     "execution_count": 46,
     "metadata": {},
     "output_type": "execute_result"
    }
   ],
   "source": [
    "from scipy.stats import shapiro\n",
    "\n",
    "stat, p_value = shapiro(step_bc_planosaude.resid)\n",
    "stat , p_value"
   ]
  },
  {
   "cell_type": "markdown",
   "id": "d1d446ee",
   "metadata": {},
   "source": [
    "**O valor do teste shapiro-francia no R o modelo fica com p-valor de 0.05846** <br>\n",
    "**Modelo passa no teste de normalidade dos resíduos**"
   ]
  },
  {
   "cell_type": "code",
   "execution_count": 47,
   "id": "08d69838",
   "metadata": {},
   "outputs": [
    {
     "data": {
      "text/plain": [
       "<AxesSubplot:>"
      ]
     },
     "execution_count": 47,
     "metadata": {},
     "output_type": "execute_result"
    },
    {
     "data": {
      "image/png": "[encoded data removed]",
      "text/plain": [
       "<Figure size 640x480 with 1 Axes>"
      ]
     },
     "metadata": {},
     "output_type": "display_data"
    }
   ],
   "source": [
    "step_bc_planosaude.resid.hist()"
   ]
  },
  {
   "cell_type": "markdown",
   "id": "77dc0430",
   "metadata": {},
   "source": [
    "### Teste de Heterocedasticidade no Modelo Box-Cox"
   ]
  },
  {
   "cell_type": "code",
   "execution_count": 49,
   "id": "955724a1",
   "metadata": {},
   "outputs": [
    {
     "data": {
      "text/html": [
       "<div>\n",
       "<style scoped>\n",
       "    .dataframe tbody tr th:only-of-type {\n",
       "        vertical-align: middle;\n",
       "    }\n",
       "\n",
       "    .dataframe tbody tr th {\n",
       "        vertical-align: top;\n",
       "    }\n",
       "\n",
       "    .dataframe thead th {\n",
       "        text-align: right;\n",
       "    }\n",
       "</style>\n",
       "<table border=\"1\" class=\"dataframe\">\n",
       "  <thead>\n",
       "    <tr style=\"text-align: right;\">\n",
       "      <th></th>\n",
       "      <th>df</th>\n",
       "      <th>sum_sq</th>\n",
       "      <th>mean_sq</th>\n",
       "      <th>F</th>\n",
       "      <th>PR(&gt;F)</th>\n",
       "    </tr>\n",
       "  </thead>\n",
       "  <tbody>\n",
       "    <tr>\n",
       "      <th>yhat</th>\n",
       "      <td>1.0</td>\n",
       "      <td>2.025</td>\n",
       "      <td>2.025</td>\n",
       "      <td>0.863</td>\n",
       "      <td>0.354</td>\n",
       "    </tr>\n",
       "    <tr>\n",
       "      <th>Residual</th>\n",
       "      <td>198.0</td>\n",
       "      <td>464.620</td>\n",
       "      <td>2.347</td>\n",
       "      <td>NaN</td>\n",
       "      <td>NaN</td>\n",
       "    </tr>\n",
       "  </tbody>\n",
       "</table>\n",
       "</div>"
      ],
      "text/plain": [
       "             df   sum_sq  mean_sq      F  PR(>F)\n",
       "yhat        1.0    2.025    2.025  0.863   0.354\n",
       "Residual  198.0  464.620    2.347    NaN     NaN"
      ]
     },
     "execution_count": 49,
     "metadata": {},
     "output_type": "execute_result"
    }
   ],
   "source": [
    "df_aux_bc = pd.DataFrame()\n",
    "df_aux_bc['yhat'] = step_bc_planosaude.fittedvalues\n",
    "df_aux_bc['resid'] = step_bc_planosaude.resid\n",
    "df_aux_bc['up'] = ((step_bc_planosaude.resid**2)/ ((sum(step_bc_planosaude.resid**2))/(planosaude.index.size)))\n",
    "\n",
    "#Anova\n",
    "from bioinfokit.analys import stat\n",
    "\n",
    "res = stat()\n",
    "res.anova_stat(df=df_aux_bc, res_var='up', anova_model=f'up ~ yhat')\n",
    "round(res.anova_summary,3)"
   ]
  },
  {
   "cell_type": "code",
   "execution_count": 50,
   "id": "83c07518",
   "metadata": {},
   "outputs": [
    {
     "name": "stdout",
     "output_type": "stream",
     "text": [
      "Chi2: 1.0125\n",
      "P-value: 0.31430466047385386\n"
     ]
    }
   ],
   "source": [
    "from scipy.stats import chi2\n",
    "\n",
    "mean = 2.025/2\n",
    "\n",
    "p = 1- chi2.cdf(mean, 1)\n",
    "# Resultado teste Breush-Pagen\n",
    "\n",
    "print(f'Chi2: {mean}')\n",
    "print(f'P-value: {p}')"
   ]
  },
  {
   "cell_type": "markdown",
   "id": "981a6cda",
   "metadata": {},
   "source": [
    "**Modelo de Box-Cox é homogêneo, não existe heterocedasticidade**"
   ]
  },
  {
   "cell_type": "markdown",
   "id": "d8d07423",
   "metadata": {},
   "source": [
    "# Gráfico dos Resíduos em Função do Yhat do modelo Box-Cox\n",
    "\n",
    "A formação do Cone é menos acentuada."
   ]
  },
  {
   "cell_type": "code",
   "execution_count": 51,
   "id": "e7f35bfe",
   "metadata": {},
   "outputs": [
    {
     "data": {
      "text/plain": [
       "<AxesSubplot:xlabel='yhat', ylabel='resid'>"
      ]
     },
     "execution_count": 51,
     "metadata": {},
     "output_type": "execute_result"
    },
    {
     "data": {
      "image/png": "[encoded data removed]",
      "text/plain": [
       "<Figure size 640x480 with 1 Axes>"
      ]
     },
     "metadata": {},
     "output_type": "display_data"
    }
   ],
   "source": [
    "sns.scatterplot(df_aux_bc.yhat, df_aux_bc.resid)"
   ]
  },
  {
   "cell_type": "code",
   "execution_count": null,
   "id": "b785a6a9",
   "metadata": {},
   "outputs": [],
   "source": []
  }
 ],
 "metadata": {
  "kernelspec": {
   "display_name": "Python 3 (ipykernel)",
   "language": "python",
   "name": "python3"
  },
  "language_info": {
   "codemirror_mode": {
    "name": "ipython",
    "version": 3
   },
   "file_extension": ".py",
   "mimetype": "text/x-python",
   "name": "python",
   "nbconvert_exporter": "python",
   "pygments_lexer": "ipython3",
   "version": "3.9.13"
  }
 },
 "nbformat": 4,
 "nbformat_minor": 5
}
