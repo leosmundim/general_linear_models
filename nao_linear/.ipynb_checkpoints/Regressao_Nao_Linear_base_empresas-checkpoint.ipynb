{
 "cells": [
  {
   "cell_type": "code",
   "execution_count": 1,
   "id": "c1d58bc8",
   "metadata": {},
   "outputs": [],
   "source": [
    "import pandas as pd\n",
    "import numpy as np\n",
    "import pyreadr\n",
    "import seaborn as sns\n",
    "import matplotlib.pyplot as plt\n",
    "import plotly.express as px\n"
   ]
  },
  {
   "cell_type": "markdown",
   "id": "fd1ea1e9",
   "metadata": {},
   "source": [
    "# Modelo de Regressão Não Linear Múltipla <br>\n",
    "## Transformação de Box-Cox\n",
    "\n",
    "Exmplo da aula do MBA DSA USP/ESALQ com Prof. Fávero e Belfiore\n",
    "\n",
    "## Aplicação MQO (OLS)\n",
    "\n",
    "1) Estimação do modelo linear com stepwise<br>\n",
    "2) Aplica teste Shapiro Francia nos resíduos:<br>\n",
    "- Deu aderência à normalidade? Modelo validado <br>\n",
    "- Não deu aderência à normalidade? Aplica transformação Box-Cox <br>\n",
    "\n",
    "3) Aplica modelo novamente com stepwise<br>\n",
    "4) Aplica teste shapiro Francia novamente nos resíduos:\n",
    "\n",
    "\n",
    "\n",
    "## Contexto\n",
    "\n",
    "Fonte: Compustat Global - Universidade de Wharton/Pensilvânia\n",
    "\n",
    " - Empresa;\n",
    " - Retorno;\n",
    " - Disclosure: nota de 0 a 100 que corresponde à transparência sobre divulgação das demonstrações financeiras;\n",
    " - Endividamento;\n",
    " - Ativos;\n",
    " - Liquidez;"
   ]
  },
  {
   "cell_type": "code",
   "execution_count": 2,
   "id": "507ff9eb",
   "metadata": {},
   "outputs": [
    {
     "name": "stdout",
     "output_type": "stream",
     "text": [
      "odict_keys(['empresas'])\n"
     ]
    }
   ],
   "source": [
    "#Importa base e transforma em objeto\n",
    "rData = pyreadr.read_r(r'bases\\empresas.RData')\n",
    "\n",
    "#Verifica o nomne do objeto\n",
    "print(rData.keys())"
   ]
  },
  {
   "cell_type": "code",
   "execution_count": 3,
   "id": "6201f1ec",
   "metadata": {},
   "outputs": [
    {
     "data": {
      "text/html": [
       "<div>\n",
       "<style scoped>\n",
       "    .dataframe tbody tr th:only-of-type {\n",
       "        vertical-align: middle;\n",
       "    }\n",
       "\n",
       "    .dataframe tbody tr th {\n",
       "        vertical-align: top;\n",
       "    }\n",
       "\n",
       "    .dataframe thead th {\n",
       "        text-align: right;\n",
       "    }\n",
       "</style>\n",
       "<table border=\"1\" class=\"dataframe\">\n",
       "  <thead>\n",
       "    <tr style=\"text-align: right;\">\n",
       "      <th></th>\n",
       "      <th>empresa</th>\n",
       "      <th>retorno</th>\n",
       "      <th>disclosure</th>\n",
       "      <th>endividamento</th>\n",
       "      <th>ativos</th>\n",
       "      <th>liquidez</th>\n",
       "    </tr>\n",
       "  </thead>\n",
       "  <tbody>\n",
       "    <tr>\n",
       "      <th>0</th>\n",
       "      <td>Adidas</td>\n",
       "      <td>63.67</td>\n",
       "      <td>83.0</td>\n",
       "      <td>1.3</td>\n",
       "      <td>3967.0</td>\n",
       "      <td>14.3</td>\n",
       "    </tr>\n",
       "    <tr>\n",
       "      <th>1</th>\n",
       "      <td>BASF</td>\n",
       "      <td>55.49</td>\n",
       "      <td>91.0</td>\n",
       "      <td>33.9</td>\n",
       "      <td>5450.0</td>\n",
       "      <td>16.8</td>\n",
       "    </tr>\n",
       "    <tr>\n",
       "      <th>2</th>\n",
       "      <td>Bayer</td>\n",
       "      <td>52.42</td>\n",
       "      <td>77.0</td>\n",
       "      <td>36.1</td>\n",
       "      <td>4327.0</td>\n",
       "      <td>15.5</td>\n",
       "    </tr>\n",
       "    <tr>\n",
       "      <th>3</th>\n",
       "      <td>BSH</td>\n",
       "      <td>54.00</td>\n",
       "      <td>90.0</td>\n",
       "      <td>20.8</td>\n",
       "      <td>4109.0</td>\n",
       "      <td>16.8</td>\n",
       "    </tr>\n",
       "    <tr>\n",
       "      <th>4</th>\n",
       "      <td>Bosch</td>\n",
       "      <td>68.01</td>\n",
       "      <td>93.0</td>\n",
       "      <td>14.1</td>\n",
       "      <td>4458.0</td>\n",
       "      <td>17.0</td>\n",
       "    </tr>\n",
       "  </tbody>\n",
       "</table>\n",
       "</div>"
      ],
      "text/plain": [
       "  empresa  retorno  disclosure  endividamento  ativos  liquidez\n",
       "0  Adidas    63.67        83.0            1.3  3967.0      14.3\n",
       "1    BASF    55.49        91.0           33.9  5450.0      16.8\n",
       "2   Bayer    52.42        77.0           36.1  4327.0      15.5\n",
       "3     BSH    54.00        90.0           20.8  4109.0      16.8\n",
       "4   Bosch    68.01        93.0           14.1  4458.0      17.0"
      ]
     },
     "execution_count": 3,
     "metadata": {},
     "output_type": "execute_result"
    }
   ],
   "source": [
    "#Transforma o objeto em um pandas DataFrame\n",
    "empresas = rData['empresas']\n",
    "empresas.head()"
   ]
  },
  {
   "cell_type": "markdown",
   "id": "bc4cb6fa",
   "metadata": {},
   "source": [
    "## Análise das Correlações"
   ]
  },
  {
   "cell_type": "code",
   "execution_count": 4,
   "id": "2b47cb93",
   "metadata": {},
   "outputs": [
    {
     "data": {
      "image/png": "[encoded data removed]",
      "text/plain": [
       "<Figure size 640x480 with 2 Axes>"
      ]
     },
     "metadata": {},
     "output_type": "display_data"
    }
   ],
   "source": [
    "matriz_corr = empresas.corr()\n",
    "\n",
    "#Gráfico matriz correlação\n",
    "\n",
    "sns.heatmap(matriz_corr, cmap='viridis', annot=True)\n",
    "plt.show()"
   ]
  },
  {
   "cell_type": "code",
   "execution_count": 5,
   "id": "ae18235d",
   "metadata": {},
   "outputs": [
    {
     "data": {
      "image/png": "[encoded data removed]",
      "text/plain": [
       "<Figure size 1250x1250 with 30 Axes>"
      ]
     },
     "metadata": {},
     "output_type": "display_data"
    }
   ],
   "source": [
    "#Scatter Matrix\n",
    "sns.pairplot(empresas.iloc[:,1:], diag_kind='kde', kind='reg')\n",
    "plt.show()"
   ]
  },
  {
   "cell_type": "code",
   "execution_count": 6,
   "id": "770cb8c6",
   "metadata": {},
   "outputs": [
    {
     "data": {
      "text/html": [
       "<div>\n",
       "<style scoped>\n",
       "    .dataframe tbody tr th:only-of-type {\n",
       "        vertical-align: middle;\n",
       "    }\n",
       "\n",
       "    .dataframe tbody tr th {\n",
       "        vertical-align: top;\n",
       "    }\n",
       "\n",
       "    .dataframe thead th {\n",
       "        text-align: right;\n",
       "    }\n",
       "</style>\n",
       "<table border=\"1\" class=\"dataframe\">\n",
       "  <thead>\n",
       "    <tr style=\"text-align: right;\">\n",
       "      <th></th>\n",
       "      <th>disclosure</th>\n",
       "      <th>endividamento</th>\n",
       "      <th>ativos</th>\n",
       "      <th>liquidez</th>\n",
       "    </tr>\n",
       "  </thead>\n",
       "  <tbody>\n",
       "    <tr>\n",
       "      <th>0</th>\n",
       "      <td>83.0</td>\n",
       "      <td>1.3</td>\n",
       "      <td>3967.0</td>\n",
       "      <td>14.3</td>\n",
       "    </tr>\n",
       "    <tr>\n",
       "      <th>1</th>\n",
       "      <td>91.0</td>\n",
       "      <td>33.9</td>\n",
       "      <td>5450.0</td>\n",
       "      <td>16.8</td>\n",
       "    </tr>\n",
       "    <tr>\n",
       "      <th>2</th>\n",
       "      <td>77.0</td>\n",
       "      <td>36.1</td>\n",
       "      <td>4327.0</td>\n",
       "      <td>15.5</td>\n",
       "    </tr>\n",
       "    <tr>\n",
       "      <th>3</th>\n",
       "      <td>90.0</td>\n",
       "      <td>20.8</td>\n",
       "      <td>4109.0</td>\n",
       "      <td>16.8</td>\n",
       "    </tr>\n",
       "    <tr>\n",
       "      <th>4</th>\n",
       "      <td>93.0</td>\n",
       "      <td>14.1</td>\n",
       "      <td>4458.0</td>\n",
       "      <td>17.0</td>\n",
       "    </tr>\n",
       "    <tr>\n",
       "      <th>...</th>\n",
       "      <td>...</td>\n",
       "      <td>...</td>\n",
       "      <td>...</td>\n",
       "      <td>...</td>\n",
       "    </tr>\n",
       "    <tr>\n",
       "      <th>119</th>\n",
       "      <td>41.0</td>\n",
       "      <td>49.5</td>\n",
       "      <td>2996.0</td>\n",
       "      <td>10.5</td>\n",
       "    </tr>\n",
       "    <tr>\n",
       "      <th>120</th>\n",
       "      <td>35.0</td>\n",
       "      <td>16.8</td>\n",
       "      <td>3622.0</td>\n",
       "      <td>12.3</td>\n",
       "    </tr>\n",
       "    <tr>\n",
       "      <th>121</th>\n",
       "      <td>24.0</td>\n",
       "      <td>16.1</td>\n",
       "      <td>2972.0</td>\n",
       "      <td>9.7</td>\n",
       "    </tr>\n",
       "    <tr>\n",
       "      <th>122</th>\n",
       "      <td>68.0</td>\n",
       "      <td>34.8</td>\n",
       "      <td>4691.0</td>\n",
       "      <td>8.9</td>\n",
       "    </tr>\n",
       "    <tr>\n",
       "      <th>123</th>\n",
       "      <td>14.0</td>\n",
       "      <td>40.0</td>\n",
       "      <td>2303.0</td>\n",
       "      <td>8.0</td>\n",
       "    </tr>\n",
       "  </tbody>\n",
       "</table>\n",
       "<p>124 rows × 4 columns</p>\n",
       "</div>"
      ],
      "text/plain": [
       "     disclosure  endividamento  ativos  liquidez\n",
       "0          83.0            1.3  3967.0      14.3\n",
       "1          91.0           33.9  5450.0      16.8\n",
       "2          77.0           36.1  4327.0      15.5\n",
       "3          90.0           20.8  4109.0      16.8\n",
       "4          93.0           14.1  4458.0      17.0\n",
       "..          ...            ...     ...       ...\n",
       "119        41.0           49.5  2996.0      10.5\n",
       "120        35.0           16.8  3622.0      12.3\n",
       "121        24.0           16.1  2972.0       9.7\n",
       "122        68.0           34.8  4691.0       8.9\n",
       "123        14.0           40.0  2303.0       8.0\n",
       "\n",
       "[124 rows x 4 columns]"
      ]
     },
     "execution_count": 6,
     "metadata": {},
     "output_type": "execute_result"
    }
   ],
   "source": [
    "y = empresas.retorno\n",
    "X = empresas.iloc[:,2:]\n",
    "X"
   ]
  },
  {
   "cell_type": "code",
   "execution_count": 7,
   "id": "b237028b",
   "metadata": {},
   "outputs": [
    {
     "data": {
      "text/html": [
       "<table class=\"simpletable\">\n",
       "<caption>OLS Regression Results</caption>\n",
       "<tr>\n",
       "  <th>Dep. Variable:</th>         <td>retorno</td>     <th>  R-squared:         </th> <td>   0.833</td>\n",
       "</tr>\n",
       "<tr>\n",
       "  <th>Model:</th>                   <td>OLS</td>       <th>  Adj. R-squared:    </th> <td>   0.827</td>\n",
       "</tr>\n",
       "<tr>\n",
       "  <th>Method:</th>             <td>Least Squares</td>  <th>  F-statistic:       </th> <td>   147.9</td>\n",
       "</tr>\n",
       "<tr>\n",
       "  <th>Date:</th>             <td>Mon, 27 Feb 2023</td> <th>  Prob (F-statistic):</th> <td>3.35e-45</td>\n",
       "</tr>\n",
       "<tr>\n",
       "  <th>Time:</th>                 <td>20:01:45</td>     <th>  Log-Likelihood:    </th> <td> -401.07</td>\n",
       "</tr>\n",
       "<tr>\n",
       "  <th>No. Observations:</th>      <td>   124</td>      <th>  AIC:               </th> <td>   812.1</td>\n",
       "</tr>\n",
       "<tr>\n",
       "  <th>Df Residuals:</th>          <td>   119</td>      <th>  BIC:               </th> <td>   826.2</td>\n",
       "</tr>\n",
       "<tr>\n",
       "  <th>Df Model:</th>              <td>     4</td>      <th>                     </th>     <td> </td>   \n",
       "</tr>\n",
       "<tr>\n",
       "  <th>Covariance Type:</th>      <td>nonrobust</td>    <th>                     </th>     <td> </td>   \n",
       "</tr>\n",
       "</table>\n",
       "<table class=\"simpletable\">\n",
       "<tr>\n",
       "        <td></td>           <th>coef</th>     <th>std err</th>      <th>t</th>      <th>P>|t|</th>  <th>[0.025</th>    <th>0.975]</th>  \n",
       "</tr>\n",
       "<tr>\n",
       "  <th>Intercept</th>     <td>    6.0506</td> <td>    4.080</td> <td>    1.483</td> <td> 0.141</td> <td>   -2.028</td> <td>   14.129</td>\n",
       "</tr>\n",
       "<tr>\n",
       "  <th>disclosure</th>    <td>    0.1067</td> <td>    0.048</td> <td>    2.227</td> <td> 0.028</td> <td>    0.012</td> <td>    0.202</td>\n",
       "</tr>\n",
       "<tr>\n",
       "  <th>endividamento</th> <td>   -0.0882</td> <td>    0.051</td> <td>   -1.723</td> <td> 0.087</td> <td>   -0.190</td> <td>    0.013</td>\n",
       "</tr>\n",
       "<tr>\n",
       "  <th>ativos</th>        <td>    0.0035</td> <td>    0.001</td> <td>    5.134</td> <td> 0.000</td> <td>    0.002</td> <td>    0.005</td>\n",
       "</tr>\n",
       "<tr>\n",
       "  <th>liquidez</th>      <td>    1.9762</td> <td>    0.396</td> <td>    4.987</td> <td> 0.000</td> <td>    1.191</td> <td>    2.761</td>\n",
       "</tr>\n",
       "</table>\n",
       "<table class=\"simpletable\">\n",
       "<tr>\n",
       "  <th>Omnibus:</th>       <td>35.509</td> <th>  Durbin-Watson:     </th> <td>   2.065</td>\n",
       "</tr>\n",
       "<tr>\n",
       "  <th>Prob(Omnibus):</th> <td> 0.000</td> <th>  Jarque-Bera (JB):  </th> <td>   7.127</td>\n",
       "</tr>\n",
       "<tr>\n",
       "  <th>Skew:</th>          <td>-0.136</td> <th>  Prob(JB):          </th> <td>  0.0283</td>\n",
       "</tr>\n",
       "<tr>\n",
       "  <th>Kurtosis:</th>      <td> 1.858</td> <th>  Cond. No.          </th> <td>2.94e+04</td>\n",
       "</tr>\n",
       "</table><br/><br/>Notes:<br/>[1] Standard Errors assume that the covariance matrix of the errors is correctly specified.<br/>[2] The condition number is large, 2.94e+04. This might indicate that there are<br/>strong multicollinearity or other numerical problems."
      ],
      "text/plain": [
       "<class 'statsmodels.iolib.summary.Summary'>\n",
       "\"\"\"\n",
       "                            OLS Regression Results                            \n",
       "==============================================================================\n",
       "Dep. Variable:                retorno   R-squared:                       0.833\n",
       "Model:                            OLS   Adj. R-squared:                  0.827\n",
       "Method:                 Least Squares   F-statistic:                     147.9\n",
       "Date:                Mon, 27 Feb 2023   Prob (F-statistic):           3.35e-45\n",
       "Time:                        20:01:45   Log-Likelihood:                -401.07\n",
       "No. Observations:                 124   AIC:                             812.1\n",
       "Df Residuals:                     119   BIC:                             826.2\n",
       "Df Model:                           4                                         \n",
       "Covariance Type:            nonrobust                                         \n",
       "=================================================================================\n",
       "                    coef    std err          t      P>|t|      [0.025      0.975]\n",
       "---------------------------------------------------------------------------------\n",
       "Intercept         6.0506      4.080      1.483      0.141      -2.028      14.129\n",
       "disclosure        0.1067      0.048      2.227      0.028       0.012       0.202\n",
       "endividamento    -0.0882      0.051     -1.723      0.087      -0.190       0.013\n",
       "ativos            0.0035      0.001      5.134      0.000       0.002       0.005\n",
       "liquidez          1.9762      0.396      4.987      0.000       1.191       2.761\n",
       "==============================================================================\n",
       "Omnibus:                       35.509   Durbin-Watson:                   2.065\n",
       "Prob(Omnibus):                  0.000   Jarque-Bera (JB):                7.127\n",
       "Skew:                          -0.136   Prob(JB):                       0.0283\n",
       "Kurtosis:                       1.858   Cond. No.                     2.94e+04\n",
       "==============================================================================\n",
       "\n",
       "Notes:\n",
       "[1] Standard Errors assume that the covariance matrix of the errors is correctly specified.\n",
       "[2] The condition number is large, 2.94e+04. This might indicate that there are\n",
       "strong multicollinearity or other numerical problems.\n",
       "\"\"\""
      ]
     },
     "execution_count": 7,
     "metadata": {},
     "output_type": "execute_result"
    }
   ],
   "source": [
    "#Estimando o modelo\n",
    "#https://www.statsmodels.org/dev/generated/statsmodels.regression.linear_model.OLS.html#statsmodels.regression.linear_model.OLS\n",
    "import statsmodels.api as sm\n",
    "\n",
    "modelo_linear = sm.OLS.from_formula(formula = 'retorno ~ disclosure+endividamento+ativos+liquidez', data=empresas).fit()\n",
    "modelo_linear.summary()"
   ]
  },
  {
   "cell_type": "markdown",
   "id": "e0704b17",
   "metadata": {},
   "source": [
    "## Procedimento Stepwise\n",
    "\n",
    "Retirar o parâmetro que apresentar um p-value > 0,05 do maior para o menor a cada rodada.<br>\n",
    "\n",
    "O primeiro a ser retirado será o endividademento com p-value = 0,087"
   ]
  },
  {
   "cell_type": "code",
   "execution_count": 8,
   "id": "418d164d",
   "metadata": {},
   "outputs": [
    {
     "data": {
      "text/html": [
       "<table class=\"simpletable\">\n",
       "<caption>OLS Regression Results</caption>\n",
       "<tr>\n",
       "  <th>Dep. Variable:</th>         <td>retorno</td>     <th>  R-squared:         </th> <td>   0.828</td>\n",
       "</tr>\n",
       "<tr>\n",
       "  <th>Model:</th>                   <td>OLS</td>       <th>  Adj. R-squared:    </th> <td>   0.824</td>\n",
       "</tr>\n",
       "<tr>\n",
       "  <th>Method:</th>             <td>Least Squares</td>  <th>  F-statistic:       </th> <td>   193.1</td>\n",
       "</tr>\n",
       "<tr>\n",
       "  <th>Date:</th>             <td>Mon, 27 Feb 2023</td> <th>  Prob (F-statistic):</th> <td>9.55e-46</td>\n",
       "</tr>\n",
       "<tr>\n",
       "  <th>Time:</th>                 <td>20:02:06</td>     <th>  Log-Likelihood:    </th> <td> -402.60</td>\n",
       "</tr>\n",
       "<tr>\n",
       "  <th>No. Observations:</th>      <td>   124</td>      <th>  AIC:               </th> <td>   813.2</td>\n",
       "</tr>\n",
       "<tr>\n",
       "  <th>Df Residuals:</th>          <td>   120</td>      <th>  BIC:               </th> <td>   824.5</td>\n",
       "</tr>\n",
       "<tr>\n",
       "  <th>Df Model:</th>              <td>     3</td>      <th>                     </th>     <td> </td>   \n",
       "</tr>\n",
       "<tr>\n",
       "  <th>Covariance Type:</th>      <td>nonrobust</td>    <th>                     </th>     <td> </td>   \n",
       "</tr>\n",
       "</table>\n",
       "<table class=\"simpletable\">\n",
       "<tr>\n",
       "       <td></td>         <th>coef</th>     <th>std err</th>      <th>t</th>      <th>P>|t|</th>  <th>[0.025</th>    <th>0.975]</th>  \n",
       "</tr>\n",
       "<tr>\n",
       "  <th>Intercept</th>  <td>    2.0461</td> <td>    3.380</td> <td>    0.605</td> <td> 0.546</td> <td>   -4.647</td> <td>    8.739</td>\n",
       "</tr>\n",
       "<tr>\n",
       "  <th>disclosure</th> <td>    0.0874</td> <td>    0.047</td> <td>    1.861</td> <td> 0.065</td> <td>   -0.006</td> <td>    0.180</td>\n",
       "</tr>\n",
       "<tr>\n",
       "  <th>ativos</th>     <td>    0.0032</td> <td>    0.001</td> <td>    4.850</td> <td> 0.000</td> <td>    0.002</td> <td>    0.005</td>\n",
       "</tr>\n",
       "<tr>\n",
       "  <th>liquidez</th>   <td>    2.2507</td> <td>    0.366</td> <td>    6.152</td> <td> 0.000</td> <td>    1.526</td> <td>    2.975</td>\n",
       "</tr>\n",
       "</table>\n",
       "<table class=\"simpletable\">\n",
       "<tr>\n",
       "  <th>Omnibus:</th>       <td>18.497</td> <th>  Durbin-Watson:     </th> <td>   1.945</td>\n",
       "</tr>\n",
       "<tr>\n",
       "  <th>Prob(Omnibus):</th> <td> 0.000</td> <th>  Jarque-Bera (JB):  </th> <td>   5.349</td>\n",
       "</tr>\n",
       "<tr>\n",
       "  <th>Skew:</th>          <td>-0.103</td> <th>  Prob(JB):          </th> <td>  0.0689</td>\n",
       "</tr>\n",
       "<tr>\n",
       "  <th>Kurtosis:</th>      <td> 2.003</td> <th>  Cond. No.          </th> <td>2.42e+04</td>\n",
       "</tr>\n",
       "</table><br/><br/>Notes:<br/>[1] Standard Errors assume that the covariance matrix of the errors is correctly specified.<br/>[2] The condition number is large, 2.42e+04. This might indicate that there are<br/>strong multicollinearity or other numerical problems."
      ],
      "text/plain": [
       "<class 'statsmodels.iolib.summary.Summary'>\n",
       "\"\"\"\n",
       "                            OLS Regression Results                            \n",
       "==============================================================================\n",
       "Dep. Variable:                retorno   R-squared:                       0.828\n",
       "Model:                            OLS   Adj. R-squared:                  0.824\n",
       "Method:                 Least Squares   F-statistic:                     193.1\n",
       "Date:                Mon, 27 Feb 2023   Prob (F-statistic):           9.55e-46\n",
       "Time:                        20:02:06   Log-Likelihood:                -402.60\n",
       "No. Observations:                 124   AIC:                             813.2\n",
       "Df Residuals:                     120   BIC:                             824.5\n",
       "Df Model:                           3                                         \n",
       "Covariance Type:            nonrobust                                         \n",
       "==============================================================================\n",
       "                 coef    std err          t      P>|t|      [0.025      0.975]\n",
       "------------------------------------------------------------------------------\n",
       "Intercept      2.0461      3.380      0.605      0.546      -4.647       8.739\n",
       "disclosure     0.0874      0.047      1.861      0.065      -0.006       0.180\n",
       "ativos         0.0032      0.001      4.850      0.000       0.002       0.005\n",
       "liquidez       2.2507      0.366      6.152      0.000       1.526       2.975\n",
       "==============================================================================\n",
       "Omnibus:                       18.497   Durbin-Watson:                   1.945\n",
       "Prob(Omnibus):                  0.000   Jarque-Bera (JB):                5.349\n",
       "Skew:                          -0.103   Prob(JB):                       0.0689\n",
       "Kurtosis:                       2.003   Cond. No.                     2.42e+04\n",
       "==============================================================================\n",
       "\n",
       "Notes:\n",
       "[1] Standard Errors assume that the covariance matrix of the errors is correctly specified.\n",
       "[2] The condition number is large, 2.42e+04. This might indicate that there are\n",
       "strong multicollinearity or other numerical problems.\n",
       "\"\"\""
      ]
     },
     "execution_count": 8,
     "metadata": {},
     "output_type": "execute_result"
    }
   ],
   "source": [
    "modelo_stepwise = sm.OLS.from_formula(formula = 'retorno ~ disclosure+ativos+liquidez', data=empresas).fit()\n",
    "modelo_stepwise.summary()"
   ]
  },
  {
   "cell_type": "code",
   "execution_count": 9,
   "id": "856af286",
   "metadata": {},
   "outputs": [
    {
     "data": {
      "text/html": [
       "<table class=\"simpletable\">\n",
       "<caption>OLS Regression Results</caption>\n",
       "<tr>\n",
       "  <th>Dep. Variable:</th>         <td>retorno</td>     <th>  R-squared:         </th> <td>   0.823</td>\n",
       "</tr>\n",
       "<tr>\n",
       "  <th>Model:</th>                   <td>OLS</td>       <th>  Adj. R-squared:    </th> <td>   0.820</td>\n",
       "</tr>\n",
       "<tr>\n",
       "  <th>Method:</th>             <td>Least Squares</td>  <th>  F-statistic:       </th> <td>   282.1</td>\n",
       "</tr>\n",
       "<tr>\n",
       "  <th>Date:</th>             <td>Mon, 27 Feb 2023</td> <th>  Prob (F-statistic):</th> <td>2.76e-46</td>\n",
       "</tr>\n",
       "<tr>\n",
       "  <th>Time:</th>                 <td>20:02:18</td>     <th>  Log-Likelihood:    </th> <td> -404.37</td>\n",
       "</tr>\n",
       "<tr>\n",
       "  <th>No. Observations:</th>      <td>   124</td>      <th>  AIC:               </th> <td>   814.7</td>\n",
       "</tr>\n",
       "<tr>\n",
       "  <th>Df Residuals:</th>          <td>   121</td>      <th>  BIC:               </th> <td>   823.2</td>\n",
       "</tr>\n",
       "<tr>\n",
       "  <th>Df Model:</th>              <td>     2</td>      <th>                     </th>     <td> </td>   \n",
       "</tr>\n",
       "<tr>\n",
       "  <th>Covariance Type:</th>      <td>nonrobust</td>    <th>                     </th>     <td> </td>   \n",
       "</tr>\n",
       "</table>\n",
       "<table class=\"simpletable\">\n",
       "<tr>\n",
       "      <td></td>         <th>coef</th>     <th>std err</th>      <th>t</th>      <th>P>|t|</th>  <th>[0.025</th>    <th>0.975]</th>  \n",
       "</tr>\n",
       "<tr>\n",
       "  <th>Intercept</th> <td>   -2.5348</td> <td>    2.341</td> <td>   -1.083</td> <td> 0.281</td> <td>   -7.169</td> <td>    2.100</td>\n",
       "</tr>\n",
       "<tr>\n",
       "  <th>ativos</th>    <td>    0.0040</td> <td>    0.001</td> <td>    7.649</td> <td> 0.000</td> <td>    0.003</td> <td>    0.005</td>\n",
       "</tr>\n",
       "<tr>\n",
       "  <th>liquidez</th>  <td>    2.7391</td> <td>    0.258</td> <td>   10.637</td> <td> 0.000</td> <td>    2.229</td> <td>    3.249</td>\n",
       "</tr>\n",
       "</table>\n",
       "<table class=\"simpletable\">\n",
       "<tr>\n",
       "  <th>Omnibus:</th>       <td>23.591</td> <th>  Durbin-Watson:     </th> <td>   1.926</td>\n",
       "</tr>\n",
       "<tr>\n",
       "  <th>Prob(Omnibus):</th> <td> 0.000</td> <th>  Jarque-Bera (JB):  </th> <td>   5.887</td>\n",
       "</tr>\n",
       "<tr>\n",
       "  <th>Skew:</th>          <td>-0.087</td> <th>  Prob(JB):          </th> <td>  0.0527</td>\n",
       "</tr>\n",
       "<tr>\n",
       "  <th>Kurtosis:</th>      <td> 1.947</td> <th>  Cond. No.          </th> <td>1.65e+04</td>\n",
       "</tr>\n",
       "</table><br/><br/>Notes:<br/>[1] Standard Errors assume that the covariance matrix of the errors is correctly specified.<br/>[2] The condition number is large, 1.65e+04. This might indicate that there are<br/>strong multicollinearity or other numerical problems."
      ],
      "text/plain": [
       "<class 'statsmodels.iolib.summary.Summary'>\n",
       "\"\"\"\n",
       "                            OLS Regression Results                            \n",
       "==============================================================================\n",
       "Dep. Variable:                retorno   R-squared:                       0.823\n",
       "Model:                            OLS   Adj. R-squared:                  0.820\n",
       "Method:                 Least Squares   F-statistic:                     282.1\n",
       "Date:                Mon, 27 Feb 2023   Prob (F-statistic):           2.76e-46\n",
       "Time:                        20:02:18   Log-Likelihood:                -404.37\n",
       "No. Observations:                 124   AIC:                             814.7\n",
       "Df Residuals:                     121   BIC:                             823.2\n",
       "Df Model:                           2                                         \n",
       "Covariance Type:            nonrobust                                         \n",
       "==============================================================================\n",
       "                 coef    std err          t      P>|t|      [0.025      0.975]\n",
       "------------------------------------------------------------------------------\n",
       "Intercept     -2.5348      2.341     -1.083      0.281      -7.169       2.100\n",
       "ativos         0.0040      0.001      7.649      0.000       0.003       0.005\n",
       "liquidez       2.7391      0.258     10.637      0.000       2.229       3.249\n",
       "==============================================================================\n",
       "Omnibus:                       23.591   Durbin-Watson:                   1.926\n",
       "Prob(Omnibus):                  0.000   Jarque-Bera (JB):                5.887\n",
       "Skew:                          -0.087   Prob(JB):                       0.0527\n",
       "Kurtosis:                       1.947   Cond. No.                     1.65e+04\n",
       "==============================================================================\n",
       "\n",
       "Notes:\n",
       "[1] Standard Errors assume that the covariance matrix of the errors is correctly specified.\n",
       "[2] The condition number is large, 1.65e+04. This might indicate that there are\n",
       "strong multicollinearity or other numerical problems.\n",
       "\"\"\""
      ]
     },
     "execution_count": 9,
     "metadata": {},
     "output_type": "execute_result"
    }
   ],
   "source": [
    "modelo_stepwise = sm.OLS.from_formula(formula = 'retorno ~ ativos+liquidez', data=empresas).fit()\n",
    "modelo_stepwise.summary()"
   ]
  },
  {
   "cell_type": "markdown",
   "id": "eb42f5ec",
   "metadata": {},
   "source": [
    "<b>Disclosure não é estatisticamente significante para explicar o retorno na presença dos parâmetros Ativos e Liquidez <b>\n",
    "    \n",
    "Porém, individualmente ela é estatisticamente significante para explicar o retorno"
   ]
  },
  {
   "cell_type": "code",
   "execution_count": 10,
   "id": "53121362",
   "metadata": {},
   "outputs": [
    {
     "data": {
      "text/html": [
       "<table class=\"simpletable\">\n",
       "<caption>OLS Regression Results</caption>\n",
       "<tr>\n",
       "  <th>Dep. Variable:</th>         <td>retorno</td>     <th>  R-squared:         </th> <td>   0.746</td>\n",
       "</tr>\n",
       "<tr>\n",
       "  <th>Model:</th>                   <td>OLS</td>       <th>  Adj. R-squared:    </th> <td>   0.744</td>\n",
       "</tr>\n",
       "<tr>\n",
       "  <th>Method:</th>             <td>Least Squares</td>  <th>  F-statistic:       </th> <td>   358.4</td>\n",
       "</tr>\n",
       "<tr>\n",
       "  <th>Date:</th>             <td>Mon, 27 Feb 2023</td> <th>  Prob (F-statistic):</th> <td>4.06e-38</td>\n",
       "</tr>\n",
       "<tr>\n",
       "  <th>Time:</th>                 <td>20:02:19</td>     <th>  Log-Likelihood:    </th> <td> -426.89</td>\n",
       "</tr>\n",
       "<tr>\n",
       "  <th>No. Observations:</th>      <td>   124</td>      <th>  AIC:               </th> <td>   857.8</td>\n",
       "</tr>\n",
       "<tr>\n",
       "  <th>Df Residuals:</th>          <td>   122</td>      <th>  BIC:               </th> <td>   863.4</td>\n",
       "</tr>\n",
       "<tr>\n",
       "  <th>Df Model:</th>              <td>     1</td>      <th>                     </th>     <td> </td>   \n",
       "</tr>\n",
       "<tr>\n",
       "  <th>Covariance Type:</th>      <td>nonrobust</td>    <th>                     </th>     <td> </td>   \n",
       "</tr>\n",
       "</table>\n",
       "<table class=\"simpletable\">\n",
       "<tr>\n",
       "       <td></td>         <th>coef</th>     <th>std err</th>      <th>t</th>      <th>P>|t|</th>  <th>[0.025</th>    <th>0.975]</th>  \n",
       "</tr>\n",
       "<tr>\n",
       "  <th>Intercept</th>  <td>   25.5533</td> <td>    1.288</td> <td>   19.845</td> <td> 0.000</td> <td>   23.004</td> <td>   28.102</td>\n",
       "</tr>\n",
       "<tr>\n",
       "  <th>disclosure</th> <td>    0.4155</td> <td>    0.022</td> <td>   18.932</td> <td> 0.000</td> <td>    0.372</td> <td>    0.459</td>\n",
       "</tr>\n",
       "</table>\n",
       "<table class=\"simpletable\">\n",
       "<tr>\n",
       "  <th>Omnibus:</th>       <td> 0.701</td> <th>  Durbin-Watson:     </th> <td>   1.824</td>\n",
       "</tr>\n",
       "<tr>\n",
       "  <th>Prob(Omnibus):</th> <td> 0.704</td> <th>  Jarque-Bera (JB):  </th> <td>   0.315</td>\n",
       "</tr>\n",
       "<tr>\n",
       "  <th>Skew:</th>          <td> 0.007</td> <th>  Prob(JB):          </th> <td>   0.854</td>\n",
       "</tr>\n",
       "<tr>\n",
       "  <th>Kurtosis:</th>      <td> 3.246</td> <th>  Cond. No.          </th> <td>    110.</td>\n",
       "</tr>\n",
       "</table><br/><br/>Notes:<br/>[1] Standard Errors assume that the covariance matrix of the errors is correctly specified."
      ],
      "text/plain": [
       "<class 'statsmodels.iolib.summary.Summary'>\n",
       "\"\"\"\n",
       "                            OLS Regression Results                            \n",
       "==============================================================================\n",
       "Dep. Variable:                retorno   R-squared:                       0.746\n",
       "Model:                            OLS   Adj. R-squared:                  0.744\n",
       "Method:                 Least Squares   F-statistic:                     358.4\n",
       "Date:                Mon, 27 Feb 2023   Prob (F-statistic):           4.06e-38\n",
       "Time:                        20:02:19   Log-Likelihood:                -426.89\n",
       "No. Observations:                 124   AIC:                             857.8\n",
       "Df Residuals:                     122   BIC:                             863.4\n",
       "Df Model:                           1                                         \n",
       "Covariance Type:            nonrobust                                         \n",
       "==============================================================================\n",
       "                 coef    std err          t      P>|t|      [0.025      0.975]\n",
       "------------------------------------------------------------------------------\n",
       "Intercept     25.5533      1.288     19.845      0.000      23.004      28.102\n",
       "disclosure     0.4155      0.022     18.932      0.000       0.372       0.459\n",
       "==============================================================================\n",
       "Omnibus:                        0.701   Durbin-Watson:                   1.824\n",
       "Prob(Omnibus):                  0.704   Jarque-Bera (JB):                0.315\n",
       "Skew:                           0.007   Prob(JB):                        0.854\n",
       "Kurtosis:                       3.246   Cond. No.                         110.\n",
       "==============================================================================\n",
       "\n",
       "Notes:\n",
       "[1] Standard Errors assume that the covariance matrix of the errors is correctly specified.\n",
       "\"\"\""
      ]
     },
     "execution_count": 10,
     "metadata": {},
     "output_type": "execute_result"
    }
   ],
   "source": [
    "modelo_auxiliar = sm.OLS.from_formula(formula = 'retorno ~ disclosure', data=empresas).fit()\n",
    "modelo_auxiliar.summary()"
   ]
  },
  {
   "cell_type": "markdown",
   "id": "f2e1f1b6",
   "metadata": {},
   "source": [
    "### Comparativo dos Parâmetros que mais Explicam o Retorno\n",
    "\n",
    "Não podemos comparar ativos com liquidez por estarem em escalas diferentes, é necessário padronizar os valores."
   ]
  },
  {
   "cell_type": "code",
   "execution_count": 11,
   "id": "e8f51227",
   "metadata": {},
   "outputs": [
    {
     "data": {
      "text/html": [
       "<div>\n",
       "<style scoped>\n",
       "    .dataframe tbody tr th:only-of-type {\n",
       "        vertical-align: middle;\n",
       "    }\n",
       "\n",
       "    .dataframe tbody tr th {\n",
       "        vertical-align: top;\n",
       "    }\n",
       "\n",
       "    .dataframe thead th {\n",
       "        text-align: right;\n",
       "    }\n",
       "</style>\n",
       "<table border=\"1\" class=\"dataframe\">\n",
       "  <thead>\n",
       "    <tr style=\"text-align: right;\">\n",
       "      <th></th>\n",
       "      <th>0</th>\n",
       "      <th>1</th>\n",
       "    </tr>\n",
       "  </thead>\n",
       "  <tbody>\n",
       "    <tr>\n",
       "      <th>Intercept</th>\n",
       "      <td>-7.169132</td>\n",
       "      <td>2.099624</td>\n",
       "    </tr>\n",
       "    <tr>\n",
       "      <th>ativos</th>\n",
       "      <td>0.002981</td>\n",
       "      <td>0.005063</td>\n",
       "    </tr>\n",
       "    <tr>\n",
       "      <th>liquidez</th>\n",
       "      <td>2.229282</td>\n",
       "      <td>3.248873</td>\n",
       "    </tr>\n",
       "  </tbody>\n",
       "</table>\n",
       "</div>"
      ],
      "text/plain": [
       "                  0         1\n",
       "Intercept -7.169132  2.099624\n",
       "ativos     0.002981  0.005063\n",
       "liquidez   2.229282  3.248873"
      ]
     },
     "execution_count": 11,
     "metadata": {},
     "output_type": "execute_result"
    }
   ],
   "source": [
    "conf_int = modelo_stepwise.conf_int()\n",
    "conf_int"
   ]
  },
  {
   "cell_type": "code",
   "execution_count": 12,
   "id": "b1ecb18a",
   "metadata": {},
   "outputs": [
    {
     "data": {
      "text/html": [
       "<div>\n",
       "<style scoped>\n",
       "    .dataframe tbody tr th:only-of-type {\n",
       "        vertical-align: middle;\n",
       "    }\n",
       "\n",
       "    .dataframe tbody tr th {\n",
       "        vertical-align: top;\n",
       "    }\n",
       "\n",
       "    .dataframe thead th {\n",
       "        text-align: right;\n",
       "    }\n",
       "</style>\n",
       "<table border=\"1\" class=\"dataframe\">\n",
       "  <thead>\n",
       "    <tr style=\"text-align: right;\">\n",
       "      <th></th>\n",
       "      <th>empresa</th>\n",
       "      <th>retorno</th>\n",
       "      <th>disclosure</th>\n",
       "      <th>endividamento</th>\n",
       "      <th>ativos</th>\n",
       "      <th>liquidez</th>\n",
       "      <th>zAtivo</th>\n",
       "      <th>zLiquidez</th>\n",
       "    </tr>\n",
       "  </thead>\n",
       "  <tbody>\n",
       "    <tr>\n",
       "      <th>0</th>\n",
       "      <td>Adidas</td>\n",
       "      <td>63.67</td>\n",
       "      <td>83.0</td>\n",
       "      <td>1.3</td>\n",
       "      <td>3967.0</td>\n",
       "      <td>14.3</td>\n",
       "      <td>0.148755</td>\n",
       "      <td>0.639171</td>\n",
       "    </tr>\n",
       "    <tr>\n",
       "      <th>1</th>\n",
       "      <td>BASF</td>\n",
       "      <td>55.49</td>\n",
       "      <td>91.0</td>\n",
       "      <td>33.9</td>\n",
       "      <td>5450.0</td>\n",
       "      <td>16.8</td>\n",
       "      <td>1.116591</td>\n",
       "      <td>1.438135</td>\n",
       "    </tr>\n",
       "    <tr>\n",
       "      <th>2</th>\n",
       "      <td>Bayer</td>\n",
       "      <td>52.42</td>\n",
       "      <td>77.0</td>\n",
       "      <td>36.1</td>\n",
       "      <td>4327.0</td>\n",
       "      <td>15.5</td>\n",
       "      <td>0.383699</td>\n",
       "      <td>1.022674</td>\n",
       "    </tr>\n",
       "    <tr>\n",
       "      <th>3</th>\n",
       "      <td>BSH</td>\n",
       "      <td>54.00</td>\n",
       "      <td>90.0</td>\n",
       "      <td>20.8</td>\n",
       "      <td>4109.0</td>\n",
       "      <td>16.8</td>\n",
       "      <td>0.241427</td>\n",
       "      <td>1.438135</td>\n",
       "    </tr>\n",
       "    <tr>\n",
       "      <th>4</th>\n",
       "      <td>Bosch</td>\n",
       "      <td>68.01</td>\n",
       "      <td>93.0</td>\n",
       "      <td>14.1</td>\n",
       "      <td>4458.0</td>\n",
       "      <td>17.0</td>\n",
       "      <td>0.469192</td>\n",
       "      <td>1.502052</td>\n",
       "    </tr>\n",
       "    <tr>\n",
       "      <th>...</th>\n",
       "      <td>...</td>\n",
       "      <td>...</td>\n",
       "      <td>...</td>\n",
       "      <td>...</td>\n",
       "      <td>...</td>\n",
       "      <td>...</td>\n",
       "      <td>...</td>\n",
       "      <td>...</td>\n",
       "    </tr>\n",
       "    <tr>\n",
       "      <th>119</th>\n",
       "      <td>DuPont</td>\n",
       "      <td>39.85</td>\n",
       "      <td>41.0</td>\n",
       "      <td>49.5</td>\n",
       "      <td>2996.0</td>\n",
       "      <td>10.5</td>\n",
       "      <td>-0.484939</td>\n",
       "      <td>-0.575254</td>\n",
       "    </tr>\n",
       "    <tr>\n",
       "      <th>120</th>\n",
       "      <td>ExxonMobil</td>\n",
       "      <td>44.16</td>\n",
       "      <td>35.0</td>\n",
       "      <td>16.8</td>\n",
       "      <td>3622.0</td>\n",
       "      <td>12.3</td>\n",
       "      <td>-0.076399</td>\n",
       "      <td>0.000000</td>\n",
       "    </tr>\n",
       "    <tr>\n",
       "      <th>121</th>\n",
       "      <td>FedEx</td>\n",
       "      <td>45.38</td>\n",
       "      <td>24.0</td>\n",
       "      <td>16.1</td>\n",
       "      <td>2972.0</td>\n",
       "      <td>9.7</td>\n",
       "      <td>-0.500602</td>\n",
       "      <td>-0.830923</td>\n",
       "    </tr>\n",
       "    <tr>\n",
       "      <th>122</th>\n",
       "      <td>Ford Motors</td>\n",
       "      <td>45.25</td>\n",
       "      <td>68.0</td>\n",
       "      <td>34.8</td>\n",
       "      <td>4691.0</td>\n",
       "      <td>8.9</td>\n",
       "      <td>0.621253</td>\n",
       "      <td>-1.086591</td>\n",
       "    </tr>\n",
       "    <tr>\n",
       "      <th>123</th>\n",
       "      <td>General Electric</td>\n",
       "      <td>33.28</td>\n",
       "      <td>14.0</td>\n",
       "      <td>40.0</td>\n",
       "      <td>2303.0</td>\n",
       "      <td>8.0</td>\n",
       "      <td>-0.937205</td>\n",
       "      <td>-1.374218</td>\n",
       "    </tr>\n",
       "  </tbody>\n",
       "</table>\n",
       "<p>124 rows × 8 columns</p>\n",
       "</div>"
      ],
      "text/plain": [
       "              empresa  retorno  disclosure  endividamento  ativos  liquidez  \\\n",
       "0              Adidas    63.67        83.0            1.3  3967.0      14.3   \n",
       "1                BASF    55.49        91.0           33.9  5450.0      16.8   \n",
       "2               Bayer    52.42        77.0           36.1  4327.0      15.5   \n",
       "3                 BSH    54.00        90.0           20.8  4109.0      16.8   \n",
       "4               Bosch    68.01        93.0           14.1  4458.0      17.0   \n",
       "..                ...      ...         ...            ...     ...       ...   \n",
       "119            DuPont    39.85        41.0           49.5  2996.0      10.5   \n",
       "120        ExxonMobil    44.16        35.0           16.8  3622.0      12.3   \n",
       "121             FedEx    45.38        24.0           16.1  2972.0       9.7   \n",
       "122       Ford Motors    45.25        68.0           34.8  4691.0       8.9   \n",
       "123  General Electric    33.28        14.0           40.0  2303.0       8.0   \n",
       "\n",
       "       zAtivo  zLiquidez  \n",
       "0    0.148755   0.639171  \n",
       "1    1.116591   1.438135  \n",
       "2    0.383699   1.022674  \n",
       "3    0.241427   1.438135  \n",
       "4    0.469192   1.502052  \n",
       "..        ...        ...  \n",
       "119 -0.484939  -0.575254  \n",
       "120 -0.076399   0.000000  \n",
       "121 -0.500602  -0.830923  \n",
       "122  0.621253  -1.086591  \n",
       "123 -0.937205  -1.374218  \n",
       "\n",
       "[124 rows x 8 columns]"
      ]
     },
     "execution_count": 12,
     "metadata": {},
     "output_type": "execute_result"
    }
   ],
   "source": [
    "from sklearn.preprocessing import StandardScaler\n",
    "\n",
    "scaler = StandardScaler()\n",
    "scaler.fit(empresas.iloc[:,4:])\n",
    "\n",
    "empresas_pad = pd.DataFrame(scaler.transform(empresas.iloc[:,4:]))\n",
    "empresas_pad.columns = ['zAtivo', 'zLiquidez']\n",
    "empresas_pad = empresas.join(empresas_pad)\n",
    "empresas_pad"
   ]
  },
  {
   "cell_type": "code",
   "execution_count": 13,
   "id": "61c74a46",
   "metadata": {},
   "outputs": [
    {
     "data": {
      "text/html": [
       "<div>\n",
       "<style scoped>\n",
       "    .dataframe tbody tr th:only-of-type {\n",
       "        vertical-align: middle;\n",
       "    }\n",
       "\n",
       "    .dataframe tbody tr th {\n",
       "        vertical-align: top;\n",
       "    }\n",
       "\n",
       "    .dataframe thead th {\n",
       "        text-align: right;\n",
       "    }\n",
       "</style>\n",
       "<table border=\"1\" class=\"dataframe\">\n",
       "  <thead>\n",
       "    <tr style=\"text-align: right;\">\n",
       "      <th></th>\n",
       "      <th>0</th>\n",
       "      <th>1</th>\n",
       "    </tr>\n",
       "  </thead>\n",
       "  <tbody>\n",
       "    <tr>\n",
       "      <th>Intercept</th>\n",
       "      <td>45.059886</td>\n",
       "      <td>47.331081</td>\n",
       "    </tr>\n",
       "    <tr>\n",
       "      <th>zAtivo</th>\n",
       "      <td>4.568109</td>\n",
       "      <td>7.758460</td>\n",
       "    </tr>\n",
       "    <tr>\n",
       "      <th>zLiquidez</th>\n",
       "      <td>6.975541</td>\n",
       "      <td>10.165892</td>\n",
       "    </tr>\n",
       "  </tbody>\n",
       "</table>\n",
       "</div>"
      ],
      "text/plain": [
       "                   0          1\n",
       "Intercept  45.059886  47.331081\n",
       "zAtivo      4.568109   7.758460\n",
       "zLiquidez   6.975541  10.165892"
      ]
     },
     "execution_count": 13,
     "metadata": {},
     "output_type": "execute_result"
    }
   ],
   "source": [
    "modelo_pad = sm.OLS.from_formula(formula='retorno ~ zAtivo+zLiquidez', data=empresas_pad).fit()\n",
    "modelo_pad.conf_int()"
   ]
  },
  {
   "cell_type": "markdown",
   "id": "c795f17d",
   "metadata": {},
   "source": [
    "A Liquidez é a varívale que melhor explica o retorno."
   ]
  },
  {
   "cell_type": "markdown",
   "id": "8a8f785c",
   "metadata": {},
   "source": [
    "### Teste de Verificação da Aderência dos Resíduos à Normalidade (Shapiro-Francia)\n",
    "\n",
    "Caso os erros não sigam uma distribuição normal, o modelo não é adequado para fins preditivos. <br>\n",
    "Os betas não são ajustados para que consigam fazer inferência a partir dos intervalos de confiança daqueles parâmetros e construção de cenários.\n",
    "\n",
    "> Teste Shapiro-Francia: n >= 30\n",
    "\n",
    "> Teste Shapiro-Wilk: n < 30\n",
    "\n",
    "\n",
    "onde,\n",
    "\n",
    " - H0: Diferênças não são estatisticamente significantes (existe aderência à normalidade);\n",
    " - H1: Diferênças são estatisticamente significantes (não é uma normal)\n",
    " \n",
    "p-value < 0,05 rejeita-se H0"
   ]
  },
  {
   "cell_type": "code",
   "execution_count": 31,
   "id": "4dd3365c",
   "metadata": {},
   "outputs": [
    {
     "data": {
      "text/plain": [
       "(0.968277096748352, 0.0051298970356583595)"
      ]
     },
     "execution_count": 31,
     "metadata": {},
     "output_type": "execute_result"
    }
   ],
   "source": [
    "from scipy.stats import shapiro\n",
    "\n",
    "stat, p_value = shapiro(modelo_stepwise.resid)\n",
    "stat , p_value"
   ]
  },
  {
   "cell_type": "code",
   "execution_count": 15,
   "id": "b90253f8",
   "metadata": {},
   "outputs": [
    {
     "data": {
      "text/plain": [
       "<AxesSubplot:>"
      ]
     },
     "execution_count": 15,
     "metadata": {},
     "output_type": "execute_result"
    },
    {
     "data": {
      "image/png": "[encoded data removed]",
      "text/plain": [
       "<Figure size 640x480 with 1 Axes>"
      ]
     },
     "metadata": {},
     "output_type": "display_data"
    }
   ],
   "source": [
    "modelo_stepwise.resid.hist()"
   ]
  },
  {
   "cell_type": "markdown",
   "id": "8225815c",
   "metadata": {},
   "source": [
    "Não é aderente à normalidade\n",
    "\n"
   ]
  },
  {
   "cell_type": "markdown",
   "id": "507d4051",
   "metadata": {},
   "source": [
    "### Transformação de Box-Cox\n",
    "\n",
    "O modelo não possui resíduos aderentes à normalidade. Devemos transformar a variável Y em uma normal aplicando o método de Box Cox:\n",
    "<br>\n",
    "<br>\n",
    "\n",
    "<center><img src='img\\box_cox.jpg'></center>\n",
    "\n",
    "\n",
    "- Lâmbda 1: linear\n",
    "- Lâmbda 2: quadrática\n",
    "- Lâmbda 3: cúbica\n",
    "- Lâmbda -1: inversa\n",
    "- Lâmbda 0,5: raiz\n",
    "- Lâmbda -0,5: raiz inversa\n",
    "- Lâmbda 0: ln(y\n",
    "\n",
    "Lâmbda varia de -infinito a +infinito.\n",
    "\n",
    "<b>Objetivo é encontrar qual o lâmbda que maximiza a aderência do Y à normalidade.</b>\n",
    "\n",
    "\n",
    "<b> A padronização pelo Z-Score NÃO normaliza, a distribuição se mantém a mesma.<b>"
   ]
  },
  {
   "cell_type": "code",
   "execution_count": 16,
   "id": "596321fa",
   "metadata": {},
   "outputs": [
    {
     "data": {
      "text/plain": [
       "-0.022564100754067663"
      ]
     },
     "execution_count": 16,
     "metadata": {},
     "output_type": "execute_result"
    }
   ],
   "source": [
    "#https://docs.scipy.org/doc/scipy/reference/generated/scipy.stats.boxcox.html\n",
    "from scipy import stats\n",
    "\n",
    "y_lamb, lambida_otimo = stats.boxcox(empresas.retorno)\n",
    "lambida_otimo"
   ]
  },
  {
   "cell_type": "code",
   "execution_count": 17,
   "id": "366a7bfc",
   "metadata": {},
   "outputs": [
    {
     "data": {
      "text/html": [
       "<div>\n",
       "<style scoped>\n",
       "    .dataframe tbody tr th:only-of-type {\n",
       "        vertical-align: middle;\n",
       "    }\n",
       "\n",
       "    .dataframe tbody tr th {\n",
       "        vertical-align: top;\n",
       "    }\n",
       "\n",
       "    .dataframe thead th {\n",
       "        text-align: right;\n",
       "    }\n",
       "</style>\n",
       "<table border=\"1\" class=\"dataframe\">\n",
       "  <thead>\n",
       "    <tr style=\"text-align: right;\">\n",
       "      <th></th>\n",
       "      <th>empresa</th>\n",
       "      <th>retorno</th>\n",
       "      <th>disclosure</th>\n",
       "      <th>endividamento</th>\n",
       "      <th>ativos</th>\n",
       "      <th>liquidez</th>\n",
       "      <th>bc_retorno</th>\n",
       "    </tr>\n",
       "  </thead>\n",
       "  <tbody>\n",
       "    <tr>\n",
       "      <th>0</th>\n",
       "      <td>Adidas</td>\n",
       "      <td>63.67</td>\n",
       "      <td>83.0</td>\n",
       "      <td>1.3</td>\n",
       "      <td>3967.0</td>\n",
       "      <td>14.3</td>\n",
       "      <td>3.965002</td>\n",
       "    </tr>\n",
       "    <tr>\n",
       "      <th>1</th>\n",
       "      <td>BASF</td>\n",
       "      <td>55.49</td>\n",
       "      <td>91.0</td>\n",
       "      <td>33.9</td>\n",
       "      <td>5450.0</td>\n",
       "      <td>16.8</td>\n",
       "      <td>3.839599</td>\n",
       "    </tr>\n",
       "    <tr>\n",
       "      <th>2</th>\n",
       "      <td>Bayer</td>\n",
       "      <td>52.42</td>\n",
       "      <td>77.0</td>\n",
       "      <td>36.1</td>\n",
       "      <td>4327.0</td>\n",
       "      <td>15.5</td>\n",
       "      <td>3.787582</td>\n",
       "    </tr>\n",
       "    <tr>\n",
       "      <th>3</th>\n",
       "      <td>BSH</td>\n",
       "      <td>54.00</td>\n",
       "      <td>90.0</td>\n",
       "      <td>20.8</td>\n",
       "      <td>4109.0</td>\n",
       "      <td>16.8</td>\n",
       "      <td>3.814731</td>\n",
       "    </tr>\n",
       "    <tr>\n",
       "      <th>4</th>\n",
       "      <td>Bosch</td>\n",
       "      <td>68.01</td>\n",
       "      <td>93.0</td>\n",
       "      <td>14.1</td>\n",
       "      <td>4458.0</td>\n",
       "      <td>17.0</td>\n",
       "      <td>4.024999</td>\n",
       "    </tr>\n",
       "    <tr>\n",
       "      <th>...</th>\n",
       "      <td>...</td>\n",
       "      <td>...</td>\n",
       "      <td>...</td>\n",
       "      <td>...</td>\n",
       "      <td>...</td>\n",
       "      <td>...</td>\n",
       "      <td>...</td>\n",
       "    </tr>\n",
       "    <tr>\n",
       "      <th>119</th>\n",
       "      <td>DuPont</td>\n",
       "      <td>39.85</td>\n",
       "      <td>41.0</td>\n",
       "      <td>49.5</td>\n",
       "      <td>2996.0</td>\n",
       "      <td>10.5</td>\n",
       "      <td>3.536070</td>\n",
       "    </tr>\n",
       "    <tr>\n",
       "      <th>120</th>\n",
       "      <td>ExxonMobil</td>\n",
       "      <td>44.16</td>\n",
       "      <td>35.0</td>\n",
       "      <td>16.8</td>\n",
       "      <td>3622.0</td>\n",
       "      <td>12.3</td>\n",
       "      <td>3.630464</td>\n",
       "    </tr>\n",
       "    <tr>\n",
       "      <th>121</th>\n",
       "      <td>FedEx</td>\n",
       "      <td>45.38</td>\n",
       "      <td>24.0</td>\n",
       "      <td>16.1</td>\n",
       "      <td>2972.0</td>\n",
       "      <td>9.7</td>\n",
       "      <td>3.655476</td>\n",
       "    </tr>\n",
       "    <tr>\n",
       "      <th>122</th>\n",
       "      <td>Ford Motors</td>\n",
       "      <td>45.25</td>\n",
       "      <td>68.0</td>\n",
       "      <td>34.8</td>\n",
       "      <td>4691.0</td>\n",
       "      <td>8.9</td>\n",
       "      <td>3.652844</td>\n",
       "    </tr>\n",
       "    <tr>\n",
       "      <th>123</th>\n",
       "      <td>General Electric</td>\n",
       "      <td>33.28</td>\n",
       "      <td>14.0</td>\n",
       "      <td>40.0</td>\n",
       "      <td>2303.0</td>\n",
       "      <td>8.0</td>\n",
       "      <td>3.369942</td>\n",
       "    </tr>\n",
       "  </tbody>\n",
       "</table>\n",
       "<p>124 rows × 7 columns</p>\n",
       "</div>"
      ],
      "text/plain": [
       "              empresa  retorno  disclosure  endividamento  ativos  liquidez  \\\n",
       "0              Adidas    63.67        83.0            1.3  3967.0      14.3   \n",
       "1                BASF    55.49        91.0           33.9  5450.0      16.8   \n",
       "2               Bayer    52.42        77.0           36.1  4327.0      15.5   \n",
       "3                 BSH    54.00        90.0           20.8  4109.0      16.8   \n",
       "4               Bosch    68.01        93.0           14.1  4458.0      17.0   \n",
       "..                ...      ...         ...            ...     ...       ...   \n",
       "119            DuPont    39.85        41.0           49.5  2996.0      10.5   \n",
       "120        ExxonMobil    44.16        35.0           16.8  3622.0      12.3   \n",
       "121             FedEx    45.38        24.0           16.1  2972.0       9.7   \n",
       "122       Ford Motors    45.25        68.0           34.8  4691.0       8.9   \n",
       "123  General Electric    33.28        14.0           40.0  2303.0       8.0   \n",
       "\n",
       "     bc_retorno  \n",
       "0      3.965002  \n",
       "1      3.839599  \n",
       "2      3.787582  \n",
       "3      3.814731  \n",
       "4      4.024999  \n",
       "..          ...  \n",
       "119    3.536070  \n",
       "120    3.630464  \n",
       "121    3.655476  \n",
       "122    3.652844  \n",
       "123    3.369942  \n",
       "\n",
       "[124 rows x 7 columns]"
      ]
     },
     "execution_count": 17,
     "metadata": {},
     "output_type": "execute_result"
    }
   ],
   "source": [
    "empresas['bc_retorno'] = y_lamb\n",
    "empresas"
   ]
  },
  {
   "cell_type": "markdown",
   "id": "ae8123fc",
   "metadata": {},
   "source": [
    "### Estimando Novo Modelo OLS com a Variável Dependente Transformada\n",
    "\n",
    "<b> Os PARÂMETROS do modelo_linear e do modelo_bc NÂO são comparáveis!<br>\n",
    "    Devemos fazer a transformação inversa usando o LAMBDA ÓTIMO </b>"
   ]
  },
  {
   "cell_type": "code",
   "execution_count": 18,
   "id": "2c920838",
   "metadata": {},
   "outputs": [
    {
     "data": {
      "text/html": [
       "<table class=\"simpletable\">\n",
       "<caption>OLS Regression Results</caption>\n",
       "<tr>\n",
       "  <th>Dep. Variable:</th>       <td>bc_retorno</td>    <th>  R-squared:         </th> <td>   0.801</td>\n",
       "</tr>\n",
       "<tr>\n",
       "  <th>Model:</th>                   <td>OLS</td>       <th>  Adj. R-squared:    </th> <td>   0.795</td>\n",
       "</tr>\n",
       "<tr>\n",
       "  <th>Method:</th>             <td>Least Squares</td>  <th>  F-statistic:       </th> <td>   119.9</td>\n",
       "</tr>\n",
       "<tr>\n",
       "  <th>Date:</th>             <td>Mon, 27 Feb 2023</td> <th>  Prob (F-statistic):</th> <td>8.80e-41</td>\n",
       "</tr>\n",
       "<tr>\n",
       "  <th>Time:</th>                 <td>20:02:44</td>     <th>  Log-Likelihood:    </th> <td>  74.551</td>\n",
       "</tr>\n",
       "<tr>\n",
       "  <th>No. Observations:</th>      <td>   124</td>      <th>  AIC:               </th> <td>  -139.1</td>\n",
       "</tr>\n",
       "<tr>\n",
       "  <th>Df Residuals:</th>          <td>   119</td>      <th>  BIC:               </th> <td>  -125.0</td>\n",
       "</tr>\n",
       "<tr>\n",
       "  <th>Df Model:</th>              <td>     4</td>      <th>                     </th>     <td> </td>   \n",
       "</tr>\n",
       "<tr>\n",
       "  <th>Covariance Type:</th>      <td>nonrobust</td>    <th>                     </th>     <td> </td>   \n",
       "</tr>\n",
       "</table>\n",
       "<table class=\"simpletable\">\n",
       "<tr>\n",
       "        <td></td>           <th>coef</th>     <th>std err</th>      <th>t</th>      <th>P>|t|</th>  <th>[0.025</th>    <th>0.975]</th>  \n",
       "</tr>\n",
       "<tr>\n",
       "  <th>Intercept</th>     <td>    2.8844</td> <td>    0.088</td> <td>   32.752</td> <td> 0.000</td> <td>    2.710</td> <td>    3.059</td>\n",
       "</tr>\n",
       "<tr>\n",
       "  <th>disclosure</th>    <td>    0.0034</td> <td>    0.001</td> <td>    3.291</td> <td> 0.001</td> <td>    0.001</td> <td>    0.005</td>\n",
       "</tr>\n",
       "<tr>\n",
       "  <th>endividamento</th> <td>   -0.0013</td> <td>    0.001</td> <td>   -1.133</td> <td> 0.260</td> <td>   -0.003</td> <td>    0.001</td>\n",
       "</tr>\n",
       "<tr>\n",
       "  <th>ativos</th>        <td> 4.331e-05</td> <td> 1.46e-05</td> <td>    2.967</td> <td> 0.004</td> <td> 1.44e-05</td> <td> 7.22e-05</td>\n",
       "</tr>\n",
       "<tr>\n",
       "  <th>liquidez</th>      <td>    0.0359</td> <td>    0.009</td> <td>    4.202</td> <td> 0.000</td> <td>    0.019</td> <td>    0.053</td>\n",
       "</tr>\n",
       "</table>\n",
       "<table class=\"simpletable\">\n",
       "<tr>\n",
       "  <th>Omnibus:</th>       <td> 3.781</td> <th>  Durbin-Watson:     </th> <td>   2.177</td>\n",
       "</tr>\n",
       "<tr>\n",
       "  <th>Prob(Omnibus):</th> <td> 0.151</td> <th>  Jarque-Bera (JB):  </th> <td>   3.267</td>\n",
       "</tr>\n",
       "<tr>\n",
       "  <th>Skew:</th>          <td>-0.303</td> <th>  Prob(JB):          </th> <td>   0.195</td>\n",
       "</tr>\n",
       "<tr>\n",
       "  <th>Kurtosis:</th>      <td> 2.486</td> <th>  Cond. No.          </th> <td>2.94e+04</td>\n",
       "</tr>\n",
       "</table><br/><br/>Notes:<br/>[1] Standard Errors assume that the covariance matrix of the errors is correctly specified.<br/>[2] The condition number is large, 2.94e+04. This might indicate that there are<br/>strong multicollinearity or other numerical problems."
      ],
      "text/plain": [
       "<class 'statsmodels.iolib.summary.Summary'>\n",
       "\"\"\"\n",
       "                            OLS Regression Results                            \n",
       "==============================================================================\n",
       "Dep. Variable:             bc_retorno   R-squared:                       0.801\n",
       "Model:                            OLS   Adj. R-squared:                  0.795\n",
       "Method:                 Least Squares   F-statistic:                     119.9\n",
       "Date:                Mon, 27 Feb 2023   Prob (F-statistic):           8.80e-41\n",
       "Time:                        20:02:44   Log-Likelihood:                 74.551\n",
       "No. Observations:                 124   AIC:                            -139.1\n",
       "Df Residuals:                     119   BIC:                            -125.0\n",
       "Df Model:                           4                                         \n",
       "Covariance Type:            nonrobust                                         \n",
       "=================================================================================\n",
       "                    coef    std err          t      P>|t|      [0.025      0.975]\n",
       "---------------------------------------------------------------------------------\n",
       "Intercept         2.8844      0.088     32.752      0.000       2.710       3.059\n",
       "disclosure        0.0034      0.001      3.291      0.001       0.001       0.005\n",
       "endividamento    -0.0013      0.001     -1.133      0.260      -0.003       0.001\n",
       "ativos         4.331e-05   1.46e-05      2.967      0.004    1.44e-05    7.22e-05\n",
       "liquidez          0.0359      0.009      4.202      0.000       0.019       0.053\n",
       "==============================================================================\n",
       "Omnibus:                        3.781   Durbin-Watson:                   2.177\n",
       "Prob(Omnibus):                  0.151   Jarque-Bera (JB):                3.267\n",
       "Skew:                          -0.303   Prob(JB):                        0.195\n",
       "Kurtosis:                       2.486   Cond. No.                     2.94e+04\n",
       "==============================================================================\n",
       "\n",
       "Notes:\n",
       "[1] Standard Errors assume that the covariance matrix of the errors is correctly specified.\n",
       "[2] The condition number is large, 2.94e+04. This might indicate that there are\n",
       "strong multicollinearity or other numerical problems.\n",
       "\"\"\""
      ]
     },
     "execution_count": 18,
     "metadata": {},
     "output_type": "execute_result"
    }
   ],
   "source": [
    "modelo_bc = sm.OLS.from_formula(formula = 'bc_retorno ~ disclosure+endividamento+ativos+liquidez', data=empresas).fit()\n",
    "modelo_bc.summary()"
   ]
  },
  {
   "cell_type": "markdown",
   "id": "5a415dcf",
   "metadata": {},
   "source": [
    "## Stepwise"
   ]
  },
  {
   "cell_type": "code",
   "execution_count": 19,
   "id": "b25c3b5a",
   "metadata": {},
   "outputs": [
    {
     "data": {
      "text/html": [
       "<table class=\"simpletable\">\n",
       "<caption>OLS Regression Results</caption>\n",
       "<tr>\n",
       "  <th>Dep. Variable:</th>       <td>bc_retorno</td>    <th>  R-squared:         </th> <td>   0.799</td>\n",
       "</tr>\n",
       "<tr>\n",
       "  <th>Model:</th>                   <td>OLS</td>       <th>  Adj. R-squared:    </th> <td>   0.794</td>\n",
       "</tr>\n",
       "<tr>\n",
       "  <th>Method:</th>             <td>Least Squares</td>  <th>  F-statistic:       </th> <td>   159.0</td>\n",
       "</tr>\n",
       "<tr>\n",
       "  <th>Date:</th>             <td>Mon, 27 Feb 2023</td> <th>  Prob (F-statistic):</th> <td>1.21e-41</td>\n",
       "</tr>\n",
       "<tr>\n",
       "  <th>Time:</th>                 <td>20:02:46</td>     <th>  Log-Likelihood:    </th> <td>  73.887</td>\n",
       "</tr>\n",
       "<tr>\n",
       "  <th>No. Observations:</th>      <td>   124</td>      <th>  AIC:               </th> <td>  -139.8</td>\n",
       "</tr>\n",
       "<tr>\n",
       "  <th>Df Residuals:</th>          <td>   120</td>      <th>  BIC:               </th> <td>  -128.5</td>\n",
       "</tr>\n",
       "<tr>\n",
       "  <th>Df Model:</th>              <td>     3</td>      <th>                     </th>     <td> </td>   \n",
       "</tr>\n",
       "<tr>\n",
       "  <th>Covariance Type:</th>      <td>nonrobust</td>    <th>                     </th>     <td> </td>   \n",
       "</tr>\n",
       "</table>\n",
       "<table class=\"simpletable\">\n",
       "<tr>\n",
       "       <td></td>         <th>coef</th>     <th>std err</th>      <th>t</th>      <th>P>|t|</th>  <th>[0.025</th>    <th>0.975]</th>  \n",
       "</tr>\n",
       "<tr>\n",
       "  <th>Intercept</th>  <td>    2.8275</td> <td>    0.072</td> <td>   39.019</td> <td> 0.000</td> <td>    2.684</td> <td>    2.971</td>\n",
       "</tr>\n",
       "<tr>\n",
       "  <th>disclosure</th> <td>    0.0031</td> <td>    0.001</td> <td>    3.109</td> <td> 0.002</td> <td>    0.001</td> <td>    0.005</td>\n",
       "</tr>\n",
       "<tr>\n",
       "  <th>ativos</th>     <td> 4.005e-05</td> <td> 1.43e-05</td> <td>    2.795</td> <td> 0.006</td> <td> 1.17e-05</td> <td> 6.84e-05</td>\n",
       "</tr>\n",
       "<tr>\n",
       "  <th>liquidez</th>   <td>    0.0398</td> <td>    0.008</td> <td>    5.080</td> <td> 0.000</td> <td>    0.024</td> <td>    0.055</td>\n",
       "</tr>\n",
       "</table>\n",
       "<table class=\"simpletable\">\n",
       "<tr>\n",
       "  <th>Omnibus:</th>       <td> 2.714</td> <th>  Durbin-Watson:     </th> <td>   2.071</td>\n",
       "</tr>\n",
       "<tr>\n",
       "  <th>Prob(Omnibus):</th> <td> 0.257</td> <th>  Jarque-Bera (JB):  </th> <td>   2.472</td>\n",
       "</tr>\n",
       "<tr>\n",
       "  <th>Skew:</th>          <td>-0.258</td> <th>  Prob(JB):          </th> <td>   0.290</td>\n",
       "</tr>\n",
       "<tr>\n",
       "  <th>Kurtosis:</th>      <td> 2.540</td> <th>  Cond. No.          </th> <td>2.42e+04</td>\n",
       "</tr>\n",
       "</table><br/><br/>Notes:<br/>[1] Standard Errors assume that the covariance matrix of the errors is correctly specified.<br/>[2] The condition number is large, 2.42e+04. This might indicate that there are<br/>strong multicollinearity or other numerical problems."
      ],
      "text/plain": [
       "<class 'statsmodels.iolib.summary.Summary'>\n",
       "\"\"\"\n",
       "                            OLS Regression Results                            \n",
       "==============================================================================\n",
       "Dep. Variable:             bc_retorno   R-squared:                       0.799\n",
       "Model:                            OLS   Adj. R-squared:                  0.794\n",
       "Method:                 Least Squares   F-statistic:                     159.0\n",
       "Date:                Mon, 27 Feb 2023   Prob (F-statistic):           1.21e-41\n",
       "Time:                        20:02:46   Log-Likelihood:                 73.887\n",
       "No. Observations:                 124   AIC:                            -139.8\n",
       "Df Residuals:                     120   BIC:                            -128.5\n",
       "Df Model:                           3                                         \n",
       "Covariance Type:            nonrobust                                         \n",
       "==============================================================================\n",
       "                 coef    std err          t      P>|t|      [0.025      0.975]\n",
       "------------------------------------------------------------------------------\n",
       "Intercept      2.8275      0.072     39.019      0.000       2.684       2.971\n",
       "disclosure     0.0031      0.001      3.109      0.002       0.001       0.005\n",
       "ativos      4.005e-05   1.43e-05      2.795      0.006    1.17e-05    6.84e-05\n",
       "liquidez       0.0398      0.008      5.080      0.000       0.024       0.055\n",
       "==============================================================================\n",
       "Omnibus:                        2.714   Durbin-Watson:                   2.071\n",
       "Prob(Omnibus):                  0.257   Jarque-Bera (JB):                2.472\n",
       "Skew:                          -0.258   Prob(JB):                        0.290\n",
       "Kurtosis:                       2.540   Cond. No.                     2.42e+04\n",
       "==============================================================================\n",
       "\n",
       "Notes:\n",
       "[1] Standard Errors assume that the covariance matrix of the errors is correctly specified.\n",
       "[2] The condition number is large, 2.42e+04. This might indicate that there are\n",
       "strong multicollinearity or other numerical problems.\n",
       "\"\"\""
      ]
     },
     "execution_count": 19,
     "metadata": {},
     "output_type": "execute_result"
    }
   ],
   "source": [
    "modelo_bc = sm.OLS.from_formula(formula = 'bc_retorno ~ disclosure+ativos+liquidez', data=empresas).fit()\n",
    "modelo_bc.summary()"
   ]
  },
  {
   "cell_type": "code",
   "execution_count": 20,
   "id": "ff41fa93",
   "metadata": {},
   "outputs": [
    {
     "data": {
      "text/html": [
       "<div>\n",
       "<style scoped>\n",
       "    .dataframe tbody tr th:only-of-type {\n",
       "        vertical-align: middle;\n",
       "    }\n",
       "\n",
       "    .dataframe tbody tr th {\n",
       "        vertical-align: top;\n",
       "    }\n",
       "\n",
       "    .dataframe thead th {\n",
       "        text-align: right;\n",
       "    }\n",
       "</style>\n",
       "<table border=\"1\" class=\"dataframe\">\n",
       "  <thead>\n",
       "    <tr style=\"text-align: right;\">\n",
       "      <th></th>\n",
       "      <th>0</th>\n",
       "      <th>1</th>\n",
       "    </tr>\n",
       "  </thead>\n",
       "  <tbody>\n",
       "    <tr>\n",
       "      <th>Intercept</th>\n",
       "      <td>2.684060</td>\n",
       "      <td>2.971011</td>\n",
       "    </tr>\n",
       "    <tr>\n",
       "      <th>disclosure</th>\n",
       "      <td>0.001137</td>\n",
       "      <td>0.005125</td>\n",
       "    </tr>\n",
       "    <tr>\n",
       "      <th>ativos</th>\n",
       "      <td>0.000012</td>\n",
       "      <td>0.000068</td>\n",
       "    </tr>\n",
       "    <tr>\n",
       "      <th>liquidez</th>\n",
       "      <td>0.024314</td>\n",
       "      <td>0.055367</td>\n",
       "    </tr>\n",
       "  </tbody>\n",
       "</table>\n",
       "</div>"
      ],
      "text/plain": [
       "                   0         1\n",
       "Intercept   2.684060  2.971011\n",
       "disclosure  0.001137  0.005125\n",
       "ativos      0.000012  0.000068\n",
       "liquidez    0.024314  0.055367"
      ]
     },
     "execution_count": 20,
     "metadata": {},
     "output_type": "execute_result"
    }
   ],
   "source": [
    "modelo_bc.conf_int()"
   ]
  },
  {
   "cell_type": "markdown",
   "id": "4647e301",
   "metadata": {},
   "source": [
    "<b>Uma variável no modelo múltiplo pode apresentar um beta não estatisticamente significante em função de:\n",
    "\n",
    "1) A correlação entre ela e o Y já não é estatisticamente significante individualmente;<br>\n",
    "2) Pode não ser considerada em função de problemas de correlação com outras variáveis explicativas (multicolinearidade); <br>\n",
    "3) Na forma funcional não linear; </b>"
   ]
  },
  {
   "cell_type": "markdown",
   "id": "179ec2cc",
   "metadata": {},
   "source": [
    "### Aplicando Shapiro-Francia no Modelo Box-Cox"
   ]
  },
  {
   "cell_type": "code",
   "execution_count": 32,
   "id": "557297c9",
   "metadata": {},
   "outputs": [
    {
     "data": {
      "text/plain": [
       "(0.9846760630607605, 0.17517398297786713)"
      ]
     },
     "execution_count": 32,
     "metadata": {},
     "output_type": "execute_result"
    }
   ],
   "source": [
    "stat, p_value = shapiro(modelo_bc.resid)\n",
    "stat , p_value"
   ]
  },
  {
   "cell_type": "code",
   "execution_count": 22,
   "id": "5dcb2693",
   "metadata": {},
   "outputs": [
    {
     "data": {
      "text/plain": [
       "<AxesSubplot:>"
      ]
     },
     "execution_count": 22,
     "metadata": {},
     "output_type": "execute_result"
    },
    {
     "data": {
      "image/png": "[encoded data removed]",
      "text/plain": [
       "<Figure size 640x480 with 1 Axes>"
      ]
     },
     "metadata": {},
     "output_type": "display_data"
    }
   ],
   "source": [
    "modelo_bc.resid.hist()"
   ]
  },
  {
   "cell_type": "markdown",
   "id": "54f0f989",
   "metadata": {},
   "source": [
    "### Comparando Variáveis Explicativas"
   ]
  },
  {
   "cell_type": "code",
   "execution_count": 23,
   "id": "16f751c5",
   "metadata": {},
   "outputs": [
    {
     "data": {
      "text/html": [
       "<div>\n",
       "<style scoped>\n",
       "    .dataframe tbody tr th:only-of-type {\n",
       "        vertical-align: middle;\n",
       "    }\n",
       "\n",
       "    .dataframe tbody tr th {\n",
       "        vertical-align: top;\n",
       "    }\n",
       "\n",
       "    .dataframe thead th {\n",
       "        text-align: right;\n",
       "    }\n",
       "</style>\n",
       "<table border=\"1\" class=\"dataframe\">\n",
       "  <thead>\n",
       "    <tr style=\"text-align: right;\">\n",
       "      <th></th>\n",
       "      <th>empresa</th>\n",
       "      <th>retorno</th>\n",
       "      <th>disclosure</th>\n",
       "      <th>endividamento</th>\n",
       "      <th>ativos</th>\n",
       "      <th>liquidez</th>\n",
       "      <th>zAtivo</th>\n",
       "      <th>zLiquidez</th>\n",
       "      <th>zDisclosure</th>\n",
       "    </tr>\n",
       "  </thead>\n",
       "  <tbody>\n",
       "    <tr>\n",
       "      <th>0</th>\n",
       "      <td>Adidas</td>\n",
       "      <td>63.67</td>\n",
       "      <td>83.0</td>\n",
       "      <td>1.3</td>\n",
       "      <td>3967.0</td>\n",
       "      <td>14.3</td>\n",
       "      <td>0.148755</td>\n",
       "      <td>0.639171</td>\n",
       "      <td>1.067640</td>\n",
       "    </tr>\n",
       "    <tr>\n",
       "      <th>1</th>\n",
       "      <td>BASF</td>\n",
       "      <td>55.49</td>\n",
       "      <td>91.0</td>\n",
       "      <td>33.9</td>\n",
       "      <td>5450.0</td>\n",
       "      <td>16.8</td>\n",
       "      <td>1.116591</td>\n",
       "      <td>1.438135</td>\n",
       "      <td>1.323956</td>\n",
       "    </tr>\n",
       "    <tr>\n",
       "      <th>2</th>\n",
       "      <td>Bayer</td>\n",
       "      <td>52.42</td>\n",
       "      <td>77.0</td>\n",
       "      <td>36.1</td>\n",
       "      <td>4327.0</td>\n",
       "      <td>15.5</td>\n",
       "      <td>0.383699</td>\n",
       "      <td>1.022674</td>\n",
       "      <td>0.875403</td>\n",
       "    </tr>\n",
       "    <tr>\n",
       "      <th>3</th>\n",
       "      <td>BSH</td>\n",
       "      <td>54.00</td>\n",
       "      <td>90.0</td>\n",
       "      <td>20.8</td>\n",
       "      <td>4109.0</td>\n",
       "      <td>16.8</td>\n",
       "      <td>0.241427</td>\n",
       "      <td>1.438135</td>\n",
       "      <td>1.291917</td>\n",
       "    </tr>\n",
       "    <tr>\n",
       "      <th>4</th>\n",
       "      <td>Bosch</td>\n",
       "      <td>68.01</td>\n",
       "      <td>93.0</td>\n",
       "      <td>14.1</td>\n",
       "      <td>4458.0</td>\n",
       "      <td>17.0</td>\n",
       "      <td>0.469192</td>\n",
       "      <td>1.502052</td>\n",
       "      <td>1.388035</td>\n",
       "    </tr>\n",
       "    <tr>\n",
       "      <th>...</th>\n",
       "      <td>...</td>\n",
       "      <td>...</td>\n",
       "      <td>...</td>\n",
       "      <td>...</td>\n",
       "      <td>...</td>\n",
       "      <td>...</td>\n",
       "      <td>...</td>\n",
       "      <td>...</td>\n",
       "      <td>...</td>\n",
       "    </tr>\n",
       "    <tr>\n",
       "      <th>119</th>\n",
       "      <td>DuPont</td>\n",
       "      <td>39.85</td>\n",
       "      <td>41.0</td>\n",
       "      <td>49.5</td>\n",
       "      <td>2996.0</td>\n",
       "      <td>10.5</td>\n",
       "      <td>-0.484939</td>\n",
       "      <td>-0.575254</td>\n",
       "      <td>-0.278020</td>\n",
       "    </tr>\n",
       "    <tr>\n",
       "      <th>120</th>\n",
       "      <td>ExxonMobil</td>\n",
       "      <td>44.16</td>\n",
       "      <td>35.0</td>\n",
       "      <td>16.8</td>\n",
       "      <td>3622.0</td>\n",
       "      <td>12.3</td>\n",
       "      <td>-0.076399</td>\n",
       "      <td>0.000000</td>\n",
       "      <td>-0.470258</td>\n",
       "    </tr>\n",
       "    <tr>\n",
       "      <th>121</th>\n",
       "      <td>FedEx</td>\n",
       "      <td>45.38</td>\n",
       "      <td>24.0</td>\n",
       "      <td>16.1</td>\n",
       "      <td>2972.0</td>\n",
       "      <td>9.7</td>\n",
       "      <td>-0.500602</td>\n",
       "      <td>-0.830923</td>\n",
       "      <td>-0.822693</td>\n",
       "    </tr>\n",
       "    <tr>\n",
       "      <th>122</th>\n",
       "      <td>Ford Motors</td>\n",
       "      <td>45.25</td>\n",
       "      <td>68.0</td>\n",
       "      <td>34.8</td>\n",
       "      <td>4691.0</td>\n",
       "      <td>8.9</td>\n",
       "      <td>0.621253</td>\n",
       "      <td>-1.086591</td>\n",
       "      <td>0.587047</td>\n",
       "    </tr>\n",
       "    <tr>\n",
       "      <th>123</th>\n",
       "      <td>General Electric</td>\n",
       "      <td>33.28</td>\n",
       "      <td>14.0</td>\n",
       "      <td>40.0</td>\n",
       "      <td>2303.0</td>\n",
       "      <td>8.0</td>\n",
       "      <td>-0.937205</td>\n",
       "      <td>-1.374218</td>\n",
       "      <td>-1.143088</td>\n",
       "    </tr>\n",
       "  </tbody>\n",
       "</table>\n",
       "<p>124 rows × 9 columns</p>\n",
       "</div>"
      ],
      "text/plain": [
       "              empresa  retorno  disclosure  endividamento  ativos  liquidez  \\\n",
       "0              Adidas    63.67        83.0            1.3  3967.0      14.3   \n",
       "1                BASF    55.49        91.0           33.9  5450.0      16.8   \n",
       "2               Bayer    52.42        77.0           36.1  4327.0      15.5   \n",
       "3                 BSH    54.00        90.0           20.8  4109.0      16.8   \n",
       "4               Bosch    68.01        93.0           14.1  4458.0      17.0   \n",
       "..                ...      ...         ...            ...     ...       ...   \n",
       "119            DuPont    39.85        41.0           49.5  2996.0      10.5   \n",
       "120        ExxonMobil    44.16        35.0           16.8  3622.0      12.3   \n",
       "121             FedEx    45.38        24.0           16.1  2972.0       9.7   \n",
       "122       Ford Motors    45.25        68.0           34.8  4691.0       8.9   \n",
       "123  General Electric    33.28        14.0           40.0  2303.0       8.0   \n",
       "\n",
       "       zAtivo  zLiquidez  zDisclosure  \n",
       "0    0.148755   0.639171     1.067640  \n",
       "1    1.116591   1.438135     1.323956  \n",
       "2    0.383699   1.022674     0.875403  \n",
       "3    0.241427   1.438135     1.291917  \n",
       "4    0.469192   1.502052     1.388035  \n",
       "..        ...        ...          ...  \n",
       "119 -0.484939  -0.575254    -0.278020  \n",
       "120 -0.076399   0.000000    -0.470258  \n",
       "121 -0.500602  -0.830923    -0.822693  \n",
       "122  0.621253  -1.086591     0.587047  \n",
       "123 -0.937205  -1.374218    -1.143088  \n",
       "\n",
       "[124 rows x 9 columns]"
      ]
     },
     "execution_count": 23,
     "metadata": {},
     "output_type": "execute_result"
    }
   ],
   "source": [
    "scaler = StandardScaler()\n",
    "\n",
    "disclosure = np.array(empresas.iloc[:,2]).reshape(-1,1)\n",
    "scaler.fit(disclosure)\n",
    "\n",
    "empresas_pad['zDisclosure'] = scaler.transform(disclosure)\n",
    "empresas_pad"
   ]
  },
  {
   "cell_type": "code",
   "execution_count": 24,
   "id": "001cf73c",
   "metadata": {},
   "outputs": [
    {
     "data": {
      "text/html": [
       "<div>\n",
       "<style scoped>\n",
       "    .dataframe tbody tr th:only-of-type {\n",
       "        vertical-align: middle;\n",
       "    }\n",
       "\n",
       "    .dataframe tbody tr th {\n",
       "        vertical-align: top;\n",
       "    }\n",
       "\n",
       "    .dataframe thead th {\n",
       "        text-align: right;\n",
       "    }\n",
       "</style>\n",
       "<table border=\"1\" class=\"dataframe\">\n",
       "  <thead>\n",
       "    <tr style=\"text-align: right;\">\n",
       "      <th></th>\n",
       "      <th>0</th>\n",
       "      <th>1</th>\n",
       "    </tr>\n",
       "  </thead>\n",
       "  <tbody>\n",
       "    <tr>\n",
       "      <th>Intercept</th>\n",
       "      <td>45.071183</td>\n",
       "      <td>47.319784</td>\n",
       "    </tr>\n",
       "    <tr>\n",
       "      <th>zAtivo</th>\n",
       "      <td>2.939757</td>\n",
       "      <td>6.995344</td>\n",
       "    </tr>\n",
       "    <tr>\n",
       "      <th>zLiquidez</th>\n",
       "      <td>4.776179</td>\n",
       "      <td>9.308936</td>\n",
       "    </tr>\n",
       "    <tr>\n",
       "      <th>zDisclosure</th>\n",
       "      <td>-0.173855</td>\n",
       "      <td>5.632343</td>\n",
       "    </tr>\n",
       "  </tbody>\n",
       "</table>\n",
       "</div>"
      ],
      "text/plain": [
       "                     0          1\n",
       "Intercept    45.071183  47.319784\n",
       "zAtivo        2.939757   6.995344\n",
       "zLiquidez     4.776179   9.308936\n",
       "zDisclosure  -0.173855   5.632343"
      ]
     },
     "execution_count": 24,
     "metadata": {},
     "output_type": "execute_result"
    }
   ],
   "source": [
    "modelo_pad = sm.OLS.from_formula(formula='retorno ~ zAtivo+zLiquidez+zDisclosure', data=empresas_pad).fit()\n",
    "modelo_pad.conf_int()"
   ]
  },
  {
   "cell_type": "markdown",
   "id": "d92370d0",
   "metadata": {},
   "source": [
    "## Prevendo Valores"
   ]
  },
  {
   "cell_type": "code",
   "execution_count": 26,
   "id": "42308c9f",
   "metadata": {},
   "outputs": [],
   "source": [
    "#https://scikit-learn.org/stable/modules/generated/sklearn.linear_model.LinearRegression.html\n",
    "from sklearn.linear_model import LinearRegression\n",
    "\n",
    "model = LinearRegression()\n",
    "\n",
    "variaveis = empresas[['disclosure', 'liquidez', 'ativos']]\n",
    "# Ajustando intercepto\n",
    "\n",
    "modelo_bc_predict = model.fit(variaveis, empresas.bc_retorno)\n"
   ]
  },
  {
   "cell_type": "code",
   "execution_count": 33,
   "id": "b710c757",
   "metadata": {},
   "outputs": [
    {
     "data": {
      "text/plain": [
       "array(['disclosure', 'liquidez', 'ativos'], dtype=object)"
      ]
     },
     "execution_count": 33,
     "metadata": {},
     "output_type": "execute_result"
    }
   ],
   "source": [
    "modelo_bc_predict.feature_names_in_"
   ]
  },
  {
   "cell_type": "code",
   "execution_count": 27,
   "id": "7b8ecd61",
   "metadata": {},
   "outputs": [],
   "source": [
    "# Ajustando intercepto\n",
    "x_test = np.array([[50,14,4000]])\n"
   ]
  },
  {
   "cell_type": "code",
   "execution_count": 28,
   "id": "00feb799",
   "metadata": {},
   "outputs": [
    {
     "name": "stderr",
     "output_type": "stream",
     "text": [
      "C:\\ProgramData\\Anaconda3\\lib\\site-packages\\sklearn\\base.py:450: UserWarning: X does not have valid feature names, but LinearRegression was fitted with feature names\n",
      "  warnings.warn(\n"
     ]
    },
    {
     "data": {
      "text/plain": [
       "array([3.70201571])"
      ]
     },
     "execution_count": 28,
     "metadata": {},
     "output_type": "execute_result"
    }
   ],
   "source": [
    "modelo_bc_predict.predict(x_test)"
   ]
  },
  {
   "cell_type": "code",
   "execution_count": 29,
   "id": "917ef24c",
   "metadata": {},
   "outputs": [
    {
     "data": {
      "text/plain": [
       "47.74257511353707"
      ]
     },
     "execution_count": 29,
     "metadata": {},
     "output_type": "execute_result"
    }
   ],
   "source": [
    "(((3.702015 * -0.02256414) + 1)) ** (1 / -0.02256414)"
   ]
  },
  {
   "cell_type": "markdown",
   "id": "f3f04eb8",
   "metadata": {},
   "source": [
    "### Salvando os Fitted Values dos Modelos Lineares e Box-Cox na Base"
   ]
  },
  {
   "cell_type": "code",
   "execution_count": 34,
   "id": "eac64c21",
   "metadata": {},
   "outputs": [
    {
     "data": {
      "text/html": [
       "<div>\n",
       "<style scoped>\n",
       "    .dataframe tbody tr th:only-of-type {\n",
       "        vertical-align: middle;\n",
       "    }\n",
       "\n",
       "    .dataframe tbody tr th {\n",
       "        vertical-align: top;\n",
       "    }\n",
       "\n",
       "    .dataframe thead th {\n",
       "        text-align: right;\n",
       "    }\n",
       "</style>\n",
       "<table border=\"1\" class=\"dataframe\">\n",
       "  <thead>\n",
       "    <tr style=\"text-align: right;\">\n",
       "      <th></th>\n",
       "      <th>empresa</th>\n",
       "      <th>retorno</th>\n",
       "      <th>disclosure</th>\n",
       "      <th>endividamento</th>\n",
       "      <th>ativos</th>\n",
       "      <th>liquidez</th>\n",
       "      <th>bc_retorno</th>\n",
       "      <th>yhat_step_empresas</th>\n",
       "      <th>yhat_step_modelo_bc</th>\n",
       "    </tr>\n",
       "  </thead>\n",
       "  <tbody>\n",
       "    <tr>\n",
       "      <th>0</th>\n",
       "      <td>Adidas</td>\n",
       "      <td>63.67</td>\n",
       "      <td>83.0</td>\n",
       "      <td>1.3</td>\n",
       "      <td>3967.0</td>\n",
       "      <td>14.3</td>\n",
       "      <td>3.965002</td>\n",
       "      <td>52.590460</td>\n",
       "      <td>54.072393</td>\n",
       "    </tr>\n",
       "    <tr>\n",
       "      <th>1</th>\n",
       "      <td>BASF</td>\n",
       "      <td>55.49</td>\n",
       "      <td>91.0</td>\n",
       "      <td>33.9</td>\n",
       "      <td>5450.0</td>\n",
       "      <td>16.8</td>\n",
       "      <td>3.839599</td>\n",
       "      <td>65.403203</td>\n",
       "      <td>66.165319</td>\n",
       "    </tr>\n",
       "    <tr>\n",
       "      <th>2</th>\n",
       "      <td>Bayer</td>\n",
       "      <td>52.42</td>\n",
       "      <td>77.0</td>\n",
       "      <td>36.1</td>\n",
       "      <td>4327.0</td>\n",
       "      <td>15.5</td>\n",
       "      <td>3.787582</td>\n",
       "      <td>57.325376</td>\n",
       "      <td>56.706216</td>\n",
       "    </tr>\n",
       "    <tr>\n",
       "      <th>3</th>\n",
       "      <td>BSH</td>\n",
       "      <td>54.00</td>\n",
       "      <td>90.0</td>\n",
       "      <td>20.8</td>\n",
       "      <td>4109.0</td>\n",
       "      <td>16.8</td>\n",
       "      <td>3.814731</td>\n",
       "      <td>60.009319</td>\n",
       "      <td>62.161048</td>\n",
       "    </tr>\n",
       "    <tr>\n",
       "      <th>4</th>\n",
       "      <td>Bosch</td>\n",
       "      <td>68.01</td>\n",
       "      <td>93.0</td>\n",
       "      <td>14.1</td>\n",
       "      <td>4458.0</td>\n",
       "      <td>17.0</td>\n",
       "      <td>4.024999</td>\n",
       "      <td>61.960912</td>\n",
       "      <td>64.337230</td>\n",
       "    </tr>\n",
       "    <tr>\n",
       "      <th>...</th>\n",
       "      <td>...</td>\n",
       "      <td>...</td>\n",
       "      <td>...</td>\n",
       "      <td>...</td>\n",
       "      <td>...</td>\n",
       "      <td>...</td>\n",
       "      <td>...</td>\n",
       "      <td>...</td>\n",
       "      <td>...</td>\n",
       "    </tr>\n",
       "    <tr>\n",
       "      <th>119</th>\n",
       "      <td>DuPont</td>\n",
       "      <td>39.85</td>\n",
       "      <td>41.0</td>\n",
       "      <td>49.5</td>\n",
       "      <td>2996.0</td>\n",
       "      <td>10.5</td>\n",
       "      <td>3.536070</td>\n",
       "      <td>38.276327</td>\n",
       "      <td>38.078000</td>\n",
       "    </tr>\n",
       "    <tr>\n",
       "      <th>120</th>\n",
       "      <td>ExxonMobil</td>\n",
       "      <td>44.16</td>\n",
       "      <td>35.0</td>\n",
       "      <td>16.8</td>\n",
       "      <td>3622.0</td>\n",
       "      <td>12.3</td>\n",
       "      <td>3.630464</td>\n",
       "      <td>45.724617</td>\n",
       "      <td>41.446025</td>\n",
       "    </tr>\n",
       "    <tr>\n",
       "      <th>121</th>\n",
       "      <td>FedEx</td>\n",
       "      <td>45.38</td>\n",
       "      <td>24.0</td>\n",
       "      <td>16.1</td>\n",
       "      <td>2972.0</td>\n",
       "      <td>9.7</td>\n",
       "      <td>3.655476</td>\n",
       "      <td>35.988530</td>\n",
       "      <td>34.685312</td>\n",
       "    </tr>\n",
       "    <tr>\n",
       "      <th>122</th>\n",
       "      <td>Ford Motors</td>\n",
       "      <td>45.25</td>\n",
       "      <td>68.0</td>\n",
       "      <td>34.8</td>\n",
       "      <td>4691.0</td>\n",
       "      <td>8.9</td>\n",
       "      <td>3.652844</td>\n",
       "      <td>40.711577</td>\n",
       "      <td>41.929545</td>\n",
       "    </tr>\n",
       "    <tr>\n",
       "      <th>123</th>\n",
       "      <td>General Electric</td>\n",
       "      <td>33.28</td>\n",
       "      <td>14.0</td>\n",
       "      <td>40.0</td>\n",
       "      <td>2303.0</td>\n",
       "      <td>8.0</td>\n",
       "      <td>3.369942</td>\n",
       "      <td>28.641189</td>\n",
       "      <td>30.271830</td>\n",
       "    </tr>\n",
       "  </tbody>\n",
       "</table>\n",
       "<p>124 rows × 9 columns</p>\n",
       "</div>"
      ],
      "text/plain": [
       "              empresa  retorno  disclosure  endividamento  ativos  liquidez  \\\n",
       "0              Adidas    63.67        83.0            1.3  3967.0      14.3   \n",
       "1                BASF    55.49        91.0           33.9  5450.0      16.8   \n",
       "2               Bayer    52.42        77.0           36.1  4327.0      15.5   \n",
       "3                 BSH    54.00        90.0           20.8  4109.0      16.8   \n",
       "4               Bosch    68.01        93.0           14.1  4458.0      17.0   \n",
       "..                ...      ...         ...            ...     ...       ...   \n",
       "119            DuPont    39.85        41.0           49.5  2996.0      10.5   \n",
       "120        ExxonMobil    44.16        35.0           16.8  3622.0      12.3   \n",
       "121             FedEx    45.38        24.0           16.1  2972.0       9.7   \n",
       "122       Ford Motors    45.25        68.0           34.8  4691.0       8.9   \n",
       "123  General Electric    33.28        14.0           40.0  2303.0       8.0   \n",
       "\n",
       "     bc_retorno  yhat_step_empresas  yhat_step_modelo_bc  \n",
       "0      3.965002           52.590460            54.072393  \n",
       "1      3.839599           65.403203            66.165319  \n",
       "2      3.787582           57.325376            56.706216  \n",
       "3      3.814731           60.009319            62.161048  \n",
       "4      4.024999           61.960912            64.337230  \n",
       "..          ...                 ...                  ...  \n",
       "119    3.536070           38.276327            38.078000  \n",
       "120    3.630464           45.724617            41.446025  \n",
       "121    3.655476           35.988530            34.685312  \n",
       "122    3.652844           40.711577            41.929545  \n",
       "123    3.369942           28.641189            30.271830  \n",
       "\n",
       "[124 rows x 9 columns]"
      ]
     },
     "execution_count": 34,
     "metadata": {},
     "output_type": "execute_result"
    }
   ],
   "source": [
    "empresas['yhat_step_empresas'] = modelo_stepwise.fittedvalues\n",
    "empresas['yhat_step_modelo_bc'] = (((modelo_bc.fittedvalues * lambida_otimo) + 1)) ** (1/lambida_otimo)\n",
    "empresas"
   ]
  },
  {
   "cell_type": "code",
   "execution_count": 40,
   "id": "aa19f00e",
   "metadata": {},
   "outputs": [
    {
     "data": {
      "application/vnd.plotly.v1+json": {
       "config": {
        "plotlyServerURL": "https://plot.ly"
       },
       "data": [
        {
         "mode": "markers",
         "name": "yhat_linear",
         "type": "scatter",
         "x": [
          63.67,
          55.49,
          52.42,
          54,
          68.01,
          64.13,
          68.76,
          79.02,
          84.64,
          59.84,
          50.79,
          47.46,
          36.06,
          34.21,
          47.31,
          46.98,
          34.54,
          38.82,
          30.82,
          38.03,
          31.92,
          29.02,
          31.04,
          21.47,
          32.7,
          32.61,
          40.16,
          42.32,
          37.17,
          48.57,
          33.66,
          56.14,
          61.71,
          54.43,
          71.84,
          65.68,
          72.57,
          62.36,
          71.09,
          86.18,
          60.9,
          56.33,
          44.19,
          44.62,
          38.49,
          42.04,
          29.53,
          51.6,
          30.57,
          37.93,
          38.25,
          27.52,
          39.04,
          37.86,
          29.95,
          28.46,
          21.88,
          37.94,
          44.96,
          46.96,
          36.38,
          29.8,
          61.55,
          70.02,
          60.61,
          52.27,
          69.97,
          57.66,
          63.92,
          60.61,
          81.56,
          46.41,
          63.13,
          37.25,
          46.3,
          45.49,
          36.42,
          31.09,
          49.28,
          33.01,
          36.01,
          32.14,
          38.91,
          24.89,
          32.19,
          25.58,
          35.26,
          29.29,
          40.15,
          55.74,
          47.02,
          46.13,
          32.41,
          54.74,
          61.72,
          65.44,
          69.77,
          60.2,
          64.32,
          69.95,
          60.26,
          72.85,
          44.28,
          48.15,
          42.14,
          30.55,
          35.07,
          41.78,
          43.5,
          33.64,
          26.29,
          45,
          35.31,
          29.11,
          40.27,
          29.75,
          26.19,
          33.9,
          21.03,
          39.85,
          44.16,
          45.38,
          45.25,
          33.28
         ],
         "y": [
          52.59046036935278,
          65.40320331609644,
          57.32537607787384,
          60.00931855361005,
          61.96091166115146,
          66.87948098616309,
          61.37375690530048,
          68.20958153615967,
          80.27035494141845,
          53.56973849617988,
          55.27194990702169,
          49.78673292140135,
          42.819448798875854,
          43.64627241617953,
          47.551911569329626,
          41.327866660768336,
          42.12840037848768,
          33.919505985439635,
          36.300306623536855,
          33.39690229927518,
          36.21583862949345,
          33.578396397517025,
          30.417763639739007,
          32.103394654995164,
          30.02720961612623,
          26.63367664021201,
          38.27632686348066,
          45.72461697329719,
          35.98853004415123,
          40.711576730424916,
          28.641189406941518,
          52.59046036935278,
          65.40320331609644,
          57.32537607787384,
          60.00931855361005,
          61.96091166115146,
          66.87948098616309,
          61.37375690530048,
          68.20958153615967,
          80.27035494141845,
          53.56973849617988,
          55.27194990702169,
          49.78673292140135,
          42.819448798875854,
          43.64627241617953,
          47.551911569329626,
          41.327866660768336,
          42.12840037848768,
          33.919505985439635,
          36.300306623536855,
          33.39690229927518,
          36.21583862949345,
          33.578396397517025,
          30.417763639739007,
          32.103394654995164,
          30.02720961612623,
          26.63367664021201,
          38.27632686348066,
          45.72461697329719,
          35.98853004415123,
          40.711576730424916,
          28.641189406941518,
          52.59046036935278,
          65.40320331609644,
          57.32537607787384,
          60.00931855361005,
          61.96091166115146,
          66.87948098616309,
          61.37375690530048,
          68.20958153615967,
          80.27035494141845,
          53.56973849617988,
          55.27194990702169,
          49.78673292140135,
          42.819448798875854,
          43.64627241617953,
          47.551911569329626,
          41.327866660768336,
          42.12840037848768,
          33.919505985439635,
          36.300306623536855,
          33.39690229927518,
          36.21583862949345,
          33.578396397517025,
          30.417763639739007,
          32.103394654995164,
          30.02720961612623,
          26.63367664021201,
          38.27632686348066,
          45.72461697329719,
          35.98853004415123,
          40.711576730424916,
          28.641189406941518,
          52.59046036935278,
          65.40320331609644,
          57.32537607787384,
          60.00931855361005,
          61.96091166115146,
          66.87948098616309,
          61.37375690530048,
          68.20958153615967,
          80.27035494141845,
          53.56973849617988,
          55.27194990702169,
          49.78673292140135,
          42.819448798875854,
          43.64627241617953,
          47.551911569329626,
          41.327866660768336,
          42.12840037848768,
          33.919505985439635,
          36.300306623536855,
          33.39690229927518,
          36.21583862949345,
          33.578396397517025,
          30.417763639739007,
          32.103394654995164,
          30.02720961612623,
          26.63367664021201,
          38.27632686348066,
          45.72461697329719,
          35.98853004415123,
          40.711576730424916,
          28.641189406941518
         ]
        },
        {
         "mode": "markers",
         "name": "yhat_bc",
         "type": "scatter",
         "x": [
          63.67,
          55.49,
          52.42,
          54,
          68.01,
          64.13,
          68.76,
          79.02,
          84.64,
          59.84,
          50.79,
          47.46,
          36.06,
          34.21,
          47.31,
          46.98,
          34.54,
          38.82,
          30.82,
          38.03,
          31.92,
          29.02,
          31.04,
          21.47,
          32.7,
          32.61,
          40.16,
          42.32,
          37.17,
          48.57,
          33.66,
          56.14,
          61.71,
          54.43,
          71.84,
          65.68,
          72.57,
          62.36,
          71.09,
          86.18,
          60.9,
          56.33,
          44.19,
          44.62,
          38.49,
          42.04,
          29.53,
          51.6,
          30.57,
          37.93,
          38.25,
          27.52,
          39.04,
          37.86,
          29.95,
          28.46,
          21.88,
          37.94,
          44.96,
          46.96,
          36.38,
          29.8,
          61.55,
          70.02,
          60.61,
          52.27,
          69.97,
          57.66,
          63.92,
          60.61,
          81.56,
          46.41,
          63.13,
          37.25,
          46.3,
          45.49,
          36.42,
          31.09,
          49.28,
          33.01,
          36.01,
          32.14,
          38.91,
          24.89,
          32.19,
          25.58,
          35.26,
          29.29,
          40.15,
          55.74,
          47.02,
          46.13,
          32.41,
          54.74,
          61.72,
          65.44,
          69.77,
          60.2,
          64.32,
          69.95,
          60.26,
          72.85,
          44.28,
          48.15,
          42.14,
          30.55,
          35.07,
          41.78,
          43.5,
          33.64,
          26.29,
          45,
          35.31,
          29.11,
          40.27,
          29.75,
          26.19,
          33.9,
          21.03,
          39.85,
          44.16,
          45.38,
          45.25,
          33.28
         ],
         "y": [
          54.07239282932199,
          66.1653186648537,
          56.70621582996869,
          62.16104831418936,
          64.33722982784548,
          66.0925016301163,
          62.188252048598976,
          67.71375957850888,
          80.0075172641072,
          51.2142373463905,
          55.26242854176335,
          50.60726219141599,
          40.960817678772955,
          41.24818813226995,
          43.17775457295524,
          37.12379726550847,
          41.89250103321304,
          34.08071049087354,
          35.27668758492735,
          32.58497854452752,
          33.83914617009023,
          32.47082412350156,
          31.789486228354434,
          31.338439210433563,
          31.18813568694198,
          28.893934633620557,
          38.07800029553384,
          41.44602463163669,
          34.68531191500644,
          41.92954543168469,
          30.271830255034363,
          54.07239282932199,
          66.1653186648537,
          56.70621582996869,
          62.16104831418936,
          64.33722982784548,
          66.0925016301163,
          62.188252048598976,
          67.71375957850888,
          80.0075172641072,
          51.2142373463905,
          55.26242854176335,
          50.60726219141599,
          40.960817678772955,
          41.24818813226995,
          43.17775457295524,
          37.12379726550847,
          41.89250103321304,
          34.08071049087354,
          35.27668758492735,
          32.58497854452752,
          33.83914617009023,
          32.47082412350156,
          31.789486228354434,
          31.338439210433563,
          31.18813568694198,
          28.893934633620557,
          38.07800029553384,
          41.44602463163669,
          34.68531191500644,
          41.92954543168469,
          30.271830255034363,
          54.07239282932199,
          66.1653186648537,
          56.70621582996869,
          62.16104831418936,
          64.33722982784548,
          66.0925016301163,
          62.188252048598976,
          67.71375957850888,
          80.0075172641072,
          51.2142373463905,
          55.26242854176335,
          50.60726219141599,
          40.960817678772955,
          41.24818813226995,
          43.17775457295524,
          37.12379726550847,
          41.89250103321304,
          34.08071049087354,
          35.27668758492735,
          32.58497854452752,
          33.83914617009023,
          32.47082412350156,
          31.789486228354434,
          31.338439210433563,
          31.18813568694198,
          28.893934633620557,
          38.07800029553384,
          41.44602463163669,
          34.68531191500644,
          41.92954543168469,
          30.271830255034363,
          54.07239282932199,
          66.1653186648537,
          56.70621582996869,
          62.16104831418936,
          64.33722982784548,
          66.0925016301163,
          62.188252048598976,
          67.71375957850888,
          80.0075172641072,
          51.2142373463905,
          55.26242854176335,
          50.60726219141599,
          40.960817678772955,
          41.24818813226995,
          43.17775457295524,
          37.12379726550847,
          41.89250103321304,
          34.08071049087354,
          35.27668758492735,
          32.58497854452752,
          33.83914617009023,
          32.47082412350156,
          31.789486228354434,
          31.338439210433563,
          31.18813568694198,
          28.893934633620557,
          38.07800029553384,
          41.44602463163669,
          34.68531191500644,
          41.92954543168469,
          30.271830255034363
         ]
        },
        {
         "mode": "lines",
         "name": "Ideal",
         "type": "scatter",
         "x": [
          63.67,
          55.49,
          52.42,
          54,
          68.01,
          64.13,
          68.76,
          79.02,
          84.64,
          59.84,
          50.79,
          47.46,
          36.06,
          34.21,
          47.31,
          46.98,
          34.54,
          38.82,
          30.82,
          38.03,
          31.92,
          29.02,
          31.04,
          21.47,
          32.7,
          32.61,
          40.16,
          42.32,
          37.17,
          48.57,
          33.66,
          56.14,
          61.71,
          54.43,
          71.84,
          65.68,
          72.57,
          62.36,
          71.09,
          86.18,
          60.9,
          56.33,
          44.19,
          44.62,
          38.49,
          42.04,
          29.53,
          51.6,
          30.57,
          37.93,
          38.25,
          27.52,
          39.04,
          37.86,
          29.95,
          28.46,
          21.88,
          37.94,
          44.96,
          46.96,
          36.38,
          29.8,
          61.55,
          70.02,
          60.61,
          52.27,
          69.97,
          57.66,
          63.92,
          60.61,
          81.56,
          46.41,
          63.13,
          37.25,
          46.3,
          45.49,
          36.42,
          31.09,
          49.28,
          33.01,
          36.01,
          32.14,
          38.91,
          24.89,
          32.19,
          25.58,
          35.26,
          29.29,
          40.15,
          55.74,
          47.02,
          46.13,
          32.41,
          54.74,
          61.72,
          65.44,
          69.77,
          60.2,
          64.32,
          69.95,
          60.26,
          72.85,
          44.28,
          48.15,
          42.14,
          30.55,
          35.07,
          41.78,
          43.5,
          33.64,
          26.29,
          45,
          35.31,
          29.11,
          40.27,
          29.75,
          26.19,
          33.9,
          21.03,
          39.85,
          44.16,
          45.38,
          45.25,
          33.28
         ],
         "y": [
          63.67,
          55.49,
          52.42,
          54,
          68.01,
          64.13,
          68.76,
          79.02,
          84.64,
          59.84,
          50.79,
          47.46,
          36.06,
          34.21,
          47.31,
          46.98,
          34.54,
          38.82,
          30.82,
          38.03,
          31.92,
          29.02,
          31.04,
          21.47,
          32.7,
          32.61,
          40.16,
          42.32,
          37.17,
          48.57,
          33.66,
          56.14,
          61.71,
          54.43,
          71.84,
          65.68,
          72.57,
          62.36,
          71.09,
          86.18,
          60.9,
          56.33,
          44.19,
          44.62,
          38.49,
          42.04,
          29.53,
          51.6,
          30.57,
          37.93,
          38.25,
          27.52,
          39.04,
          37.86,
          29.95,
          28.46,
          21.88,
          37.94,
          44.96,
          46.96,
          36.38,
          29.8,
          61.55,
          70.02,
          60.61,
          52.27,
          69.97,
          57.66,
          63.92,
          60.61,
          81.56,
          46.41,
          63.13,
          37.25,
          46.3,
          45.49,
          36.42,
          31.09,
          49.28,
          33.01,
          36.01,
          32.14,
          38.91,
          24.89,
          32.19,
          25.58,
          35.26,
          29.29,
          40.15,
          55.74,
          47.02,
          46.13,
          32.41,
          54.74,
          61.72,
          65.44,
          69.77,
          60.2,
          64.32,
          69.95,
          60.26,
          72.85,
          44.28,
          48.15,
          42.14,
          30.55,
          35.07,
          41.78,
          43.5,
          33.64,
          26.29,
          45,
          35.31,
          29.11,
          40.27,
          29.75,
          26.19,
          33.9,
          21.03,
          39.85,
          44.16,
          45.38,
          45.25,
          33.28
         ]
        }
       ],
       "layout": {
        "template": {
         "data": {
          "bar": [
           {
            "error_x": {
             "color": "#2a3f5f"
            },
            "error_y": {
             "color": "#2a3f5f"
            },
            "marker": {
             "line": {
              "color": "#E5ECF6",
              "width": 0.5
             },
             "pattern": {
              "fillmode": "overlay",
              "size": 10,
              "solidity": 0.2
             }
            },
            "type": "bar"
           }
          ],
          "barpolar": [
           {
            "marker": {
             "line": {
              "color": "#E5ECF6",
              "width": 0.5
             },
             "pattern": {
              "fillmode": "overlay",
              "size": 10,
              "solidity": 0.2
             }
            },
            "type": "barpolar"
           }
          ],
          "carpet": [
           {
            "aaxis": {
             "endlinecolor": "#2a3f5f",
             "gridcolor": "white",
             "linecolor": "white",
             "minorgridcolor": "white",
             "startlinecolor": "#2a3f5f"
            },
            "baxis": {
             "endlinecolor": "#2a3f5f",
             "gridcolor": "white",
             "linecolor": "white",
             "minorgridcolor": "white",
             "startlinecolor": "#2a3f5f"
            },
            "type": "carpet"
           }
          ],
          "choropleth": [
           {
            "colorbar": {
             "outlinewidth": 0,
             "ticks": ""
            },
            "type": "choropleth"
           }
          ],
          "contour": [
           {
            "colorbar": {
             "outlinewidth": 0,
             "ticks": ""
            },
            "colorscale": [
             [
              0,
              "#0d0887"
             ],
             [
              0.1111111111111111,
              "#46039f"
             ],
             [
              0.2222222222222222,
              "#7201a8"
             ],
             [
              0.3333333333333333,
              "#9c179e"
             ],
             [
              0.4444444444444444,
              "#bd3786"
             ],
             [
              0.5555555555555556,
              "#d8576b"
             ],
             [
              0.6666666666666666,
              "#ed7953"
             ],
             [
              0.7777777777777778,
              "#fb9f3a"
             ],
             [
              0.8888888888888888,
              "#fdca26"
             ],
             [
              1,
              "#f0f921"
             ]
            ],
            "type": "contour"
           }
          ],
          "contourcarpet": [
           {
            "colorbar": {
             "outlinewidth": 0,
             "ticks": ""
            },
            "type": "contourcarpet"
           }
          ],
          "heatmap": [
           {
            "colorbar": {
             "outlinewidth": 0,
             "ticks": ""
            },
            "colorscale": [
             [
              0,
              "#0d0887"
             ],
             [
              0.1111111111111111,
              "#46039f"
             ],
             [
              0.2222222222222222,
              "#7201a8"
             ],
             [
              0.3333333333333333,
              "#9c179e"
             ],
             [
              0.4444444444444444,
              "#bd3786"
             ],
             [
              0.5555555555555556,
              "#d8576b"
             ],
             [
              0.6666666666666666,
              "#ed7953"
             ],
             [
              0.7777777777777778,
              "#fb9f3a"
             ],
             [
              0.8888888888888888,
              "#fdca26"
             ],
             [
              1,
              "#f0f921"
             ]
            ],
            "type": "heatmap"
           }
          ],
          "heatmapgl": [
           {
            "colorbar": {
             "outlinewidth": 0,
             "ticks": ""
            },
            "colorscale": [
             [
              0,
              "#0d0887"
             ],
             [
              0.1111111111111111,
              "#46039f"
             ],
             [
              0.2222222222222222,
              "#7201a8"
             ],
             [
              0.3333333333333333,
              "#9c179e"
             ],
             [
              0.4444444444444444,
              "#bd3786"
             ],
             [
              0.5555555555555556,
              "#d8576b"
             ],
             [
              0.6666666666666666,
              "#ed7953"
             ],
             [
              0.7777777777777778,
              "#fb9f3a"
             ],
             [
              0.8888888888888888,
              "#fdca26"
             ],
             [
              1,
              "#f0f921"
             ]
            ],
            "type": "heatmapgl"
           }
          ],
          "histogram": [
           {
            "marker": {
             "pattern": {
              "fillmode": "overlay",
              "size": 10,
              "solidity": 0.2
             }
            },
            "type": "histogram"
           }
          ],
          "histogram2d": [
           {
            "colorbar": {
             "outlinewidth": 0,
             "ticks": ""
            },
            "colorscale": [
             [
              0,
              "#0d0887"
             ],
             [
              0.1111111111111111,
              "#46039f"
             ],
             [
              0.2222222222222222,
              "#7201a8"
             ],
             [
              0.3333333333333333,
              "#9c179e"
             ],
             [
              0.4444444444444444,
              "#bd3786"
             ],
             [
              0.5555555555555556,
              "#d8576b"
             ],
             [
              0.6666666666666666,
              "#ed7953"
             ],
             [
              0.7777777777777778,
              "#fb9f3a"
             ],
             [
              0.8888888888888888,
              "#fdca26"
             ],
             [
              1,
              "#f0f921"
             ]
            ],
            "type": "histogram2d"
           }
          ],
          "histogram2dcontour": [
           {
            "colorbar": {
             "outlinewidth": 0,
             "ticks": ""
            },
            "colorscale": [
             [
              0,
              "#0d0887"
             ],
             [
              0.1111111111111111,
              "#46039f"
             ],
             [
              0.2222222222222222,
              "#7201a8"
             ],
             [
              0.3333333333333333,
              "#9c179e"
             ],
             [
              0.4444444444444444,
              "#bd3786"
             ],
             [
              0.5555555555555556,
              "#d8576b"
             ],
             [
              0.6666666666666666,
              "#ed7953"
             ],
             [
              0.7777777777777778,
              "#fb9f3a"
             ],
             [
              0.8888888888888888,
              "#fdca26"
             ],
             [
              1,
              "#f0f921"
             ]
            ],
            "type": "histogram2dcontour"
           }
          ],
          "mesh3d": [
           {
            "colorbar": {
             "outlinewidth": 0,
             "ticks": ""
            },
            "type": "mesh3d"
           }
          ],
          "parcoords": [
           {
            "line": {
             "colorbar": {
              "outlinewidth": 0,
              "ticks": ""
             }
            },
            "type": "parcoords"
           }
          ],
          "pie": [
           {
            "automargin": true,
            "type": "pie"
           }
          ],
          "scatter": [
           {
            "fillpattern": {
             "fillmode": "overlay",
             "size": 10,
             "solidity": 0.2
            },
            "type": "scatter"
           }
          ],
          "scatter3d": [
           {
            "line": {
             "colorbar": {
              "outlinewidth": 0,
              "ticks": ""
             }
            },
            "marker": {
             "colorbar": {
              "outlinewidth": 0,
              "ticks": ""
             }
            },
            "type": "scatter3d"
           }
          ],
          "scattercarpet": [
           {
            "marker": {
             "colorbar": {
              "outlinewidth": 0,
              "ticks": ""
             }
            },
            "type": "scattercarpet"
           }
          ],
          "scattergeo": [
           {
            "marker": {
             "colorbar": {
              "outlinewidth": 0,
              "ticks": ""
             }
            },
            "type": "scattergeo"
           }
          ],
          "scattergl": [
           {
            "marker": {
             "colorbar": {
              "outlinewidth": 0,
              "ticks": ""
             }
            },
            "type": "scattergl"
           }
          ],
          "scattermapbox": [
           {
            "marker": {
             "colorbar": {
              "outlinewidth": 0,
              "ticks": ""
             }
            },
            "type": "scattermapbox"
           }
          ],
          "scatterpolar": [
           {
            "marker": {
             "colorbar": {
              "outlinewidth": 0,
              "ticks": ""
             }
            },
            "type": "scatterpolar"
           }
          ],
          "scatterpolargl": [
           {
            "marker": {
             "colorbar": {
              "outlinewidth": 0,
              "ticks": ""
             }
            },
            "type": "scatterpolargl"
           }
          ],
          "scatterternary": [
           {
            "marker": {
             "colorbar": {
              "outlinewidth": 0,
              "ticks": ""
             }
            },
            "type": "scatterternary"
           }
          ],
          "surface": [
           {
            "colorbar": {
             "outlinewidth": 0,
             "ticks": ""
            },
            "colorscale": [
             [
              0,
              "#0d0887"
             ],
             [
              0.1111111111111111,
              "#46039f"
             ],
             [
              0.2222222222222222,
              "#7201a8"
             ],
             [
              0.3333333333333333,
              "#9c179e"
             ],
             [
              0.4444444444444444,
              "#bd3786"
             ],
             [
              0.5555555555555556,
              "#d8576b"
             ],
             [
              0.6666666666666666,
              "#ed7953"
             ],
             [
              0.7777777777777778,
              "#fb9f3a"
             ],
             [
              0.8888888888888888,
              "#fdca26"
             ],
             [
              1,
              "#f0f921"
             ]
            ],
            "type": "surface"
           }
          ],
          "table": [
           {
            "cells": {
             "fill": {
              "color": "#EBF0F8"
             },
             "line": {
              "color": "white"
             }
            },
            "header": {
             "fill": {
              "color": "#C8D4E3"
             },
             "line": {
              "color": "white"
             }
            },
            "type": "table"
           }
          ]
         },
         "layout": {
          "annotationdefaults": {
           "arrowcolor": "#2a3f5f",
           "arrowhead": 0,
           "arrowwidth": 1
          },
          "autotypenumbers": "strict",
          "coloraxis": {
           "colorbar": {
            "outlinewidth": 0,
            "ticks": ""
           }
          },
          "colorscale": {
           "diverging": [
            [
             0,
             "#8e0152"
            ],
            [
             0.1,
             "#c51b7d"
            ],
            [
             0.2,
             "#de77ae"
            ],
            [
             0.3,
             "#f1b6da"
            ],
            [
             0.4,
             "#fde0ef"
            ],
            [
             0.5,
             "#f7f7f7"
            ],
            [
             0.6,
             "#e6f5d0"
            ],
            [
             0.7,
             "#b8e186"
            ],
            [
             0.8,
             "#7fbc41"
            ],
            [
             0.9,
             "#4d9221"
            ],
            [
             1,
             "#276419"
            ]
           ],
           "sequential": [
            [
             0,
             "#0d0887"
            ],
            [
             0.1111111111111111,
             "#46039f"
            ],
            [
             0.2222222222222222,
             "#7201a8"
            ],
            [
             0.3333333333333333,
             "#9c179e"
            ],
            [
             0.4444444444444444,
             "#bd3786"
            ],
            [
             0.5555555555555556,
             "#d8576b"
            ],
            [
             0.6666666666666666,
             "#ed7953"
            ],
            [
             0.7777777777777778,
             "#fb9f3a"
            ],
            [
             0.8888888888888888,
             "#fdca26"
            ],
            [
             1,
             "#f0f921"
            ]
           ],
           "sequentialminus": [
            [
             0,
             "#0d0887"
            ],
            [
             0.1111111111111111,
             "#46039f"
            ],
            [
             0.2222222222222222,
             "#7201a8"
            ],
            [
             0.3333333333333333,
             "#9c179e"
            ],
            [
             0.4444444444444444,
             "#bd3786"
            ],
            [
             0.5555555555555556,
             "#d8576b"
            ],
            [
             0.6666666666666666,
             "#ed7953"
            ],
            [
             0.7777777777777778,
             "#fb9f3a"
            ],
            [
             0.8888888888888888,
             "#fdca26"
            ],
            [
             1,
             "#f0f921"
            ]
           ]
          },
          "colorway": [
           "#636efa",
           "#EF553B",
           "#00cc96",
           "#ab63fa",
           "#FFA15A",
           "#19d3f3",
           "#FF6692",
           "#B6E880",
           "#FF97FF",
           "#FECB52"
          ],
          "font": {
           "color": "#2a3f5f"
          },
          "geo": {
           "bgcolor": "white",
           "lakecolor": "white",
           "landcolor": "#E5ECF6",
           "showlakes": true,
           "showland": true,
           "subunitcolor": "white"
          },
          "hoverlabel": {
           "align": "left"
          },
          "hovermode": "closest",
          "mapbox": {
           "style": "light"
          },
          "paper_bgcolor": "white",
          "plot_bgcolor": "#E5ECF6",
          "polar": {
           "angularaxis": {
            "gridcolor": "white",
            "linecolor": "white",
            "ticks": ""
           },
           "bgcolor": "#E5ECF6",
           "radialaxis": {
            "gridcolor": "white",
            "linecolor": "white",
            "ticks": ""
           }
          },
          "scene": {
           "xaxis": {
            "backgroundcolor": "#E5ECF6",
            "gridcolor": "white",
            "gridwidth": 2,
            "linecolor": "white",
            "showbackground": true,
            "ticks": "",
            "zerolinecolor": "white"
           },
           "yaxis": {
            "backgroundcolor": "#E5ECF6",
            "gridcolor": "white",
            "gridwidth": 2,
            "linecolor": "white",
            "showbackground": true,
            "ticks": "",
            "zerolinecolor": "white"
           },
           "zaxis": {
            "backgroundcolor": "#E5ECF6",
            "gridcolor": "white",
            "gridwidth": 2,
            "linecolor": "white",
            "showbackground": true,
            "ticks": "",
            "zerolinecolor": "white"
           }
          },
          "shapedefaults": {
           "line": {
            "color": "#2a3f5f"
           }
          },
          "ternary": {
           "aaxis": {
            "gridcolor": "white",
            "linecolor": "white",
            "ticks": ""
           },
           "baxis": {
            "gridcolor": "white",
            "linecolor": "white",
            "ticks": ""
           },
           "bgcolor": "#E5ECF6",
           "caxis": {
            "gridcolor": "white",
            "linecolor": "white",
            "ticks": ""
           }
          },
          "title": {
           "x": 0.05
          },
          "xaxis": {
           "automargin": true,
           "gridcolor": "white",
           "linecolor": "white",
           "ticks": "",
           "title": {
            "standoff": 15
           },
           "zerolinecolor": "white",
           "zerolinewidth": 2
          },
          "yaxis": {
           "automargin": true,
           "gridcolor": "white",
           "linecolor": "white",
           "ticks": "",
           "title": {
            "standoff": 15
           },
           "zerolinecolor": "white",
           "zerolinewidth": 2
          }
         }
        },
        "xaxis": {
         "title": {
          "text": "Retorno"
         }
        },
        "yaxis": {
         "title": {
          "text": "Fitted Values"
         }
        }
       }
      },
      "text/html": [
       "<div>                            <div id=\"88f44c9c-48e1-4413-96f2-a688c26cb7ad\" class=\"plotly-graph-div\" style=\"height:525px; width:100%;\"></div>            <script type=\"text/javascript\">                require([\"plotly\"], function(Plotly) {                    window.PLOTLYENV=window.PLOTLYENV || {};                                    if (document.getElementById(\"88f44c9c-48e1-4413-96f2-a688c26cb7ad\")) {                    Plotly.newPlot(                        \"88f44c9c-48e1-4413-96f2-a688c26cb7ad\",                        [{\"mode\":\"markers\",\"name\":\"yhat_linear\",\"x\":[63.67,55.49,52.42,54.0,68.01,64.13,68.76,79.02,84.64,59.84,50.79,47.46,36.06,34.21,47.31,46.98,34.54,38.82,30.82,38.03,31.92,29.02,31.04,21.47,32.7,32.61,40.16,42.32,37.17,48.57,33.66,56.14,61.71,54.43,71.84,65.68,72.57,62.36,71.09,86.18,60.9,56.33,44.19,44.62,38.49,42.04,29.53,51.6,30.57,37.93,38.25,27.52,39.04,37.86,29.95,28.46,21.88,37.94,44.96,46.96,36.38,29.8,61.55,70.02,60.61,52.27,69.97,57.66,63.92,60.61,81.56,46.41,63.13,37.25,46.3,45.49,36.42,31.09,49.28,33.01,36.01,32.14,38.91,24.89,32.19,25.58,35.26,29.29,40.15,55.74,47.02,46.13,32.41,54.74,61.72,65.44,69.77,60.2,64.32,69.95,60.26,72.85,44.28,48.15,42.14,30.55,35.07,41.78,43.5,33.64,26.29,45.0,35.31,29.11,40.27,29.75,26.19,33.9,21.03,39.85,44.16,45.38,45.25,33.28],\"y\":[52.59046036935278,65.40320331609644,57.32537607787384,60.00931855361005,61.96091166115146,66.87948098616309,61.37375690530048,68.20958153615967,80.27035494141845,53.56973849617988,55.27194990702169,49.78673292140135,42.819448798875854,43.64627241617953,47.551911569329626,41.327866660768336,42.12840037848768,33.919505985439635,36.300306623536855,33.39690229927518,36.21583862949345,33.578396397517025,30.417763639739007,32.103394654995164,30.02720961612623,26.63367664021201,38.27632686348066,45.72461697329719,35.98853004415123,40.711576730424916,28.641189406941518,52.59046036935278,65.40320331609644,57.32537607787384,60.00931855361005,61.96091166115146,66.87948098616309,61.37375690530048,68.20958153615967,80.27035494141845,53.56973849617988,55.27194990702169,49.78673292140135,42.819448798875854,43.64627241617953,47.551911569329626,41.327866660768336,42.12840037848768,33.919505985439635,36.300306623536855,33.39690229927518,36.21583862949345,33.578396397517025,30.417763639739007,32.103394654995164,30.02720961612623,26.63367664021201,38.27632686348066,45.72461697329719,35.98853004415123,40.711576730424916,28.641189406941518,52.59046036935278,65.40320331609644,57.32537607787384,60.00931855361005,61.96091166115146,66.87948098616309,61.37375690530048,68.20958153615967,80.27035494141845,53.56973849617988,55.27194990702169,49.78673292140135,42.819448798875854,43.64627241617953,47.551911569329626,41.327866660768336,42.12840037848768,33.919505985439635,36.300306623536855,33.39690229927518,36.21583862949345,33.578396397517025,30.417763639739007,32.103394654995164,30.02720961612623,26.63367664021201,38.27632686348066,45.72461697329719,35.98853004415123,40.711576730424916,28.641189406941518,52.59046036935278,65.40320331609644,57.32537607787384,60.00931855361005,61.96091166115146,66.87948098616309,61.37375690530048,68.20958153615967,80.27035494141845,53.56973849617988,55.27194990702169,49.78673292140135,42.819448798875854,43.64627241617953,47.551911569329626,41.327866660768336,42.12840037848768,33.919505985439635,36.300306623536855,33.39690229927518,36.21583862949345,33.578396397517025,30.417763639739007,32.103394654995164,30.02720961612623,26.63367664021201,38.27632686348066,45.72461697329719,35.98853004415123,40.711576730424916,28.641189406941518],\"type\":\"scatter\"},{\"mode\":\"markers\",\"name\":\"yhat_bc\",\"x\":[63.67,55.49,52.42,54.0,68.01,64.13,68.76,79.02,84.64,59.84,50.79,47.46,36.06,34.21,47.31,46.98,34.54,38.82,30.82,38.03,31.92,29.02,31.04,21.47,32.7,32.61,40.16,42.32,37.17,48.57,33.66,56.14,61.71,54.43,71.84,65.68,72.57,62.36,71.09,86.18,60.9,56.33,44.19,44.62,38.49,42.04,29.53,51.6,30.57,37.93,38.25,27.52,39.04,37.86,29.95,28.46,21.88,37.94,44.96,46.96,36.38,29.8,61.55,70.02,60.61,52.27,69.97,57.66,63.92,60.61,81.56,46.41,63.13,37.25,46.3,45.49,36.42,31.09,49.28,33.01,36.01,32.14,38.91,24.89,32.19,25.58,35.26,29.29,40.15,55.74,47.02,46.13,32.41,54.74,61.72,65.44,69.77,60.2,64.32,69.95,60.26,72.85,44.28,48.15,42.14,30.55,35.07,41.78,43.5,33.64,26.29,45.0,35.31,29.11,40.27,29.75,26.19,33.9,21.03,39.85,44.16,45.38,45.25,33.28],\"y\":[54.07239282932199,66.1653186648537,56.70621582996869,62.16104831418936,64.33722982784548,66.0925016301163,62.188252048598976,67.71375957850888,80.0075172641072,51.2142373463905,55.26242854176335,50.60726219141599,40.960817678772955,41.24818813226995,43.17775457295524,37.12379726550847,41.89250103321304,34.08071049087354,35.27668758492735,32.58497854452752,33.83914617009023,32.47082412350156,31.789486228354434,31.338439210433563,31.18813568694198,28.893934633620557,38.07800029553384,41.44602463163669,34.68531191500644,41.92954543168469,30.271830255034363,54.07239282932199,66.1653186648537,56.70621582996869,62.16104831418936,64.33722982784548,66.0925016301163,62.188252048598976,67.71375957850888,80.0075172641072,51.2142373463905,55.26242854176335,50.60726219141599,40.960817678772955,41.24818813226995,43.17775457295524,37.12379726550847,41.89250103321304,34.08071049087354,35.27668758492735,32.58497854452752,33.83914617009023,32.47082412350156,31.789486228354434,31.338439210433563,31.18813568694198,28.893934633620557,38.07800029553384,41.44602463163669,34.68531191500644,41.92954543168469,30.271830255034363,54.07239282932199,66.1653186648537,56.70621582996869,62.16104831418936,64.33722982784548,66.0925016301163,62.188252048598976,67.71375957850888,80.0075172641072,51.2142373463905,55.26242854176335,50.60726219141599,40.960817678772955,41.24818813226995,43.17775457295524,37.12379726550847,41.89250103321304,34.08071049087354,35.27668758492735,32.58497854452752,33.83914617009023,32.47082412350156,31.789486228354434,31.338439210433563,31.18813568694198,28.893934633620557,38.07800029553384,41.44602463163669,34.68531191500644,41.92954543168469,30.271830255034363,54.07239282932199,66.1653186648537,56.70621582996869,62.16104831418936,64.33722982784548,66.0925016301163,62.188252048598976,67.71375957850888,80.0075172641072,51.2142373463905,55.26242854176335,50.60726219141599,40.960817678772955,41.24818813226995,43.17775457295524,37.12379726550847,41.89250103321304,34.08071049087354,35.27668758492735,32.58497854452752,33.83914617009023,32.47082412350156,31.789486228354434,31.338439210433563,31.18813568694198,28.893934633620557,38.07800029553384,41.44602463163669,34.68531191500644,41.92954543168469,30.271830255034363],\"type\":\"scatter\"},{\"mode\":\"lines\",\"name\":\"Ideal\",\"x\":[63.67,55.49,52.42,54.0,68.01,64.13,68.76,79.02,84.64,59.84,50.79,47.46,36.06,34.21,47.31,46.98,34.54,38.82,30.82,38.03,31.92,29.02,31.04,21.47,32.7,32.61,40.16,42.32,37.17,48.57,33.66,56.14,61.71,54.43,71.84,65.68,72.57,62.36,71.09,86.18,60.9,56.33,44.19,44.62,38.49,42.04,29.53,51.6,30.57,37.93,38.25,27.52,39.04,37.86,29.95,28.46,21.88,37.94,44.96,46.96,36.38,29.8,61.55,70.02,60.61,52.27,69.97,57.66,63.92,60.61,81.56,46.41,63.13,37.25,46.3,45.49,36.42,31.09,49.28,33.01,36.01,32.14,38.91,24.89,32.19,25.58,35.26,29.29,40.15,55.74,47.02,46.13,32.41,54.74,61.72,65.44,69.77,60.2,64.32,69.95,60.26,72.85,44.28,48.15,42.14,30.55,35.07,41.78,43.5,33.64,26.29,45.0,35.31,29.11,40.27,29.75,26.19,33.9,21.03,39.85,44.16,45.38,45.25,33.28],\"y\":[63.67,55.49,52.42,54.0,68.01,64.13,68.76,79.02,84.64,59.84,50.79,47.46,36.06,34.21,47.31,46.98,34.54,38.82,30.82,38.03,31.92,29.02,31.04,21.47,32.7,32.61,40.16,42.32,37.17,48.57,33.66,56.14,61.71,54.43,71.84,65.68,72.57,62.36,71.09,86.18,60.9,56.33,44.19,44.62,38.49,42.04,29.53,51.6,30.57,37.93,38.25,27.52,39.04,37.86,29.95,28.46,21.88,37.94,44.96,46.96,36.38,29.8,61.55,70.02,60.61,52.27,69.97,57.66,63.92,60.61,81.56,46.41,63.13,37.25,46.3,45.49,36.42,31.09,49.28,33.01,36.01,32.14,38.91,24.89,32.19,25.58,35.26,29.29,40.15,55.74,47.02,46.13,32.41,54.74,61.72,65.44,69.77,60.2,64.32,69.95,60.26,72.85,44.28,48.15,42.14,30.55,35.07,41.78,43.5,33.64,26.29,45.0,35.31,29.11,40.27,29.75,26.19,33.9,21.03,39.85,44.16,45.38,45.25,33.28],\"type\":\"scatter\"}],                        {\"template\":{\"data\":{\"histogram2dcontour\":[{\"type\":\"histogram2dcontour\",\"colorbar\":{\"outlinewidth\":0,\"ticks\":\"\"},\"colorscale\":[[0.0,\"#0d0887\"],[0.1111111111111111,\"#46039f\"],[0.2222222222222222,\"#7201a8\"],[0.3333333333333333,\"#9c179e\"],[0.4444444444444444,\"#bd3786\"],[0.5555555555555556,\"#d8576b\"],[0.6666666666666666,\"#ed7953\"],[0.7777777777777778,\"#fb9f3a\"],[0.8888888888888888,\"#fdca26\"],[1.0,\"#f0f921\"]]}],\"choropleth\":[{\"type\":\"choropleth\",\"colorbar\":{\"outlinewidth\":0,\"ticks\":\"\"}}],\"histogram2d\":[{\"type\":\"histogram2d\",\"colorbar\":{\"outlinewidth\":0,\"ticks\":\"\"},\"colorscale\":[[0.0,\"#0d0887\"],[0.1111111111111111,\"#46039f\"],[0.2222222222222222,\"#7201a8\"],[0.3333333333333333,\"#9c179e\"],[0.4444444444444444,\"#bd3786\"],[0.5555555555555556,\"#d8576b\"],[0.6666666666666666,\"#ed7953\"],[0.7777777777777778,\"#fb9f3a\"],[0.8888888888888888,\"#fdca26\"],[1.0,\"#f0f921\"]]}],\"heatmap\":[{\"type\":\"heatmap\",\"colorbar\":{\"outlinewidth\":0,\"ticks\":\"\"},\"colorscale\":[[0.0,\"#0d0887\"],[0.1111111111111111,\"#46039f\"],[0.2222222222222222,\"#7201a8\"],[0.3333333333333333,\"#9c179e\"],[0.4444444444444444,\"#bd3786\"],[0.5555555555555556,\"#d8576b\"],[0.6666666666666666,\"#ed7953\"],[0.7777777777777778,\"#fb9f3a\"],[0.8888888888888888,\"#fdca26\"],[1.0,\"#f0f921\"]]}],\"heatmapgl\":[{\"type\":\"heatmapgl\",\"colorbar\":{\"outlinewidth\":0,\"ticks\":\"\"},\"colorscale\":[[0.0,\"#0d0887\"],[0.1111111111111111,\"#46039f\"],[0.2222222222222222,\"#7201a8\"],[0.3333333333333333,\"#9c179e\"],[0.4444444444444444,\"#bd3786\"],[0.5555555555555556,\"#d8576b\"],[0.6666666666666666,\"#ed7953\"],[0.7777777777777778,\"#fb9f3a\"],[0.8888888888888888,\"#fdca26\"],[1.0,\"#f0f921\"]]}],\"contourcarpet\":[{\"type\":\"contourcarpet\",\"colorbar\":{\"outlinewidth\":0,\"ticks\":\"\"}}],\"contour\":[{\"type\":\"contour\",\"colorbar\":{\"outlinewidth\":0,\"ticks\":\"\"},\"colorscale\":[[0.0,\"#0d0887\"],[0.1111111111111111,\"#46039f\"],[0.2222222222222222,\"#7201a8\"],[0.3333333333333333,\"#9c179e\"],[0.4444444444444444,\"#bd3786\"],[0.5555555555555556,\"#d8576b\"],[0.6666666666666666,\"#ed7953\"],[0.7777777777777778,\"#fb9f3a\"],[0.8888888888888888,\"#fdca26\"],[1.0,\"#f0f921\"]]}],\"surface\":[{\"type\":\"surface\",\"colorbar\":{\"outlinewidth\":0,\"ticks\":\"\"},\"colorscale\":[[0.0,\"#0d0887\"],[0.1111111111111111,\"#46039f\"],[0.2222222222222222,\"#7201a8\"],[0.3333333333333333,\"#9c179e\"],[0.4444444444444444,\"#bd3786\"],[0.5555555555555556,\"#d8576b\"],[0.6666666666666666,\"#ed7953\"],[0.7777777777777778,\"#fb9f3a\"],[0.8888888888888888,\"#fdca26\"],[1.0,\"#f0f921\"]]}],\"mesh3d\":[{\"type\":\"mesh3d\",\"colorbar\":{\"outlinewidth\":0,\"ticks\":\"\"}}],\"scatter\":[{\"fillpattern\":{\"fillmode\":\"overlay\",\"size\":10,\"solidity\":0.2},\"type\":\"scatter\"}],\"parcoords\":[{\"type\":\"parcoords\",\"line\":{\"colorbar\":{\"outlinewidth\":0,\"ticks\":\"\"}}}],\"scatterpolargl\":[{\"type\":\"scatterpolargl\",\"marker\":{\"colorbar\":{\"outlinewidth\":0,\"ticks\":\"\"}}}],\"bar\":[{\"error_x\":{\"color\":\"#2a3f5f\"},\"error_y\":{\"color\":\"#2a3f5f\"},\"marker\":{\"line\":{\"color\":\"#E5ECF6\",\"width\":0.5},\"pattern\":{\"fillmode\":\"overlay\",\"size\":10,\"solidity\":0.2}},\"type\":\"bar\"}],\"scattergeo\":[{\"type\":\"scattergeo\",\"marker\":{\"colorbar\":{\"outlinewidth\":0,\"ticks\":\"\"}}}],\"scatterpolar\":[{\"type\":\"scatterpolar\",\"marker\":{\"colorbar\":{\"outlinewidth\":0,\"ticks\":\"\"}}}],\"histogram\":[{\"marker\":{\"pattern\":{\"fillmode\":\"overlay\",\"size\":10,\"solidity\":0.2}},\"type\":\"histogram\"}],\"scattergl\":[{\"type\":\"scattergl\",\"marker\":{\"colorbar\":{\"outlinewidth\":0,\"ticks\":\"\"}}}],\"scatter3d\":[{\"type\":\"scatter3d\",\"line\":{\"colorbar\":{\"outlinewidth\":0,\"ticks\":\"\"}},\"marker\":{\"colorbar\":{\"outlinewidth\":0,\"ticks\":\"\"}}}],\"scattermapbox\":[{\"type\":\"scattermapbox\",\"marker\":{\"colorbar\":{\"outlinewidth\":0,\"ticks\":\"\"}}}],\"scatterternary\":[{\"type\":\"scatterternary\",\"marker\":{\"colorbar\":{\"outlinewidth\":0,\"ticks\":\"\"}}}],\"scattercarpet\":[{\"type\":\"scattercarpet\",\"marker\":{\"colorbar\":{\"outlinewidth\":0,\"ticks\":\"\"}}}],\"carpet\":[{\"aaxis\":{\"endlinecolor\":\"#2a3f5f\",\"gridcolor\":\"white\",\"linecolor\":\"white\",\"minorgridcolor\":\"white\",\"startlinecolor\":\"#2a3f5f\"},\"baxis\":{\"endlinecolor\":\"#2a3f5f\",\"gridcolor\":\"white\",\"linecolor\":\"white\",\"minorgridcolor\":\"white\",\"startlinecolor\":\"#2a3f5f\"},\"type\":\"carpet\"}],\"table\":[{\"cells\":{\"fill\":{\"color\":\"#EBF0F8\"},\"line\":{\"color\":\"white\"}},\"header\":{\"fill\":{\"color\":\"#C8D4E3\"},\"line\":{\"color\":\"white\"}},\"type\":\"table\"}],\"barpolar\":[{\"marker\":{\"line\":{\"color\":\"#E5ECF6\",\"width\":0.5},\"pattern\":{\"fillmode\":\"overlay\",\"size\":10,\"solidity\":0.2}},\"type\":\"barpolar\"}],\"pie\":[{\"automargin\":true,\"type\":\"pie\"}]},\"layout\":{\"autotypenumbers\":\"strict\",\"colorway\":[\"#636efa\",\"#EF553B\",\"#00cc96\",\"#ab63fa\",\"#FFA15A\",\"#19d3f3\",\"#FF6692\",\"#B6E880\",\"#FF97FF\",\"#FECB52\"],\"font\":{\"color\":\"#2a3f5f\"},\"hovermode\":\"closest\",\"hoverlabel\":{\"align\":\"left\"},\"paper_bgcolor\":\"white\",\"plot_bgcolor\":\"#E5ECF6\",\"polar\":{\"bgcolor\":\"#E5ECF6\",\"angularaxis\":{\"gridcolor\":\"white\",\"linecolor\":\"white\",\"ticks\":\"\"},\"radialaxis\":{\"gridcolor\":\"white\",\"linecolor\":\"white\",\"ticks\":\"\"}},\"ternary\":{\"bgcolor\":\"#E5ECF6\",\"aaxis\":{\"gridcolor\":\"white\",\"linecolor\":\"white\",\"ticks\":\"\"},\"baxis\":{\"gridcolor\":\"white\",\"linecolor\":\"white\",\"ticks\":\"\"},\"caxis\":{\"gridcolor\":\"white\",\"linecolor\":\"white\",\"ticks\":\"\"}},\"coloraxis\":{\"colorbar\":{\"outlinewidth\":0,\"ticks\":\"\"}},\"colorscale\":{\"sequential\":[[0.0,\"#0d0887\"],[0.1111111111111111,\"#46039f\"],[0.2222222222222222,\"#7201a8\"],[0.3333333333333333,\"#9c179e\"],[0.4444444444444444,\"#bd3786\"],[0.5555555555555556,\"#d8576b\"],[0.6666666666666666,\"#ed7953\"],[0.7777777777777778,\"#fb9f3a\"],[0.8888888888888888,\"#fdca26\"],[1.0,\"#f0f921\"]],\"sequentialminus\":[[0.0,\"#0d0887\"],[0.1111111111111111,\"#46039f\"],[0.2222222222222222,\"#7201a8\"],[0.3333333333333333,\"#9c179e\"],[0.4444444444444444,\"#bd3786\"],[0.5555555555555556,\"#d8576b\"],[0.6666666666666666,\"#ed7953\"],[0.7777777777777778,\"#fb9f3a\"],[0.8888888888888888,\"#fdca26\"],[1.0,\"#f0f921\"]],\"diverging\":[[0,\"#8e0152\"],[0.1,\"#c51b7d\"],[0.2,\"#de77ae\"],[0.3,\"#f1b6da\"],[0.4,\"#fde0ef\"],[0.5,\"#f7f7f7\"],[0.6,\"#e6f5d0\"],[0.7,\"#b8e186\"],[0.8,\"#7fbc41\"],[0.9,\"#4d9221\"],[1,\"#276419\"]]},\"xaxis\":{\"gridcolor\":\"white\",\"linecolor\":\"white\",\"ticks\":\"\",\"title\":{\"standoff\":15},\"zerolinecolor\":\"white\",\"automargin\":true,\"zerolinewidth\":2},\"yaxis\":{\"gridcolor\":\"white\",\"linecolor\":\"white\",\"ticks\":\"\",\"title\":{\"standoff\":15},\"zerolinecolor\":\"white\",\"automargin\":true,\"zerolinewidth\":2},\"scene\":{\"xaxis\":{\"backgroundcolor\":\"#E5ECF6\",\"gridcolor\":\"white\",\"linecolor\":\"white\",\"showbackground\":true,\"ticks\":\"\",\"zerolinecolor\":\"white\",\"gridwidth\":2},\"yaxis\":{\"backgroundcolor\":\"#E5ECF6\",\"gridcolor\":\"white\",\"linecolor\":\"white\",\"showbackground\":true,\"ticks\":\"\",\"zerolinecolor\":\"white\",\"gridwidth\":2},\"zaxis\":{\"backgroundcolor\":\"#E5ECF6\",\"gridcolor\":\"white\",\"linecolor\":\"white\",\"showbackground\":true,\"ticks\":\"\",\"zerolinecolor\":\"white\",\"gridwidth\":2}},\"shapedefaults\":{\"line\":{\"color\":\"#2a3f5f\"}},\"annotationdefaults\":{\"arrowcolor\":\"#2a3f5f\",\"arrowhead\":0,\"arrowwidth\":1},\"geo\":{\"bgcolor\":\"white\",\"landcolor\":\"#E5ECF6\",\"subunitcolor\":\"white\",\"showland\":true,\"showlakes\":true,\"lakecolor\":\"white\"},\"title\":{\"x\":0.05},\"mapbox\":{\"style\":\"light\"}}},\"xaxis\":{\"title\":{\"text\":\"Retorno\"}},\"yaxis\":{\"title\":{\"text\":\"Fitted Values\"}}},                        {\"responsive\": true}                    ).then(function(){\n",
       "                            \n",
       "var gd = document.getElementById('88f44c9c-48e1-4413-96f2-a688c26cb7ad');\n",
       "var x = new MutationObserver(function (mutations, observer) {{\n",
       "        var display = window.getComputedStyle(gd).display;\n",
       "        if (!display || display === 'none') {{\n",
       "            console.log([gd, 'removed!']);\n",
       "            Plotly.purge(gd);\n",
       "            observer.disconnect();\n",
       "        }}\n",
       "}});\n",
       "\n",
       "// Listen for the removal of the full notebook cells\n",
       "var notebookContainer = gd.closest('#notebook-container');\n",
       "if (notebookContainer) {{\n",
       "    x.observe(notebookContainer, {childList: true});\n",
       "}}\n",
       "\n",
       "// Listen for the clearing of the current output cell\n",
       "var outputEl = gd.closest('.output');\n",
       "if (outputEl) {{\n",
       "    x.observe(outputEl, {childList: true});\n",
       "}}\n",
       "\n",
       "                        })                };                });            </script>        </div>"
      ]
     },
     "metadata": {},
     "output_type": "display_data"
    }
   ],
   "source": [
    "#Cria a reta de regressão das dispersões\n",
    "from scipy.optimize import curve_fit\n",
    "from scipy import stats\n",
    "\n",
    "def func(x, a, b):\n",
    "    return a * np.power(x, b)\n",
    "\n",
    "popt_bc, pcov = curve_fit(func, empresas.retorno, empresas.yhat_step_modelo_bc)\n",
    "\n",
    "x_fit_bc = np.linspace(32, 88, 50)\n",
    "y_fit_bc = func(x_fit_bc, *popt_bc)\n",
    "\n",
    "\n",
    "popt_lin, pcov = curve_fit(func, empresas.retorno, empresas.yhat_step_empresas)\n",
    "\n",
    "x_fit_lin = np.linspace(32, 88, 50)\n",
    "y_fit_lin = func(x_fit_bc, *popt_lin)\n",
    "\n",
    "\n",
    "# Calcular a equação da reta linear\n",
    "slope, intercept, r_value, p_value, std_err = stats.linregress(x=empresas.retorno, y=empresas.retorno)\n",
    "element_line = intercept+slope*empresas.retorno\n",
    "\n",
    "import plotly.graph_objs as go\n",
    "\n",
    "fig = go.Figure()\n",
    "fig.add_trace(go.Scatter(x=empresas.retorno, y=empresas.yhat_step_empresas, mode='markers', name='yhat_linear'))\n",
    "fig.add_trace(go.Scatter(x=empresas.retorno, y=empresas.yhat_step_modelo_bc, mode='markers', name='yhat_bc'))\n",
    "#fig.add_trace(go.Scatter(x=x_fit_bc, y=y_fit_bc, mode='lines', name='Box-Cox'))\n",
    "#fig.add_trace(go.Scatter(x=x_fit_lin, y=y_fit_lin, mode='lines', name='OLS Linear'))\n",
    "fig.add_trace(go.Scatter(x=empresas.retorno, y=element_line, mode='lines', name='Ideal'))\n",
    "\n",
    "fig.update_layout(\n",
    "    \n",
    "    xaxis_title='Retorno',\n",
    "    yaxis_title='Fitted Values',\n",
    ")\n",
    "\n",
    "fig.show()"
   ]
  },
  {
   "cell_type": "code",
   "execution_count": null,
   "id": "24796dfe",
   "metadata": {},
   "outputs": [],
   "source": []
  }
 ],
 "metadata": {
  "kernelspec": {
   "display_name": "Python 3 (ipykernel)",
   "language": "python",
   "name": "python3"
  },
  "language_info": {
   "codemirror_mode": {
    "name": "ipython",
    "version": 3
   },
   "file_extension": ".py",
   "mimetype": "text/x-python",
   "name": "python",
   "nbconvert_exporter": "python",
   "pygments_lexer": "ipython3",
   "version": "3.9.13"
  }
 },
 "nbformat": 4,
 "nbformat_minor": 5
}
