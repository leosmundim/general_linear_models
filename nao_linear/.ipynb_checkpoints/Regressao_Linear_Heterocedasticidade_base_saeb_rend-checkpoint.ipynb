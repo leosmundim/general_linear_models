{
 "cells": [
  {
   "cell_type": "code",
   "execution_count": 1,
   "id": "450db55e",
   "metadata": {},
   "outputs": [],
   "source": [
    "import pandas as pd\n",
    "import numpy as np\n",
    "import pyreadr\n",
    "import seaborn as sns\n",
    "import matplotlib.pyplot as plt\n",
    "import warnings\n",
    "warnings.filterwarnings('ignore')"
   ]
  },
  {
   "cell_type": "markdown",
   "id": "125eeb39",
   "metadata": {},
   "source": [
    "# Modelo de Regressão Linear Simples <br> DIAGNÓSTICO DE HETEROCEDASTICIDADE\n",
    "\n",
    "Exmplo da aula do MBA DSA USP/ESALQ com Prof. Fávero e Belfiore\n",
    "\n",
    "**Correlação elevada entre variáveis explicativas.**\n",
    "\n",
    "Exemplo:\n",
    "\n",
    "Modelo de concessão de crédito a renda sai do modelo porque outras variáveis já conseguem explicá-la (tempo de formado, saldo em investimento).\n",
    "\n",
    "Não é porque a renda saiu que ela não é importante para explicar a variável dependente.\n",
    "\n",
    "<b>Uma variável no modelo múltiplo pode apresentar um beta não estatisticamente significante em função de:\n",
    "\n",
    "1) A correlação entre ela e o Y já não é estatisticamente significante individualmente;<br>\n",
    "2) Pode não ser considerada em função de problemas de correlação com outras variáveis explicativas (multicolinearidade); <br>\n",
    "3) Na forma funcional não linear; </b>\n",
    "\n",
    "## Aplicação MQO (OLS)\n",
    "\n",
    "1) Estimação do modelo linear com stepwise<br>\n",
    "2) Aplica teste Shapiro Francia nos resíduos:<br>\n",
    "- Deu aderência à normalidade? Modelo validado <br>\n",
    "- Não deu aderência à normalidade? Aplica transformação Box-Cox <br>\n",
    "\n",
    "3) Aplica modelo novamente com stepwise<br>\n",
    "4) Aplica teste shapiro Francia novamente nos resíduos:\n",
    "\n",
    "\n",
    "\n",
    "## Contexto\n",
    "\n",
    "Salário de cada pessoa em unidades monetárias no primeiro mês após a formatura.\n",
    "Notas da matéria de RH e Econometria.\n",
    "\n",
    "AS pessoas que tiraram notas maiores em RH possuem salários maiores ou vice-versa?\n",
    "\n",
    "Salário em função das notas de RH e Econometria com 3 cenários."
   ]
  },
  {
   "cell_type": "code",
   "execution_count": 3,
   "id": "7e016174",
   "metadata": {},
   "outputs": [
    {
     "ename": "PyreadrError",
     "evalue": "File b'bases\\\\saeb_rend.rdata' does not exist!",
     "output_type": "error",
     "traceback": [
      "\u001b[1;31m---------------------------------------------------------------------------\u001b[0m",
      "\u001b[1;31mPyreadrError\u001b[0m                              Traceback (most recent call last)",
      "\u001b[1;32m~\\AppData\\Local\\Temp\\ipykernel_2128\\2234393341.py\u001b[0m in \u001b[0;36m<module>\u001b[1;34m\u001b[0m\n\u001b[0;32m      1\u001b[0m \u001b[1;31m#Importa base e transforma em objeto\u001b[0m\u001b[1;33m\u001b[0m\u001b[1;33m\u001b[0m\u001b[0m\n\u001b[1;32m----> 2\u001b[1;33m \u001b[0mrData\u001b[0m \u001b[1;33m=\u001b[0m \u001b[0mpyreadr\u001b[0m\u001b[1;33m.\u001b[0m\u001b[0mread_r\u001b[0m\u001b[1;33m(\u001b[0m\u001b[1;34mr'bases\\saeb_rend.rdata'\u001b[0m\u001b[1;33m)\u001b[0m\u001b[1;33m\u001b[0m\u001b[1;33m\u001b[0m\u001b[0m\n\u001b[0m\u001b[0;32m      3\u001b[0m \u001b[1;33m\u001b[0m\u001b[0m\n\u001b[0;32m      4\u001b[0m \u001b[1;31m#Verifica o nomne do objeto\u001b[0m\u001b[1;33m\u001b[0m\u001b[1;33m\u001b[0m\u001b[0m\n\u001b[0;32m      5\u001b[0m \u001b[0mprint\u001b[0m\u001b[1;33m(\u001b[0m\u001b[0mrData\u001b[0m\u001b[1;33m.\u001b[0m\u001b[0mkeys\u001b[0m\u001b[1;33m(\u001b[0m\u001b[1;33m)\u001b[0m\u001b[1;33m)\u001b[0m\u001b[1;33m\u001b[0m\u001b[1;33m\u001b[0m\u001b[0m\n",
      "\u001b[1;32m~\\AppData\\Roaming\\Python\\Python39\\site-packages\\pyreadr\\pyreadr.py\u001b[0m in \u001b[0;36mread_r\u001b[1;34m(path, use_objects, timezone)\u001b[0m\n\u001b[0;32m     63\u001b[0m     \u001b[0mfilename_bytes\u001b[0m \u001b[1;33m=\u001b[0m \u001b[0mos\u001b[0m\u001b[1;33m.\u001b[0m\u001b[0mpath\u001b[0m\u001b[1;33m.\u001b[0m\u001b[0mexpanduser\u001b[0m\u001b[1;33m(\u001b[0m\u001b[0mfilename_bytes\u001b[0m\u001b[1;33m)\u001b[0m\u001b[1;33m\u001b[0m\u001b[1;33m\u001b[0m\u001b[0m\n\u001b[0;32m     64\u001b[0m     \u001b[1;32mif\u001b[0m \u001b[1;32mnot\u001b[0m \u001b[0mos\u001b[0m\u001b[1;33m.\u001b[0m\u001b[0mpath\u001b[0m\u001b[1;33m.\u001b[0m\u001b[0misfile\u001b[0m\u001b[1;33m(\u001b[0m\u001b[0mfilename_bytes\u001b[0m\u001b[1;33m)\u001b[0m\u001b[1;33m:\u001b[0m\u001b[1;33m\u001b[0m\u001b[1;33m\u001b[0m\u001b[0m\n\u001b[1;32m---> 65\u001b[1;33m         \u001b[1;32mraise\u001b[0m \u001b[0mPyreadrError\u001b[0m\u001b[1;33m(\u001b[0m\u001b[1;34m\"File {0} does not exist!\"\u001b[0m\u001b[1;33m.\u001b[0m\u001b[0mformat\u001b[0m\u001b[1;33m(\u001b[0m\u001b[0mfilename_bytes\u001b[0m\u001b[1;33m)\u001b[0m\u001b[1;33m)\u001b[0m\u001b[1;33m\u001b[0m\u001b[1;33m\u001b[0m\u001b[0m\n\u001b[0m\u001b[0;32m     66\u001b[0m     \u001b[0mparser\u001b[0m\u001b[1;33m.\u001b[0m\u001b[0mparse\u001b[0m\u001b[1;33m(\u001b[0m\u001b[0mfilename_bytes\u001b[0m\u001b[1;33m)\u001b[0m\u001b[1;33m\u001b[0m\u001b[1;33m\u001b[0m\u001b[0m\n\u001b[0;32m     67\u001b[0m \u001b[1;33m\u001b[0m\u001b[0m\n",
      "\u001b[1;31mPyreadrError\u001b[0m: File b'bases\\\\saeb_rend.rdata' does not exist!"
     ]
    }
   ],
   "source": [
    "#Importa base e transforma em objeto\n",
    "rData = pyreadr.read_r(r'bases\\saeb_rend.rdata')\n",
    "\n",
    "#Verifica o nomne do objeto\n",
    "print(rData.keys())"
   ]
  },
  {
   "cell_type": "code",
   "execution_count": null,
   "id": "aa768264",
   "metadata": {},
   "outputs": [],
   "source": []
  }
 ],
 "metadata": {
  "kernelspec": {
   "display_name": "Python 3 (ipykernel)",
   "language": "python",
   "name": "python3"
  },
  "language_info": {
   "codemirror_mode": {
    "name": "ipython",
    "version": 3
   },
   "file_extension": ".py",
   "mimetype": "text/x-python",
   "name": "python",
   "nbconvert_exporter": "python",
   "pygments_lexer": "ipython3",
   "version": "3.9.13"
  }
 },
 "nbformat": 4,
 "nbformat_minor": 5
}
